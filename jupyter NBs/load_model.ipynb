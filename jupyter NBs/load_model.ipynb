{
 "cells": [
  {
   "cell_type": "code",
   "execution_count": 13,
   "id": "d8215de3",
   "metadata": {},
   "outputs": [],
   "source": [
    "# import sys\n",
    "# from pathlib import Path\n",
    "\n",
    "# # Find project root by looking for .git or requirements.txt\n",
    "# current = Path.cwd()\n",
    "# while not any((current / marker).exists() for marker in ['.git', 'requirements.txt']):\n",
    "#     if current.parent == current:\n",
    "#         raise FileNotFoundError(\"Project root not found\")\n",
    "#     current = current.parent\n",
    "\n",
    "# sys.path.append(str(current))\n",
    "# print(f\"Added project root: {current}\")\n"
   ]
  },
  {
   "cell_type": "code",
   "execution_count": 1,
   "id": "cc66bb38",
   "metadata": {},
   "outputs": [],
   "source": [
    "import torch\n",
    "import numpy as np\n",
    "import matplotlib.pyplot as plt\n",
    "\n",
    "from utils.io import load_chkpt, create_trainer_from_chkpt, get_dataloader_from_chkpt\n",
    "from metrics.utils import MetricAggregator\n",
    "from utils.visualize import Visualizer\n",
    "from datasets import get_dataset\n"
   ]
  },
  {
   "cell_type": "code",
   "execution_count": 2,
   "id": "30b65338",
   "metadata": {},
   "outputs": [
    {
     "name": "stdout",
     "output_type": "stream",
     "text": [
      "Checkpoint loaded from checkpoints/tests/b-vae-16-epoch-20-gaussian.pt on original.\n",
      "Determinism settings applied from checkpoint: {'seed': 0, 'use_cuda_det': True, 'enforce_det': False, 'cublas_workspace_config': None}\n"
     ]
    },
    {
     "ename": "AttributeError",
     "evalue": "'BaseTrainer' object has no attribute 'chkpt_viz'",
     "output_type": "error",
     "traceback": [
      "\u001b[0;31m---------------------------------------------------------------------------\u001b[0m",
      "\u001b[0;31mAttributeError\u001b[0m                            Traceback (most recent call last)",
      "Cell \u001b[0;32mIn[2], line 8\u001b[0m\n\u001b[1;32m      5\u001b[0m chkpt \u001b[38;5;241m=\u001b[39m load_chkpt(chkpt_path)\n\u001b[1;32m      7\u001b[0m \u001b[38;5;66;03m# Create trainer from checkpoint\u001b[39;00m\n\u001b[0;32m----> 8\u001b[0m trainer \u001b[38;5;241m=\u001b[39m \u001b[43mcreate_trainer_from_chkpt\u001b[49m\u001b[43m(\u001b[49m\u001b[43mchkpt\u001b[49m\u001b[43m,\u001b[49m\u001b[43m \u001b[49m\u001b[43mcreate_exact\u001b[49m\u001b[38;5;241;43m=\u001b[39;49m\u001b[38;5;28;43;01mTrue\u001b[39;49;00m\u001b[43m)\u001b[49m\n\u001b[1;32m     10\u001b[0m \u001b[38;5;66;03m# model = load_model_chkpt(chkpt)\u001b[39;00m\n\u001b[1;32m     12\u001b[0m \u001b[38;5;28mprint\u001b[39m(\u001b[38;5;124mf\u001b[39m\u001b[38;5;124m\"\u001b[39m\u001b[38;5;124mModel loaded from \u001b[39m\u001b[38;5;132;01m{\u001b[39;00mchkpt_path\u001b[38;5;132;01m}\u001b[39;00m\u001b[38;5;124m\"\u001b[39m)\n",
      "File \u001b[0;32m/notebooks/utils/io.py:712\u001b[0m, in \u001b[0;36mcreate_trainer_from_chkpt\u001b[0;34m(ckpt, create_exact, new_model, new_loss, new_optimizer, new_dataloader, new_lr_scheduler, additional_trainer_kwargs, device)\u001b[0m\n\u001b[1;32m    681\u001b[0m \u001b[38;5;250m\u001b[39m\u001b[38;5;124;03m\"\"\"\u001b[39;00m\n\u001b[1;32m    682\u001b[0m \u001b[38;5;124;03mCreates a trainer instance from a checkpoint, with optional replacement of components.\u001b[39;00m\n\u001b[1;32m    683\u001b[0m \n\u001b[0;32m   (...)\u001b[0m\n\u001b[1;32m    708\u001b[0m \u001b[38;5;124;03m    train_id will be set to a new UUID.\u001b[39;00m\n\u001b[1;32m    709\u001b[0m \u001b[38;5;124;03m\"\"\"\u001b[39;00m\n\u001b[1;32m    711\u001b[0m \u001b[38;5;28;01mif\u001b[39;00m create_exact:\n\u001b[0;32m--> 712\u001b[0m     \u001b[38;5;28;01mreturn\u001b[39;00m \u001b[43mcreate_trainer_from_chkpt_exact\u001b[49m\u001b[43m(\u001b[49m\u001b[43mckpt\u001b[49m\u001b[43m,\u001b[49m\u001b[43m \u001b[49m\u001b[43mdevice\u001b[49m\u001b[38;5;241;43m=\u001b[39;49m\u001b[43mdevice\u001b[49m\u001b[43m)\u001b[49m\n\u001b[1;32m    714\u001b[0m \u001b[38;5;28;01mif\u001b[39;00m ckpt[\u001b[38;5;124m'\u001b[39m\u001b[38;5;124mtrain_determinism_kwargs\u001b[39m\u001b[38;5;124m'\u001b[39m] \u001b[38;5;129;01mis\u001b[39;00m \u001b[38;5;129;01mnot\u001b[39;00m \u001b[38;5;28;01mNone\u001b[39;00m:\n\u001b[1;32m    715\u001b[0m     set_deterministic_run(\n\u001b[1;32m    716\u001b[0m         seed\u001b[38;5;241m=\u001b[39mckpt[\u001b[38;5;124m'\u001b[39m\u001b[38;5;124mtrain_determinism_kwargs\u001b[39m\u001b[38;5;124m'\u001b[39m][\u001b[38;5;124m'\u001b[39m\u001b[38;5;124mseed\u001b[39m\u001b[38;5;124m'\u001b[39m],\n\u001b[1;32m    717\u001b[0m         use_cuda_det\u001b[38;5;241m=\u001b[39mckpt[\u001b[38;5;124m'\u001b[39m\u001b[38;5;124mtrain_determinism_kwargs\u001b[39m\u001b[38;5;124m'\u001b[39m][\u001b[38;5;124m'\u001b[39m\u001b[38;5;124muse_cuda_deterministic\u001b[39m\u001b[38;5;124m'\u001b[39m],\n\u001b[1;32m    718\u001b[0m         cublas_workspace_config\u001b[38;5;241m=\u001b[39mckpt[\u001b[38;5;124m'\u001b[39m\u001b[38;5;124mtrain_determinism_kwargs\u001b[39m\u001b[38;5;124m'\u001b[39m][\u001b[38;5;124m'\u001b[39m\u001b[38;5;124mcublas_workspace_config\u001b[39m\u001b[38;5;124m'\u001b[39m]\n\u001b[1;32m    719\u001b[0m     )\n",
      "File \u001b[0;32m/notebooks/utils/io.py:640\u001b[0m, in \u001b[0;36mcreate_trainer_from_chkpt_exact\u001b[0;34m(chkpt, device)\u001b[0m\n\u001b[1;32m    638\u001b[0m \u001b[38;5;66;03m# Create trainer with exact settings from checkpoint\u001b[39;00m\n\u001b[1;32m    639\u001b[0m \u001b[38;5;28;01mfrom\u001b[39;00m \u001b[38;5;21;01mtrainers\u001b[39;00m\u001b[38;5;21;01m.\u001b[39;00m\u001b[38;5;21;01mbasetrainer\u001b[39;00m \u001b[38;5;28;01mimport\u001b[39;00m BaseTrainer  \u001b[38;5;66;03m# Import here to avoid circular import\u001b[39;00m\n\u001b[0;32m--> 640\u001b[0m trainer \u001b[38;5;241m=\u001b[39m \u001b[43mBaseTrainer\u001b[49m\u001b[43m(\u001b[49m\n\u001b[1;32m    641\u001b[0m \u001b[43m    \u001b[49m\u001b[43mmodel\u001b[49m\u001b[38;5;241;43m=\u001b[39;49m\u001b[43mmodel\u001b[49m\u001b[43m,\u001b[49m\n\u001b[1;32m    642\u001b[0m \u001b[43m    \u001b[49m\u001b[43mloss\u001b[49m\u001b[38;5;241;43m=\u001b[39;49m\u001b[43mloss\u001b[49m\u001b[43m,\u001b[49m\n\u001b[1;32m    643\u001b[0m \u001b[43m    \u001b[49m\u001b[43moptimizer\u001b[49m\u001b[38;5;241;43m=\u001b[39;49m\u001b[43moptimizer\u001b[49m\u001b[43m,\u001b[49m\n\u001b[1;32m    644\u001b[0m \u001b[43m    \u001b[49m\u001b[43mlr_scheduler\u001b[49m\u001b[38;5;241;43m=\u001b[39;49m\u001b[43mlr_scheduler\u001b[49m\u001b[43m,\u001b[49m\n\u001b[1;32m    645\u001b[0m \u001b[43m    \u001b[49m\u001b[43mtrain_id\u001b[49m\u001b[38;5;241;43m=\u001b[39;49m\u001b[43mchkpt\u001b[49m\u001b[43m[\u001b[49m\u001b[38;5;124;43m'\u001b[39;49m\u001b[38;5;124;43mtrain_id\u001b[39;49m\u001b[38;5;124;43m'\u001b[39;49m\u001b[43m]\u001b[49m\u001b[43m,\u001b[49m\u001b[43m  \u001b[49m\u001b[38;5;66;43;03m# Use original train_id\u001b[39;49;00m\n\u001b[1;32m    646\u001b[0m \u001b[43m    \u001b[49m\u001b[43mprev_train_iter\u001b[49m\u001b[38;5;241;43m=\u001b[39;49m\u001b[43mtrain_iter_num\u001b[49m\u001b[43m,\u001b[49m\n\u001b[1;32m    647\u001b[0m \u001b[43m    \u001b[49m\u001b[43mdeterminism_kwargs\u001b[49m\u001b[38;5;241;43m=\u001b[39;49m\u001b[43mchkpt\u001b[49m\u001b[43m[\u001b[49m\u001b[38;5;124;43m'\u001b[39;49m\u001b[38;5;124;43mtrain_determinism_kwargs\u001b[39;49m\u001b[38;5;124;43m'\u001b[39;49m\u001b[43m]\u001b[49m\u001b[43m,\u001b[49m\n\u001b[1;32m    648\u001b[0m \u001b[43m    \u001b[49m\u001b[43mdataloader\u001b[49m\u001b[38;5;241;43m=\u001b[39;49m\u001b[43mdataloader\u001b[49m\u001b[43m,\u001b[49m\n\u001b[1;32m    649\u001b[0m \u001b[43m    \u001b[49m\u001b[38;5;66;43;03m# Set torch compile settings\u001b[39;49;00m\n\u001b[1;32m    650\u001b[0m \u001b[43m    \u001b[49m\u001b[43muse_torch_compile\u001b[49m\u001b[38;5;241;43m=\u001b[39;49m\u001b[43mchkpt\u001b[49m\u001b[43m[\u001b[49m\u001b[38;5;124;43m'\u001b[39;49m\u001b[38;5;124;43muse_torch_compile\u001b[39;49m\u001b[38;5;124;43m'\u001b[39;49m\u001b[43m]\u001b[49m\u001b[43m,\u001b[49m\n\u001b[1;32m    651\u001b[0m \u001b[43m    \u001b[49m\u001b[43mtorch_compile_kwargs\u001b[49m\u001b[38;5;241;43m=\u001b[39;49m\u001b[43mchkpt\u001b[49m\u001b[43m[\u001b[49m\u001b[38;5;124;43m'\u001b[39;49m\u001b[38;5;124;43mtorch_compile_kwargs\u001b[39;49m\u001b[38;5;124;43m'\u001b[39;49m\u001b[43m]\u001b[49m\u001b[43m,\u001b[49m\n\u001b[1;32m    652\u001b[0m \u001b[43m    \u001b[49m\u001b[38;5;66;43;03m# Set logging parameters\u001b[39;49;00m\n\u001b[1;32m    653\u001b[0m \u001b[43m    \u001b[49m\u001b[43mis_progress_bar\u001b[49m\u001b[38;5;241;43m=\u001b[39;49m\u001b[43mis_progress_bar\u001b[49m\u001b[43m,\u001b[49m\n\u001b[1;32m    654\u001b[0m \u001b[43m    \u001b[49m\u001b[43mprogress_bar_log_iter_interval\u001b[49m\u001b[38;5;241;43m=\u001b[39;49m\u001b[43mprogress_bar_log_iter_interval\u001b[49m\u001b[43m,\u001b[49m\n\u001b[1;32m    655\u001b[0m \u001b[43m    \u001b[49m\u001b[43mlog_loss_interval_type\u001b[49m\u001b[38;5;241;43m=\u001b[39;49m\u001b[43mlog_loss_interval_type\u001b[49m\u001b[43m,\u001b[49m\n\u001b[1;32m    656\u001b[0m \u001b[43m    \u001b[49m\u001b[43muse_train_logging\u001b[49m\u001b[38;5;241;43m=\u001b[39;49m\u001b[43muse_train_logging\u001b[49m\u001b[43m,\u001b[49m\n\u001b[1;32m    657\u001b[0m \u001b[43m    \u001b[49m\u001b[43mlog_loss_iter_interval\u001b[49m\u001b[38;5;241;43m=\u001b[39;49m\u001b[43mlog_loss_iter_interval\u001b[49m\u001b[43m,\u001b[49m\n\u001b[1;32m    658\u001b[0m \u001b[43m    \u001b[49m\u001b[43mreturn_logs\u001b[49m\u001b[38;5;241;43m=\u001b[39;49m\u001b[43mreturn_logs\u001b[49m\u001b[43m,\u001b[49m\n\u001b[1;32m    659\u001b[0m \u001b[43m    \u001b[49m\u001b[38;5;66;43;03m# Set checkpointing parameters\u001b[39;49;00m\n\u001b[1;32m    660\u001b[0m \u001b[43m    \u001b[49m\u001b[43mreturn_chkpt\u001b[49m\u001b[38;5;241;43m=\u001b[39;49m\u001b[43mreturn_chkpt\u001b[49m\u001b[43m,\u001b[49m\n\u001b[1;32m    661\u001b[0m \u001b[43m    \u001b[49m\u001b[43mchkpt_every_n_steps\u001b[49m\u001b[38;5;241;43m=\u001b[39;49m\u001b[43mchkpt_every_n_steps\u001b[49m\u001b[43m,\u001b[49m\n\u001b[1;32m    662\u001b[0m \u001b[43m    \u001b[49m\u001b[43mchkpt_step_type\u001b[49m\u001b[38;5;241;43m=\u001b[39;49m\u001b[43mchkpt_step_type\u001b[49m\u001b[43m,\u001b[49m\n\u001b[1;32m    663\u001b[0m \u001b[43m    \u001b[49m\u001b[43mchkpt_save_path\u001b[49m\u001b[38;5;241;43m=\u001b[39;49m\u001b[43mchkpt_save_path\u001b[49m\u001b[43m,\u001b[49m\n\u001b[1;32m    664\u001b[0m \u001b[43m    \u001b[49m\u001b[43mchkpt_save_dir\u001b[49m\u001b[38;5;241;43m=\u001b[39;49m\u001b[43mchkpt_save_dir\u001b[49m\u001b[43m,\u001b[49m\n\u001b[1;32m    665\u001b[0m \u001b[43m    \u001b[49m\u001b[43mchkpt_save_master_dir\u001b[49m\u001b[38;5;241;43m=\u001b[39;49m\u001b[43mchkpt_save_master_dir\u001b[49m\u001b[43m,\u001b[49m\n\u001b[1;32m    666\u001b[0m \u001b[43m\u001b[49m\u001b[43m)\u001b[49m\n\u001b[1;32m    668\u001b[0m \u001b[38;5;28;01mreturn\u001b[39;00m trainer\n",
      "File \u001b[0;32m/notebooks/trainers/basetrainer.py:125\u001b[0m, in \u001b[0;36mBaseTrainer.__init__\u001b[0;34m(self, model, loss, optimizer, lr_scheduler, train_id, determinism_kwargs, use_torch_compile, torch_compile_kwargs, prev_train_iter, dataloader, is_progress_bar, progress_bar_log_iter_interval, use_train_logging, return_logs, log_loss_interval_type, log_loss_iter_interval, prev_train_losses_log, log_metrics_interval_type, log_metrics_iter_interval, prev_train_metrics_log, return_chkpt, chkpt_every_n_steps, chkpt_step_type, chkpt_save_path, chkpt_save_dir, chkpt_save_master_dir, chkpt_viz)\u001b[0m\n\u001b[1;32m     24\u001b[0m \u001b[38;5;28;01mdef\u001b[39;00m \u001b[38;5;21m__init__\u001b[39m(\u001b[38;5;28mself\u001b[39m,\n\u001b[1;32m     25\u001b[0m              model,\n\u001b[1;32m     26\u001b[0m              loss,\n\u001b[0;32m   (...)\u001b[0m\n\u001b[1;32m     57\u001b[0m              chkpt_viz\u001b[38;5;241m=\u001b[39m\u001b[38;5;28;01mFalse\u001b[39;00m, \n\u001b[1;32m     58\u001b[0m              ):\n\u001b[1;32m     59\u001b[0m \u001b[38;5;250m    \u001b[39m\u001b[38;5;124;03m\"\"\"\u001b[39;00m\n\u001b[1;32m     60\u001b[0m \u001b[38;5;124;03m    Initializes the BaseTrainer.\u001b[39;00m\n\u001b[1;32m     61\u001b[0m \n\u001b[0;32m   (...)\u001b[0m\n\u001b[1;32m    123\u001b[0m \u001b[38;5;124;03m        If True, saves visualizations (e.g., latent traversals, reconstructions) with checkpoints. Defaults to False.\u001b[39;00m\n\u001b[1;32m    124\u001b[0m \u001b[38;5;124;03m    \"\"\"\u001b[39;00m\n\u001b[0;32m--> 125\u001b[0m     \u001b[38;5;28;43mself\u001b[39;49m\u001b[38;5;241;43m.\u001b[39;49m\u001b[43m_validate_init_params\u001b[49m\u001b[43m(\u001b[49m\n\u001b[1;32m    126\u001b[0m \u001b[43m        \u001b[49m\u001b[43muse_torch_compile\u001b[49m\u001b[38;5;241;43m=\u001b[39;49m\u001b[43muse_torch_compile\u001b[49m\u001b[43m,\u001b[49m\u001b[43m  \u001b[49m\u001b[38;5;66;43;03m# Renamed\u001b[39;49;00m\n\u001b[1;32m    127\u001b[0m \u001b[43m        \u001b[49m\u001b[43mdeterminism_kwargs\u001b[49m\u001b[38;5;241;43m=\u001b[39;49m\u001b[43mdeterminism_kwargs\u001b[49m\u001b[43m,\u001b[49m\n\u001b[1;32m    128\u001b[0m \u001b[43m        \u001b[49m\u001b[43mlog_loss_interval_type\u001b[49m\u001b[38;5;241;43m=\u001b[39;49m\u001b[43mlog_loss_interval_type\u001b[49m\u001b[43m,\u001b[49m\n\u001b[1;32m    129\u001b[0m \u001b[43m        \u001b[49m\u001b[43mlog_metrics_interval_type\u001b[49m\u001b[38;5;241;43m=\u001b[39;49m\u001b[43mlog_metrics_interval_type\u001b[49m\u001b[43m,\u001b[49m\n\u001b[1;32m    130\u001b[0m \u001b[43m        \u001b[49m\u001b[43mchkpt_step_type\u001b[49m\u001b[38;5;241;43m=\u001b[39;49m\u001b[43mchkpt_step_type\u001b[49m\u001b[43m,\u001b[49m\n\u001b[1;32m    131\u001b[0m \u001b[43m        \u001b[49m\u001b[43mchkpt_save_path\u001b[49m\u001b[38;5;241;43m=\u001b[39;49m\u001b[43mchkpt_save_path\u001b[49m\u001b[43m,\u001b[49m\n\u001b[1;32m    132\u001b[0m \u001b[43m        \u001b[49m\u001b[43mchkpt_save_dir\u001b[49m\u001b[38;5;241;43m=\u001b[39;49m\u001b[43mchkpt_save_dir\u001b[49m\u001b[43m,\u001b[49m\n\u001b[1;32m    133\u001b[0m \u001b[43m        \u001b[49m\u001b[43mchkpt_save_master_dir\u001b[49m\u001b[38;5;241;43m=\u001b[39;49m\u001b[43mchkpt_save_master_dir\u001b[49m\u001b[43m,\u001b[49m\n\u001b[1;32m    134\u001b[0m \u001b[43m        \u001b[49m\u001b[43mchkpt_every_n_steps\u001b[49m\u001b[38;5;241;43m=\u001b[39;49m\u001b[43mchkpt_every_n_steps\u001b[49m\n\u001b[1;32m    135\u001b[0m \u001b[43m    \u001b[49m\u001b[43m)\u001b[49m\n\u001b[1;32m    137\u001b[0m     \u001b[38;5;28;01mif\u001b[39;00m train_id \u001b[38;5;129;01mis\u001b[39;00m \u001b[38;5;28;01mNone\u001b[39;00m:\n\u001b[1;32m    138\u001b[0m         \u001b[38;5;66;03m# Generate a new UUID for the training session\u001b[39;00m\n\u001b[1;32m    139\u001b[0m         \u001b[38;5;28mself\u001b[39m\u001b[38;5;241m.\u001b[39mtrain_id \u001b[38;5;241m=\u001b[39m \u001b[38;5;28mstr\u001b[39m(uuid\u001b[38;5;241m.\u001b[39muuid4())\n",
      "File \u001b[0;32m/notebooks/trainers/basetrainer.py:283\u001b[0m, in \u001b[0;36mBaseTrainer._validate_init_params\u001b[0;34m(self, use_torch_compile, determinism_kwargs, log_loss_interval_type, log_metrics_interval_type, chkpt_step_type, chkpt_save_path, chkpt_save_dir, chkpt_save_master_dir, chkpt_every_n_steps)\u001b[0m\n\u001b[1;32m    279\u001b[0m \u001b[38;5;28;01mif\u001b[39;00m chkpt_save_path \u001b[38;5;129;01mis\u001b[39;00m \u001b[38;5;129;01mnot\u001b[39;00m \u001b[38;5;28;01mNone\u001b[39;00m \u001b[38;5;129;01mand\u001b[39;00m chkpt_every_n_steps \u001b[38;5;129;01mis\u001b[39;00m \u001b[38;5;129;01mnot\u001b[39;00m \u001b[38;5;28;01mNone\u001b[39;00m:\n\u001b[1;32m    280\u001b[0m     \u001b[38;5;28;01mraise\u001b[39;00m \u001b[38;5;167;01mValueError\u001b[39;00m(\u001b[38;5;124m\"\u001b[39m\u001b[38;5;124mchkpt_every_n_steps cannot be set when chkpt_save_path is used,\u001b[39m\u001b[38;5;124m\"\u001b[39m \\\n\u001b[1;32m    281\u001b[0m     \u001b[38;5;124m\"\u001b[39m\u001b[38;5;124m as only the final checkpoint is saved at final step.\u001b[39m\u001b[38;5;124m\"\u001b[39m)\n\u001b[0;32m--> 283\u001b[0m \u001b[38;5;28;01mif\u001b[39;00m \u001b[38;5;28;43mself\u001b[39;49m\u001b[38;5;241;43m.\u001b[39;49m\u001b[43mchkpt_viz\u001b[49m \u001b[38;5;129;01mand\u001b[39;00m \u001b[38;5;28mself\u001b[39m\u001b[38;5;241m.\u001b[39mchkpt_save_dir \u001b[38;5;129;01mis\u001b[39;00m \u001b[38;5;28;01mNone\u001b[39;00m \u001b[38;5;129;01mand\u001b[39;00m \u001b[38;5;28mself\u001b[39m\u001b[38;5;241m.\u001b[39mchkpt_save_master_dir \u001b[38;5;129;01mis\u001b[39;00m \u001b[38;5;28;01mNone\u001b[39;00m:\n\u001b[1;32m    284\u001b[0m     \u001b[38;5;28;01mraise\u001b[39;00m \u001b[38;5;167;01mValueError\u001b[39;00m(\u001b[38;5;124m\"\u001b[39m\u001b[38;5;124mchkpt_viz is enabled, but no chkpt_save_dir or chkpt_save_master_dir is set. \u001b[39m\u001b[38;5;124m\"\u001b[39m \\\n\u001b[1;32m    285\u001b[0m                      \u001b[38;5;124m\"\u001b[39m\u001b[38;5;124mPlease provide a directory to save visualizations.\u001b[39m\u001b[38;5;124m\"\u001b[39m)\n",
      "\u001b[0;31mAttributeError\u001b[0m: 'BaseTrainer' object has no attribute 'chkpt_viz'"
     ]
    }
   ],
   "source": [
    "# Path to your checkpoint file\n",
    "chkpt_path = 'checkpoints/tests/b-vae-16-epoch-20-gaussian.pt'\n",
    "\n",
    "# Load the checkpoint\n",
    "chkpt = load_chkpt(chkpt_path)\n",
    "\n",
    "# Create trainer from checkpoint\n",
    "trainer = create_trainer_from_chkpt(chkpt, create_exact=True)\n",
    "\n",
    "# model = load_model_chkpt(chkpt)\n",
    "\n",
    "print(f\"Model loaded from {chkpt_path}\")\n"
   ]
  },
  {
   "cell_type": "code",
   "execution_count": null,
   "id": "33b65677",
   "metadata": {},
   "outputs": [],
   "source": [
    "# Load dataset from checkpoint\n",
    "dataset_info = chkpt['dataset']\n",
    "dataset_name = dataset_info['name']\n",
    "dataset_kwargs = dataset_info['kwargs']\n",
    "dataset_class = get_dataset(dataset_name)\n",
    "dataset = dataset_class(**dataset_kwargs)\n",
    "\n",
    "# Create dataloader from checkpoint\n",
    "dataloader = get_dataloader_from_chkpt(chkpt)\n",
    "\n",
    "print(f\"Dataset {dataset_name} loaded with {len(dataset)} samples.\")\n"
   ]
  },
  {
   "cell_type": "code",
   "execution_count": null,
   "id": "73dd118c",
   "metadata": {},
   "outputs": [],
   "source": [
    "metrics_to_compute = [\n",
    "    {'name': 'dci_d', 'args':{'num_train':5000, 'num_test':1000}}, # Example args\n",
    "    {'name': 'mig', 'args':{'num_bins':100, 'mi_method':'numpy', 'entropy_method':'numpy'}} # Example args\n",
    "]\n",
    "\n",
    "metric_aggregator = MetricAggregator(metrics=metrics_to_compute)\n",
    "\n",
    "print(\"\\n===== Computing Metrics =====\")\n",
    "metrics_results = metric_aggregator.compute(model=model, \n",
    "                                            data_loader=dataloader, \n",
    "                                            device=trainer.device)\n",
    "print(\"Metrics Results:\", metrics_results)\n"
   ]
  },
  {
   "cell_type": "code",
   "execution_count": null,
   "id": "38aacbfa",
   "metadata": {},
   "outputs": [],
   "source": [
    "visualizer = Visualizer(vae_model=model, dataset=dataset)\n",
    "\n",
    "print(\"\\n===== Visualizing Reconstructions =====\")\n",
    "visualizer.plot_random_reconstructions(10, mode='mean')\n",
    "plt.show()\n",
    "\n",
    "print(\"\\n===== Visualizing Latent Traversals =====\")\n",
    "visualizer.plot_all_latent_traversals(num_samples=20)\n",
    "plt.show()\n"
   ]
  }
 ],
 "metadata": {
  "kernelspec": {
   "display_name": "Python 3 (ipykernel)",
   "language": "python",
   "name": "python3"
  },
  "language_info": {
   "codemirror_mode": {
    "name": "ipython",
    "version": 3
   },
   "file_extension": ".py",
   "mimetype": "text/x-python",
   "name": "python",
   "nbconvert_exporter": "python",
   "pygments_lexer": "ipython3",
   "version": "3.11.7"
  }
 },
 "nbformat": 4,
 "nbformat_minor": 5
}
