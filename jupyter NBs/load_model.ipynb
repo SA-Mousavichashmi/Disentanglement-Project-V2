{
 "cells": [
  {
   "cell_type": "code",
   "execution_count": null,
   "id": "d8215de3",
   "metadata": {},
   "outputs": [],
   "source": [
    "import sys\n",
    "from pathlib import Path\n",
    "\n",
    "# Find project root by looking for .git or requirements.txt\n",
    "current = Path.cwd()\n",
    "while not any((current / marker).exists() for marker in ['.git', 'requirements.txt']):\n",
    "    if current.parent == current:\n",
    "        raise FileNotFoundError(\"Project root not found\")\n",
    "    current = current.parent\n",
    "\n",
    "sys.path.append(str(current))\n",
    "print(f\"Added project root: {current}\")\n"
   ]
  },
  {
   "cell_type": "code",
   "execution_count": null,
   "id": "cc66bb38",
   "metadata": {},
   "outputs": [],
   "source": [
    "import torch\n",
    "import numpy as np\n",
    "import matplotlib.pyplot as plt\n",
    "\n",
    "from utils.io import load_chkpt, create_trainer_from_chkpt, get_dataloader_from_chkpt\n",
    "from metrics.utils import MetricAggregator\n",
    "from utils.visualize import Visualizer\n",
    "from datasets import get_dataset\n"
   ]
  },
  {
   "cell_type": "code",
   "execution_count": null,
   "id": "30b65338",
   "metadata": {},
   "outputs": [],
   "source": [
    "# Path to your checkpoint file\n",
    "chkpt_path = 'checkpoints/tests/b-vae-16-epoch-20-gaussian.pt'\n",
    "\n",
    "# Load the checkpoint\n",
    "chkpt = load_chkpt(chkpt_path)\n",
    "\n",
    "# Create trainer from checkpoint\n",
    "trainer = create_trainer_from_chkpt(chkpt, create_exact=True)\n",
    "model = trainer.model\n",
    "\n",
    "print(f\"Model loaded from {chkpt_path}\")\n"
   ]
  },
  {
   "cell_type": "code",
   "execution_count": null,
   "id": "33b65677",
   "metadata": {},
   "outputs": [],
   "source": [
    "# Load dataset from checkpoint\n",
    "dataset_info = chkpt['dataset']\n",
    "dataset_name = dataset_info['name']\n",
    "dataset_kwargs = dataset_info['kwargs']\n",
    "dataset_class = get_dataset(dataset_name)\n",
    "dataset = dataset_class(**dataset_kwargs)\n",
    "\n",
    "# Create dataloader from checkpoint\n",
    "dataloader = get_dataloader_from_chkpt(chkpt)\n",
    "\n",
    "print(f\"Dataset {dataset_name} loaded with {len(dataset)} samples.\")\n"
   ]
  },
  {
   "cell_type": "code",
   "execution_count": null,
   "id": "73dd118c",
   "metadata": {},
   "outputs": [],
   "source": [
    "metrics_to_compute = [\n",
    "    {'name': 'dci_d', 'args':{'num_train':5000, 'num_test':1000}}, # Example args\n",
    "    {'name': 'mig', 'args':{'num_bins':100, 'mi_method':'numpy', 'entropy_method':'numpy'}} # Example args\n",
    "]\n",
    "\n",
    "metric_aggregator = MetricAggregator(metrics=metrics_to_compute)\n",
    "\n",
    "print(\"\\n===== Computing Metrics =====\")\n",
    "metrics_results = metric_aggregator.compute(model=model, \n",
    "                                            data_loader=dataloader, \n",
    "                                            device=trainer.device)\n",
    "print(\"Metrics Results:\", metrics_results)\n"
   ]
  },
  {
   "cell_type": "code",
   "execution_count": null,
   "id": "38aacbfa",
   "metadata": {},
   "outputs": [],
   "source": [
    "visualizer = Visualizer(vae_model=model, dataset=dataset)\n",
    "\n",
    "print(\"\\n===== Visualizing Reconstructions =====\")\n",
    "visualizer.plot_random_reconstructions(10, mode='mean')\n",
    "plt.show()\n",
    "\n",
    "print(\"\\n===== Visualizing Latent Traversals =====\")\n",
    "visualizer.plot_all_latent_traversals(num_samples=20)\n",
    "plt.show()\n"
   ]
  }
 ],
 "metadata": {
  "kernelspec": {
   "display_name": "Python 3 (ipykernel)",
   "language": "python",
   "name": "python3"
  }
 },
 "nbformat": 4,
 "nbformat_minor": 5
}
