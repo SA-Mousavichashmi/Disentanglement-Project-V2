{
 "cells": [
  {
   "cell_type": "markdown",
   "id": "61845a43",
   "metadata": {
    "papermill": {
     "duration": 0.007827,
     "end_time": "2025-09-18T15:54:17.185297",
     "exception": false,
     "start_time": "2025-09-18T15:54:17.177470",
     "status": "completed"
    },
    "tags": []
   },
   "source": [
    "# S-N-VAE Model Testing Framework"
   ]
  },
  {
   "cell_type": "code",
   "execution_count": 1,
   "id": "106968af",
   "metadata": {
    "execution": {
     "iopub.execute_input": "2025-09-18T15:54:17.189694Z",
     "iopub.status.busy": "2025-09-18T15:54:17.189406Z",
     "iopub.status.idle": "2025-09-18T15:54:17.197212Z",
     "shell.execute_reply": "2025-09-18T15:54:17.196176Z"
    },
    "papermill": {
     "duration": 0.012508,
     "end_time": "2025-09-18T15:54:17.199334",
     "exception": false,
     "start_time": "2025-09-18T15:54:17.186826",
     "status": "completed"
    },
    "tags": [
     "parameters"
    ]
   },
   "outputs": [],
   "source": [
    "# Parameters cell for papermill\n",
    "# This cell will be tagged as \"parameters\" to allow papermill to inject parameter values\n",
    "# Default seed value - can be overridden by papermill execution\n",
    "seed = 0"
   ]
  },
  {
   "cell_type": "code",
   "execution_count": 2,
   "id": "57004ca3",
   "metadata": {
    "execution": {
     "iopub.execute_input": "2025-09-18T15:54:17.210719Z",
     "iopub.status.busy": "2025-09-18T15:54:17.210366Z",
     "iopub.status.idle": "2025-09-18T15:54:17.213631Z",
     "shell.execute_reply": "2025-09-18T15:54:17.212970Z"
    },
    "papermill": {
     "duration": 0.010228,
     "end_time": "2025-09-18T15:54:17.214616",
     "exception": false,
     "start_time": "2025-09-18T15:54:17.204388",
     "status": "completed"
    },
    "tags": [
     "injected-parameters"
    ]
   },
   "outputs": [],
   "source": [
    "# Parameters\n",
    "seed = 0\n"
   ]
  },
  {
   "cell_type": "code",
   "execution_count": 3,
   "id": "a55671c9",
   "metadata": {
    "execution": {
     "iopub.execute_input": "2025-09-18T15:54:17.220545Z",
     "iopub.status.busy": "2025-09-18T15:54:17.220302Z",
     "iopub.status.idle": "2025-09-18T15:54:17.223186Z",
     "shell.execute_reply": "2025-09-18T15:54:17.222899Z"
    },
    "papermill": {
     "duration": 0.006106,
     "end_time": "2025-09-18T15:54:17.223769",
     "exception": false,
     "start_time": "2025-09-18T15:54:17.217663",
     "status": "completed"
    },
    "tags": []
   },
   "outputs": [
    {
     "name": "stdout",
     "output_type": "stream",
     "text": [
      "Added project root: /workspace/Disentanglement-Project-V2\n"
     ]
    }
   ],
   "source": [
    "import sys\n",
    "from pathlib import Path\n",
    "\n",
    "# Find project root by looking for .git or requirements.txt\n",
    "current = Path.cwd()\n",
    "while not any((current / marker).exists() for marker in ['.git', 'requirements.txt']):\n",
    "    if current.parent == current:\n",
    "        raise FileNotFoundError(\"Project root not found\")\n",
    "    current = current.parent\n",
    "\n",
    "sys.path.append(str(current))\n",
    "print(f\"Added project root: {current}\")"
   ]
  },
  {
   "cell_type": "markdown",
   "id": "78d13d7b",
   "metadata": {
    "papermill": {
     "duration": 0.001562,
     "end_time": "2025-09-18T15:54:17.227246",
     "exception": false,
     "start_time": "2025-09-18T15:54:17.225684",
     "status": "completed"
    },
    "tags": []
   },
   "source": [
    "# Hyperparameters"
   ]
  },
  {
   "cell_type": "code",
   "execution_count": 4,
   "id": "42d8ea8b",
   "metadata": {
    "execution": {
     "iopub.execute_input": "2025-09-18T15:54:17.230351Z",
     "iopub.status.busy": "2025-09-18T15:54:17.230250Z",
     "iopub.status.idle": "2025-09-18T15:54:17.982759Z",
     "shell.execute_reply": "2025-09-18T15:54:17.982399Z"
    },
    "papermill": {
     "duration": 0.75468,
     "end_time": "2025-09-18T15:54:17.983242",
     "exception": false,
     "start_time": "2025-09-18T15:54:17.228562",
     "status": "completed"
    },
    "tags": []
   },
   "outputs": [
    {
     "name": "stdout",
     "output_type": "stream",
     "text": [
      "Using GPU\n"
     ]
    }
   ],
   "source": [
    "import torch\n",
    "\n",
    "#### deterministic run ####\n",
    "determinism_kwargs = {\n",
    "    'seed': seed,  # Use parameterized seed value\n",
    "    'use_cuda_det': True,\n",
    "    'enforce_det':False,\n",
    "    'cublas_workspace_config': None,\n",
    "}\n",
    "\n",
    "##### Model parameters #####\n",
    "model_name = 's_n_vae_locatello'  # S-N-VAE model with Locatello architecture\n",
    "model_decoder_output_dist = 'bernoulli'  # Output distribution of the decoder\n",
    "\n",
    "# Define latent factor topologies: mix of Normal (R1) and Power Spherical (S1)\n",
    "latent_factor_topologies = ['S1', 'R1', 'R1']  # 3 factors total\n",
    "\n",
    "use_torch_compile = True  # Use torch.compile for model compilation\n",
    "\n",
    "#### Training parameters ####\n",
    "train_step_unit = 'epoch'  # Unit for training steps ('epoch' or 'iteration')\n",
    "num_train_steps = 300\n",
    "\n",
    "# train_step_unit = 'iteration'  # Unit for training steps ('epoch' or 'iteration')\n",
    "# num_train_steps = int(9e3)  # Number of training steps \n",
    "\n",
    "learning_rate = 1e-4\n",
    "batch_size = 64\n",
    "\n",
    "#### losses ####\n",
    "loss_name = 'beta_s_n_vae'      # S-N-VAE Beta loss\n",
    "loss_kwargs_dsprites = {\n",
    "    'beta': 13,\n",
    "    'latent_factor_topologies': latent_factor_topologies,\n",
    "    'rec_dist': 'bernoulli',  # Reconstruction distribution\n",
    "    'log_kl_components': True,\n",
    "#     'schedulers_kwargs':[\n",
    "#     {\n",
    "#         'name': 'linear',\n",
    "#         'kwargs': {\n",
    "#             'param_name': 'beta',\n",
    "#             'initial_value': 0,\n",
    "#             'final_value': 16,\n",
    "#             'total_steps': 100000\n",
    "#         }\n",
    "#     }\n",
    "# ]\n",
    "}\n",
    "\n",
    "#### device parameters ####\n",
    "device = torch.device('cuda' if torch.cuda.is_available() else 'cpu')\n",
    "if device.type == 'cuda':\n",
    "    print(f\"Using GPU\")\n",
    "else:\n",
    "    print(\"Using CPU\")\n",
    "\n",
    "### Checkpoint parameters ###\n",
    "return_chkpt = False\n",
    "chkpt_every_n_steps = 2400\n",
    "\n",
    "# chkpt_save_path = 'checkpoints/tests/test-epoch-1.pt'\n",
    "chkpt_save_path = None\n",
    "\n",
    "chkpt_save_dir = None\n",
    "# chkpt_save_dir = 'checkpoints/tests_s_n_vae'\n",
    "\n",
    "chkpt_save_master_dir = None\n",
    "chkpt_viz = False"
   ]
  },
  {
   "cell_type": "markdown",
   "id": "ba19743b",
   "metadata": {
    "papermill": {
     "duration": 0.001345,
     "end_time": "2025-09-18T15:54:17.986163",
     "exception": false,
     "start_time": "2025-09-18T15:54:17.984818",
     "status": "completed"
    },
    "tags": []
   },
   "source": [
    "# Reproducibility"
   ]
  },
  {
   "cell_type": "code",
   "execution_count": 5,
   "id": "6c1f42e8",
   "metadata": {
    "execution": {
     "iopub.execute_input": "2025-09-18T15:54:17.989437Z",
     "iopub.status.busy": "2025-09-18T15:54:17.989314Z",
     "iopub.status.idle": "2025-09-18T15:54:17.996159Z",
     "shell.execute_reply": "2025-09-18T15:54:17.995902Z"
    },
    "papermill": {
     "duration": 0.009284,
     "end_time": "2025-09-18T15:54:17.996791",
     "exception": false,
     "start_time": "2025-09-18T15:54:17.987507",
     "status": "completed"
    },
    "tags": []
   },
   "outputs": [
    {
     "name": "stdout",
     "output_type": "stream",
     "text": [
      "Set deterministic run with kwargs: {'seed': 0, 'use_cuda_det': True, 'enforce_det': False, 'cublas_workspace_config': None}\n"
     ]
    }
   ],
   "source": [
    "if determinism_kwargs is not None:\n",
    "    # MUST Be set before importing any other modules\n",
    "    # to ensure reproducibility across all libraries\n",
    "    from utils.reproducibility import set_deterministic_run, get_deterministic_dataloader\n",
    "    set_deterministic_run(**determinism_kwargs)\n",
    "    print(f\"Set deterministic run with kwargs: {determinism_kwargs}\")"
   ]
  },
  {
   "cell_type": "markdown",
   "id": "df2c010a",
   "metadata": {
    "papermill": {
     "duration": 0.001431,
     "end_time": "2025-09-18T15:54:18.000672",
     "exception": false,
     "start_time": "2025-09-18T15:54:17.999241",
     "status": "completed"
    },
    "tags": []
   },
   "source": [
    "# Imports"
   ]
  },
  {
   "cell_type": "code",
   "execution_count": 6,
   "id": "3343ab8c",
   "metadata": {
    "execution": {
     "iopub.execute_input": "2025-09-18T15:54:18.003982Z",
     "iopub.status.busy": "2025-09-18T15:54:18.003850Z",
     "iopub.status.idle": "2025-09-18T15:54:18.526540Z",
     "shell.execute_reply": "2025-09-18T15:54:18.526044Z"
    },
    "papermill": {
     "duration": 0.525315,
     "end_time": "2025-09-18T15:54:18.527410",
     "exception": false,
     "start_time": "2025-09-18T15:54:18.002095",
     "status": "completed"
    },
    "tags": []
   },
   "outputs": [],
   "source": [
    "import torch\n",
    "import numpy as np\n",
    "import torch.utils\n",
    "import matplotlib.pyplot as plt\n",
    "import torch.optim as optim\n",
    "\n",
    "import utils.visualize\n",
    "from trainers import UnsupervisedTrainer\n",
    "import losses\n",
    "import vae_models\n",
    "from datasets import get_dataset\n",
    "from utils.io import find_optimal_num_workers\n",
    "from metrics.utils import MetricAggregator"
   ]
  },
  {
   "cell_type": "markdown",
   "id": "246f46c2",
   "metadata": {
    "papermill": {
     "duration": 0.001513,
     "end_time": "2025-09-18T15:54:18.530569",
     "exception": false,
     "start_time": "2025-09-18T15:54:18.529056",
     "status": "completed"
    },
    "tags": []
   },
   "source": [
    "## Setup Model, Loss, and Optimizer"
   ]
  },
  {
   "cell_type": "code",
   "execution_count": 7,
   "id": "e91eafec",
   "metadata": {
    "execution": {
     "iopub.execute_input": "2025-09-18T15:54:18.534064Z",
     "iopub.status.busy": "2025-09-18T15:54:18.533879Z",
     "iopub.status.idle": "2025-09-18T15:54:18.536917Z",
     "shell.execute_reply": "2025-09-18T15:54:18.536634Z"
    },
    "papermill": {
     "duration": 0.005337,
     "end_time": "2025-09-18T15:54:18.537417",
     "exception": false,
     "start_time": "2025-09-18T15:54:18.532080",
     "status": "completed"
    },
    "tags": []
   },
   "outputs": [],
   "source": [
    "def setup_components(dataset, loss_kwargs, latent_factor_topologies):\n",
    "    \"\"\"Instantiates model, loss function, and optimizer based on config.\"\"\"\n",
    "    img_size = dataset[0][0].shape\n",
    "    n_data = len(dataset)\n",
    "    \n",
    "    # Instantiate S-N-VAE Model\n",
    "    model = vae_models.select(name=model_name, \n",
    "                              img_size=img_size, \n",
    "                              latent_factor_topologies=latent_factor_topologies,\n",
    "                              decoder_output_dist=model_decoder_output_dist\n",
    "                              ).to(device)\n",
    "\n",
    "    # Instantiate S-N-VAE Loss\n",
    "    loss_fn = losses.select(loss_name, **loss_kwargs)\n",
    "\n",
    "    # Instantiate Optimizer\n",
    "    optimizer = optim.Adam(model.parameters(), lr=learning_rate)\n",
    "\n",
    "    print(f\"--- Setup for {dataset.__class__.__name__} --- \")\n",
    "    print(f\"Model: {model.model_name}\")\n",
    "    print(f\"Latent factor topologies: {latent_factor_topologies}\")\n",
    "    print(f\"Loss: {loss_fn.name} (rec_dist={loss_kwargs['rec_dist']}), kwargs={loss_kwargs}\")\n",
    "    print(f\"Optimizer: {optimizer.__class__.__name__}\")\n",
    "    print(f\"Learning rate: {learning_rate}\")\n",
    "\n",
    "    return model, loss_fn, optimizer"
   ]
  },
  {
   "cell_type": "markdown",
   "id": "9d8cda39",
   "metadata": {
    "papermill": {
     "duration": 0.001353,
     "end_time": "2025-09-18T15:54:18.540366",
     "exception": false,
     "start_time": "2025-09-18T15:54:18.539013",
     "status": "completed"
    },
    "tags": []
   },
   "source": [
    "# dSprites"
   ]
  },
  {
   "cell_type": "code",
   "execution_count": 8,
   "id": "ead6fa0d",
   "metadata": {
    "execution": {
     "iopub.execute_input": "2025-09-18T15:54:18.543583Z",
     "iopub.status.busy": "2025-09-18T15:54:18.543436Z",
     "iopub.status.idle": "2025-09-18T15:54:20.919065Z",
     "shell.execute_reply": "2025-09-18T15:54:20.918729Z"
    },
    "papermill": {
     "duration": 2.377901,
     "end_time": "2025-09-18T15:54:20.919662",
     "exception": false,
     "start_time": "2025-09-18T15:54:18.541761",
     "status": "completed"
    },
    "tags": []
   },
   "outputs": [
    {
     "name": "stdout",
     "output_type": "stream",
     "text": [
      "Loaded dSprites dataset with 40960 samples.\n"
     ]
    }
   ],
   "source": [
    "# Load dSprites\n",
    "Dsprites = get_dataset('dsprites')\n",
    "\n",
    "# dsprites_dataset = Dsprites(selected_factors='all', not_selected_factors_index_value=None)\n",
    "dsprites_dataset = Dsprites(selected_factors=['posX', 'posY', 'orientation'], not_selected_factors_index_value={'scale':5, 'shape':0, 'color':0})\n",
    "\n",
    "# num_workers_dsprites = find_optimal_num_workers(dsprites_dataset, batch_size=batch_size, num_batches_to_test='all')\n",
    "num_workers_dsprites = 7\n",
    "\n",
    "if determinism_kwargs is not None:\n",
    "    dsprites_dataloader = get_deterministic_dataloader(dataset=dsprites_dataset,\n",
    "                                                   batch_size=batch_size,\n",
    "                                                   shuffle=True,\n",
    "                                                   num_workers=num_workers_dsprites,\n",
    "                                                   seed=seed,  # Use parameterized seed value\n",
    "                                                   pin_memory=True)\n",
    "else:\n",
    "    dsprites_dataloader = torch.utils.data.DataLoader(dsprites_dataset, \n",
    "                                                      batch_size=batch_size, \n",
    "                                                      num_workers=num_workers_dsprites, \n",
    "                                                      shuffle=True, \n",
    "                                                      pin_memory=True)\n",
    "\n",
    "print(f\"Loaded dSprites dataset with {len(dsprites_dataset)} samples.\")"
   ]
  },
  {
   "cell_type": "markdown",
   "id": "83352e50",
   "metadata": {
    "papermill": {
     "duration": 0.005327,
     "end_time": "2025-09-18T15:54:20.926705",
     "exception": false,
     "start_time": "2025-09-18T15:54:20.921378",
     "status": "completed"
    },
    "tags": []
   },
   "source": [
    "## Train"
   ]
  },
  {
   "cell_type": "code",
   "execution_count": 9,
   "id": "b020bd4b",
   "metadata": {
    "execution": {
     "iopub.execute_input": "2025-09-18T15:54:20.930175Z",
     "iopub.status.busy": "2025-09-18T15:54:20.930009Z"
    },
    "papermill": {
     "duration": null,
     "end_time": null,
     "exception": false,
     "start_time": "2025-09-18T15:54:20.928138",
     "status": "running"
    },
    "tags": []
   },
   "outputs": [
    {
     "name": "stdout",
     "output_type": "stream",
     "text": [
      "\n",
      "===== Training S-N-VAE on dSprites =====\n",
      "--- Setup for DSprites --- \n",
      "Model: s_n_vae_locatello\n",
      "Latent factor topologies: ['S1', 'R1', 'R1']\n",
      "Loss: beta_s_n_vae (rec_dist=bernoulli), kwargs={'beta': 13, 'latent_factor_topologies': ['S1', 'R1', 'R1'], 'rec_dist': 'bernoulli', 'log_kl_components': True}\n",
      "Optimizer: Adam\n",
      "Learning rate: 0.0001\n"
     ]
    },
    {
     "name": "stderr",
     "output_type": "stream",
     "text": [
      "\r",
      "Training for 192000 iter, 300.00 epochs:   0%|                             | 0/192000 [00:00<?, ?it/s]"
     ]
    },
    {
     "name": "stderr",
     "output_type": "stream",
     "text": [
      "\r",
      "Training for 192000 iter, 300.00 epochs:   0%|                  | 1/192000 [00:01<85:54:59,  1.61s/it]"
     ]
    },
    {
     "name": "stderr",
     "output_type": "stream",
     "text": [
      "\r",
      "Training for 192000 iter, 300.00 epochs:   0%|                  | 2/192000 [00:01<42:35:48,  1.25it/s]"
     ]
    },
    {
     "name": "stderr",
     "output_type": "stream",
     "text": [
      "\r",
      "Training for 192000 iter, 300.00 epochs:   0%|                  | 41/192000 [00:01<1:23:45, 38.19it/s]"
     ]
    },
    {
     "name": "stderr",
     "output_type": "stream",
     "text": [
      "\r",
      "Training for 192000 iter, 300.00 epochs:   0%| | 41/192000 [00:01<1:23:45, 38.19it/s, epoch=0.08/300.0"
     ]
    },
    {
     "name": "stderr",
     "output_type": "stream",
     "text": [
      "\r",
      "Training for 192000 iter, 300.00 epochs:   0%| | 80/192000 [00:02<39:54, 80.14it/s, epoch=0.08/300.00,"
     ]
    },
    {
     "name": "stderr",
     "output_type": "stream",
     "text": [
      "\r",
      "Training for 192000 iter, 300.00 epochs:   0%| | 80/192000 [00:02<39:54, 80.14it/s, epoch=0.16/300.00,"
     ]
    },
    {
     "name": "stderr",
     "output_type": "stream",
     "text": [
      "\r",
      "Training for 192000 iter, 300.00 epochs:   0%| | 106/192000 [00:02<30:22, 105.30it/s, epoch=0.16/300.0"
     ]
    },
    {
     "name": "stderr",
     "output_type": "stream",
     "text": [
      "\r",
      "Training for 192000 iter, 300.00 epochs:   0%| | 135/192000 [00:02<23:24, 136.65it/s, epoch=0.16/300.0"
     ]
    },
    {
     "name": "stderr",
     "output_type": "stream",
     "text": [
      "\r",
      "Training for 192000 iter, 300.00 epochs:   0%| | 135/192000 [00:02<23:24, 136.65it/s, epoch=0.23/300.0"
     ]
    },
    {
     "name": "stderr",
     "output_type": "stream",
     "text": [
      "\r",
      "Training for 192000 iter, 300.00 epochs:   0%| | 174/192000 [00:02<17:15, 185.23it/s, epoch=0.23/300.0"
     ]
    },
    {
     "name": "stderr",
     "output_type": "stream",
     "text": [
      "\r",
      "Training for 192000 iter, 300.00 epochs:   0%| | 174/192000 [00:02<17:15, 185.23it/s, epoch=0.31/300.0"
     ]
    },
    {
     "name": "stderr",
     "output_type": "stream",
     "text": [
      "\r",
      "Training for 192000 iter, 300.00 epochs:   0%| | 205/192000 [00:02<15:08, 211.13it/s, epoch=0.31/300.0"
     ]
    },
    {
     "name": "stderr",
     "output_type": "stream",
     "text": [
      "\r",
      "Training for 192000 iter, 300.00 epochs:   0%| | 245/192000 [00:02<12:31, 255.20it/s, epoch=0.31/300.0"
     ]
    },
    {
     "name": "stderr",
     "output_type": "stream",
     "text": [
      "\r",
      "Training for 192000 iter, 300.00 epochs:   0%| | 245/192000 [00:02<12:31, 255.20it/s, epoch=0.39/300.0"
     ]
    },
    {
     "name": "stderr",
     "output_type": "stream",
     "text": [
      "\r",
      "Training for 192000 iter, 300.00 epochs:   0%| | 285/192000 [00:02<11:01, 289.96it/s, epoch=0.39/300.0"
     ]
    },
    {
     "name": "stderr",
     "output_type": "stream",
     "text": [
      "\r",
      "Training for 192000 iter, 300.00 epochs:   0%| | 285/192000 [00:02<11:01, 289.96it/s, epoch=0.47/300.0"
     ]
    },
    {
     "name": "stderr",
     "output_type": "stream",
     "text": [
      "\r",
      "Training for 192000 iter, 300.00 epochs:   0%| | 322/192000 [00:02<10:18, 309.68it/s, epoch=0.47/300.0"
     ]
    },
    {
     "name": "stderr",
     "output_type": "stream",
     "text": [
      "\r",
      "Training for 192000 iter, 300.00 epochs:   0%| | 322/192000 [00:02<10:18, 309.68it/s, epoch=0.55/300.0"
     ]
    },
    {
     "name": "stderr",
     "output_type": "stream",
     "text": [
      "\r",
      "Training for 192000 iter, 300.00 epochs:   0%| | 358/192000 [00:02<09:56, 321.14it/s, epoch=0.55/300.0"
     ]
    },
    {
     "name": "stderr",
     "output_type": "stream",
     "text": [
      "\r",
      "Training for 192000 iter, 300.00 epochs:   0%| | 399/192000 [00:02<09:14, 345.48it/s, epoch=0.55/300.0"
     ]
    },
    {
     "name": "stderr",
     "output_type": "stream",
     "text": [
      "\r",
      "Training for 192000 iter, 300.00 epochs:   0%| | 399/192000 [00:02<09:14, 345.48it/s, epoch=0.62/300.0"
     ]
    },
    {
     "name": "stderr",
     "output_type": "stream",
     "text": [
      "\r",
      "Training for 192000 iter, 300.00 epochs:   0%| | 436/192000 [00:03<09:56, 321.14it/s, epoch=0.62/300.0"
     ]
    },
    {
     "name": "stderr",
     "output_type": "stream",
     "text": [
      "\r",
      "Training for 192000 iter, 300.00 epochs:   0%| | 436/192000 [00:03<09:56, 321.14it/s, epoch=0.70/300.0"
     ]
    },
    {
     "name": "stderr",
     "output_type": "stream",
     "text": [
      "\r",
      "Training for 192000 iter, 300.00 epochs:   0%| | 475/192000 [00:03<09:25, 338.93it/s, epoch=0.70/300.0"
     ]
    },
    {
     "name": "stderr",
     "output_type": "stream",
     "text": [
      "\r",
      "Training for 192000 iter, 300.00 epochs:   0%| | 475/192000 [00:03<09:25, 338.93it/s, epoch=0.78/300.0"
     ]
    },
    {
     "name": "stderr",
     "output_type": "stream",
     "text": [
      "\r",
      "Training for 192000 iter, 300.00 epochs:   0%| | 511/192000 [00:03<09:23, 339.87it/s, epoch=0.78/300.0"
     ]
    },
    {
     "name": "stderr",
     "output_type": "stream",
     "text": [
      "\r",
      "Training for 192000 iter, 300.00 epochs:   0%| | 511/192000 [00:03<09:23, 339.87it/s, epoch=0.86/300.0"
     ]
    },
    {
     "name": "stderr",
     "output_type": "stream",
     "text": [
      "\r",
      "Training for 192000 iter, 300.00 epochs:   0%| | 550/192000 [00:03<09:02, 352.84it/s, epoch=0.86/300.0"
     ]
    },
    {
     "name": "stderr",
     "output_type": "stream",
     "text": [
      "\r",
      "Training for 192000 iter, 300.00 epochs:   0%| | 590/192000 [00:03<08:43, 365.95it/s, epoch=0.86/300.0"
     ]
    },
    {
     "name": "stderr",
     "output_type": "stream",
     "text": [
      "\r",
      "Training for 192000 iter, 300.00 epochs:   0%| | 590/192000 [00:03<08:43, 365.95it/s, epoch=0.94/300.0"
     ]
    },
    {
     "name": "stderr",
     "output_type": "stream",
     "text": [
      "\r",
      "Training for 192000 iter, 300.00 epochs:   0%| | 631/192000 [00:03<08:26, 377.99it/s, epoch=0.94/300.0"
     ]
    },
    {
     "name": "stderr",
     "output_type": "stream",
     "text": [
      "\r",
      "Training for 192000 iter, 300.00 epochs:   0%| | 631/192000 [00:03<08:26, 377.99it/s, epoch=1.02/300.0"
     ]
    },
    {
     "name": "stderr",
     "output_type": "stream",
     "text": [
      "\r",
      "Training for 192000 iter, 300.00 epochs:   0%| | 670/192000 [00:03<08:38, 368.67it/s, epoch=1.02/300.0"
     ]
    },
    {
     "name": "stderr",
     "output_type": "stream",
     "text": [
      "\r",
      "Training for 192000 iter, 300.00 epochs:   0%| | 670/192000 [00:03<08:38, 368.67it/s, epoch=1.09/300.0"
     ]
    },
    {
     "name": "stderr",
     "output_type": "stream",
     "text": [
      "\r",
      "Training for 192000 iter, 300.00 epochs:   0%| | 712/192000 [00:03<08:21, 381.09it/s, epoch=1.09/300.0"
     ]
    },
    {
     "name": "stderr",
     "output_type": "stream",
     "text": [
      "\r",
      "Training for 192000 iter, 300.00 epochs:   0%| | 712/192000 [00:03<08:21, 381.09it/s, epoch=1.17/300.0"
     ]
    },
    {
     "name": "stderr",
     "output_type": "stream",
     "text": [
      "\r",
      "Training for 192000 iter, 300.00 epochs:   0%| | 753/192000 [00:03<08:13, 387.61it/s, epoch=1.17/300.0"
     ]
    },
    {
     "name": "stderr",
     "output_type": "stream",
     "text": [
      "\r",
      "Training for 192000 iter, 300.00 epochs:   0%| | 792/192000 [00:04<08:34, 371.75it/s, epoch=1.17/300.0"
     ]
    },
    {
     "name": "stderr",
     "output_type": "stream",
     "text": [
      "\r",
      "Training for 192000 iter, 300.00 epochs:   0%| | 792/192000 [00:04<08:34, 371.75it/s, epoch=1.25/300.0"
     ]
    },
    {
     "name": "stderr",
     "output_type": "stream",
     "text": [
      "\r",
      "Training for 192000 iter, 300.00 epochs:   0%| | 830/192000 [00:04<08:36, 370.08it/s, epoch=1.25/300.0"
     ]
    },
    {
     "name": "stderr",
     "output_type": "stream",
     "text": [
      "\r",
      "Training for 192000 iter, 300.00 epochs:   0%| | 830/192000 [00:04<08:36, 370.08it/s, epoch=1.33/300.0"
     ]
    },
    {
     "name": "stderr",
     "output_type": "stream",
     "text": [
      "\r",
      "Training for 192000 iter, 300.00 epochs:   0%| | 871/192000 [00:04<08:24, 378.98it/s, epoch=1.33/300.0"
     ]
    },
    {
     "name": "stderr",
     "output_type": "stream",
     "text": [
      "\r",
      "Training for 192000 iter, 300.00 epochs:   0%| | 871/192000 [00:04<08:24, 378.98it/s, epoch=1.41/300.0"
     ]
    },
    {
     "name": "stderr",
     "output_type": "stream",
     "text": [
      "\r",
      "Training for 192000 iter, 300.00 epochs:   0%| | 912/192000 [00:04<08:15, 385.68it/s, epoch=1.41/300.0"
     ]
    },
    {
     "name": "stderr",
     "output_type": "stream",
     "text": [
      "\r",
      "Training for 192000 iter, 300.00 epochs:   0%| | 912/192000 [00:04<08:15, 385.68it/s, epoch=1.48/300.0"
     ]
    },
    {
     "name": "stderr",
     "output_type": "stream",
     "text": [
      "\r",
      "Training for 192000 iter, 300.00 epochs:   0%| | 951/192000 [00:04<09:20, 340.81it/s, epoch=1.48/300.0"
     ]
    },
    {
     "name": "stderr",
     "output_type": "stream",
     "text": [
      "\r",
      "Training for 192000 iter, 300.00 epochs:   1%| | 987/192000 [00:04<10:28, 304.02it/s, epoch=1.48/300.0"
     ]
    },
    {
     "name": "stderr",
     "output_type": "stream",
     "text": [
      "\r",
      "Training for 192000 iter, 300.00 epochs:   1%| | 987/192000 [00:04<10:28, 304.02it/s, epoch=1.56/300.0"
     ]
    },
    {
     "name": "stderr",
     "output_type": "stream",
     "text": [
      "\r",
      "Training for 192000 iter, 300.00 epochs:   1%| | 1021/192000 [00:04<10:13, 311.22it/s, epoch=1.56/300."
     ]
    },
    {
     "name": "stderr",
     "output_type": "stream",
     "text": [
      "\r",
      "Training for 192000 iter, 300.00 epochs:   1%| | 1021/192000 [00:04<10:13, 311.22it/s, epoch=1.64/300."
     ]
    },
    {
     "name": "stderr",
     "output_type": "stream",
     "text": [
      "\r",
      "Training for 192000 iter, 300.00 epochs:   1%| | 1062/192000 [00:04<09:28, 335.73it/s, epoch=1.64/300."
     ]
    },
    {
     "name": "stderr",
     "output_type": "stream",
     "text": [
      "\r",
      "Training for 192000 iter, 300.00 epochs:   1%| | 1062/192000 [00:04<09:28, 335.73it/s, epoch=1.72/300."
     ]
    },
    {
     "name": "stderr",
     "output_type": "stream",
     "text": [
      "\r",
      "Training for 192000 iter, 300.00 epochs:   1%| | 1103/192000 [00:04<08:57, 355.40it/s, epoch=1.72/300."
     ]
    },
    {
     "name": "stderr",
     "output_type": "stream",
     "text": [
      "\r",
      "Training for 192000 iter, 300.00 epochs:   1%| | 1144/192000 [00:05<08:35, 370.47it/s, epoch=1.72/300."
     ]
    },
    {
     "name": "stderr",
     "output_type": "stream",
     "text": [
      "\r",
      "Training for 192000 iter, 300.00 epochs:   1%| | 1144/192000 [00:05<08:35, 370.47it/s, epoch=1.80/300."
     ]
    },
    {
     "name": "stderr",
     "output_type": "stream",
     "text": [
      "\r",
      "Training for 192000 iter, 300.00 epochs:   1%| | 1182/192000 [00:05<08:35, 370.49it/s, epoch=1.80/300."
     ]
    },
    {
     "name": "stderr",
     "output_type": "stream",
     "text": [
      "\r",
      "Training for 192000 iter, 300.00 epochs:   1%| | 1182/192000 [00:05<08:35, 370.49it/s, epoch=1.88/300."
     ]
    },
    {
     "name": "stderr",
     "output_type": "stream",
     "text": [
      "\r",
      "Training for 192000 iter, 300.00 epochs:   1%| | 1223/192000 [00:05<08:21, 380.74it/s, epoch=1.88/300."
     ]
    },
    {
     "name": "stderr",
     "output_type": "stream",
     "text": [
      "\r",
      "Training for 192000 iter, 300.00 epochs:   1%| | 1223/192000 [00:05<08:21, 380.74it/s, epoch=1.95/300."
     ]
    },
    {
     "name": "stderr",
     "output_type": "stream",
     "text": [
      "\r",
      "Training for 192000 iter, 300.00 epochs:   1%| | 1262/192000 [00:05<08:21, 380.63it/s, epoch=1.95/300."
     ]
    },
    {
     "name": "stderr",
     "output_type": "stream",
     "text": [
      "\r",
      "Training for 192000 iter, 300.00 epochs:   1%| | 1262/192000 [00:05<08:21, 380.63it/s, epoch=2.03/300."
     ]
    },
    {
     "name": "stderr",
     "output_type": "stream",
     "text": [
      "\r",
      "Training for 192000 iter, 300.00 epochs:   1%| | 1301/192000 [00:05<08:28, 375.00it/s, epoch=2.03/300."
     ]
    },
    {
     "name": "stderr",
     "output_type": "stream",
     "text": [
      "\r",
      "Training for 192000 iter, 300.00 epochs:   1%| | 1340/192000 [00:05<08:24, 377.80it/s, epoch=2.03/300."
     ]
    },
    {
     "name": "stderr",
     "output_type": "stream",
     "text": [
      "\r",
      "Training for 192000 iter, 300.00 epochs:   1%| | 1340/192000 [00:05<08:24, 377.80it/s, epoch=2.11/300."
     ]
    },
    {
     "name": "stderr",
     "output_type": "stream",
     "text": [
      "\r",
      "Training for 192000 iter, 300.00 epochs:   1%| | 1379/192000 [00:05<08:20, 380.86it/s, epoch=2.11/300."
     ]
    },
    {
     "name": "stderr",
     "output_type": "stream",
     "text": [
      "\r",
      "Training for 192000 iter, 300.00 epochs:   1%| | 1379/192000 [00:05<08:20, 380.86it/s, epoch=2.19/300."
     ]
    },
    {
     "name": "stderr",
     "output_type": "stream",
     "text": [
      "\r",
      "Training for 192000 iter, 300.00 epochs:   1%| | 1418/192000 [00:05<08:22, 379.43it/s, epoch=2.19/300."
     ]
    },
    {
     "name": "stderr",
     "output_type": "stream",
     "text": [
      "\r",
      "Training for 192000 iter, 300.00 epochs:   1%| | 1418/192000 [00:05<08:22, 379.43it/s, epoch=2.27/300."
     ]
    },
    {
     "name": "stderr",
     "output_type": "stream",
     "text": [
      "\r",
      "Training for 192000 iter, 300.00 epochs:   1%| | 1457/192000 [00:05<08:26, 376.30it/s, epoch=2.27/300."
     ]
    },
    {
     "name": "stderr",
     "output_type": "stream",
     "text": [
      "\r",
      "Training for 192000 iter, 300.00 epochs:   1%| | 1498/192000 [00:05<08:13, 385.71it/s, epoch=2.27/300."
     ]
    },
    {
     "name": "stderr",
     "output_type": "stream",
     "text": [
      "\r",
      "Training for 192000 iter, 300.00 epochs:   1%| | 1498/192000 [00:05<08:13, 385.71it/s, epoch=2.34/300."
     ]
    },
    {
     "name": "stderr",
     "output_type": "stream",
     "text": [
      "\r",
      "Training for 192000 iter, 300.00 epochs:   1%| | 1538/192000 [00:06<08:09, 388.95it/s, epoch=2.34/300."
     ]
    },
    {
     "name": "stderr",
     "output_type": "stream",
     "text": [
      "\r",
      "Training for 192000 iter, 300.00 epochs:   1%| | 1538/192000 [00:06<08:09, 388.95it/s, epoch=2.42/300."
     ]
    },
    {
     "name": "stderr",
     "output_type": "stream",
     "text": [
      "\r",
      "Training for 192000 iter, 300.00 epochs:   1%| | 1578/192000 [00:06<08:06, 391.26it/s, epoch=2.42/300."
     ]
    },
    {
     "name": "stderr",
     "output_type": "stream",
     "text": [
      "\r",
      "Training for 192000 iter, 300.00 epochs:   1%| | 1578/192000 [00:06<08:06, 391.26it/s, epoch=2.50/300."
     ]
    },
    {
     "name": "stderr",
     "output_type": "stream",
     "text": [
      "\r",
      "Training for 192000 iter, 300.00 epochs:   1%| | 1618/192000 [00:06<08:10, 387.98it/s, epoch=2.50/300."
     ]
    },
    {
     "name": "stderr",
     "output_type": "stream",
     "text": [
      "\r",
      "Training for 192000 iter, 300.00 epochs:   1%| | 1618/192000 [00:06<08:10, 387.98it/s, epoch=2.58/300."
     ]
    },
    {
     "name": "stderr",
     "output_type": "stream",
     "text": [
      "\r",
      "Training for 192000 iter, 300.00 epochs:   1%| | 1657/192000 [00:06<08:33, 370.99it/s, epoch=2.58/300."
     ]
    },
    {
     "name": "stderr",
     "output_type": "stream",
     "text": [
      "\r",
      "Training for 192000 iter, 300.00 epochs:   1%| | 1695/192000 [00:06<08:33, 370.30it/s, epoch=2.58/300."
     ]
    },
    {
     "name": "stderr",
     "output_type": "stream",
     "text": [
      "\r",
      "Training for 192000 iter, 300.00 epochs:   1%| | 1695/192000 [00:06<08:33, 370.30it/s, epoch=2.66/300."
     ]
    },
    {
     "name": "stderr",
     "output_type": "stream",
     "text": [
      "\r",
      "Training for 192000 iter, 300.00 epochs:   1%| | 1735/192000 [00:06<08:25, 376.33it/s, epoch=2.66/300."
     ]
    },
    {
     "name": "stderr",
     "output_type": "stream",
     "text": [
      "\r",
      "Training for 192000 iter, 300.00 epochs:   1%| | 1735/192000 [00:06<08:25, 376.33it/s, epoch=2.73/300."
     ]
    },
    {
     "name": "stderr",
     "output_type": "stream",
     "text": [
      "\r",
      "Training for 192000 iter, 300.00 epochs:   1%| | 1776/192000 [00:06<08:13, 385.29it/s, epoch=2.73/300."
     ]
    },
    {
     "name": "stderr",
     "output_type": "stream",
     "text": [
      "\r",
      "Training for 192000 iter, 300.00 epochs:   1%| | 1776/192000 [00:06<08:13, 385.29it/s, epoch=2.81/300."
     ]
    },
    {
     "name": "stderr",
     "output_type": "stream",
     "text": [
      "\r",
      "Training for 192000 iter, 300.00 epochs:   1%| | 1815/192000 [00:06<08:13, 385.33it/s, epoch=2.81/300."
     ]
    },
    {
     "name": "stderr",
     "output_type": "stream",
     "text": [
      "\r",
      "Training for 192000 iter, 300.00 epochs:   1%| | 1815/192000 [00:06<08:13, 385.33it/s, epoch=2.89/300."
     ]
    },
    {
     "name": "stderr",
     "output_type": "stream",
     "text": [
      "\r",
      "Training for 192000 iter, 300.00 epochs:   1%| | 1856/192000 [00:06<08:05, 392.04it/s, epoch=2.89/300."
     ]
    },
    {
     "name": "stderr",
     "output_type": "stream",
     "text": [
      "\r",
      "Training for 192000 iter, 300.00 epochs:   1%| | 1896/192000 [00:07<08:06, 390.75it/s, epoch=2.89/300."
     ]
    },
    {
     "name": "stderr",
     "output_type": "stream",
     "text": [
      "\r",
      "Training for 192000 iter, 300.00 epochs:   1%| | 1896/192000 [00:07<08:06, 390.75it/s, epoch=2.97/300."
     ]
    },
    {
     "name": "stderr",
     "output_type": "stream",
     "text": [
      "\r",
      "Training for 192000 iter, 300.00 epochs:   1%| | 1936/192000 [00:07<08:27, 374.84it/s, epoch=2.97/300."
     ]
    },
    {
     "name": "stderr",
     "output_type": "stream",
     "text": [
      "\r",
      "Training for 192000 iter, 300.00 epochs:   1%| | 1936/192000 [00:07<08:27, 374.84it/s, epoch=3.05/300."
     ]
    },
    {
     "name": "stderr",
     "output_type": "stream",
     "text": [
      "\r",
      "Training for 192000 iter, 300.00 epochs:   1%| | 1976/192000 [00:07<08:17, 381.96it/s, epoch=3.05/300."
     ]
    },
    {
     "name": "stderr",
     "output_type": "stream",
     "text": [
      "\r",
      "Training for 192000 iter, 300.00 epochs:   1%| | 1976/192000 [00:07<08:17, 381.96it/s, epoch=3.12/300."
     ]
    },
    {
     "name": "stderr",
     "output_type": "stream",
     "text": [
      "\r",
      "Training for 192000 iter, 300.00 epochs:   1%| | 2016/192000 [00:07<08:11, 386.54it/s, epoch=3.12/300."
     ]
    },
    {
     "name": "stderr",
     "output_type": "stream",
     "text": [
      "\r",
      "Training for 192000 iter, 300.00 epochs:   1%| | 2016/192000 [00:07<08:11, 386.54it/s, epoch=3.20/300."
     ]
    },
    {
     "name": "stderr",
     "output_type": "stream",
     "text": [
      "\r",
      "Training for 192000 iter, 300.00 epochs:   1%| | 2057/192000 [00:07<08:06, 390.63it/s, epoch=3.20/300."
     ]
    },
    {
     "name": "stderr",
     "output_type": "stream",
     "text": [
      "\r",
      "Training for 192000 iter, 300.00 epochs:   1%| | 2098/192000 [00:07<08:01, 394.65it/s, epoch=3.20/300."
     ]
    },
    {
     "name": "stderr",
     "output_type": "stream",
     "text": [
      "\r",
      "Training for 192000 iter, 300.00 epochs:   1%| | 2098/192000 [00:07<08:01, 394.65it/s, epoch=3.28/300."
     ]
    },
    {
     "name": "stderr",
     "output_type": "stream",
     "text": [
      "\r",
      "Training for 192000 iter, 300.00 epochs:   1%| | 2139/192000 [00:07<07:57, 397.89it/s, epoch=3.28/300."
     ]
    },
    {
     "name": "stderr",
     "output_type": "stream",
     "text": [
      "\r",
      "Training for 192000 iter, 300.00 epochs:   1%| | 2139/192000 [00:07<07:57, 397.89it/s, epoch=3.36/300."
     ]
    },
    {
     "name": "stderr",
     "output_type": "stream",
     "text": [
      "\r",
      "Training for 192000 iter, 300.00 epochs:   1%| | 2179/192000 [00:07<08:37, 367.10it/s, epoch=3.36/300."
     ]
    },
    {
     "name": "stderr",
     "output_type": "stream",
     "text": [
      "\r",
      "Training for 192000 iter, 300.00 epochs:   1%| | 2179/192000 [00:07<08:37, 367.10it/s, epoch=3.44/300."
     ]
    },
    {
     "name": "stderr",
     "output_type": "stream",
     "text": [
      "\r",
      "Training for 192000 iter, 300.00 epochs:   1%| | 2219/192000 [00:07<08:25, 375.72it/s, epoch=3.44/300."
     ]
    },
    {
     "name": "stderr",
     "output_type": "stream",
     "text": [
      "\r",
      "Training for 192000 iter, 300.00 epochs:   1%| | 2219/192000 [00:07<08:25, 375.72it/s, epoch=3.52/300."
     ]
    },
    {
     "name": "stderr",
     "output_type": "stream",
     "text": [
      "\r",
      "Training for 192000 iter, 300.00 epochs:   1%| | 2260/192000 [00:07<08:15, 383.29it/s, epoch=3.52/300."
     ]
    },
    {
     "name": "stderr",
     "output_type": "stream",
     "text": [
      "\r",
      "Training for 192000 iter, 300.00 epochs:   1%| | 2260/192000 [00:08<08:15, 383.29it/s, epoch=3.59/300."
     ]
    },
    {
     "name": "stderr",
     "output_type": "stream",
     "text": [
      "\r",
      "Training for 192000 iter, 300.00 epochs:   1%| | 2300/192000 [00:08<08:11, 385.59it/s, epoch=3.59/300."
     ]
    },
    {
     "name": "stderr",
     "output_type": "stream",
     "text": [
      "\r",
      "Training for 192000 iter, 300.00 epochs:   1%| | 2341/192000 [00:08<08:05, 391.00it/s, epoch=3.59/300."
     ]
    },
    {
     "name": "stderr",
     "output_type": "stream",
     "text": [
      "\r",
      "Training for 192000 iter, 300.00 epochs:   1%| | 2341/192000 [00:08<08:05, 391.00it/s, epoch=3.67/300."
     ]
    },
    {
     "name": "stderr",
     "output_type": "stream",
     "text": [
      "\r",
      "Training for 192000 iter, 300.00 epochs:   1%| | 2382/192000 [00:08<07:58, 395.89it/s, epoch=3.67/300."
     ]
    },
    {
     "name": "stderr",
     "output_type": "stream",
     "text": [
      "\r",
      "Training for 192000 iter, 300.00 epochs:   1%| | 2382/192000 [00:08<07:58, 395.89it/s, epoch=3.75/300."
     ]
    },
    {
     "name": "stderr",
     "output_type": "stream",
     "text": [
      "\r",
      "Training for 192000 iter, 300.00 epochs:   1%| | 2422/192000 [00:08<08:39, 365.20it/s, epoch=3.75/300."
     ]
    },
    {
     "name": "stderr",
     "output_type": "stream",
     "text": [
      "\r",
      "Training for 192000 iter, 300.00 epochs:   1%| | 2422/192000 [00:08<08:39, 365.20it/s, epoch=3.83/300."
     ]
    },
    {
     "name": "stderr",
     "output_type": "stream",
     "text": [
      "\r",
      "Training for 192000 iter, 300.00 epochs:   1%| | 2463/192000 [00:08<08:22, 377.15it/s, epoch=3.83/300."
     ]
    },
    {
     "name": "stderr",
     "output_type": "stream",
     "text": [
      "\r",
      "Training for 192000 iter, 300.00 epochs:   1%| | 2463/192000 [00:08<08:22, 377.15it/s, epoch=3.91/300."
     ]
    },
    {
     "name": "stderr",
     "output_type": "stream",
     "text": [
      "\r",
      "Training for 192000 iter, 300.00 epochs:   1%| | 2504/192000 [00:08<08:11, 385.67it/s, epoch=3.91/300."
     ]
    },
    {
     "name": "stderr",
     "output_type": "stream",
     "text": [
      "\r",
      "Training for 192000 iter, 300.00 epochs:   1%| | 2545/192000 [00:08<08:04, 390.84it/s, epoch=3.91/300."
     ]
    },
    {
     "name": "stderr",
     "output_type": "stream",
     "text": [
      "\r",
      "Training for 192000 iter, 300.00 epochs:   1%| | 2545/192000 [00:08<08:04, 390.84it/s, epoch=3.98/300."
     ]
    },
    {
     "name": "stderr",
     "output_type": "stream",
     "text": [
      "\r",
      "Training for 192000 iter, 300.00 epochs:   1%| | 2585/192000 [00:08<08:48, 358.28it/s, epoch=3.98/300."
     ]
    },
    {
     "name": "stderr",
     "output_type": "stream",
     "text": [
      "\r",
      "Training for 192000 iter, 300.00 epochs:   1%| | 2585/192000 [00:08<08:48, 358.28it/s, epoch=4.06/300."
     ]
    },
    {
     "name": "stderr",
     "output_type": "stream",
     "text": [
      "\r",
      "Training for 192000 iter, 300.00 epochs:   1%| | 2622/192000 [00:08<08:56, 352.88it/s, epoch=4.06/300."
     ]
    },
    {
     "name": "stderr",
     "output_type": "stream",
     "text": [
      "\r",
      "Training for 192000 iter, 300.00 epochs:   1%| | 2622/192000 [00:09<08:56, 352.88it/s, epoch=4.14/300."
     ]
    },
    {
     "name": "stderr",
     "output_type": "stream",
     "text": [
      "\r",
      "Training for 192000 iter, 300.00 epochs:   1%| | 2662/192000 [00:09<08:41, 362.78it/s, epoch=4.14/300."
     ]
    },
    {
     "name": "stderr",
     "output_type": "stream",
     "text": [
      "\r",
      "Training for 192000 iter, 300.00 epochs:   1%| | 2699/192000 [00:09<08:39, 364.33it/s, epoch=4.14/300."
     ]
    },
    {
     "name": "stderr",
     "output_type": "stream",
     "text": [
      "\r",
      "Training for 192000 iter, 300.00 epochs:   1%| | 2699/192000 [00:09<08:39, 364.33it/s, epoch=4.22/300."
     ]
    },
    {
     "name": "stderr",
     "output_type": "stream",
     "text": [
      "\r",
      "Training for 192000 iter, 300.00 epochs:   1%| | 2739/192000 [00:09<08:25, 374.40it/s, epoch=4.22/300."
     ]
    },
    {
     "name": "stderr",
     "output_type": "stream",
     "text": [
      "\r",
      "Training for 192000 iter, 300.00 epochs:   1%| | 2739/192000 [00:09<08:25, 374.40it/s, epoch=4.30/300."
     ]
    },
    {
     "name": "stderr",
     "output_type": "stream",
     "text": [
      "\r",
      "Training for 192000 iter, 300.00 epochs:   1%| | 2779/192000 [00:09<08:17, 380.08it/s, epoch=4.30/300."
     ]
    },
    {
     "name": "stderr",
     "output_type": "stream",
     "text": [
      "\r",
      "Training for 192000 iter, 300.00 epochs:   1%| | 2779/192000 [00:09<08:17, 380.08it/s, epoch=4.38/300."
     ]
    },
    {
     "name": "stderr",
     "output_type": "stream",
     "text": [
      "\r",
      "Training for 192000 iter, 300.00 epochs:   1%| | 2818/192000 [00:09<08:14, 382.80it/s, epoch=4.38/300."
     ]
    },
    {
     "name": "stderr",
     "output_type": "stream",
     "text": [
      "\r",
      "Training for 192000 iter, 300.00 epochs:   1%| | 2818/192000 [00:09<08:14, 382.80it/s, epoch=4.45/300."
     ]
    },
    {
     "name": "stderr",
     "output_type": "stream",
     "text": [
      "\r",
      "Training for 192000 iter, 300.00 epochs:   1%| | 2857/192000 [00:09<08:15, 381.85it/s, epoch=4.45/300."
     ]
    },
    {
     "name": "stderr",
     "output_type": "stream",
     "text": [
      "\r",
      "Training for 192000 iter, 300.00 epochs:   2%| | 2897/192000 [00:09<08:08, 386.87it/s, epoch=4.45/300."
     ]
    },
    {
     "name": "stderr",
     "output_type": "stream",
     "text": [
      "\r",
      "Training for 192000 iter, 300.00 epochs:   2%| | 2897/192000 [00:09<08:08, 386.87it/s, epoch=4.53/300."
     ]
    },
    {
     "name": "stderr",
     "output_type": "stream",
     "text": [
      "\r",
      "Training for 192000 iter, 300.00 epochs:   2%| | 2936/192000 [00:09<08:07, 387.47it/s, epoch=4.53/300."
     ]
    },
    {
     "name": "stderr",
     "output_type": "stream",
     "text": [
      "\r",
      "Training for 192000 iter, 300.00 epochs:   2%| | 2936/192000 [00:09<08:07, 387.47it/s, epoch=4.61/300."
     ]
    },
    {
     "name": "stderr",
     "output_type": "stream",
     "text": [
      "\r",
      "Training for 192000 iter, 300.00 epochs:   2%| | 2976/192000 [00:09<08:04, 390.27it/s, epoch=4.61/300."
     ]
    },
    {
     "name": "stderr",
     "output_type": "stream",
     "text": [
      "\r",
      "Training for 192000 iter, 300.00 epochs:   2%| | 2976/192000 [00:09<08:04, 390.27it/s, epoch=4.69/300."
     ]
    },
    {
     "name": "stderr",
     "output_type": "stream",
     "text": [
      "\r",
      "Training for 192000 iter, 300.00 epochs:   2%| | 3017/192000 [00:09<07:58, 394.58it/s, epoch=4.69/300."
     ]
    },
    {
     "name": "stderr",
     "output_type": "stream",
     "text": [
      "\r",
      "Training for 192000 iter, 300.00 epochs:   2%| | 3017/192000 [00:10<07:58, 394.58it/s, epoch=4.77/300."
     ]
    },
    {
     "name": "stderr",
     "output_type": "stream",
     "text": [
      "\r",
      "Training for 192000 iter, 300.00 epochs:   2%| | 3058/192000 [00:10<07:54, 397.91it/s, epoch=4.77/300."
     ]
    },
    {
     "name": "stderr",
     "output_type": "stream",
     "text": [
      "\r",
      "Training for 192000 iter, 300.00 epochs:   2%| | 3099/192000 [00:10<07:53, 399.08it/s, epoch=4.77/300."
     ]
    },
    {
     "name": "stderr",
     "output_type": "stream",
     "text": [
      "\r",
      "Training for 192000 iter, 300.00 epochs:   2%| | 3099/192000 [00:10<07:53, 399.08it/s, epoch=4.84/300."
     ]
    },
    {
     "name": "stderr",
     "output_type": "stream",
     "text": [
      "\r",
      "Training for 192000 iter, 300.00 epochs:   2%| | 3140/192000 [00:10<07:52, 399.38it/s, epoch=4.84/300."
     ]
    },
    {
     "name": "stderr",
     "output_type": "stream",
     "text": [
      "\r",
      "Training for 192000 iter, 300.00 epochs:   2%| | 3140/192000 [00:10<07:52, 399.38it/s, epoch=4.92/300."
     ]
    },
    {
     "name": "stderr",
     "output_type": "stream",
     "text": [
      "\r",
      "Training for 192000 iter, 300.00 epochs:   2%| | 3180/192000 [00:10<07:56, 395.87it/s, epoch=4.92/300."
     ]
    },
    {
     "name": "stderr",
     "output_type": "stream",
     "text": [
      "\r",
      "Training for 192000 iter, 300.00 epochs:   2%| | 3180/192000 [00:10<07:56, 395.87it/s, epoch=5.00/300."
     ]
    },
    {
     "name": "stderr",
     "output_type": "stream",
     "text": [
      "\r",
      "Training for 192000 iter, 300.00 epochs:   2%| | 3220/192000 [00:10<08:16, 380.38it/s, epoch=5.00/300."
     ]
    },
    {
     "name": "stderr",
     "output_type": "stream",
     "text": [
      "\r",
      "Training for 192000 iter, 300.00 epochs:   2%| | 3220/192000 [00:10<08:16, 380.38it/s, epoch=5.08/300."
     ]
    },
    {
     "name": "stderr",
     "output_type": "stream",
     "text": [
      "\r",
      "Training for 192000 iter, 300.00 epochs:   2%| | 3259/192000 [00:10<08:22, 375.79it/s, epoch=5.08/300."
     ]
    },
    {
     "name": "stderr",
     "output_type": "stream",
     "text": [
      "\r",
      "Training for 192000 iter, 300.00 epochs:   2%| | 3297/192000 [00:10<08:38, 363.95it/s, epoch=5.08/300."
     ]
    },
    {
     "name": "stderr",
     "output_type": "stream",
     "text": [
      "\r",
      "Training for 192000 iter, 300.00 epochs:   2%| | 3297/192000 [00:10<08:38, 363.95it/s, epoch=5.16/300."
     ]
    },
    {
     "name": "stderr",
     "output_type": "stream",
     "text": [
      "\r",
      "Training for 192000 iter, 300.00 epochs:   2%| | 3336/192000 [00:10<08:30, 369.43it/s, epoch=5.16/300."
     ]
    },
    {
     "name": "stderr",
     "output_type": "stream",
     "text": [
      "\r",
      "Training for 192000 iter, 300.00 epochs:   2%| | 3336/192000 [00:10<08:30, 369.43it/s, epoch=5.23/300."
     ]
    },
    {
     "name": "stderr",
     "output_type": "stream",
     "text": [
      "\r",
      "Training for 192000 iter, 300.00 epochs:   2%| | 3376/192000 [00:10<08:21, 376.36it/s, epoch=5.23/300."
     ]
    },
    {
     "name": "stderr",
     "output_type": "stream",
     "text": [
      "\r",
      "Training for 192000 iter, 300.00 epochs:   2%| | 3376/192000 [00:10<08:21, 376.36it/s, epoch=5.31/300."
     ]
    },
    {
     "name": "stderr",
     "output_type": "stream",
     "text": [
      "\r",
      "Training for 192000 iter, 300.00 epochs:   2%| | 3416/192000 [00:11<08:13, 382.13it/s, epoch=5.31/300."
     ]
    },
    {
     "name": "stderr",
     "output_type": "stream",
     "text": [
      "\r",
      "Training for 192000 iter, 300.00 epochs:   2%| | 3416/192000 [00:11<08:13, 382.13it/s, epoch=5.39/300."
     ]
    },
    {
     "name": "stderr",
     "output_type": "stream",
     "text": [
      "\r",
      "Training for 192000 iter, 300.00 epochs:   2%| | 3455/192000 [00:11<08:12, 382.92it/s, epoch=5.39/300."
     ]
    },
    {
     "name": "stderr",
     "output_type": "stream",
     "text": [
      "\r",
      "Training for 192000 iter, 300.00 epochs:   2%| | 3495/192000 [00:11<08:06, 387.71it/s, epoch=5.39/300."
     ]
    },
    {
     "name": "stderr",
     "output_type": "stream",
     "text": [
      "\r",
      "Training for 192000 iter, 300.00 epochs:   2%| | 3495/192000 [00:11<08:06, 387.71it/s, epoch=5.47/300."
     ]
    },
    {
     "name": "stderr",
     "output_type": "stream",
     "text": [
      "\r",
      "Training for 192000 iter, 300.00 epochs:   2%| | 3535/192000 [00:11<08:02, 390.79it/s, epoch=5.47/300."
     ]
    },
    {
     "name": "stderr",
     "output_type": "stream",
     "text": [
      "\r",
      "Training for 192000 iter, 300.00 epochs:   2%| | 3535/192000 [00:11<08:02, 390.79it/s, epoch=5.55/300."
     ]
    },
    {
     "name": "stderr",
     "output_type": "stream",
     "text": [
      "\r",
      "Training for 192000 iter, 300.00 epochs:   2%| | 3576/192000 [00:11<07:57, 394.23it/s, epoch=5.55/300."
     ]
    },
    {
     "name": "stderr",
     "output_type": "stream",
     "text": [
      "\r",
      "Training for 192000 iter, 300.00 epochs:   2%| | 3576/192000 [00:11<07:57, 394.23it/s, epoch=5.62/300."
     ]
    },
    {
     "name": "stderr",
     "output_type": "stream",
     "text": [
      "\r",
      "Training for 192000 iter, 300.00 epochs:   2%| | 3617/192000 [00:11<07:54, 396.92it/s, epoch=5.62/300."
     ]
    },
    {
     "name": "stderr",
     "output_type": "stream",
     "text": [
      "\r",
      "Training for 192000 iter, 300.00 epochs:   2%| | 3617/192000 [00:11<07:54, 396.92it/s, epoch=5.70/300."
     ]
    },
    {
     "name": "stderr",
     "output_type": "stream",
     "text": [
      "\r",
      "Training for 192000 iter, 300.00 epochs:   2%| | 3657/192000 [00:11<07:55, 396.22it/s, epoch=5.70/300."
     ]
    },
    {
     "name": "stderr",
     "output_type": "stream",
     "text": [
      "\r",
      "Training for 192000 iter, 300.00 epochs:   2%| | 3697/192000 [00:11<07:55, 396.25it/s, epoch=5.70/300."
     ]
    },
    {
     "name": "stderr",
     "output_type": "stream",
     "text": [
      "\r",
      "Training for 192000 iter, 300.00 epochs:   2%| | 3697/192000 [00:11<07:55, 396.25it/s, epoch=5.78/300."
     ]
    },
    {
     "name": "stderr",
     "output_type": "stream",
     "text": [
      "\r",
      "Training for 192000 iter, 300.00 epochs:   2%| | 3738/192000 [00:11<07:52, 398.73it/s, epoch=5.78/300."
     ]
    },
    {
     "name": "stderr",
     "output_type": "stream",
     "text": [
      "\r",
      "Training for 192000 iter, 300.00 epochs:   2%| | 3738/192000 [00:11<07:52, 398.73it/s, epoch=5.86/300."
     ]
    },
    {
     "name": "stderr",
     "output_type": "stream",
     "text": [
      "\r",
      "Training for 192000 iter, 300.00 epochs:   2%| | 3779/192000 [00:11<07:50, 400.39it/s, epoch=5.86/300."
     ]
    },
    {
     "name": "stderr",
     "output_type": "stream",
     "text": [
      "\r",
      "Training for 192000 iter, 300.00 epochs:   2%| | 3779/192000 [00:11<07:50, 400.39it/s, epoch=5.94/300."
     ]
    },
    {
     "name": "stderr",
     "output_type": "stream",
     "text": [
      "\r",
      "Training for 192000 iter, 300.00 epochs:   2%| | 3820/192000 [00:12<07:47, 402.16it/s, epoch=5.94/300."
     ]
    },
    {
     "name": "stderr",
     "output_type": "stream",
     "text": [
      "\r",
      "Training for 192000 iter, 300.00 epochs:   2%| | 3820/192000 [00:12<07:47, 402.16it/s, epoch=6.02/300."
     ]
    },
    {
     "name": "stderr",
     "output_type": "stream",
     "text": [
      "\r",
      "Training for 192000 iter, 300.00 epochs:   2%| | 3861/192000 [00:12<08:04, 388.37it/s, epoch=6.02/300."
     ]
    },
    {
     "name": "stderr",
     "output_type": "stream",
     "text": [
      "\r",
      "Training for 192000 iter, 300.00 epochs:   2%| | 3861/192000 [00:12<08:04, 388.37it/s, epoch=6.09/300."
     ]
    },
    {
     "name": "stderr",
     "output_type": "stream",
     "text": [
      "\r",
      "Training for 192000 iter, 300.00 epochs:   2%| | 3900/192000 [00:12<08:08, 385.31it/s, epoch=6.09/300."
     ]
    },
    {
     "name": "stderr",
     "output_type": "stream",
     "text": [
      "\r",
      "Training for 192000 iter, 300.00 epochs:   2%| | 3940/192000 [00:12<08:04, 387.79it/s, epoch=6.09/300."
     ]
    },
    {
     "name": "stderr",
     "output_type": "stream",
     "text": [
      "\r",
      "Training for 192000 iter, 300.00 epochs:   2%| | 3940/192000 [00:12<08:04, 387.79it/s, epoch=6.17/300."
     ]
    },
    {
     "name": "stderr",
     "output_type": "stream",
     "text": [
      "\r",
      "Training for 192000 iter, 300.00 epochs:   2%| | 3979/192000 [00:12<08:04, 388.34it/s, epoch=6.17/300."
     ]
    },
    {
     "name": "stderr",
     "output_type": "stream",
     "text": [
      "\r",
      "Training for 192000 iter, 300.00 epochs:   2%| | 3979/192000 [00:12<08:04, 388.34it/s, epoch=6.25/300."
     ]
    },
    {
     "name": "stderr",
     "output_type": "stream",
     "text": [
      "\r",
      "Training for 192000 iter, 300.00 epochs:   2%| | 4018/192000 [00:12<08:05, 387.40it/s, epoch=6.25/300."
     ]
    },
    {
     "name": "stderr",
     "output_type": "stream",
     "text": [
      "\r",
      "Training for 192000 iter, 300.00 epochs:   2%| | 4018/192000 [00:12<08:05, 387.40it/s, epoch=6.33/300."
     ]
    },
    {
     "name": "stderr",
     "output_type": "stream",
     "text": [
      "\r",
      "Training for 192000 iter, 300.00 epochs:   2%| | 4058/192000 [00:12<08:03, 388.86it/s, epoch=6.33/300."
     ]
    },
    {
     "name": "stderr",
     "output_type": "stream",
     "text": [
      "\r",
      "Training for 192000 iter, 300.00 epochs:   2%| | 4098/192000 [00:12<08:00, 390.79it/s, epoch=6.33/300."
     ]
    },
    {
     "name": "stderr",
     "output_type": "stream",
     "text": [
      "\r",
      "Training for 192000 iter, 300.00 epochs:   2%| | 4098/192000 [00:12<08:00, 390.79it/s, epoch=6.41/300."
     ]
    },
    {
     "name": "stderr",
     "output_type": "stream",
     "text": [
      "\r",
      "Training for 192000 iter, 300.00 epochs:   2%| | 4138/192000 [00:12<08:02, 389.19it/s, epoch=6.41/300."
     ]
    },
    {
     "name": "stderr",
     "output_type": "stream",
     "text": [
      "\r",
      "Training for 192000 iter, 300.00 epochs:   2%| | 4138/192000 [00:12<08:02, 389.19it/s, epoch=6.48/300."
     ]
    },
    {
     "name": "stderr",
     "output_type": "stream",
     "text": [
      "\r",
      "Training for 192000 iter, 300.00 epochs:   2%| | 4178/192000 [00:12<07:58, 392.31it/s, epoch=6.48/300."
     ]
    },
    {
     "name": "stderr",
     "output_type": "stream",
     "text": [
      "\r",
      "Training for 192000 iter, 300.00 epochs:   2%| | 4178/192000 [00:12<07:58, 392.31it/s, epoch=6.56/300."
     ]
    },
    {
     "name": "stderr",
     "output_type": "stream",
     "text": [
      "\r",
      "Training for 192000 iter, 300.00 epochs:   2%| | 4218/192000 [00:13<07:58, 392.69it/s, epoch=6.56/300."
     ]
    },
    {
     "name": "stderr",
     "output_type": "stream",
     "text": [
      "\r",
      "Training for 192000 iter, 300.00 epochs:   2%| | 4218/192000 [00:13<07:58, 392.69it/s, epoch=6.64/300."
     ]
    },
    {
     "name": "stderr",
     "output_type": "stream",
     "text": [
      "\r",
      "Training for 192000 iter, 300.00 epochs:   2%| | 4258/192000 [00:13<07:56, 393.62it/s, epoch=6.64/300."
     ]
    },
    {
     "name": "stderr",
     "output_type": "stream",
     "text": [
      "\r",
      "Training for 192000 iter, 300.00 epochs:   2%| | 4298/192000 [00:13<07:55, 394.50it/s, epoch=6.64/300."
     ]
    },
    {
     "name": "stderr",
     "output_type": "stream",
     "text": [
      "\r",
      "Training for 192000 iter, 300.00 epochs:   2%| | 4298/192000 [00:13<07:55, 394.50it/s, epoch=6.72/300."
     ]
    },
    {
     "name": "stderr",
     "output_type": "stream",
     "text": [
      "\r",
      "Training for 192000 iter, 300.00 epochs:   2%| | 4338/192000 [00:13<07:54, 395.44it/s, epoch=6.72/300."
     ]
    },
    {
     "name": "stderr",
     "output_type": "stream",
     "text": [
      "\r",
      "Training for 192000 iter, 300.00 epochs:   2%| | 4338/192000 [00:13<07:54, 395.44it/s, epoch=6.80/300."
     ]
    },
    {
     "name": "stderr",
     "output_type": "stream",
     "text": [
      "\r",
      "Training for 192000 iter, 300.00 epochs:   2%| | 4378/192000 [00:13<07:53, 396.20it/s, epoch=6.80/300."
     ]
    },
    {
     "name": "stderr",
     "output_type": "stream",
     "text": [
      "\r",
      "Training for 192000 iter, 300.00 epochs:   2%| | 4378/192000 [00:13<07:53, 396.20it/s, epoch=6.88/300."
     ]
    },
    {
     "name": "stderr",
     "output_type": "stream",
     "text": [
      "\r",
      "Training for 192000 iter, 300.00 epochs:   2%| | 4418/192000 [00:13<07:54, 394.95it/s, epoch=6.88/300."
     ]
    },
    {
     "name": "stderr",
     "output_type": "stream",
     "text": [
      "\r",
      "Training for 192000 iter, 300.00 epochs:   2%| | 4418/192000 [00:13<07:54, 394.95it/s, epoch=6.95/300."
     ]
    },
    {
     "name": "stderr",
     "output_type": "stream",
     "text": [
      "\r",
      "Training for 192000 iter, 300.00 epochs:   2%| | 4458/192000 [00:13<08:06, 385.70it/s, epoch=6.95/300."
     ]
    },
    {
     "name": "stderr",
     "output_type": "stream",
     "text": [
      "\r",
      "Training for 192000 iter, 300.00 epochs:   2%| | 4497/192000 [00:13<08:42, 358.83it/s, epoch=6.95/300."
     ]
    },
    {
     "name": "stderr",
     "output_type": "stream",
     "text": [
      "\r",
      "Training for 192000 iter, 300.00 epochs:   2%| | 4497/192000 [00:13<08:42, 358.83it/s, epoch=7.03/300."
     ]
    },
    {
     "name": "stderr",
     "output_type": "stream",
     "text": [
      "\r",
      "Training for 192000 iter, 300.00 epochs:   2%| | 4535/192000 [00:13<08:35, 363.83it/s, epoch=7.03/300."
     ]
    },
    {
     "name": "stderr",
     "output_type": "stream",
     "text": [
      "\r",
      "Training for 192000 iter, 300.00 epochs:   2%| | 4535/192000 [00:13<08:35, 363.83it/s, epoch=7.11/300."
     ]
    },
    {
     "name": "stderr",
     "output_type": "stream",
     "text": [
      "\r",
      "Training for 192000 iter, 300.00 epochs:   2%| | 4572/192000 [00:13<08:32, 365.39it/s, epoch=7.11/300."
     ]
    },
    {
     "name": "stderr",
     "output_type": "stream",
     "text": [
      "\r",
      "Training for 192000 iter, 300.00 epochs:   2%| | 4572/192000 [00:14<08:32, 365.39it/s, epoch=7.19/300."
     ]
    },
    {
     "name": "stderr",
     "output_type": "stream",
     "text": [
      "\r",
      "Training for 192000 iter, 300.00 epochs:   2%| | 4612/192000 [00:14<08:19, 375.03it/s, epoch=7.19/300."
     ]
    },
    {
     "name": "stderr",
     "output_type": "stream",
     "text": [
      "\r",
      "Training for 192000 iter, 300.00 epochs:   2%| | 4612/192000 [00:14<08:19, 375.03it/s, epoch=7.27/300."
     ]
    },
    {
     "name": "stderr",
     "output_type": "stream",
     "text": [
      "\r",
      "Training for 192000 iter, 300.00 epochs:   2%| | 4651/192000 [00:14<08:15, 378.44it/s, epoch=7.27/300."
     ]
    },
    {
     "name": "stderr",
     "output_type": "stream",
     "text": [
      "\r",
      "Training for 192000 iter, 300.00 epochs:   2%| | 4692/192000 [00:14<08:04, 386.52it/s, epoch=7.27/300."
     ]
    },
    {
     "name": "stderr",
     "output_type": "stream",
     "text": [
      "\r",
      "Training for 192000 iter, 300.00 epochs:   2%| | 4692/192000 [00:14<08:04, 386.52it/s, epoch=7.34/300."
     ]
    },
    {
     "name": "stderr",
     "output_type": "stream",
     "text": [
      "\r",
      "Training for 192000 iter, 300.00 epochs:   2%| | 4733/192000 [00:14<07:58, 391.69it/s, epoch=7.34/300."
     ]
    },
    {
     "name": "stderr",
     "output_type": "stream",
     "text": [
      "\r",
      "Training for 192000 iter, 300.00 epochs:   2%| | 4733/192000 [00:14<07:58, 391.69it/s, epoch=7.42/300."
     ]
    },
    {
     "name": "stderr",
     "output_type": "stream",
     "text": [
      "\r",
      "Training for 192000 iter, 300.00 epochs:   2%| | 4773/192000 [00:14<08:09, 382.82it/s, epoch=7.42/300."
     ]
    },
    {
     "name": "stderr",
     "output_type": "stream",
     "text": [
      "\r",
      "Training for 192000 iter, 300.00 epochs:   2%| | 4773/192000 [00:14<08:09, 382.82it/s, epoch=7.50/300."
     ]
    },
    {
     "name": "stderr",
     "output_type": "stream",
     "text": [
      "\r",
      "Training for 192000 iter, 300.00 epochs:   3%| | 4812/192000 [00:14<08:13, 378.98it/s, epoch=7.50/300."
     ]
    },
    {
     "name": "stderr",
     "output_type": "stream",
     "text": [
      "\r",
      "Training for 192000 iter, 300.00 epochs:   3%| | 4812/192000 [00:14<08:13, 378.98it/s, epoch=7.58/300."
     ]
    },
    {
     "name": "stderr",
     "output_type": "stream",
     "text": [
      "\r",
      "Training for 192000 iter, 300.00 epochs:   3%| | 4853/192000 [00:14<08:03, 387.17it/s, epoch=7.58/300."
     ]
    },
    {
     "name": "stderr",
     "output_type": "stream",
     "text": [
      "\r",
      "Training for 192000 iter, 300.00 epochs:   3%| | 4892/192000 [00:14<08:07, 383.94it/s, epoch=7.58/300."
     ]
    },
    {
     "name": "stderr",
     "output_type": "stream",
     "text": [
      "\r",
      "Training for 192000 iter, 300.00 epochs:   3%| | 4892/192000 [00:14<08:07, 383.94it/s, epoch=7.66/300."
     ]
    },
    {
     "name": "stderr",
     "output_type": "stream",
     "text": [
      "\r",
      "Training for 192000 iter, 300.00 epochs:   3%| | 4931/192000 [00:14<08:58, 347.43it/s, epoch=7.66/300."
     ]
    },
    {
     "name": "stderr",
     "output_type": "stream",
     "text": [
      "\r",
      "Training for 192000 iter, 300.00 epochs:   3%| | 4931/192000 [00:14<08:58, 347.43it/s, epoch=7.73/300."
     ]
    },
    {
     "name": "stderr",
     "output_type": "stream",
     "text": [
      "\r",
      "Training for 192000 iter, 300.00 epochs:   3%| | 4970/192000 [00:15<08:41, 358.49it/s, epoch=7.73/300."
     ]
    },
    {
     "name": "stderr",
     "output_type": "stream",
     "text": [
      "\r",
      "Training for 192000 iter, 300.00 epochs:   3%| | 4970/192000 [00:15<08:41, 358.49it/s, epoch=7.81/300."
     ]
    },
    {
     "name": "stderr",
     "output_type": "stream",
     "text": [
      "\r",
      "Training for 192000 iter, 300.00 epochs:   3%| | 5011/192000 [00:15<08:22, 372.27it/s, epoch=7.81/300."
     ]
    },
    {
     "name": "stderr",
     "output_type": "stream",
     "text": [
      "\r",
      "Training for 192000 iter, 300.00 epochs:   3%| | 5011/192000 [00:15<08:22, 372.27it/s, epoch=7.89/300."
     ]
    },
    {
     "name": "stderr",
     "output_type": "stream",
     "text": [
      "\r",
      "Training for 192000 iter, 300.00 epochs:   3%| | 5050/192000 [00:15<08:17, 375.69it/s, epoch=7.89/300."
     ]
    },
    {
     "name": "stderr",
     "output_type": "stream",
     "text": [
      "\r",
      "Training for 192000 iter, 300.00 epochs:   3%| | 5088/192000 [00:15<08:45, 355.35it/s, epoch=7.89/300."
     ]
    },
    {
     "name": "stderr",
     "output_type": "stream",
     "text": [
      "\r",
      "Training for 192000 iter, 300.00 epochs:   3%| | 5088/192000 [00:15<08:45, 355.35it/s, epoch=7.97/300."
     ]
    },
    {
     "name": "stderr",
     "output_type": "stream",
     "text": [
      "\r",
      "Training for 192000 iter, 300.00 epochs:   3%| | 5124/192000 [00:15<08:52, 351.21it/s, epoch=7.97/300."
     ]
    },
    {
     "name": "stderr",
     "output_type": "stream",
     "text": [
      "\r",
      "Training for 192000 iter, 300.00 epochs:   3%| | 5124/192000 [00:15<08:52, 351.21it/s, epoch=8.05/300."
     ]
    },
    {
     "name": "stderr",
     "output_type": "stream",
     "text": [
      "\r",
      "Training for 192000 iter, 300.00 epochs:   3%| | 5160/192000 [00:15<10:19, 301.74it/s, epoch=8.05/300."
     ]
    },
    {
     "name": "stderr",
     "output_type": "stream",
     "text": [
      "\r",
      "Training for 192000 iter, 300.00 epochs:   3%| | 5192/192000 [00:15<10:45, 289.39it/s, epoch=8.05/300."
     ]
    },
    {
     "name": "stderr",
     "output_type": "stream",
     "text": [
      "\r",
      "Training for 192000 iter, 300.00 epochs:   3%| | 5192/192000 [00:15<10:45, 289.39it/s, epoch=8.12/300."
     ]
    },
    {
     "name": "stderr",
     "output_type": "stream",
     "text": [
      "\r",
      "Training for 192000 iter, 300.00 epochs:   3%| | 5233/192000 [00:15<09:45, 319.20it/s, epoch=8.12/300."
     ]
    },
    {
     "name": "stderr",
     "output_type": "stream",
     "text": [
      "\r",
      "Training for 192000 iter, 300.00 epochs:   3%| | 5233/192000 [00:15<09:45, 319.20it/s, epoch=8.20/300."
     ]
    },
    {
     "name": "stderr",
     "output_type": "stream",
     "text": [
      "\r",
      "Training for 192000 iter, 300.00 epochs:   3%| | 5270/192000 [00:15<09:22, 332.19it/s, epoch=8.20/300."
     ]
    },
    {
     "name": "stderr",
     "output_type": "stream",
     "text": [
      "\r",
      "Training for 192000 iter, 300.00 epochs:   3%| | 5270/192000 [00:16<09:22, 332.19it/s, epoch=8.28/300."
     ]
    },
    {
     "name": "stderr",
     "output_type": "stream",
     "text": [
      "\r",
      "Training for 192000 iter, 300.00 epochs:   3%| | 5311/192000 [00:16<08:51, 351.35it/s, epoch=8.28/300."
     ]
    },
    {
     "name": "stderr",
     "output_type": "stream",
     "text": [
      "\r",
      "Training for 192000 iter, 300.00 epochs:   3%| | 5347/192000 [00:16<09:03, 343.72it/s, epoch=8.28/300."
     ]
    },
    {
     "name": "stderr",
     "output_type": "stream",
     "text": [
      "\r",
      "Training for 192000 iter, 300.00 epochs:   3%| | 5347/192000 [00:16<09:03, 343.72it/s, epoch=8.36/300."
     ]
    },
    {
     "name": "stderr",
     "output_type": "stream",
     "text": [
      "\r",
      "Training for 192000 iter, 300.00 epochs:   3%| | 5385/192000 [00:16<08:48, 352.81it/s, epoch=8.36/300."
     ]
    },
    {
     "name": "stderr",
     "output_type": "stream",
     "text": [
      "\r",
      "Training for 192000 iter, 300.00 epochs:   3%| | 5385/192000 [00:16<08:48, 352.81it/s, epoch=8.44/300."
     ]
    },
    {
     "name": "stderr",
     "output_type": "stream",
     "text": [
      "\r",
      "Training for 192000 iter, 300.00 epochs:   3%| | 5422/192000 [00:16<08:43, 356.39it/s, epoch=8.44/300."
     ]
    },
    {
     "name": "stderr",
     "output_type": "stream",
     "text": [
      "\r",
      "Training for 192000 iter, 300.00 epochs:   3%| | 5422/192000 [00:16<08:43, 356.39it/s, epoch=8.52/300."
     ]
    },
    {
     "name": "stderr",
     "output_type": "stream",
     "text": [
      "\r",
      "Training for 192000 iter, 300.00 epochs:   3%| | 5462/192000 [00:16<08:26, 368.37it/s, epoch=8.52/300."
     ]
    },
    {
     "name": "stderr",
     "output_type": "stream",
     "text": [
      "\r",
      "Training for 192000 iter, 300.00 epochs:   3%| | 5462/192000 [00:16<08:26, 368.37it/s, epoch=8.59/300."
     ]
    },
    {
     "name": "stderr",
     "output_type": "stream",
     "text": [
      "\r",
      "Training for 192000 iter, 300.00 epochs:   3%| | 5502/192000 [00:16<08:14, 377.31it/s, epoch=8.59/300."
     ]
    },
    {
     "name": "stderr",
     "output_type": "stream",
     "text": [
      "\r",
      "Training for 192000 iter, 300.00 epochs:   3%| | 5542/192000 [00:16<08:08, 381.52it/s, epoch=8.59/300."
     ]
    },
    {
     "name": "stderr",
     "output_type": "stream",
     "text": [
      "\r",
      "Training for 192000 iter, 300.00 epochs:   3%| | 5542/192000 [00:16<08:08, 381.52it/s, epoch=8.67/300."
     ]
    },
    {
     "name": "stderr",
     "output_type": "stream",
     "text": [
      "\r",
      "Training for 192000 iter, 300.00 epochs:   3%| | 5581/192000 [00:16<08:16, 375.48it/s, epoch=8.67/300."
     ]
    },
    {
     "name": "stderr",
     "output_type": "stream",
     "text": [
      "\r",
      "Training for 192000 iter, 300.00 epochs:   3%| | 5581/192000 [00:16<08:16, 375.48it/s, epoch=8.75/300."
     ]
    },
    {
     "name": "stderr",
     "output_type": "stream",
     "text": [
      "\r",
      "Training for 192000 iter, 300.00 epochs:   3%| | 5621/192000 [00:16<08:08, 381.64it/s, epoch=8.75/300."
     ]
    },
    {
     "name": "stderr",
     "output_type": "stream",
     "text": [
      "\r",
      "Training for 192000 iter, 300.00 epochs:   3%| | 5621/192000 [00:16<08:08, 381.64it/s, epoch=8.83/300."
     ]
    },
    {
     "name": "stderr",
     "output_type": "stream",
     "text": [
      "\r",
      "Training for 192000 iter, 300.00 epochs:   3%| | 5661/192000 [00:16<08:02, 386.26it/s, epoch=8.83/300."
     ]
    },
    {
     "name": "stderr",
     "output_type": "stream",
     "text": [
      "\r",
      "Training for 192000 iter, 300.00 epochs:   3%| | 5661/192000 [00:17<08:02, 386.26it/s, epoch=8.91/300."
     ]
    },
    {
     "name": "stderr",
     "output_type": "stream",
     "text": [
      "\r",
      "Training for 192000 iter, 300.00 epochs:   3%| | 5700/192000 [00:17<08:15, 375.77it/s, epoch=8.91/300."
     ]
    },
    {
     "name": "stderr",
     "output_type": "stream",
     "text": [
      "\r",
      "Training for 192000 iter, 300.00 epochs:   3%| | 5740/192000 [00:17<08:08, 380.90it/s, epoch=8.91/300."
     ]
    },
    {
     "name": "stderr",
     "output_type": "stream",
     "text": [
      "\r",
      "Training for 192000 iter, 300.00 epochs:   3%| | 5740/192000 [00:17<08:08, 380.90it/s, epoch=8.98/300."
     ]
    },
    {
     "name": "stderr",
     "output_type": "stream",
     "text": [
      "\r",
      "Training for 192000 iter, 300.00 epochs:   3%| | 5779/192000 [00:17<08:17, 374.31it/s, epoch=8.98/300."
     ]
    },
    {
     "name": "stderr",
     "output_type": "stream",
     "text": [
      "\r",
      "Training for 192000 iter, 300.00 epochs:   3%| | 5779/192000 [00:17<08:17, 374.31it/s, epoch=9.06/300."
     ]
    },
    {
     "name": "stderr",
     "output_type": "stream",
     "text": [
      "\r",
      "Training for 192000 iter, 300.00 epochs:   3%| | 5817/192000 [00:17<08:27, 367.00it/s, epoch=9.06/300."
     ]
    },
    {
     "name": "stderr",
     "output_type": "stream",
     "text": [
      "\r",
      "Training for 192000 iter, 300.00 epochs:   3%| | 5817/192000 [00:17<08:27, 367.00it/s, epoch=9.14/300."
     ]
    },
    {
     "name": "stderr",
     "output_type": "stream",
     "text": [
      "\r",
      "Training for 192000 iter, 300.00 epochs:   3%| | 5858/192000 [00:17<08:11, 378.65it/s, epoch=9.14/300."
     ]
    },
    {
     "name": "stderr",
     "output_type": "stream",
     "text": [
      "\r",
      "Training for 192000 iter, 300.00 epochs:   3%| | 5896/192000 [00:17<08:17, 374.15it/s, epoch=9.14/300."
     ]
    },
    {
     "name": "stderr",
     "output_type": "stream",
     "text": [
      "\r",
      "Training for 192000 iter, 300.00 epochs:   3%| | 5896/192000 [00:17<08:17, 374.15it/s, epoch=9.22/300."
     ]
    },
    {
     "name": "stderr",
     "output_type": "stream",
     "text": [
      "\r",
      "Training for 192000 iter, 300.00 epochs:   3%| | 5935/192000 [00:17<08:14, 376.28it/s, epoch=9.22/300."
     ]
    },
    {
     "name": "stderr",
     "output_type": "stream",
     "text": [
      "\r",
      "Training for 192000 iter, 300.00 epochs:   3%| | 5935/192000 [00:17<08:14, 376.28it/s, epoch=9.30/300."
     ]
    },
    {
     "name": "stderr",
     "output_type": "stream",
     "text": [
      "\r",
      "Training for 192000 iter, 300.00 epochs:   3%| | 5975/192000 [00:17<08:07, 381.33it/s, epoch=9.30/300."
     ]
    },
    {
     "name": "stderr",
     "output_type": "stream",
     "text": [
      "\r",
      "Training for 192000 iter, 300.00 epochs:   3%| | 5975/192000 [00:17<08:07, 381.33it/s, epoch=9.38/300."
     ]
    },
    {
     "name": "stderr",
     "output_type": "stream",
     "text": [
      "\r",
      "Training for 192000 iter, 300.00 epochs:   3%| | 6016/192000 [00:17<07:59, 387.57it/s, epoch=9.38/300."
     ]
    },
    {
     "name": "stderr",
     "output_type": "stream",
     "text": [
      "\r",
      "Training for 192000 iter, 300.00 epochs:   3%| | 6016/192000 [00:18<07:59, 387.57it/s, epoch=9.45/300."
     ]
    },
    {
     "name": "stderr",
     "output_type": "stream",
     "text": [
      "\r",
      "Training for 192000 iter, 300.00 epochs:   3%| | 6057/192000 [00:18<07:55, 390.74it/s, epoch=9.45/300."
     ]
    },
    {
     "name": "stderr",
     "output_type": "stream",
     "text": [
      "\r",
      "Training for 192000 iter, 300.00 epochs:   3%| | 6097/192000 [00:18<07:53, 392.68it/s, epoch=9.45/300."
     ]
    },
    {
     "name": "stderr",
     "output_type": "stream",
     "text": [
      "\r",
      "Training for 192000 iter, 300.00 epochs:   3%| | 6097/192000 [00:18<07:53, 392.68it/s, epoch=9.53/300."
     ]
    },
    {
     "name": "stderr",
     "output_type": "stream",
     "text": [
      "\r",
      "Training for 192000 iter, 300.00 epochs:   3%| | 6138/192000 [00:18<07:50, 395.19it/s, epoch=9.53/300."
     ]
    },
    {
     "name": "stderr",
     "output_type": "stream",
     "text": [
      "\r",
      "Training for 192000 iter, 300.00 epochs:   3%| | 6138/192000 [00:18<07:50, 395.19it/s, epoch=9.61/300."
     ]
    },
    {
     "name": "stderr",
     "output_type": "stream",
     "text": [
      "\r",
      "Training for 192000 iter, 300.00 epochs:   3%| | 6179/192000 [00:18<07:47, 397.57it/s, epoch=9.61/300."
     ]
    },
    {
     "name": "stderr",
     "output_type": "stream",
     "text": [
      "\r",
      "Training for 192000 iter, 300.00 epochs:   3%| | 6179/192000 [00:18<07:47, 397.57it/s, epoch=9.69/300."
     ]
    },
    {
     "name": "stderr",
     "output_type": "stream",
     "text": [
      "\r",
      "Training for 192000 iter, 300.00 epochs:   3%| | 6220/192000 [00:18<07:45, 399.10it/s, epoch=9.69/300."
     ]
    },
    {
     "name": "stderr",
     "output_type": "stream",
     "text": [
      "\r",
      "Training for 192000 iter, 300.00 epochs:   3%| | 6220/192000 [00:18<07:45, 399.10it/s, epoch=9.77/300."
     ]
    },
    {
     "name": "stderr",
     "output_type": "stream",
     "text": [
      "\r",
      "Training for 192000 iter, 300.00 epochs:   3%| | 6260/192000 [00:18<07:48, 396.25it/s, epoch=9.77/300."
     ]
    },
    {
     "name": "stderr",
     "output_type": "stream",
     "text": [
      "\r",
      "Training for 192000 iter, 300.00 epochs:   3%| | 6260/192000 [00:18<07:48, 396.25it/s, epoch=9.84/300."
     ]
    },
    {
     "name": "stderr",
     "output_type": "stream",
     "text": [
      "\r",
      "Training for 192000 iter, 300.00 epochs:   3%| | 6301/192000 [00:18<07:45, 399.00it/s, epoch=9.84/300."
     ]
    },
    {
     "name": "stderr",
     "output_type": "stream",
     "text": [
      "\r",
      "Training for 192000 iter, 300.00 epochs:   3%| | 6341/192000 [00:18<07:47, 397.33it/s, epoch=9.84/300."
     ]
    },
    {
     "name": "stderr",
     "output_type": "stream",
     "text": [
      "\r",
      "Training for 192000 iter, 300.00 epochs:   3%| | 6341/192000 [00:18<07:47, 397.33it/s, epoch=9.92/300."
     ]
    },
    {
     "name": "stderr",
     "output_type": "stream",
     "text": [
      "\r",
      "Training for 192000 iter, 300.00 epochs:   3%| | 6381/192000 [00:18<07:50, 394.12it/s, epoch=9.92/300."
     ]
    },
    {
     "name": "stderr",
     "output_type": "stream",
     "text": [
      "\r",
      "Training for 192000 iter, 300.00 epochs:   3%| | 6381/192000 [00:18<07:50, 394.12it/s, epoch=10.00/300"
     ]
    },
    {
     "name": "stderr",
     "output_type": "stream",
     "text": [
      "\r",
      "Training for 192000 iter, 300.00 epochs:   3%| | 6421/192000 [00:18<08:05, 382.30it/s, epoch=10.00/300"
     ]
    },
    {
     "name": "stderr",
     "output_type": "stream",
     "text": [
      "\r",
      "Training for 192000 iter, 300.00 epochs:   3%| | 6421/192000 [00:19<08:05, 382.30it/s, epoch=10.08/300"
     ]
    },
    {
     "name": "stderr",
     "output_type": "stream",
     "text": [
      "\r",
      "Training for 192000 iter, 300.00 epochs:   3%| | 6461/192000 [00:19<08:01, 385.16it/s, epoch=10.08/300"
     ]
    },
    {
     "name": "stderr",
     "output_type": "stream",
     "text": [
      "\r",
      "Training for 192000 iter, 300.00 epochs:   3%| | 6461/192000 [00:19<08:01, 385.16it/s, epoch=10.16/300"
     ]
    },
    {
     "name": "stderr",
     "output_type": "stream",
     "text": [
      "\r",
      "Training for 192000 iter, 300.00 epochs:   3%| | 6501/192000 [00:19<07:57, 388.09it/s, epoch=10.16/300"
     ]
    },
    {
     "name": "stderr",
     "output_type": "stream",
     "text": [
      "\r",
      "Training for 192000 iter, 300.00 epochs:   3%| | 6540/192000 [00:19<08:01, 385.39it/s, epoch=10.16/300"
     ]
    },
    {
     "name": "stderr",
     "output_type": "stream",
     "text": [
      "\r",
      "Training for 192000 iter, 300.00 epochs:   3%| | 6540/192000 [00:19<08:01, 385.39it/s, epoch=10.23/300"
     ]
    },
    {
     "name": "stderr",
     "output_type": "stream",
     "text": [
      "\r",
      "Training for 192000 iter, 300.00 epochs:   3%| | 6579/192000 [00:19<08:01, 384.69it/s, epoch=10.23/300"
     ]
    },
    {
     "name": "stderr",
     "output_type": "stream",
     "text": [
      "\r",
      "Training for 192000 iter, 300.00 epochs:   3%| | 6579/192000 [00:19<08:01, 384.69it/s, epoch=10.31/300"
     ]
    },
    {
     "name": "stderr",
     "output_type": "stream",
     "text": [
      "\r",
      "Training for 192000 iter, 300.00 epochs:   3%| | 6619/192000 [00:19<07:56, 388.69it/s, epoch=10.31/300"
     ]
    },
    {
     "name": "stderr",
     "output_type": "stream",
     "text": [
      "\r",
      "Training for 192000 iter, 300.00 epochs:   3%| | 6619/192000 [00:19<07:56, 388.69it/s, epoch=10.39/300"
     ]
    },
    {
     "name": "stderr",
     "output_type": "stream",
     "text": [
      "\r",
      "Training for 192000 iter, 300.00 epochs:   3%| | 6659/192000 [00:19<07:54, 390.44it/s, epoch=10.39/300"
     ]
    },
    {
     "name": "stderr",
     "output_type": "stream",
     "text": [
      "\r",
      "Training for 192000 iter, 300.00 epochs:   3%| | 6699/192000 [00:19<07:54, 390.76it/s, epoch=10.39/300"
     ]
    },
    {
     "name": "stderr",
     "output_type": "stream",
     "text": [
      "\r",
      "Training for 192000 iter, 300.00 epochs:   3%| | 6699/192000 [00:19<07:54, 390.76it/s, epoch=10.47/300"
     ]
    },
    {
     "name": "stderr",
     "output_type": "stream",
     "text": [
      "\r",
      "Training for 192000 iter, 300.00 epochs:   4%| | 6739/192000 [00:19<08:02, 384.09it/s, epoch=10.47/300"
     ]
    },
    {
     "name": "stderr",
     "output_type": "stream",
     "text": [
      "\r",
      "Training for 192000 iter, 300.00 epochs:   4%| | 6739/192000 [00:19<08:02, 384.09it/s, epoch=10.55/300"
     ]
    },
    {
     "name": "stderr",
     "output_type": "stream",
     "text": [
      "\r",
      "Training for 192000 iter, 300.00 epochs:   4%| | 6778/192000 [00:19<08:35, 359.42it/s, epoch=10.55/300"
     ]
    },
    {
     "name": "stderr",
     "output_type": "stream",
     "text": [
      "\r",
      "Training for 192000 iter, 300.00 epochs:   4%| | 6778/192000 [00:19<08:35, 359.42it/s, epoch=10.62/300"
     ]
    },
    {
     "name": "stderr",
     "output_type": "stream",
     "text": [
      "\r",
      "Training for 192000 iter, 300.00 epochs:   4%| | 6817/192000 [00:20<08:24, 367.39it/s, epoch=10.62/300"
     ]
    },
    {
     "name": "stderr",
     "output_type": "stream",
     "text": [
      "\r",
      "Training for 192000 iter, 300.00 epochs:   4%| | 6817/192000 [00:20<08:24, 367.39it/s, epoch=10.70/300"
     ]
    },
    {
     "name": "stderr",
     "output_type": "stream",
     "text": [
      "\r",
      "Training for 192000 iter, 300.00 epochs:   4%| | 6858/192000 [00:20<08:10, 377.13it/s, epoch=10.70/300"
     ]
    },
    {
     "name": "stderr",
     "output_type": "stream",
     "text": [
      "\r",
      "Training for 192000 iter, 300.00 epochs:   4%| | 6899/192000 [00:20<08:00, 385.48it/s, epoch=10.70/300"
     ]
    },
    {
     "name": "stderr",
     "output_type": "stream",
     "text": [
      "\r",
      "Training for 192000 iter, 300.00 epochs:   4%| | 6899/192000 [00:20<08:00, 385.48it/s, epoch=10.78/300"
     ]
    },
    {
     "name": "stderr",
     "output_type": "stream",
     "text": [
      "\r",
      "Training for 192000 iter, 300.00 epochs:   4%| | 6938/192000 [00:20<07:58, 386.61it/s, epoch=10.78/300"
     ]
    },
    {
     "name": "stderr",
     "output_type": "stream",
     "text": [
      "\r",
      "Training for 192000 iter, 300.00 epochs:   4%| | 6938/192000 [00:20<07:58, 386.61it/s, epoch=10.86/300"
     ]
    },
    {
     "name": "stderr",
     "output_type": "stream",
     "text": [
      "\r",
      "Training for 192000 iter, 300.00 epochs:   4%| | 6979/192000 [00:20<07:53, 390.68it/s, epoch=10.86/300"
     ]
    },
    {
     "name": "stderr",
     "output_type": "stream",
     "text": [
      "\r",
      "Training for 192000 iter, 300.00 epochs:   4%| | 6979/192000 [00:20<07:53, 390.68it/s, epoch=10.94/300"
     ]
    },
    {
     "name": "stderr",
     "output_type": "stream",
     "text": [
      "\r",
      "Training for 192000 iter, 300.00 epochs:   4%| | 7019/192000 [00:20<07:57, 387.05it/s, epoch=10.94/300"
     ]
    },
    {
     "name": "stderr",
     "output_type": "stream",
     "text": [
      "\r",
      "Training for 192000 iter, 300.00 epochs:   4%| | 7019/192000 [00:20<07:57, 387.05it/s, epoch=11.02/300"
     ]
    },
    {
     "name": "stderr",
     "output_type": "stream",
     "text": [
      "\r",
      "Training for 192000 iter, 300.00 epochs:   4%| | 7058/192000 [00:20<08:30, 362.14it/s, epoch=11.02/300"
     ]
    },
    {
     "name": "stderr",
     "output_type": "stream",
     "text": [
      "\r",
      "Training for 192000 iter, 300.00 epochs:   4%| | 7097/192000 [00:20<08:21, 368.75it/s, epoch=11.02/300"
     ]
    },
    {
     "name": "stderr",
     "output_type": "stream",
     "text": [
      "\r",
      "Training for 192000 iter, 300.00 epochs:   4%| | 7097/192000 [00:20<08:21, 368.75it/s, epoch=11.09/300"
     ]
    },
    {
     "name": "stderr",
     "output_type": "stream",
     "text": [
      "\r",
      "Training for 192000 iter, 300.00 epochs:   4%| | 7138/192000 [00:20<08:07, 378.89it/s, epoch=11.09/300"
     ]
    },
    {
     "name": "stderr",
     "output_type": "stream",
     "text": [
      "\r",
      "Training for 192000 iter, 300.00 epochs:   4%| | 7138/192000 [00:20<08:07, 378.89it/s, epoch=11.17/300"
     ]
    },
    {
     "name": "stderr",
     "output_type": "stream",
     "text": [
      "\r",
      "Training for 192000 iter, 300.00 epochs:   4%| | 7179/192000 [00:20<07:58, 386.46it/s, epoch=11.17/300"
     ]
    },
    {
     "name": "stderr",
     "output_type": "stream",
     "text": [
      "\r",
      "Training for 192000 iter, 300.00 epochs:   4%| | 7179/192000 [00:20<07:58, 386.46it/s, epoch=11.25/300"
     ]
    },
    {
     "name": "stderr",
     "output_type": "stream",
     "text": [
      "\r",
      "Training for 192000 iter, 300.00 epochs:   4%| | 7219/192000 [00:21<07:54, 389.74it/s, epoch=11.25/300"
     ]
    },
    {
     "name": "stderr",
     "output_type": "stream",
     "text": [
      "\r",
      "Training for 192000 iter, 300.00 epochs:   4%| | 7219/192000 [00:21<07:54, 389.74it/s, epoch=11.33/300"
     ]
    },
    {
     "name": "stderr",
     "output_type": "stream",
     "text": [
      "\r",
      "Training for 192000 iter, 300.00 epochs:   4%| | 7259/192000 [00:21<07:54, 389.26it/s, epoch=11.33/300"
     ]
    },
    {
     "name": "stderr",
     "output_type": "stream",
     "text": [
      "\r",
      "Training for 192000 iter, 300.00 epochs:   4%| | 7259/192000 [00:21<07:54, 389.26it/s, epoch=11.41/300"
     ]
    },
    {
     "name": "stderr",
     "output_type": "stream",
     "text": [
      "\r",
      "Training for 192000 iter, 300.00 epochs:   4%| | 7300/192000 [00:21<07:51, 391.46it/s, epoch=11.41/300"
     ]
    },
    {
     "name": "stderr",
     "output_type": "stream",
     "text": [
      "\r",
      "Training for 192000 iter, 300.00 epochs:   4%| | 7340/192000 [00:21<08:08, 377.71it/s, epoch=11.41/300"
     ]
    },
    {
     "name": "stderr",
     "output_type": "stream",
     "text": [
      "\r",
      "Training for 192000 iter, 300.00 epochs:   4%| | 7340/192000 [00:21<08:08, 377.71it/s, epoch=11.48/300"
     ]
    },
    {
     "name": "stderr",
     "output_type": "stream",
     "text": [
      "\r",
      "Training for 192000 iter, 300.00 epochs:   4%| | 7381/192000 [00:21<07:59, 384.75it/s, epoch=11.48/300"
     ]
    },
    {
     "name": "stderr",
     "output_type": "stream",
     "text": [
      "\r",
      "Training for 192000 iter, 300.00 epochs:   4%| | 7381/192000 [00:21<07:59, 384.75it/s, epoch=11.56/300"
     ]
    },
    {
     "name": "stderr",
     "output_type": "stream",
     "text": [
      "\r",
      "Training for 192000 iter, 300.00 epochs:   4%| | 7422/192000 [00:21<07:52, 390.68it/s, epoch=11.56/300"
     ]
    },
    {
     "name": "stderr",
     "output_type": "stream",
     "text": [
      "\r",
      "Training for 192000 iter, 300.00 epochs:   4%| | 7422/192000 [00:21<07:52, 390.68it/s, epoch=11.64/300"
     ]
    },
    {
     "name": "stderr",
     "output_type": "stream",
     "text": [
      "\r",
      "Training for 192000 iter, 300.00 epochs:   4%| | 7463/192000 [00:21<07:46, 395.45it/s, epoch=11.64/300"
     ]
    },
    {
     "name": "stderr",
     "output_type": "stream",
     "text": [
      "\r",
      "Training for 192000 iter, 300.00 epochs:   4%| | 7463/192000 [00:21<07:46, 395.45it/s, epoch=11.72/300"
     ]
    },
    {
     "name": "stderr",
     "output_type": "stream",
     "text": [
      "\r",
      "Training for 192000 iter, 300.00 epochs:   4%| | 7503/192000 [00:21<07:46, 395.46it/s, epoch=11.72/300"
     ]
    },
    {
     "name": "stderr",
     "output_type": "stream",
     "text": [
      "\r",
      "Training for 192000 iter, 300.00 epochs:   4%| | 7543/192000 [00:21<07:54, 388.58it/s, epoch=11.72/300"
     ]
    },
    {
     "name": "stderr",
     "output_type": "stream",
     "text": [
      "\r",
      "Training for 192000 iter, 300.00 epochs:   4%| | 7543/192000 [00:21<07:54, 388.58it/s, epoch=11.80/300"
     ]
    },
    {
     "name": "stderr",
     "output_type": "stream",
     "text": [
      "\r",
      "Training for 192000 iter, 300.00 epochs:   4%| | 7582/192000 [00:21<08:00, 383.75it/s, epoch=11.80/300"
     ]
    },
    {
     "name": "stderr",
     "output_type": "stream",
     "text": [
      "\r",
      "Training for 192000 iter, 300.00 epochs:   4%| | 7582/192000 [00:22<08:00, 383.75it/s, epoch=11.88/300"
     ]
    },
    {
     "name": "stderr",
     "output_type": "stream",
     "text": [
      "\r",
      "Training for 192000 iter, 300.00 epochs:   4%| | 7622/192000 [00:22<07:54, 388.31it/s, epoch=11.88/300"
     ]
    },
    {
     "name": "stderr",
     "output_type": "stream",
     "text": [
      "\r",
      "Training for 192000 iter, 300.00 epochs:   4%| | 7622/192000 [00:22<07:54, 388.31it/s, epoch=11.95/300"
     ]
    },
    {
     "name": "stderr",
     "output_type": "stream",
     "text": [
      "\r",
      "Training for 192000 iter, 300.00 epochs:   4%| | 7663/192000 [00:22<07:49, 393.04it/s, epoch=11.95/300"
     ]
    },
    {
     "name": "stderr",
     "output_type": "stream",
     "text": [
      "\r",
      "Training for 192000 iter, 300.00 epochs:   4%| | 7663/192000 [00:22<07:49, 393.04it/s, epoch=12.03/300"
     ]
    },
    {
     "name": "stderr",
     "output_type": "stream",
     "text": [
      "\r",
      "Training for 192000 iter, 300.00 epochs:   4%| | 7703/192000 [00:22<08:29, 361.77it/s, epoch=12.03/300"
     ]
    },
    {
     "name": "stderr",
     "output_type": "stream",
     "text": [
      "\r",
      "Training for 192000 iter, 300.00 epochs:   4%| | 7740/192000 [00:22<08:39, 354.67it/s, epoch=12.03/300"
     ]
    },
    {
     "name": "stderr",
     "output_type": "stream",
     "text": [
      "\r",
      "Training for 192000 iter, 300.00 epochs:   4%| | 7740/192000 [00:22<08:39, 354.67it/s, epoch=12.11/300"
     ]
    },
    {
     "name": "stderr",
     "output_type": "stream",
     "text": [
      "\r",
      "Training for 192000 iter, 300.00 epochs:   4%| | 7780/192000 [00:22<08:21, 367.28it/s, epoch=12.11/300"
     ]
    },
    {
     "name": "stderr",
     "output_type": "stream",
     "text": [
      "\r",
      "Training for 192000 iter, 300.00 epochs:   4%| | 7780/192000 [00:22<08:21, 367.28it/s, epoch=12.19/300"
     ]
    },
    {
     "name": "stderr",
     "output_type": "stream",
     "text": [
      "\r",
      "Training for 192000 iter, 300.00 epochs:   4%| | 7818/192000 [00:22<08:17, 370.47it/s, epoch=12.19/300"
     ]
    },
    {
     "name": "stderr",
     "output_type": "stream",
     "text": [
      "\r",
      "Training for 192000 iter, 300.00 epochs:   4%| | 7818/192000 [00:22<08:17, 370.47it/s, epoch=12.27/300"
     ]
    },
    {
     "name": "stderr",
     "output_type": "stream",
     "text": [
      "\r",
      "Training for 192000 iter, 300.00 epochs:   4%| | 7856/192000 [00:22<10:22, 295.78it/s, epoch=12.27/300"
     ]
    },
    {
     "name": "stderr",
     "output_type": "stream",
     "text": [
      "\r",
      "Training for 192000 iter, 300.00 epochs:   4%| | 7889/192000 [00:22<12:04, 254.03it/s, epoch=12.27/300"
     ]
    },
    {
     "name": "stderr",
     "output_type": "stream",
     "text": [
      "\r",
      "Training for 192000 iter, 300.00 epochs:   4%| | 7889/192000 [00:23<12:04, 254.03it/s, epoch=12.34/300"
     ]
    },
    {
     "name": "stderr",
     "output_type": "stream",
     "text": [
      "\r",
      "Training for 192000 iter, 300.00 epochs:   4%| | 7928/192000 [00:23<10:47, 284.07it/s, epoch=12.34/300"
     ]
    },
    {
     "name": "stderr",
     "output_type": "stream",
     "text": [
      "\r",
      "Training for 192000 iter, 300.00 epochs:   4%| | 7928/192000 [00:23<10:47, 284.07it/s, epoch=12.42/300"
     ]
    },
    {
     "name": "stderr",
     "output_type": "stream",
     "text": [
      "\r",
      "Training for 192000 iter, 300.00 epochs:   4%| | 7967/192000 [00:23<09:56, 308.28it/s, epoch=12.42/300"
     ]
    },
    {
     "name": "stderr",
     "output_type": "stream",
     "text": [
      "\r",
      "Training for 192000 iter, 300.00 epochs:   4%| | 7967/192000 [00:23<09:56, 308.28it/s, epoch=12.50/300"
     ]
    },
    {
     "name": "stderr",
     "output_type": "stream",
     "text": [
      "\r",
      "Training for 192000 iter, 300.00 epochs:   4%| | 8006/192000 [00:23<09:18, 329.24it/s, epoch=12.50/300"
     ]
    },
    {
     "name": "stderr",
     "output_type": "stream",
     "text": [
      "\r",
      "Training for 192000 iter, 300.00 epochs:   4%| | 8047/192000 [00:23<08:45, 349.84it/s, epoch=12.50/300"
     ]
    },
    {
     "name": "stderr",
     "output_type": "stream",
     "text": [
      "\r",
      "Training for 192000 iter, 300.00 epochs:   4%| | 8047/192000 [00:23<08:45, 349.84it/s, epoch=12.58/300"
     ]
    },
    {
     "name": "stderr",
     "output_type": "stream",
     "text": [
      "\r",
      "Training for 192000 iter, 300.00 epochs:   4%| | 8088/192000 [00:23<08:22, 365.87it/s, epoch=12.58/300"
     ]
    },
    {
     "name": "stderr",
     "output_type": "stream",
     "text": [
      "\r",
      "Training for 192000 iter, 300.00 epochs:   4%| | 8088/192000 [00:23<08:22, 365.87it/s, epoch=12.66/300"
     ]
    },
    {
     "name": "stderr",
     "output_type": "stream",
     "text": [
      "\r",
      "Training for 192000 iter, 300.00 epochs:   4%| | 8129/192000 [00:23<08:07, 376.88it/s, epoch=12.66/300"
     ]
    },
    {
     "name": "stderr",
     "output_type": "stream",
     "text": [
      "\r",
      "Training for 192000 iter, 300.00 epochs:   4%| | 8129/192000 [00:23<08:07, 376.88it/s, epoch=12.73/300"
     ]
    },
    {
     "name": "stderr",
     "output_type": "stream",
     "text": [
      "\r",
      "Training for 192000 iter, 300.00 epochs:   4%| | 8169/192000 [00:23<07:59, 383.51it/s, epoch=12.73/300"
     ]
    },
    {
     "name": "stderr",
     "output_type": "stream",
     "text": [
      "\r",
      "Training for 192000 iter, 300.00 epochs:   4%| | 8169/192000 [00:23<07:59, 383.51it/s, epoch=12.81/300"
     ]
    },
    {
     "name": "stderr",
     "output_type": "stream",
     "text": [
      "\r",
      "Training for 192000 iter, 300.00 epochs:   4%| | 8209/192000 [00:23<08:17, 369.60it/s, epoch=12.81/300"
     ]
    },
    {
     "name": "stderr",
     "output_type": "stream",
     "text": [
      "\r",
      "Training for 192000 iter, 300.00 epochs:   4%| | 8247/192000 [00:23<08:15, 370.64it/s, epoch=12.81/300"
     ]
    },
    {
     "name": "stderr",
     "output_type": "stream",
     "text": [
      "\r",
      "Training for 192000 iter, 300.00 epochs:   4%| | 8247/192000 [00:23<08:15, 370.64it/s, epoch=12.89/300"
     ]
    },
    {
     "name": "stderr",
     "output_type": "stream",
     "text": [
      "\r",
      "Training for 192000 iter, 300.00 epochs:   4%| | 8285/192000 [00:24<08:17, 368.98it/s, epoch=12.89/300"
     ]
    },
    {
     "name": "stderr",
     "output_type": "stream",
     "text": [
      "\r",
      "Training for 192000 iter, 300.00 epochs:   4%| | 8285/192000 [00:24<08:17, 368.98it/s, epoch=12.97/300"
     ]
    },
    {
     "name": "stderr",
     "output_type": "stream",
     "text": [
      "\r",
      "Training for 192000 iter, 300.00 epochs:   4%| | 8323/192000 [00:24<08:31, 359.40it/s, epoch=12.97/300"
     ]
    },
    {
     "name": "stderr",
     "output_type": "stream",
     "text": [
      "\r",
      "Training for 192000 iter, 300.00 epochs:   4%| | 8323/192000 [00:24<08:31, 359.40it/s, epoch=13.05/300"
     ]
    },
    {
     "name": "stderr",
     "output_type": "stream",
     "text": [
      "\r",
      "Training for 192000 iter, 300.00 epochs:   4%| | 8363/192000 [00:24<08:18, 368.52it/s, epoch=13.05/300"
     ]
    },
    {
     "name": "stderr",
     "output_type": "stream",
     "text": [
      "\r",
      "Training for 192000 iter, 300.00 epochs:   4%| | 8363/192000 [00:24<08:18, 368.52it/s, epoch=13.12/300"
     ]
    },
    {
     "name": "stderr",
     "output_type": "stream",
     "text": [
      "\r",
      "Training for 192000 iter, 300.00 epochs:   4%| | 8403/192000 [00:24<08:09, 375.30it/s, epoch=13.12/300"
     ]
    },
    {
     "name": "stderr",
     "output_type": "stream",
     "text": [
      "\r",
      "Training for 192000 iter, 300.00 epochs:   4%| | 8444/192000 [00:24<07:56, 385.01it/s, epoch=13.12/300"
     ]
    },
    {
     "name": "stderr",
     "output_type": "stream",
     "text": [
      "\r",
      "Training for 192000 iter, 300.00 epochs:   4%| | 8444/192000 [00:24<07:56, 385.01it/s, epoch=13.20/300"
     ]
    },
    {
     "name": "stderr",
     "output_type": "stream",
     "text": [
      "\r",
      "Training for 192000 iter, 300.00 epochs:   4%| | 8485/192000 [00:24<07:49, 390.54it/s, epoch=13.20/300"
     ]
    },
    {
     "name": "stderr",
     "output_type": "stream",
     "text": [
      "\r",
      "Training for 192000 iter, 300.00 epochs:   4%| | 8485/192000 [00:24<07:49, 390.54it/s, epoch=13.28/300"
     ]
    },
    {
     "name": "stderr",
     "output_type": "stream",
     "text": [
      "\r",
      "Training for 192000 iter, 300.00 epochs:   4%| | 8526/192000 [00:24<07:45, 394.21it/s, epoch=13.28/300"
     ]
    },
    {
     "name": "stderr",
     "output_type": "stream",
     "text": [
      "\r",
      "Training for 192000 iter, 300.00 epochs:   4%| | 8526/192000 [00:24<07:45, 394.21it/s, epoch=13.36/300"
     ]
    },
    {
     "name": "stderr",
     "output_type": "stream",
     "text": [
      "\r",
      "Training for 192000 iter, 300.00 epochs:   4%| | 8566/192000 [00:24<08:04, 378.48it/s, epoch=13.36/300"
     ]
    },
    {
     "name": "stderr",
     "output_type": "stream",
     "text": [
      "\r",
      "Training for 192000 iter, 300.00 epochs:   4%| | 8566/192000 [00:24<08:04, 378.48it/s, epoch=13.44/300"
     ]
    },
    {
     "name": "stderr",
     "output_type": "stream",
     "text": [
      "\r",
      "Training for 192000 iter, 300.00 epochs:   4%| | 8605/192000 [00:24<08:05, 377.49it/s, epoch=13.44/300"
     ]
    },
    {
     "name": "stderr",
     "output_type": "stream",
     "text": [
      "\r",
      "Training for 192000 iter, 300.00 epochs:   5%| | 8645/192000 [00:24<08:00, 381.76it/s, epoch=13.44/300"
     ]
    },
    {
     "name": "stderr",
     "output_type": "stream",
     "text": [
      "\r",
      "Training for 192000 iter, 300.00 epochs:   5%| | 8645/192000 [00:24<08:00, 381.76it/s, epoch=13.52/300"
     ]
    },
    {
     "name": "stderr",
     "output_type": "stream",
     "text": [
      "\r",
      "Training for 192000 iter, 300.00 epochs:   5%| | 8685/192000 [00:25<07:56, 384.62it/s, epoch=13.52/300"
     ]
    },
    {
     "name": "stderr",
     "output_type": "stream",
     "text": [
      "\r",
      "Training for 192000 iter, 300.00 epochs:   5%| | 8685/192000 [00:25<07:56, 384.62it/s, epoch=13.59/300"
     ]
    },
    {
     "name": "stderr",
     "output_type": "stream",
     "text": [
      "\r",
      "Training for 192000 iter, 300.00 epochs:   5%| | 8726/192000 [00:25<07:47, 391.63it/s, epoch=13.59/300"
     ]
    },
    {
     "name": "stderr",
     "output_type": "stream",
     "text": [
      "\r",
      "Training for 192000 iter, 300.00 epochs:   5%| | 8726/192000 [00:25<07:47, 391.63it/s, epoch=13.67/300"
     ]
    },
    {
     "name": "stderr",
     "output_type": "stream",
     "text": [
      "\r",
      "Training for 192000 iter, 300.00 epochs:   5%| | 8766/192000 [00:25<07:51, 388.96it/s, epoch=13.67/300"
     ]
    },
    {
     "name": "stderr",
     "output_type": "stream",
     "text": [
      "\r",
      "Training for 192000 iter, 300.00 epochs:   5%| | 8766/192000 [00:25<07:51, 388.96it/s, epoch=13.75/300"
     ]
    },
    {
     "name": "stderr",
     "output_type": "stream",
     "text": [
      "\r",
      "Training for 192000 iter, 300.00 epochs:   5%| | 8805/192000 [00:25<07:50, 389.17it/s, epoch=13.75/300"
     ]
    },
    {
     "name": "stderr",
     "output_type": "stream",
     "text": [
      "\r",
      "Training for 192000 iter, 300.00 epochs:   5%| | 8846/192000 [00:25<07:44, 394.61it/s, epoch=13.75/300"
     ]
    },
    {
     "name": "stderr",
     "output_type": "stream",
     "text": [
      "\r",
      "Training for 192000 iter, 300.00 epochs:   5%| | 8846/192000 [00:25<07:44, 394.61it/s, epoch=13.83/300"
     ]
    },
    {
     "name": "stderr",
     "output_type": "stream",
     "text": [
      "\r",
      "Training for 192000 iter, 300.00 epochs:   5%| | 8887/192000 [00:25<07:40, 398.01it/s, epoch=13.83/300"
     ]
    },
    {
     "name": "stderr",
     "output_type": "stream",
     "text": [
      "\r",
      "Training for 192000 iter, 300.00 epochs:   5%| | 8887/192000 [00:25<07:40, 398.01it/s, epoch=13.91/300"
     ]
    },
    {
     "name": "stderr",
     "output_type": "stream",
     "text": [
      "\r",
      "Training for 192000 iter, 300.00 epochs:   5%| | 8927/192000 [00:25<07:39, 398.55it/s, epoch=13.91/300"
     ]
    },
    {
     "name": "stderr",
     "output_type": "stream",
     "text": [
      "\r",
      "Training for 192000 iter, 300.00 epochs:   5%| | 8927/192000 [00:25<07:39, 398.55it/s, epoch=13.98/300"
     ]
    },
    {
     "name": "stderr",
     "output_type": "stream",
     "text": [
      "\r",
      "Training for 192000 iter, 300.00 epochs:   5%| | 8967/192000 [00:25<07:55, 384.93it/s, epoch=13.98/300"
     ]
    },
    {
     "name": "stderr",
     "output_type": "stream",
     "text": [
      "\r",
      "Training for 192000 iter, 300.00 epochs:   5%| | 8967/192000 [00:25<07:55, 384.93it/s, epoch=14.06/300"
     ]
    },
    {
     "name": "stderr",
     "output_type": "stream",
     "text": [
      "\r",
      "Training for 192000 iter, 300.00 epochs:   5%| | 9006/192000 [00:25<08:23, 363.34it/s, epoch=14.06/300"
     ]
    },
    {
     "name": "stderr",
     "output_type": "stream",
     "text": [
      "\r",
      "Training for 192000 iter, 300.00 epochs:   5%| | 9043/192000 [00:26<09:43, 313.60it/s, epoch=14.06/300"
     ]
    },
    {
     "name": "stderr",
     "output_type": "stream",
     "text": [
      "\r",
      "Training for 192000 iter, 300.00 epochs:   5%| | 9043/192000 [00:26<09:43, 313.60it/s, epoch=14.14/300"
     ]
    },
    {
     "name": "stderr",
     "output_type": "stream",
     "text": [
      "\r",
      "Training for 192000 iter, 300.00 epochs:   5%| | 9083/192000 [00:26<09:06, 334.72it/s, epoch=14.14/300"
     ]
    },
    {
     "name": "stderr",
     "output_type": "stream",
     "text": [
      "\r",
      "Training for 192000 iter, 300.00 epochs:   5%| | 9083/192000 [00:26<09:06, 334.72it/s, epoch=14.22/300"
     ]
    },
    {
     "name": "stderr",
     "output_type": "stream",
     "text": [
      "\r",
      "Training for 192000 iter, 300.00 epochs:   5%| | 9123/192000 [00:26<08:40, 351.12it/s, epoch=14.22/300"
     ]
    },
    {
     "name": "stderr",
     "output_type": "stream",
     "text": [
      "\r",
      "Training for 192000 iter, 300.00 epochs:   5%| | 9123/192000 [00:26<08:40, 351.12it/s, epoch=14.30/300"
     ]
    },
    {
     "name": "stderr",
     "output_type": "stream",
     "text": [
      "\r",
      "Training for 192000 iter, 300.00 epochs:   5%| | 9164/192000 [00:26<08:19, 365.91it/s, epoch=14.30/300"
     ]
    },
    {
     "name": "stderr",
     "output_type": "stream",
     "text": [
      "\r",
      "Training for 192000 iter, 300.00 epochs:   5%| | 9164/192000 [00:26<08:19, 365.91it/s, epoch=14.38/300"
     ]
    },
    {
     "name": "stderr",
     "output_type": "stream",
     "text": [
      "\r",
      "Training for 192000 iter, 300.00 epochs:   5%| | 9205/192000 [00:26<08:03, 377.96it/s, epoch=14.38/300"
     ]
    },
    {
     "name": "stderr",
     "output_type": "stream",
     "text": [
      "\r",
      "Training for 192000 iter, 300.00 epochs:   5%| | 9246/192000 [00:26<07:52, 387.13it/s, epoch=14.38/300"
     ]
    },
    {
     "name": "stderr",
     "output_type": "stream",
     "text": [
      "\r",
      "Training for 192000 iter, 300.00 epochs:   5%| | 9246/192000 [00:26<07:52, 387.13it/s, epoch=14.45/300"
     ]
    },
    {
     "name": "stderr",
     "output_type": "stream",
     "text": [
      "\r",
      "Training for 192000 iter, 300.00 epochs:   5%| | 9287/192000 [00:26<07:46, 391.91it/s, epoch=14.45/300"
     ]
    },
    {
     "name": "stderr",
     "output_type": "stream",
     "text": [
      "\r",
      "Training for 192000 iter, 300.00 epochs:   5%| | 9287/192000 [00:26<07:46, 391.91it/s, epoch=14.53/300"
     ]
    },
    {
     "name": "stderr",
     "output_type": "stream",
     "text": [
      "\r",
      "Training for 192000 iter, 300.00 epochs:   5%| | 9327/192000 [00:26<07:49, 388.85it/s, epoch=14.53/300"
     ]
    },
    {
     "name": "stderr",
     "output_type": "stream",
     "text": [
      "\r",
      "Training for 192000 iter, 300.00 epochs:   5%| | 9327/192000 [00:26<07:49, 388.85it/s, epoch=14.61/300"
     ]
    },
    {
     "name": "stderr",
     "output_type": "stream",
     "text": [
      "\r",
      "Training for 192000 iter, 300.00 epochs:   5%| | 9367/192000 [00:26<07:46, 391.46it/s, epoch=14.61/300"
     ]
    },
    {
     "name": "stderr",
     "output_type": "stream",
     "text": [
      "\r",
      "Training for 192000 iter, 300.00 epochs:   5%| | 9367/192000 [00:26<07:46, 391.46it/s, epoch=14.69/300"
     ]
    },
    {
     "name": "stderr",
     "output_type": "stream",
     "text": [
      "\r",
      "Training for 192000 iter, 300.00 epochs:   5%| | 9407/192000 [00:26<07:43, 393.67it/s, epoch=14.69/300"
     ]
    },
    {
     "name": "stderr",
     "output_type": "stream",
     "text": [
      "\r",
      "Training for 192000 iter, 300.00 epochs:   5%| | 9447/192000 [00:27<07:47, 390.58it/s, epoch=14.69/300"
     ]
    },
    {
     "name": "stderr",
     "output_type": "stream",
     "text": [
      "\r",
      "Training for 192000 iter, 300.00 epochs:   5%| | 9447/192000 [00:27<07:47, 390.58it/s, epoch=14.77/300"
     ]
    },
    {
     "name": "stderr",
     "output_type": "stream",
     "text": [
      "\r",
      "Training for 192000 iter, 300.00 epochs:   5%| | 9487/192000 [00:27<07:52, 386.47it/s, epoch=14.77/300"
     ]
    },
    {
     "name": "stderr",
     "output_type": "stream",
     "text": [
      "\r",
      "Training for 192000 iter, 300.00 epochs:   5%| | 9487/192000 [00:27<07:52, 386.47it/s, epoch=14.84/300"
     ]
    },
    {
     "name": "stderr",
     "output_type": "stream",
     "text": [
      "\r",
      "Training for 192000 iter, 300.00 epochs:   5%| | 9528/192000 [00:27<07:46, 391.26it/s, epoch=14.84/300"
     ]
    },
    {
     "name": "stderr",
     "output_type": "stream",
     "text": [
      "\r",
      "Training for 192000 iter, 300.00 epochs:   5%| | 9528/192000 [00:27<07:46, 391.26it/s, epoch=14.92/300"
     ]
    },
    {
     "name": "stderr",
     "output_type": "stream",
     "text": [
      "\r",
      "Training for 192000 iter, 300.00 epochs:   5%| | 9568/192000 [00:27<07:50, 388.14it/s, epoch=14.92/300"
     ]
    },
    {
     "name": "stderr",
     "output_type": "stream",
     "text": [
      "\r",
      "Training for 192000 iter, 300.00 epochs:   5%| | 9568/192000 [00:27<07:50, 388.14it/s, epoch=15.00/300"
     ]
    },
    {
     "name": "stderr",
     "output_type": "stream",
     "text": [
      "\r",
      "Training for 192000 iter, 300.00 epochs:   5%| | 9607/192000 [00:27<08:03, 377.53it/s, epoch=15.00/300"
     ]
    },
    {
     "name": "stderr",
     "output_type": "stream",
     "text": [
      "\r",
      "Training for 192000 iter, 300.00 epochs:   5%| | 9647/192000 [00:27<07:57, 381.83it/s, epoch=15.00/300"
     ]
    },
    {
     "name": "stderr",
     "output_type": "stream",
     "text": [
      "\r",
      "Training for 192000 iter, 300.00 epochs:   5%| | 9647/192000 [00:27<07:57, 381.83it/s, epoch=15.08/300"
     ]
    },
    {
     "name": "stderr",
     "output_type": "stream",
     "text": [
      "\r",
      "Training for 192000 iter, 300.00 epochs:   5%| | 9686/192000 [00:27<07:58, 380.72it/s, epoch=15.08/300"
     ]
    },
    {
     "name": "stderr",
     "output_type": "stream",
     "text": [
      "\r",
      "Training for 192000 iter, 300.00 epochs:   5%| | 9686/192000 [00:27<07:58, 380.72it/s, epoch=15.16/300"
     ]
    },
    {
     "name": "stderr",
     "output_type": "stream",
     "text": [
      "\r",
      "Training for 192000 iter, 300.00 epochs:   5%| | 9726/192000 [00:27<07:51, 386.18it/s, epoch=15.16/300"
     ]
    },
    {
     "name": "stderr",
     "output_type": "stream",
     "text": [
      "\r",
      "Training for 192000 iter, 300.00 epochs:   5%| | 9726/192000 [00:27<07:51, 386.18it/s, epoch=15.23/300"
     ]
    },
    {
     "name": "stderr",
     "output_type": "stream",
     "text": [
      "\r",
      "Training for 192000 iter, 300.00 epochs:   5%| | 9765/192000 [00:27<07:58, 380.87it/s, epoch=15.23/300"
     ]
    },
    {
     "name": "stderr",
     "output_type": "stream",
     "text": [
      "\r",
      "Training for 192000 iter, 300.00 epochs:   5%| | 9765/192000 [00:28<07:58, 380.87it/s, epoch=15.31/300"
     ]
    },
    {
     "name": "stderr",
     "output_type": "stream",
     "text": [
      "\r",
      "Training for 192000 iter, 300.00 epochs:   5%| | 9804/192000 [00:28<08:10, 371.82it/s, epoch=15.31/300"
     ]
    },
    {
     "name": "stderr",
     "output_type": "stream",
     "text": [
      "\r",
      "Training for 192000 iter, 300.00 epochs:   5%| | 9844/192000 [00:28<08:00, 378.79it/s, epoch=15.31/300"
     ]
    },
    {
     "name": "stderr",
     "output_type": "stream",
     "text": [
      "\r",
      "Training for 192000 iter, 300.00 epochs:   5%| | 9844/192000 [00:28<08:00, 378.79it/s, epoch=15.39/300"
     ]
    },
    {
     "name": "stderr",
     "output_type": "stream",
     "text": [
      "\r",
      "Training for 192000 iter, 300.00 epochs:   5%| | 9884/192000 [00:28<07:55, 383.29it/s, epoch=15.39/300"
     ]
    },
    {
     "name": "stderr",
     "output_type": "stream",
     "text": [
      "\r",
      "Training for 192000 iter, 300.00 epochs:   5%| | 9884/192000 [00:28<07:55, 383.29it/s, epoch=15.47/300"
     ]
    },
    {
     "name": "stderr",
     "output_type": "stream",
     "text": [
      "\r",
      "Training for 192000 iter, 300.00 epochs:   5%| | 9924/192000 [00:28<07:51, 386.38it/s, epoch=15.47/300"
     ]
    },
    {
     "name": "stderr",
     "output_type": "stream",
     "text": [
      "\r",
      "Training for 192000 iter, 300.00 epochs:   5%| | 9924/192000 [00:28<07:51, 386.38it/s, epoch=15.55/300"
     ]
    },
    {
     "name": "stderr",
     "output_type": "stream",
     "text": [
      "\r",
      "Training for 192000 iter, 300.00 epochs:   5%| | 9964/192000 [00:28<07:49, 387.91it/s, epoch=15.55/300"
     ]
    },
    {
     "name": "stderr",
     "output_type": "stream",
     "text": [
      "\r",
      "Training for 192000 iter, 300.00 epochs:   5%| | 9964/192000 [00:28<07:49, 387.91it/s, epoch=15.62/300"
     ]
    },
    {
     "name": "stderr",
     "output_type": "stream",
     "text": [
      "\r",
      "Training for 192000 iter, 300.00 epochs:   5%| | 10004/192000 [00:28<07:46, 390.48it/s, epoch=15.62/30"
     ]
    },
    {
     "name": "stderr",
     "output_type": "stream",
     "text": [
      "\r",
      "Training for 192000 iter, 300.00 epochs:   5%| | 10044/192000 [00:28<07:54, 383.73it/s, epoch=15.62/30"
     ]
    },
    {
     "name": "stderr",
     "output_type": "stream",
     "text": [
      "\r",
      "Training for 192000 iter, 300.00 epochs:   5%| | 10044/192000 [00:28<07:54, 383.73it/s, epoch=15.70/30"
     ]
    },
    {
     "name": "stderr",
     "output_type": "stream",
     "text": [
      "\r",
      "Training for 192000 iter, 300.00 epochs:   5%| | 10083/192000 [00:28<07:54, 383.05it/s, epoch=15.70/30"
     ]
    },
    {
     "name": "stderr",
     "output_type": "stream",
     "text": [
      "\r",
      "Training for 192000 iter, 300.00 epochs:   5%| | 10083/192000 [00:28<07:54, 383.05it/s, epoch=15.78/30"
     ]
    },
    {
     "name": "stderr",
     "output_type": "stream",
     "text": [
      "\r",
      "Training for 192000 iter, 300.00 epochs:   5%| | 10123/192000 [00:28<07:50, 386.33it/s, epoch=15.78/30"
     ]
    },
    {
     "name": "stderr",
     "output_type": "stream",
     "text": [
      "\r",
      "Training for 192000 iter, 300.00 epochs:   5%| | 10123/192000 [00:28<07:50, 386.33it/s, epoch=15.86/30"
     ]
    },
    {
     "name": "stderr",
     "output_type": "stream",
     "text": [
      "\r",
      "Training for 192000 iter, 300.00 epochs:   5%| | 10163/192000 [00:28<07:49, 387.62it/s, epoch=15.86/30"
     ]
    },
    {
     "name": "stderr",
     "output_type": "stream",
     "text": [
      "\r",
      "Training for 192000 iter, 300.00 epochs:   5%| | 10163/192000 [00:29<07:49, 387.62it/s, epoch=15.94/30"
     ]
    },
    {
     "name": "stderr",
     "output_type": "stream",
     "text": [
      "\r",
      "Training for 192000 iter, 300.00 epochs:   5%| | 10203/192000 [00:29<07:46, 389.88it/s, epoch=15.94/30"
     ]
    },
    {
     "name": "stderr",
     "output_type": "stream",
     "text": [
      "\r",
      "Training for 192000 iter, 300.00 epochs:   5%| | 10243/192000 [00:29<07:56, 381.56it/s, epoch=15.94/30"
     ]
    },
    {
     "name": "stderr",
     "output_type": "stream",
     "text": [
      "\r",
      "Training for 192000 iter, 300.00 epochs:   5%| | 10243/192000 [00:29<07:56, 381.56it/s, epoch=16.02/30"
     ]
    },
    {
     "name": "stderr",
     "output_type": "stream",
     "text": [
      "\r",
      "Training for 192000 iter, 300.00 epochs:   5%| | 10282/192000 [00:29<07:55, 382.45it/s, epoch=16.02/30"
     ]
    },
    {
     "name": "stderr",
     "output_type": "stream",
     "text": [
      "\r",
      "Training for 192000 iter, 300.00 epochs:   5%| | 10282/192000 [00:29<07:55, 382.45it/s, epoch=16.09/30"
     ]
    },
    {
     "name": "stderr",
     "output_type": "stream",
     "text": [
      "\r",
      "Training for 192000 iter, 300.00 epochs:   5%| | 10321/192000 [00:29<07:54, 382.80it/s, epoch=16.09/30"
     ]
    },
    {
     "name": "stderr",
     "output_type": "stream",
     "text": [
      "\r",
      "Training for 192000 iter, 300.00 epochs:   5%| | 10321/192000 [00:29<07:54, 382.80it/s, epoch=16.17/30"
     ]
    },
    {
     "name": "stderr",
     "output_type": "stream",
     "text": [
      "\r",
      "Training for 192000 iter, 300.00 epochs:   5%| | 10360/192000 [00:29<07:52, 384.66it/s, epoch=16.17/30"
     ]
    },
    {
     "name": "stderr",
     "output_type": "stream",
     "text": [
      "\r",
      "Training for 192000 iter, 300.00 epochs:   5%| | 10360/192000 [00:29<07:52, 384.66it/s, epoch=16.25/30"
     ]
    },
    {
     "name": "stderr",
     "output_type": "stream",
     "text": [
      "\r",
      "Training for 192000 iter, 300.00 epochs:   5%| | 10400/192000 [00:29<07:50, 385.61it/s, epoch=16.25/30"
     ]
    },
    {
     "name": "stderr",
     "output_type": "stream",
     "text": [
      "\r",
      "Training for 192000 iter, 300.00 epochs:   5%| | 10439/192000 [00:29<07:52, 383.92it/s, epoch=16.25/30"
     ]
    },
    {
     "name": "stderr",
     "output_type": "stream",
     "text": [
      "\r",
      "Training for 192000 iter, 300.00 epochs:   5%| | 10439/192000 [00:29<07:52, 383.92it/s, epoch=16.33/30"
     ]
    },
    {
     "name": "stderr",
     "output_type": "stream",
     "text": [
      "\r",
      "Training for 192000 iter, 300.00 epochs:   5%| | 10478/192000 [00:29<07:51, 385.05it/s, epoch=16.33/30"
     ]
    },
    {
     "name": "stderr",
     "output_type": "stream",
     "text": [
      "\r",
      "Training for 192000 iter, 300.00 epochs:   5%| | 10478/192000 [00:29<07:51, 385.05it/s, epoch=16.41/30"
     ]
    },
    {
     "name": "stderr",
     "output_type": "stream",
     "text": [
      "\r",
      "Training for 192000 iter, 300.00 epochs:   5%| | 10517/192000 [00:29<08:17, 365.15it/s, epoch=16.41/30"
     ]
    },
    {
     "name": "stderr",
     "output_type": "stream",
     "text": [
      "\r",
      "Training for 192000 iter, 300.00 epochs:   5%| | 10517/192000 [00:29<08:17, 365.15it/s, epoch=16.48/30"
     ]
    },
    {
     "name": "stderr",
     "output_type": "stream",
     "text": [
      "\r",
      "Training for 192000 iter, 300.00 epochs:   5%| | 10555/192000 [00:29<08:12, 368.51it/s, epoch=16.48/30"
     ]
    },
    {
     "name": "stderr",
     "output_type": "stream",
     "text": [
      "\r",
      "Training for 192000 iter, 300.00 epochs:   6%| | 10596/192000 [00:30<07:59, 378.70it/s, epoch=16.48/30"
     ]
    },
    {
     "name": "stderr",
     "output_type": "stream",
     "text": [
      "\r",
      "Training for 192000 iter, 300.00 epochs:   6%| | 10596/192000 [00:30<07:59, 378.70it/s, epoch=16.56/30"
     ]
    },
    {
     "name": "stderr",
     "output_type": "stream",
     "text": [
      "\r",
      "Training for 192000 iter, 300.00 epochs:   6%| | 10636/192000 [00:30<07:53, 383.35it/s, epoch=16.56/30"
     ]
    },
    {
     "name": "stderr",
     "output_type": "stream",
     "text": [
      "\r",
      "Training for 192000 iter, 300.00 epochs:   6%| | 10636/192000 [00:30<07:53, 383.35it/s, epoch=16.64/30"
     ]
    },
    {
     "name": "stderr",
     "output_type": "stream",
     "text": [
      "\r",
      "Training for 192000 iter, 300.00 epochs:   6%| | 10675/192000 [00:30<07:54, 382.34it/s, epoch=16.64/30"
     ]
    },
    {
     "name": "stderr",
     "output_type": "stream",
     "text": [
      "\r",
      "Training for 192000 iter, 300.00 epochs:   6%| | 10675/192000 [00:30<07:54, 382.34it/s, epoch=16.72/30"
     ]
    },
    {
     "name": "stderr",
     "output_type": "stream",
     "text": [
      "\r",
      "Training for 192000 iter, 300.00 epochs:   6%| | 10716/192000 [00:30<07:46, 388.19it/s, epoch=16.72/30"
     ]
    },
    {
     "name": "stderr",
     "output_type": "stream",
     "text": [
      "\r",
      "Training for 192000 iter, 300.00 epochs:   6%| | 10716/192000 [00:30<07:46, 388.19it/s, epoch=16.80/30"
     ]
    },
    {
     "name": "stderr",
     "output_type": "stream",
     "text": [
      "\r",
      "Training for 192000 iter, 300.00 epochs:   6%| | 10755/192000 [00:30<07:48, 386.99it/s, epoch=16.80/30"
     ]
    },
    {
     "name": "stderr",
     "output_type": "stream",
     "text": [
      "\r",
      "Training for 192000 iter, 300.00 epochs:   6%| | 10796/192000 [00:30<07:42, 391.80it/s, epoch=16.80/30"
     ]
    },
    {
     "name": "stderr",
     "output_type": "stream",
     "text": [
      "\r",
      "Training for 192000 iter, 300.00 epochs:   6%| | 10796/192000 [00:30<07:42, 391.80it/s, epoch=16.88/30"
     ]
    },
    {
     "name": "stderr",
     "output_type": "stream",
     "text": [
      "\r",
      "Training for 192000 iter, 300.00 epochs:   6%| | 10836/192000 [00:30<07:43, 390.48it/s, epoch=16.88/30"
     ]
    },
    {
     "name": "stderr",
     "output_type": "stream",
     "text": [
      "\r",
      "Training for 192000 iter, 300.00 epochs:   6%| | 10836/192000 [00:30<07:43, 390.48it/s, epoch=16.95/30"
     ]
    },
    {
     "name": "stderr",
     "output_type": "stream",
     "text": [
      "\r",
      "Training for 192000 iter, 300.00 epochs:   6%| | 10876/192000 [00:30<07:40, 392.92it/s, epoch=16.95/30"
     ]
    },
    {
     "name": "stderr",
     "output_type": "stream",
     "text": [
      "\r",
      "Training for 192000 iter, 300.00 epochs:   6%| | 10876/192000 [00:30<07:40, 392.92it/s, epoch=17.03/30"
     ]
    },
    {
     "name": "stderr",
     "output_type": "stream",
     "text": [
      "\r",
      "Training for 192000 iter, 300.00 epochs:   6%| | 10916/192000 [00:30<08:25, 358.48it/s, epoch=17.03/30"
     ]
    },
    {
     "name": "stderr",
     "output_type": "stream",
     "text": [
      "\r",
      "Training for 192000 iter, 300.00 epochs:   6%| | 10916/192000 [00:31<08:25, 358.48it/s, epoch=17.11/30"
     ]
    },
    {
     "name": "stderr",
     "output_type": "stream",
     "text": [
      "\r",
      "Training for 192000 iter, 300.00 epochs:   6%| | 10955/192000 [00:31<08:14, 365.81it/s, epoch=17.11/30"
     ]
    },
    {
     "name": "stderr",
     "output_type": "stream",
     "text": [
      "\r",
      "Training for 192000 iter, 300.00 epochs:   6%| | 10993/192000 [00:31<08:27, 356.97it/s, epoch=17.11/30"
     ]
    },
    {
     "name": "stderr",
     "output_type": "stream",
     "text": [
      "\r",
      "Training for 192000 iter, 300.00 epochs:   6%| | 10993/192000 [00:31<08:27, 356.97it/s, epoch=17.19/30"
     ]
    },
    {
     "name": "stderr",
     "output_type": "stream",
     "text": [
      "\r",
      "Training for 192000 iter, 300.00 epochs:   6%| | 11030/192000 [00:31<08:35, 351.21it/s, epoch=17.19/30"
     ]
    },
    {
     "name": "stderr",
     "output_type": "stream",
     "text": [
      "\r",
      "Training for 192000 iter, 300.00 epochs:   6%| | 11030/192000 [00:31<08:35, 351.21it/s, epoch=17.27/30"
     ]
    },
    {
     "name": "stderr",
     "output_type": "stream",
     "text": [
      "\r",
      "Training for 192000 iter, 300.00 epochs:   6%| | 11070/192000 [00:31<08:16, 364.43it/s, epoch=17.27/30"
     ]
    },
    {
     "name": "stderr",
     "output_type": "stream",
     "text": [
      "\r",
      "Training for 192000 iter, 300.00 epochs:   6%| | 11070/192000 [00:31<08:16, 364.43it/s, epoch=17.34/30"
     ]
    },
    {
     "name": "stderr",
     "output_type": "stream",
     "text": [
      "\r",
      "Training for 192000 iter, 300.00 epochs:   6%| | 11111/192000 [00:31<08:02, 375.14it/s, epoch=17.34/30"
     ]
    },
    {
     "name": "stderr",
     "output_type": "stream",
     "text": [
      "\r",
      "Training for 192000 iter, 300.00 epochs:   6%| | 11111/192000 [00:31<08:02, 375.14it/s, epoch=17.42/30"
     ]
    },
    {
     "name": "stderr",
     "output_type": "stream",
     "text": [
      "\r",
      "Training for 192000 iter, 300.00 epochs:   6%| | 11152/192000 [00:31<07:50, 384.76it/s, epoch=17.42/30"
     ]
    },
    {
     "name": "stderr",
     "output_type": "stream",
     "text": [
      "\r",
      "Training for 192000 iter, 300.00 epochs:   6%| | 11193/192000 [00:31<07:41, 392.06it/s, epoch=17.42/30"
     ]
    },
    {
     "name": "stderr",
     "output_type": "stream",
     "text": [
      "\r",
      "Training for 192000 iter, 300.00 epochs:   6%| | 11193/192000 [00:31<07:41, 392.06it/s, epoch=17.50/30"
     ]
    },
    {
     "name": "stderr",
     "output_type": "stream",
     "text": [
      "\r",
      "Training for 192000 iter, 300.00 epochs:   6%| | 11233/192000 [00:31<07:44, 388.77it/s, epoch=17.50/30"
     ]
    },
    {
     "name": "stderr",
     "output_type": "stream",
     "text": [
      "\r",
      "Training for 192000 iter, 300.00 epochs:   6%| | 11233/192000 [00:31<07:44, 388.77it/s, epoch=17.58/30"
     ]
    },
    {
     "name": "stderr",
     "output_type": "stream",
     "text": [
      "\r",
      "Training for 192000 iter, 300.00 epochs:   6%| | 11272/192000 [00:31<07:47, 386.17it/s, epoch=17.58/30"
     ]
    },
    {
     "name": "stderr",
     "output_type": "stream",
     "text": [
      "\r",
      "Training for 192000 iter, 300.00 epochs:   6%| | 11272/192000 [00:31<07:47, 386.17it/s, epoch=17.66/30"
     ]
    },
    {
     "name": "stderr",
     "output_type": "stream",
     "text": [
      "\r",
      "Training for 192000 iter, 300.00 epochs:   6%| | 11311/192000 [00:31<07:51, 383.09it/s, epoch=17.66/30"
     ]
    },
    {
     "name": "stderr",
     "output_type": "stream",
     "text": [
      "\r",
      "Training for 192000 iter, 300.00 epochs:   6%| | 11311/192000 [00:32<07:51, 383.09it/s, epoch=17.73/30"
     ]
    },
    {
     "name": "stderr",
     "output_type": "stream",
     "text": [
      "\r",
      "Training for 192000 iter, 300.00 epochs:   6%| | 11352/192000 [00:32<07:44, 389.23it/s, epoch=17.73/30"
     ]
    },
    {
     "name": "stderr",
     "output_type": "stream",
     "text": [
      "\r",
      "Training for 192000 iter, 300.00 epochs:   6%| | 11393/192000 [00:32<07:38, 393.94it/s, epoch=17.73/30"
     ]
    },
    {
     "name": "stderr",
     "output_type": "stream",
     "text": [
      "\r",
      "Training for 192000 iter, 300.00 epochs:   6%| | 11393/192000 [00:32<07:38, 393.94it/s, epoch=17.81/30"
     ]
    },
    {
     "name": "stderr",
     "output_type": "stream",
     "text": [
      "\r",
      "Training for 192000 iter, 300.00 epochs:   6%| | 11434/192000 [00:32<07:33, 398.53it/s, epoch=17.81/30"
     ]
    },
    {
     "name": "stderr",
     "output_type": "stream",
     "text": [
      "\r",
      "Training for 192000 iter, 300.00 epochs:   6%| | 11434/192000 [00:32<07:33, 398.53it/s, epoch=17.89/30"
     ]
    },
    {
     "name": "stderr",
     "output_type": "stream",
     "text": [
      "\r",
      "Training for 192000 iter, 300.00 epochs:   6%| | 11475/192000 [00:32<07:29, 401.22it/s, epoch=17.89/30"
     ]
    },
    {
     "name": "stderr",
     "output_type": "stream",
     "text": [
      "\r",
      "Training for 192000 iter, 300.00 epochs:   6%| | 11475/192000 [00:32<07:29, 401.22it/s, epoch=17.97/30"
     ]
    },
    {
     "name": "stderr",
     "output_type": "stream",
     "text": [
      "\r",
      "Training for 192000 iter, 300.00 epochs:   6%| | 11516/192000 [00:32<07:43, 389.22it/s, epoch=17.97/30"
     ]
    },
    {
     "name": "stderr",
     "output_type": "stream",
     "text": [
      "\r",
      "Training for 192000 iter, 300.00 epochs:   6%| | 11516/192000 [00:32<07:43, 389.22it/s, epoch=18.05/30"
     ]
    },
    {
     "name": "stderr",
     "output_type": "stream",
     "text": [
      "\r",
      "Training for 192000 iter, 300.00 epochs:   6%| | 11556/192000 [00:32<08:16, 363.12it/s, epoch=18.05/30"
     ]
    },
    {
     "name": "stderr",
     "output_type": "stream",
     "text": [
      "\r",
      "Training for 192000 iter, 300.00 epochs:   6%| | 11593/192000 [00:32<08:58, 335.09it/s, epoch=18.05/30"
     ]
    },
    {
     "name": "stderr",
     "output_type": "stream",
     "text": [
      "\r",
      "Training for 192000 iter, 300.00 epochs:   6%| | 11593/192000 [00:32<08:58, 335.09it/s, epoch=18.12/30"
     ]
    },
    {
     "name": "stderr",
     "output_type": "stream",
     "text": [
      "\r",
      "Training for 192000 iter, 300.00 epochs:   6%| | 11628/192000 [00:32<08:52, 338.44it/s, epoch=18.12/30"
     ]
    },
    {
     "name": "stderr",
     "output_type": "stream",
     "text": [
      "\r",
      "Training for 192000 iter, 300.00 epochs:   6%| | 11628/192000 [00:32<08:52, 338.44it/s, epoch=18.20/30"
     ]
    },
    {
     "name": "stderr",
     "output_type": "stream",
     "text": [
      "\r",
      "Training for 192000 iter, 300.00 epochs:   6%| | 11663/192000 [00:32<09:15, 324.48it/s, epoch=18.20/30"
     ]
    },
    {
     "name": "stderr",
     "output_type": "stream",
     "text": [
      "\r",
      "Training for 192000 iter, 300.00 epochs:   6%| | 11663/192000 [00:33<09:15, 324.48it/s, epoch=18.28/30"
     ]
    },
    {
     "name": "stderr",
     "output_type": "stream",
     "text": [
      "\r",
      "Training for 192000 iter, 300.00 epochs:   6%| | 11701/192000 [00:33<08:53, 338.07it/s, epoch=18.28/30"
     ]
    },
    {
     "name": "stderr",
     "output_type": "stream",
     "text": [
      "\r",
      "Training for 192000 iter, 300.00 epochs:   6%| | 11742/192000 [00:33<08:24, 357.00it/s, epoch=18.28/30"
     ]
    },
    {
     "name": "stderr",
     "output_type": "stream",
     "text": [
      "\r",
      "Training for 192000 iter, 300.00 epochs:   6%| | 11742/192000 [00:33<08:24, 357.00it/s, epoch=18.36/30"
     ]
    },
    {
     "name": "stderr",
     "output_type": "stream",
     "text": [
      "\r",
      "Training for 192000 iter, 300.00 epochs:   6%| | 11783/192000 [00:33<08:06, 370.76it/s, epoch=18.36/30"
     ]
    },
    {
     "name": "stderr",
     "output_type": "stream",
     "text": [
      "\r",
      "Training for 192000 iter, 300.00 epochs:   6%| | 11783/192000 [00:33<08:06, 370.76it/s, epoch=18.44/30"
     ]
    },
    {
     "name": "stderr",
     "output_type": "stream",
     "text": [
      "\r",
      "Training for 192000 iter, 300.00 epochs:   6%| | 11822/192000 [00:33<07:58, 376.28it/s, epoch=18.44/30"
     ]
    },
    {
     "name": "stderr",
     "output_type": "stream",
     "text": [
      "\r",
      "Training for 192000 iter, 300.00 epochs:   6%| | 11822/192000 [00:33<07:58, 376.28it/s, epoch=18.52/30"
     ]
    },
    {
     "name": "stderr",
     "output_type": "stream",
     "text": [
      "\r",
      "Training for 192000 iter, 300.00 epochs:   6%| | 11863/192000 [00:33<07:48, 384.22it/s, epoch=18.52/30"
     ]
    },
    {
     "name": "stderr",
     "output_type": "stream",
     "text": [
      "\r",
      "Training for 192000 iter, 300.00 epochs:   6%| | 11863/192000 [00:33<07:48, 384.22it/s, epoch=18.59/30"
     ]
    },
    {
     "name": "stderr",
     "output_type": "stream",
     "text": [
      "\r",
      "Training for 192000 iter, 300.00 epochs:   6%| | 11904/192000 [00:33<07:41, 390.59it/s, epoch=18.59/30"
     ]
    },
    {
     "name": "stderr",
     "output_type": "stream",
     "text": [
      "\r",
      "Training for 192000 iter, 300.00 epochs:   6%| | 11945/192000 [00:33<07:34, 396.22it/s, epoch=18.59/30"
     ]
    },
    {
     "name": "stderr",
     "output_type": "stream",
     "text": [
      "\r",
      "Training for 192000 iter, 300.00 epochs:   6%| | 11945/192000 [00:33<07:34, 396.22it/s, epoch=18.67/30"
     ]
    },
    {
     "name": "stderr",
     "output_type": "stream",
     "text": [
      "\r",
      "Training for 192000 iter, 300.00 epochs:   6%| | 11985/192000 [00:33<07:37, 393.10it/s, epoch=18.67/30"
     ]
    },
    {
     "name": "stderr",
     "output_type": "stream",
     "text": [
      "\r",
      "Training for 192000 iter, 300.00 epochs:   6%| | 11985/192000 [00:33<07:37, 393.10it/s, epoch=18.75/30"
     ]
    },
    {
     "name": "stderr",
     "output_type": "stream",
     "text": [
      "\r",
      "Training for 192000 iter, 300.00 epochs:   6%| | 12025/192000 [00:33<08:39, 346.39it/s, epoch=18.75/30"
     ]
    },
    {
     "name": "stderr",
     "output_type": "stream",
     "text": [
      "\r",
      "Training for 192000 iter, 300.00 epochs:   6%| | 12025/192000 [00:34<08:39, 346.39it/s, epoch=18.83/30"
     ]
    },
    {
     "name": "stderr",
     "output_type": "stream",
     "text": [
      "\r",
      "Training for 192000 iter, 300.00 epochs:   6%| | 12061/192000 [00:34<08:56, 335.11it/s, epoch=18.83/30"
     ]
    },
    {
     "name": "stderr",
     "output_type": "stream",
     "text": [
      "\r",
      "Training for 192000 iter, 300.00 epochs:   6%| | 12096/192000 [00:34<09:17, 322.71it/s, epoch=18.83/30"
     ]
    },
    {
     "name": "stderr",
     "output_type": "stream",
     "text": [
      "\r",
      "Training for 192000 iter, 300.00 epochs:   6%| | 12096/192000 [00:34<09:17, 322.71it/s, epoch=18.91/30"
     ]
    },
    {
     "name": "stderr",
     "output_type": "stream",
     "text": [
      "\r",
      "Training for 192000 iter, 300.00 epochs:   6%| | 12136/192000 [00:34<08:46, 341.75it/s, epoch=18.91/30"
     ]
    },
    {
     "name": "stderr",
     "output_type": "stream",
     "text": [
      "\r",
      "Training for 192000 iter, 300.00 epochs:   6%| | 12136/192000 [00:34<08:46, 341.75it/s, epoch=18.98/30"
     ]
    },
    {
     "name": "stderr",
     "output_type": "stream",
     "text": [
      "\r",
      "Training for 192000 iter, 300.00 epochs:   6%| | 12171/192000 [00:34<08:57, 334.77it/s, epoch=18.98/30"
     ]
    },
    {
     "name": "stderr",
     "output_type": "stream",
     "text": [
      "\r",
      "Training for 192000 iter, 300.00 epochs:   6%| | 12171/192000 [00:34<08:57, 334.77it/s, epoch=19.06/30"
     ]
    },
    {
     "name": "stderr",
     "output_type": "stream",
     "text": [
      "\r",
      "Training for 192000 iter, 300.00 epochs:   6%| | 12205/192000 [00:34<09:16, 323.15it/s, epoch=19.06/30"
     ]
    },
    {
     "name": "stderr",
     "output_type": "stream",
     "text": [
      "\r",
      "Training for 192000 iter, 300.00 epochs:   6%| | 12242/192000 [00:34<08:59, 333.41it/s, epoch=19.06/30"
     ]
    },
    {
     "name": "stderr",
     "output_type": "stream",
     "text": [
      "\r",
      "Training for 192000 iter, 300.00 epochs:   6%| | 12242/192000 [00:34<08:59, 333.41it/s, epoch=19.14/30"
     ]
    },
    {
     "name": "stderr",
     "output_type": "stream",
     "text": [
      "\r",
      "Training for 192000 iter, 300.00 epochs:   6%| | 12282/192000 [00:34<08:30, 352.07it/s, epoch=19.14/30"
     ]
    },
    {
     "name": "stderr",
     "output_type": "stream",
     "text": [
      "\r",
      "Training for 192000 iter, 300.00 epochs:   6%| | 12282/192000 [00:34<08:30, 352.07it/s, epoch=19.22/30"
     ]
    },
    {
     "name": "stderr",
     "output_type": "stream",
     "text": [
      "\r",
      "Training for 192000 iter, 300.00 epochs:   6%| | 12323/192000 [00:34<08:09, 367.02it/s, epoch=19.22/30"
     ]
    },
    {
     "name": "stderr",
     "output_type": "stream",
     "text": [
      "\r",
      "Training for 192000 iter, 300.00 epochs:   6%| | 12323/192000 [00:34<08:09, 367.02it/s, epoch=19.30/30"
     ]
    },
    {
     "name": "stderr",
     "output_type": "stream",
     "text": [
      "\r",
      "Training for 192000 iter, 300.00 epochs:   6%| | 12364/192000 [00:34<07:55, 377.75it/s, epoch=19.30/30"
     ]
    },
    {
     "name": "stderr",
     "output_type": "stream",
     "text": [
      "\r",
      "Training for 192000 iter, 300.00 epochs:   6%| | 12364/192000 [00:34<07:55, 377.75it/s, epoch=19.38/30"
     ]
    },
    {
     "name": "stderr",
     "output_type": "stream",
     "text": [
      "\r",
      "Training for 192000 iter, 300.00 epochs:   6%| | 12404/192000 [00:35<07:47, 383.78it/s, epoch=19.38/30"
     ]
    },
    {
     "name": "stderr",
     "output_type": "stream",
     "text": [
      "\r",
      "Training for 192000 iter, 300.00 epochs:   6%| | 12443/192000 [00:35<07:53, 379.00it/s, epoch=19.38/30"
     ]
    },
    {
     "name": "stderr",
     "output_type": "stream",
     "text": [
      "\r",
      "Training for 192000 iter, 300.00 epochs:   6%| | 12443/192000 [00:35<07:53, 379.00it/s, epoch=19.45/30"
     ]
    },
    {
     "name": "stderr",
     "output_type": "stream",
     "text": [
      "\r",
      "Training for 192000 iter, 300.00 epochs:   7%| | 12482/192000 [00:35<08:07, 368.33it/s, epoch=19.45/30"
     ]
    },
    {
     "name": "stderr",
     "output_type": "stream",
     "text": [
      "\r",
      "Training for 192000 iter, 300.00 epochs:   7%| | 12482/192000 [00:35<08:07, 368.33it/s, epoch=19.53/30"
     ]
    },
    {
     "name": "stderr",
     "output_type": "stream",
     "text": [
      "\r",
      "Training for 192000 iter, 300.00 epochs:   7%| | 12519/192000 [00:35<08:21, 357.77it/s, epoch=19.53/30"
     ]
    },
    {
     "name": "stderr",
     "output_type": "stream",
     "text": [
      "\r",
      "Training for 192000 iter, 300.00 epochs:   7%| | 12519/192000 [00:35<08:21, 357.77it/s, epoch=19.61/30"
     ]
    },
    {
     "name": "stderr",
     "output_type": "stream",
     "text": [
      "\r",
      "Training for 192000 iter, 300.00 epochs:   7%| | 12555/192000 [00:35<08:22, 357.16it/s, epoch=19.61/30"
     ]
    },
    {
     "name": "stderr",
     "output_type": "stream",
     "text": [
      "\r",
      "Training for 192000 iter, 300.00 epochs:   7%| | 12596/192000 [00:35<08:04, 369.92it/s, epoch=19.61/30"
     ]
    },
    {
     "name": "stderr",
     "output_type": "stream",
     "text": [
      "\r",
      "Training for 192000 iter, 300.00 epochs:   7%| | 12596/192000 [00:35<08:04, 369.92it/s, epoch=19.69/30"
     ]
    },
    {
     "name": "stderr",
     "output_type": "stream",
     "text": [
      "\r",
      "Training for 192000 iter, 300.00 epochs:   7%| | 12637/192000 [00:35<07:51, 380.57it/s, epoch=19.69/30"
     ]
    },
    {
     "name": "stderr",
     "output_type": "stream",
     "text": [
      "\r",
      "Training for 192000 iter, 300.00 epochs:   7%| | 12637/192000 [00:35<07:51, 380.57it/s, epoch=19.77/30"
     ]
    },
    {
     "name": "stderr",
     "output_type": "stream",
     "text": [
      "\r",
      "Training for 192000 iter, 300.00 epochs:   7%| | 12676/192000 [00:35<07:49, 382.10it/s, epoch=19.77/30"
     ]
    },
    {
     "name": "stderr",
     "output_type": "stream",
     "text": [
      "\r",
      "Training for 192000 iter, 300.00 epochs:   7%| | 12676/192000 [00:35<07:49, 382.10it/s, epoch=19.84/30"
     ]
    },
    {
     "name": "stderr",
     "output_type": "stream",
     "text": [
      "\r",
      "Training for 192000 iter, 300.00 epochs:   7%| | 12715/192000 [00:35<07:51, 380.06it/s, epoch=19.84/30"
     ]
    },
    {
     "name": "stderr",
     "output_type": "stream",
     "text": [
      "\r",
      "Training for 192000 iter, 300.00 epochs:   7%| | 12715/192000 [00:35<07:51, 380.06it/s, epoch=19.92/30"
     ]
    },
    {
     "name": "stderr",
     "output_type": "stream",
     "text": [
      "\r",
      "Training for 192000 iter, 300.00 epochs:   7%| | 12756/192000 [00:35<07:43, 386.52it/s, epoch=19.92/30"
     ]
    },
    {
     "name": "stderr",
     "output_type": "stream",
     "text": [
      "\r",
      "Training for 192000 iter, 300.00 epochs:   7%| | 12798/192000 [00:36<07:35, 393.75it/s, epoch=19.92/30"
     ]
    },
    {
     "name": "stderr",
     "output_type": "stream",
     "text": [
      "\r",
      "Training for 192000 iter, 300.00 epochs:   7%| | 12798/192000 [00:36<07:35, 393.75it/s, epoch=20.00/30"
     ]
    },
    {
     "name": "stderr",
     "output_type": "stream",
     "text": [
      "\r",
      "Training for 192000 iter, 300.00 epochs:   7%| | 12838/192000 [00:36<08:19, 358.83it/s, epoch=20.00/30"
     ]
    },
    {
     "name": "stderr",
     "output_type": "stream",
     "text": [
      "\r",
      "Training for 192000 iter, 300.00 epochs:   7%| | 12838/192000 [00:36<08:19, 358.83it/s, epoch=20.08/30"
     ]
    },
    {
     "name": "stderr",
     "output_type": "stream",
     "text": [
      "\r",
      "Training for 192000 iter, 300.00 epochs:   7%| | 12875/192000 [00:36<08:24, 355.08it/s, epoch=20.08/30"
     ]
    },
    {
     "name": "stderr",
     "output_type": "stream",
     "text": [
      "\r",
      "Training for 192000 iter, 300.00 epochs:   7%| | 12875/192000 [00:36<08:24, 355.08it/s, epoch=20.16/30"
     ]
    },
    {
     "name": "stderr",
     "output_type": "stream",
     "text": [
      "\r",
      "Training for 192000 iter, 300.00 epochs:   7%| | 12915/192000 [00:36<08:07, 367.13it/s, epoch=20.16/30"
     ]
    },
    {
     "name": "stderr",
     "output_type": "stream",
     "text": [
      "\r",
      "Training for 192000 iter, 300.00 epochs:   7%| | 12915/192000 [00:36<08:07, 367.13it/s, epoch=20.23/30"
     ]
    },
    {
     "name": "stderr",
     "output_type": "stream",
     "text": [
      "\r",
      "Training for 192000 iter, 300.00 epochs:   7%| | 12956/192000 [00:36<07:53, 378.29it/s, epoch=20.23/30"
     ]
    },
    {
     "name": "stderr",
     "output_type": "stream",
     "text": [
      "\r",
      "Training for 192000 iter, 300.00 epochs:   7%| | 12995/192000 [00:36<07:51, 379.79it/s, epoch=20.23/30"
     ]
    },
    {
     "name": "stderr",
     "output_type": "stream",
     "text": [
      "\r",
      "Training for 192000 iter, 300.00 epochs:   7%| | 12995/192000 [00:36<07:51, 379.79it/s, epoch=20.31/30"
     ]
    },
    {
     "name": "stderr",
     "output_type": "stream",
     "text": [
      "\r",
      "Training for 192000 iter, 300.00 epochs:   7%| | 13034/192000 [00:36<07:48, 381.76it/s, epoch=20.31/30"
     ]
    },
    {
     "name": "stderr",
     "output_type": "stream",
     "text": [
      "\r",
      "Training for 192000 iter, 300.00 epochs:   7%| | 13034/192000 [00:36<07:48, 381.76it/s, epoch=20.39/30"
     ]
    },
    {
     "name": "stderr",
     "output_type": "stream",
     "text": [
      "\r",
      "Training for 192000 iter, 300.00 epochs:   7%| | 13075/192000 [00:36<07:40, 388.66it/s, epoch=20.39/30"
     ]
    },
    {
     "name": "stderr",
     "output_type": "stream",
     "text": [
      "\r",
      "Training for 192000 iter, 300.00 epochs:   7%| | 13075/192000 [00:36<07:40, 388.66it/s, epoch=20.47/30"
     ]
    },
    {
     "name": "stderr",
     "output_type": "stream",
     "text": [
      "\r",
      "Training for 192000 iter, 300.00 epochs:   7%| | 13115/192000 [00:36<07:37, 390.94it/s, epoch=20.47/30"
     ]
    },
    {
     "name": "stderr",
     "output_type": "stream",
     "text": [
      "\r",
      "Training for 192000 iter, 300.00 epochs:   7%| | 13115/192000 [00:36<07:37, 390.94it/s, epoch=20.55/30"
     ]
    },
    {
     "name": "stderr",
     "output_type": "stream",
     "text": [
      "\r",
      "Training for 192000 iter, 300.00 epochs:   7%| | 13155/192000 [00:37<07:48, 381.43it/s, epoch=20.55/30"
     ]
    },
    {
     "name": "stderr",
     "output_type": "stream",
     "text": [
      "\r",
      "Training for 192000 iter, 300.00 epochs:   7%| | 13194/192000 [00:37<07:54, 376.86it/s, epoch=20.55/30"
     ]
    },
    {
     "name": "stderr",
     "output_type": "stream",
     "text": [
      "\r",
      "Training for 192000 iter, 300.00 epochs:   7%| | 13194/192000 [00:37<07:54, 376.86it/s, epoch=20.62/30"
     ]
    },
    {
     "name": "stderr",
     "output_type": "stream",
     "text": [
      "\r",
      "Training for 192000 iter, 300.00 epochs:   7%| | 13232/192000 [00:37<07:54, 376.92it/s, epoch=20.62/30"
     ]
    },
    {
     "name": "stderr",
     "output_type": "stream",
     "text": [
      "\r",
      "Training for 192000 iter, 300.00 epochs:   7%| | 13232/192000 [00:37<07:54, 376.92it/s, epoch=20.70/30"
     ]
    },
    {
     "name": "stderr",
     "output_type": "stream",
     "text": [
      "\r",
      "Training for 192000 iter, 300.00 epochs:   7%| | 13270/192000 [00:37<07:59, 373.04it/s, epoch=20.70/30"
     ]
    },
    {
     "name": "stderr",
     "output_type": "stream",
     "text": [
      "\r",
      "Training for 192000 iter, 300.00 epochs:   7%| | 13270/192000 [00:37<07:59, 373.04it/s, epoch=20.78/30"
     ]
    },
    {
     "name": "stderr",
     "output_type": "stream",
     "text": [
      "\r",
      "Training for 192000 iter, 300.00 epochs:   7%| | 13308/192000 [00:37<08:40, 343.09it/s, epoch=20.78/30"
     ]
    },
    {
     "name": "stderr",
     "output_type": "stream",
     "text": [
      "\r",
      "Training for 192000 iter, 300.00 epochs:   7%| | 13343/192000 [00:37<08:43, 341.31it/s, epoch=20.78/30"
     ]
    },
    {
     "name": "stderr",
     "output_type": "stream",
     "text": [
      "\r",
      "Training for 192000 iter, 300.00 epochs:   7%| | 13343/192000 [00:37<08:43, 341.31it/s, epoch=20.86/30"
     ]
    },
    {
     "name": "stderr",
     "output_type": "stream",
     "text": [
      "\r",
      "Training for 192000 iter, 300.00 epochs:   7%| | 13384/192000 [00:37<08:17, 358.81it/s, epoch=20.86/30"
     ]
    },
    {
     "name": "stderr",
     "output_type": "stream",
     "text": [
      "\r",
      "Training for 192000 iter, 300.00 epochs:   7%| | 13384/192000 [00:37<08:17, 358.81it/s, epoch=20.94/30"
     ]
    },
    {
     "name": "stderr",
     "output_type": "stream",
     "text": [
      "\r",
      "Training for 192000 iter, 300.00 epochs:   7%| | 13423/192000 [00:37<08:06, 367.16it/s, epoch=20.94/30"
     ]
    },
    {
     "name": "stderr",
     "output_type": "stream",
     "text": [
      "\r",
      "Training for 192000 iter, 300.00 epochs:   7%| | 13423/192000 [00:37<08:06, 367.16it/s, epoch=21.02/30"
     ]
    },
    {
     "name": "stderr",
     "output_type": "stream",
     "text": [
      "\r",
      "Training for 192000 iter, 300.00 epochs:   7%| | 13460/192000 [00:37<08:11, 363.04it/s, epoch=21.02/30"
     ]
    },
    {
     "name": "stderr",
     "output_type": "stream",
     "text": [
      "\r",
      "Training for 192000 iter, 300.00 epochs:   7%| | 13497/192000 [00:37<08:26, 352.14it/s, epoch=21.02/30"
     ]
    },
    {
     "name": "stderr",
     "output_type": "stream",
     "text": [
      "\r",
      "Training for 192000 iter, 300.00 epochs:   7%| | 13497/192000 [00:37<08:26, 352.14it/s, epoch=21.09/30"
     ]
    },
    {
     "name": "stderr",
     "output_type": "stream",
     "text": [
      "\r",
      "Training for 192000 iter, 300.00 epochs:   7%| | 13533/192000 [00:38<08:55, 333.10it/s, epoch=21.09/30"
     ]
    },
    {
     "name": "stderr",
     "output_type": "stream",
     "text": [
      "\r",
      "Training for 192000 iter, 300.00 epochs:   7%| | 13533/192000 [00:38<08:55, 333.10it/s, epoch=21.17/30"
     ]
    },
    {
     "name": "stderr",
     "output_type": "stream",
     "text": [
      "\r",
      "Training for 192000 iter, 300.00 epochs:   7%| | 13573/192000 [00:38<08:30, 349.68it/s, epoch=21.17/30"
     ]
    },
    {
     "name": "stderr",
     "output_type": "stream",
     "text": [
      "\r",
      "Training for 192000 iter, 300.00 epochs:   7%| | 13573/192000 [00:38<08:30, 349.68it/s, epoch=21.25/30"
     ]
    },
    {
     "name": "stderr",
     "output_type": "stream",
     "text": [
      "\r",
      "Training for 192000 iter, 300.00 epochs:   7%| | 13612/192000 [00:38<08:14, 360.47it/s, epoch=21.25/30"
     ]
    },
    {
     "name": "stderr",
     "output_type": "stream",
     "text": [
      "\r",
      "Training for 192000 iter, 300.00 epochs:   7%| | 13612/192000 [00:38<08:14, 360.47it/s, epoch=21.33/30"
     ]
    },
    {
     "name": "stderr",
     "output_type": "stream",
     "text": [
      "\r",
      "Training for 192000 iter, 300.00 epochs:   7%| | 13650/192000 [00:38<08:07, 365.48it/s, epoch=21.33/30"
     ]
    },
    {
     "name": "stderr",
     "output_type": "stream",
     "text": [
      "\r",
      "Training for 192000 iter, 300.00 epochs:   7%| | 13687/192000 [00:38<08:12, 362.42it/s, epoch=21.33/30"
     ]
    },
    {
     "name": "stderr",
     "output_type": "stream",
     "text": [
      "\r",
      "Training for 192000 iter, 300.00 epochs:   7%| | 13687/192000 [00:38<08:12, 362.42it/s, epoch=21.41/30"
     ]
    },
    {
     "name": "stderr",
     "output_type": "stream",
     "text": [
      "\r",
      "Training for 192000 iter, 300.00 epochs:   7%| | 13728/192000 [00:38<07:56, 373.78it/s, epoch=21.41/30"
     ]
    },
    {
     "name": "stderr",
     "output_type": "stream",
     "text": [
      "\r",
      "Training for 192000 iter, 300.00 epochs:   7%| | 13728/192000 [00:38<07:56, 373.78it/s, epoch=21.48/30"
     ]
    },
    {
     "name": "stderr",
     "output_type": "stream",
     "text": [
      "\r",
      "Training for 192000 iter, 300.00 epochs:   7%| | 13766/192000 [00:38<07:57, 373.20it/s, epoch=21.48/30"
     ]
    },
    {
     "name": "stderr",
     "output_type": "stream",
     "text": [
      "\r",
      "Training for 192000 iter, 300.00 epochs:   7%| | 13766/192000 [00:38<07:57, 373.20it/s, epoch=21.56/30"
     ]
    },
    {
     "name": "stderr",
     "output_type": "stream",
     "text": [
      "\r",
      "Training for 192000 iter, 300.00 epochs:   7%| | 13807/192000 [00:38<07:46, 381.91it/s, epoch=21.56/30"
     ]
    },
    {
     "name": "stderr",
     "output_type": "stream",
     "text": [
      "\r",
      "Training for 192000 iter, 300.00 epochs:   7%| | 13846/192000 [00:38<07:45, 382.74it/s, epoch=21.56/30"
     ]
    },
    {
     "name": "stderr",
     "output_type": "stream",
     "text": [
      "\r",
      "Training for 192000 iter, 300.00 epochs:   7%| | 13846/192000 [00:38<07:45, 382.74it/s, epoch=21.64/30"
     ]
    },
    {
     "name": "stderr",
     "output_type": "stream",
     "text": [
      "\r",
      "Training for 192000 iter, 300.00 epochs:   7%| | 13885/192000 [00:39<07:43, 383.96it/s, epoch=21.64/30"
     ]
    },
    {
     "name": "stderr",
     "output_type": "stream",
     "text": [
      "\r",
      "Training for 192000 iter, 300.00 epochs:   7%| | 13885/192000 [00:39<07:43, 383.96it/s, epoch=21.72/30"
     ]
    },
    {
     "name": "stderr",
     "output_type": "stream",
     "text": [
      "\r",
      "Training for 192000 iter, 300.00 epochs:   7%| | 13925/192000 [00:39<07:39, 387.84it/s, epoch=21.72/30"
     ]
    },
    {
     "name": "stderr",
     "output_type": "stream",
     "text": [
      "\r",
      "Training for 192000 iter, 300.00 epochs:   7%| | 13925/192000 [00:39<07:39, 387.84it/s, epoch=21.80/30"
     ]
    },
    {
     "name": "stderr",
     "output_type": "stream",
     "text": [
      "\r",
      "Training for 192000 iter, 300.00 epochs:   7%| | 13964/192000 [00:39<07:42, 384.99it/s, epoch=21.80/30"
     ]
    },
    {
     "name": "stderr",
     "output_type": "stream",
     "text": [
      "\r",
      "Training for 192000 iter, 300.00 epochs:   7%| | 13964/192000 [00:39<07:42, 384.99it/s, epoch=21.88/30"
     ]
    },
    {
     "name": "stderr",
     "output_type": "stream",
     "text": [
      "\r",
      "Training for 192000 iter, 300.00 epochs:   7%| | 14003/192000 [00:39<07:42, 385.27it/s, epoch=21.88/30"
     ]
    },
    {
     "name": "stderr",
     "output_type": "stream",
     "text": [
      "\r",
      "Training for 192000 iter, 300.00 epochs:   7%| | 14044/192000 [00:39<07:35, 390.36it/s, epoch=21.88/30"
     ]
    },
    {
     "name": "stderr",
     "output_type": "stream",
     "text": [
      "\r",
      "Training for 192000 iter, 300.00 epochs:   7%| | 14044/192000 [00:39<07:35, 390.36it/s, epoch=21.95/30"
     ]
    },
    {
     "name": "stderr",
     "output_type": "stream",
     "text": [
      "\r",
      "Training for 192000 iter, 300.00 epochs:   7%| | 14084/192000 [00:39<07:55, 373.79it/s, epoch=21.95/30"
     ]
    },
    {
     "name": "stderr",
     "output_type": "stream",
     "text": [
      "\r",
      "Training for 192000 iter, 300.00 epochs:   7%| | 14084/192000 [00:39<07:55, 373.79it/s, epoch=22.03/30"
     ]
    },
    {
     "name": "stderr",
     "output_type": "stream",
     "text": [
      "\r",
      "Training for 192000 iter, 300.00 epochs:   7%| | 14125/192000 [00:39<07:43, 383.47it/s, epoch=22.03/30"
     ]
    },
    {
     "name": "stderr",
     "output_type": "stream",
     "text": [
      "\r",
      "Training for 192000 iter, 300.00 epochs:   7%| | 14125/192000 [00:39<07:43, 383.47it/s, epoch=22.11/30"
     ]
    },
    {
     "name": "stderr",
     "output_type": "stream",
     "text": [
      "\r",
      "Training for 192000 iter, 300.00 epochs:   7%| | 14166/192000 [00:39<07:35, 390.38it/s, epoch=22.11/30"
     ]
    },
    {
     "name": "stderr",
     "output_type": "stream",
     "text": [
      "\r",
      "Training for 192000 iter, 300.00 epochs:   7%| | 14166/192000 [00:39<07:35, 390.38it/s, epoch=22.19/30"
     ]
    },
    {
     "name": "stderr",
     "output_type": "stream",
     "text": [
      "\r",
      "Training for 192000 iter, 300.00 epochs:   7%| | 14207/192000 [00:39<07:31, 394.09it/s, epoch=22.19/30"
     ]
    },
    {
     "name": "stderr",
     "output_type": "stream",
     "text": [
      "\r",
      "Training for 192000 iter, 300.00 epochs:   7%| | 14247/192000 [00:39<07:30, 394.32it/s, epoch=22.19/30"
     ]
    },
    {
     "name": "stderr",
     "output_type": "stream",
     "text": [
      "\r",
      "Training for 192000 iter, 300.00 epochs:   7%| | 14247/192000 [00:39<07:30, 394.32it/s, epoch=22.27/30"
     ]
    },
    {
     "name": "stderr",
     "output_type": "stream",
     "text": [
      "\r",
      "Training for 192000 iter, 300.00 epochs:   7%| | 14288/192000 [00:40<07:26, 398.38it/s, epoch=22.27/30"
     ]
    },
    {
     "name": "stderr",
     "output_type": "stream",
     "text": [
      "\r",
      "Training for 192000 iter, 300.00 epochs:   7%| | 14288/192000 [00:40<07:26, 398.38it/s, epoch=22.34/30"
     ]
    },
    {
     "name": "stderr",
     "output_type": "stream",
     "text": [
      "\r",
      "Training for 192000 iter, 300.00 epochs:   7%| | 14328/192000 [00:40<07:46, 380.60it/s, epoch=22.34/30"
     ]
    },
    {
     "name": "stderr",
     "output_type": "stream",
     "text": [
      "\r",
      "Training for 192000 iter, 300.00 epochs:   7%| | 14328/192000 [00:40<07:46, 380.60it/s, epoch=22.42/30"
     ]
    },
    {
     "name": "stderr",
     "output_type": "stream",
     "text": [
      "\r",
      "Training for 192000 iter, 300.00 epochs:   7%| | 14367/192000 [00:40<08:11, 361.68it/s, epoch=22.42/30"
     ]
    },
    {
     "name": "stderr",
     "output_type": "stream",
     "text": [
      "\r",
      "Training for 192000 iter, 300.00 epochs:   7%| | 14367/192000 [00:40<08:11, 361.68it/s, epoch=22.50/30"
     ]
    },
    {
     "name": "stderr",
     "output_type": "stream",
     "text": [
      "\r",
      "Training for 192000 iter, 300.00 epochs:   8%| | 14406/192000 [00:40<08:03, 367.42it/s, epoch=22.50/30"
     ]
    },
    {
     "name": "stderr",
     "output_type": "stream",
     "text": [
      "\r",
      "Training for 192000 iter, 300.00 epochs:   8%| | 14443/192000 [00:40<08:47, 336.59it/s, epoch=22.50/30"
     ]
    },
    {
     "name": "stderr",
     "output_type": "stream",
     "text": [
      "\r",
      "Training for 192000 iter, 300.00 epochs:   8%| | 14443/192000 [00:40<08:47, 336.59it/s, epoch=22.58/30"
     ]
    },
    {
     "name": "stderr",
     "output_type": "stream",
     "text": [
      "\r",
      "Training for 192000 iter, 300.00 epochs:   8%| | 14481/192000 [00:40<08:31, 347.00it/s, epoch=22.58/30"
     ]
    },
    {
     "name": "stderr",
     "output_type": "stream",
     "text": [
      "\r",
      "Training for 192000 iter, 300.00 epochs:   8%| | 14481/192000 [00:40<08:31, 347.00it/s, epoch=22.66/30"
     ]
    },
    {
     "name": "stderr",
     "output_type": "stream",
     "text": [
      "\r",
      "Training for 192000 iter, 300.00 epochs:   8%| | 14520/192000 [00:40<08:18, 356.33it/s, epoch=22.66/30"
     ]
    },
    {
     "name": "stderr",
     "output_type": "stream",
     "text": [
      "\r",
      "Training for 192000 iter, 300.00 epochs:   8%| | 14520/192000 [00:40<08:18, 356.33it/s, epoch=22.73/30"
     ]
    },
    {
     "name": "stderr",
     "output_type": "stream",
     "text": [
      "\r",
      "Training for 192000 iter, 300.00 epochs:   8%| | 14558/192000 [00:40<08:10, 361.53it/s, epoch=22.73/30"
     ]
    },
    {
     "name": "stderr",
     "output_type": "stream",
     "text": [
      "\r",
      "Training for 192000 iter, 300.00 epochs:   8%| | 14595/192000 [00:40<08:14, 358.58it/s, epoch=22.73/30"
     ]
    },
    {
     "name": "stderr",
     "output_type": "stream",
     "text": [
      "\r",
      "Training for 192000 iter, 300.00 epochs:   8%| | 14595/192000 [00:40<08:14, 358.58it/s, epoch=22.81/30"
     ]
    },
    {
     "name": "stderr",
     "output_type": "stream",
     "text": [
      "\r",
      "Training for 192000 iter, 300.00 epochs:   8%| | 14635/192000 [00:41<08:00, 369.06it/s, epoch=22.81/30"
     ]
    },
    {
     "name": "stderr",
     "output_type": "stream",
     "text": [
      "\r",
      "Training for 192000 iter, 300.00 epochs:   8%| | 14635/192000 [00:41<08:00, 369.06it/s, epoch=22.89/30"
     ]
    },
    {
     "name": "stderr",
     "output_type": "stream",
     "text": [
      "\r",
      "Training for 192000 iter, 300.00 epochs:   8%| | 14673/192000 [00:41<08:26, 350.26it/s, epoch=22.89/30"
     ]
    },
    {
     "name": "stderr",
     "output_type": "stream",
     "text": [
      "\r",
      "Training for 192000 iter, 300.00 epochs:   8%| | 14673/192000 [00:41<08:26, 350.26it/s, epoch=22.97/30"
     ]
    },
    {
     "name": "stderr",
     "output_type": "stream",
     "text": [
      "\r",
      "Training for 192000 iter, 300.00 epochs:   8%| | 14709/192000 [00:41<08:28, 348.47it/s, epoch=22.97/30"
     ]
    },
    {
     "name": "stderr",
     "output_type": "stream",
     "text": [
      "\r",
      "Training for 192000 iter, 300.00 epochs:   8%| | 14745/192000 [00:41<08:27, 349.62it/s, epoch=22.97/30"
     ]
    },
    {
     "name": "stderr",
     "output_type": "stream",
     "text": [
      "\r",
      "Training for 192000 iter, 300.00 epochs:   8%| | 14745/192000 [00:41<08:27, 349.62it/s, epoch=23.05/30"
     ]
    },
    {
     "name": "stderr",
     "output_type": "stream",
     "text": [
      "\r",
      "Training for 192000 iter, 300.00 epochs:   8%| | 14785/192000 [00:41<08:07, 363.57it/s, epoch=23.05/30"
     ]
    },
    {
     "name": "stderr",
     "output_type": "stream",
     "text": [
      "\r",
      "Training for 192000 iter, 300.00 epochs:   8%| | 14785/192000 [00:41<08:07, 363.57it/s, epoch=23.12/30"
     ]
    },
    {
     "name": "stderr",
     "output_type": "stream",
     "text": [
      "\r",
      "Training for 192000 iter, 300.00 epochs:   8%| | 14826/192000 [00:41<07:50, 376.36it/s, epoch=23.12/30"
     ]
    },
    {
     "name": "stderr",
     "output_type": "stream",
     "text": [
      "\r",
      "Training for 192000 iter, 300.00 epochs:   8%| | 14826/192000 [00:41<07:50, 376.36it/s, epoch=23.20/30"
     ]
    },
    {
     "name": "stderr",
     "output_type": "stream",
     "text": [
      "\r",
      "Training for 192000 iter, 300.00 epochs:   8%| | 14867/192000 [00:41<07:40, 384.69it/s, epoch=23.20/30"
     ]
    },
    {
     "name": "stderr",
     "output_type": "stream",
     "text": [
      "\r",
      "Training for 192000 iter, 300.00 epochs:   8%| | 14867/192000 [00:41<07:40, 384.69it/s, epoch=23.28/30"
     ]
    },
    {
     "name": "stderr",
     "output_type": "stream",
     "text": [
      "\r",
      "Training for 192000 iter, 300.00 epochs:   8%| | 14908/192000 [00:41<07:32, 391.46it/s, epoch=23.28/30"
     ]
    },
    {
     "name": "stderr",
     "output_type": "stream",
     "text": [
      "\r",
      "Training for 192000 iter, 300.00 epochs:   8%| | 14949/192000 [00:41<07:26, 396.58it/s, epoch=23.28/30"
     ]
    },
    {
     "name": "stderr",
     "output_type": "stream",
     "text": [
      "\r",
      "Training for 192000 iter, 300.00 epochs:   8%| | 14949/192000 [00:41<07:26, 396.58it/s, epoch=23.36/30"
     ]
    },
    {
     "name": "stderr",
     "output_type": "stream",
     "text": [
      "\r",
      "Training for 192000 iter, 300.00 epochs:   8%| | 14990/192000 [00:41<07:25, 397.74it/s, epoch=23.36/30"
     ]
    },
    {
     "name": "stderr",
     "output_type": "stream",
     "text": [
      "\r",
      "Training for 192000 iter, 300.00 epochs:   8%| | 14990/192000 [00:41<07:25, 397.74it/s, epoch=23.44/30"
     ]
    },
    {
     "name": "stderr",
     "output_type": "stream",
     "text": [
      "\r",
      "Training for 192000 iter, 300.00 epochs:   8%| | 15030/192000 [00:42<07:31, 391.86it/s, epoch=23.44/30"
     ]
    },
    {
     "name": "stderr",
     "output_type": "stream",
     "text": [
      "\r",
      "Training for 192000 iter, 300.00 epochs:   8%| | 15030/192000 [00:42<07:31, 391.86it/s, epoch=23.52/30"
     ]
    },
    {
     "name": "stderr",
     "output_type": "stream",
     "text": [
      "\r",
      "Training for 192000 iter, 300.00 epochs:   8%| | 15070/192000 [00:42<07:29, 393.67it/s, epoch=23.52/30"
     ]
    },
    {
     "name": "stderr",
     "output_type": "stream",
     "text": [
      "\r",
      "Training for 192000 iter, 300.00 epochs:   8%| | 15070/192000 [00:42<07:29, 393.67it/s, epoch=23.59/30"
     ]
    },
    {
     "name": "stderr",
     "output_type": "stream",
     "text": [
      "\r",
      "Training for 192000 iter, 300.00 epochs:   8%| | 15111/192000 [00:42<07:24, 397.83it/s, epoch=23.59/30"
     ]
    },
    {
     "name": "stderr",
     "output_type": "stream",
     "text": [
      "\r",
      "Training for 192000 iter, 300.00 epochs:   8%| | 15111/192000 [00:42<07:24, 397.83it/s, epoch=23.67/30"
     ]
    },
    {
     "name": "stderr",
     "output_type": "stream",
     "text": [
      "\r",
      "Training for 192000 iter, 300.00 epochs:   8%| | 15152/192000 [00:42<07:21, 400.90it/s, epoch=23.67/30"
     ]
    },
    {
     "name": "stderr",
     "output_type": "stream",
     "text": [
      "\r",
      "Training for 192000 iter, 300.00 epochs:   8%| | 15194/192000 [00:42<07:17, 403.74it/s, epoch=23.67/30"
     ]
    },
    {
     "name": "stderr",
     "output_type": "stream",
     "text": [
      "\r",
      "Training for 192000 iter, 300.00 epochs:   8%| | 15194/192000 [00:42<07:17, 403.74it/s, epoch=23.75/30"
     ]
    },
    {
     "name": "stderr",
     "output_type": "stream",
     "text": [
      "\r",
      "Training for 192000 iter, 300.00 epochs:   8%| | 15235/192000 [00:42<07:15, 405.46it/s, epoch=23.75/30"
     ]
    },
    {
     "name": "stderr",
     "output_type": "stream",
     "text": [
      "\r",
      "Training for 192000 iter, 300.00 epochs:   8%| | 15235/192000 [00:42<07:15, 405.46it/s, epoch=23.83/30"
     ]
    },
    {
     "name": "stderr",
     "output_type": "stream",
     "text": [
      "\r",
      "Training for 192000 iter, 300.00 epochs:   8%| | 15276/192000 [00:42<07:14, 406.77it/s, epoch=23.83/30"
     ]
    },
    {
     "name": "stderr",
     "output_type": "stream",
     "text": [
      "\r",
      "Training for 192000 iter, 300.00 epochs:   8%| | 15276/192000 [00:42<07:14, 406.77it/s, epoch=23.91/30"
     ]
    },
    {
     "name": "stderr",
     "output_type": "stream",
     "text": [
      "\r",
      "Training for 192000 iter, 300.00 epochs:   8%| | 15317/192000 [00:42<07:13, 407.32it/s, epoch=23.91/30"
     ]
    },
    {
     "name": "stderr",
     "output_type": "stream",
     "text": [
      "\r",
      "Training for 192000 iter, 300.00 epochs:   8%| | 15317/192000 [00:42<07:13, 407.32it/s, epoch=23.98/30"
     ]
    },
    {
     "name": "stderr",
     "output_type": "stream",
     "text": [
      "\r",
      "Training for 192000 iter, 300.00 epochs:   8%| | 15358/192000 [00:42<07:19, 401.88it/s, epoch=23.98/30"
     ]
    },
    {
     "name": "stderr",
     "output_type": "stream",
     "text": [
      "\r",
      "Training for 192000 iter, 300.00 epochs:   8%| | 15399/192000 [00:42<07:49, 376.14it/s, epoch=23.98/30"
     ]
    },
    {
     "name": "stderr",
     "output_type": "stream",
     "text": [
      "\r",
      "Training for 192000 iter, 300.00 epochs:   8%| | 15399/192000 [00:43<07:49, 376.14it/s, epoch=24.06/30"
     ]
    },
    {
     "name": "stderr",
     "output_type": "stream",
     "text": [
      "\r",
      "Training for 192000 iter, 300.00 epochs:   8%| | 15439/192000 [00:43<07:41, 382.26it/s, epoch=24.06/30"
     ]
    },
    {
     "name": "stderr",
     "output_type": "stream",
     "text": [
      "\r",
      "Training for 192000 iter, 300.00 epochs:   8%| | 15439/192000 [00:43<07:41, 382.26it/s, epoch=24.14/30"
     ]
    },
    {
     "name": "stderr",
     "output_type": "stream",
     "text": [
      "\r",
      "Training for 192000 iter, 300.00 epochs:   8%| | 15478/192000 [00:43<07:41, 382.20it/s, epoch=24.14/30"
     ]
    },
    {
     "name": "stderr",
     "output_type": "stream",
     "text": [
      "\r",
      "Training for 192000 iter, 300.00 epochs:   8%| | 15478/192000 [00:43<07:41, 382.20it/s, epoch=24.22/30"
     ]
    },
    {
     "name": "stderr",
     "output_type": "stream",
     "text": [
      "\r",
      "Training for 192000 iter, 300.00 epochs:   8%| | 15518/192000 [00:43<07:35, 387.15it/s, epoch=24.22/30"
     ]
    },
    {
     "name": "stderr",
     "output_type": "stream",
     "text": [
      "\r",
      "Training for 192000 iter, 300.00 epochs:   8%| | 15518/192000 [00:43<07:35, 387.15it/s, epoch=24.30/30"
     ]
    },
    {
     "name": "stderr",
     "output_type": "stream",
     "text": [
      "\r",
      "Training for 192000 iter, 300.00 epochs:   8%| | 15558/192000 [00:43<07:33, 389.47it/s, epoch=24.30/30"
     ]
    },
    {
     "name": "stderr",
     "output_type": "stream",
     "text": [
      "\r",
      "Training for 192000 iter, 300.00 epochs:   8%| | 15598/192000 [00:43<07:29, 392.20it/s, epoch=24.30/30"
     ]
    },
    {
     "name": "stderr",
     "output_type": "stream",
     "text": [
      "\r",
      "Training for 192000 iter, 300.00 epochs:   8%| | 15598/192000 [00:43<07:29, 392.20it/s, epoch=24.38/30"
     ]
    },
    {
     "name": "stderr",
     "output_type": "stream",
     "text": [
      "\r",
      "Training for 192000 iter, 300.00 epochs:   8%| | 15639/192000 [00:43<07:26, 394.90it/s, epoch=24.38/30"
     ]
    },
    {
     "name": "stderr",
     "output_type": "stream",
     "text": [
      "\r",
      "Training for 192000 iter, 300.00 epochs:   8%| | 15639/192000 [00:43<07:26, 394.90it/s, epoch=24.45/30"
     ]
    },
    {
     "name": "stderr",
     "output_type": "stream",
     "text": [
      "\r",
      "Training for 192000 iter, 300.00 epochs:   8%| | 15680/192000 [00:43<07:24, 396.59it/s, epoch=24.45/30"
     ]
    },
    {
     "name": "stderr",
     "output_type": "stream",
     "text": [
      "\r",
      "Training for 192000 iter, 300.00 epochs:   8%| | 15680/192000 [00:43<07:24, 396.59it/s, epoch=24.53/30"
     ]
    },
    {
     "name": "stderr",
     "output_type": "stream",
     "text": [
      "\r",
      "Training for 192000 iter, 300.00 epochs:   8%| | 15720/192000 [00:43<07:24, 396.93it/s, epoch=24.53/30"
     ]
    },
    {
     "name": "stderr",
     "output_type": "stream",
     "text": [
      "\r",
      "Training for 192000 iter, 300.00 epochs:   8%| | 15720/192000 [00:43<07:24, 396.93it/s, epoch=24.61/30"
     ]
    },
    {
     "name": "stderr",
     "output_type": "stream",
     "text": [
      "\r",
      "Training for 192000 iter, 300.00 epochs:   8%| | 15760/192000 [00:43<07:24, 396.57it/s, epoch=24.61/30"
     ]
    },
    {
     "name": "stderr",
     "output_type": "stream",
     "text": [
      "\r",
      "Training for 192000 iter, 300.00 epochs:   8%| | 15760/192000 [00:44<07:24, 396.57it/s, epoch=24.69/30"
     ]
    },
    {
     "name": "stderr",
     "output_type": "stream",
     "text": [
      "\r",
      "Training for 192000 iter, 300.00 epochs:   8%| | 15801/192000 [00:44<07:20, 400.06it/s, epoch=24.69/30"
     ]
    },
    {
     "name": "stderr",
     "output_type": "stream",
     "text": [
      "\r",
      "Training for 192000 iter, 300.00 epochs:   8%| | 15843/192000 [00:44<07:16, 403.15it/s, epoch=24.69/30"
     ]
    },
    {
     "name": "stderr",
     "output_type": "stream",
     "text": [
      "\r",
      "Training for 192000 iter, 300.00 epochs:   8%| | 15843/192000 [00:44<07:16, 403.15it/s, epoch=24.77/30"
     ]
    },
    {
     "name": "stderr",
     "output_type": "stream",
     "text": [
      "\r",
      "Training for 192000 iter, 300.00 epochs:   8%| | 15884/192000 [00:44<07:18, 401.71it/s, epoch=24.77/30"
     ]
    },
    {
     "name": "stderr",
     "output_type": "stream",
     "text": [
      "\r",
      "Training for 192000 iter, 300.00 epochs:   8%| | 15884/192000 [00:44<07:18, 401.71it/s, epoch=24.84/30"
     ]
    },
    {
     "name": "stderr",
     "output_type": "stream",
     "text": [
      "\r",
      "Training for 192000 iter, 300.00 epochs:   8%| | 15925/192000 [00:44<07:17, 402.56it/s, epoch=24.84/30"
     ]
    },
    {
     "name": "stderr",
     "output_type": "stream",
     "text": [
      "\r",
      "Training for 192000 iter, 300.00 epochs:   8%| | 15925/192000 [00:44<07:17, 402.56it/s, epoch=24.92/30"
     ]
    },
    {
     "name": "stderr",
     "output_type": "stream",
     "text": [
      "\r",
      "Training for 192000 iter, 300.00 epochs:   8%| | 15966/192000 [00:44<07:31, 389.71it/s, epoch=24.92/30"
     ]
    },
    {
     "name": "stderr",
     "output_type": "stream",
     "text": [
      "\r",
      "Training for 192000 iter, 300.00 epochs:   8%| | 15966/192000 [00:44<07:31, 389.71it/s, epoch=25.00/30"
     ]
    },
    {
     "name": "stderr",
     "output_type": "stream",
     "text": [
      "\r",
      "Training for 192000 iter, 300.00 epochs:   8%| | 16006/192000 [00:44<07:59, 367.37it/s, epoch=25.00/30"
     ]
    },
    {
     "name": "stderr",
     "output_type": "stream",
     "text": [
      "\r",
      "Training for 192000 iter, 300.00 epochs:   8%| | 16044/192000 [00:44<08:04, 363.33it/s, epoch=25.00/30"
     ]
    },
    {
     "name": "stderr",
     "output_type": "stream",
     "text": [
      "\r",
      "Training for 192000 iter, 300.00 epochs:   8%| | 16044/192000 [00:44<08:04, 363.33it/s, epoch=25.08/30"
     ]
    },
    {
     "name": "stderr",
     "output_type": "stream",
     "text": [
      "\r",
      "Training for 192000 iter, 300.00 epochs:   8%| | 16081/192000 [00:44<08:11, 357.75it/s, epoch=25.08/30"
     ]
    },
    {
     "name": "stderr",
     "output_type": "stream",
     "text": [
      "\r",
      "Training for 192000 iter, 300.00 epochs:   8%| | 16081/192000 [00:44<08:11, 357.75it/s, epoch=25.16/30"
     ]
    },
    {
     "name": "stderr",
     "output_type": "stream",
     "text": [
      "\r",
      "Training for 192000 iter, 300.00 epochs:   8%| | 16118/192000 [00:44<08:07, 361.01it/s, epoch=25.16/30"
     ]
    },
    {
     "name": "stderr",
     "output_type": "stream",
     "text": [
      "\r",
      "Training for 192000 iter, 300.00 epochs:   8%| | 16118/192000 [00:44<08:07, 361.01it/s, epoch=25.23/30"
     ]
    },
    {
     "name": "stderr",
     "output_type": "stream",
     "text": [
      "\r",
      "Training for 192000 iter, 300.00 epochs:   8%| | 16157/192000 [00:44<07:57, 368.43it/s, epoch=25.23/30"
     ]
    },
    {
     "name": "stderr",
     "output_type": "stream",
     "text": [
      "\r",
      "Training for 192000 iter, 300.00 epochs:   8%| | 16197/192000 [00:45<07:46, 377.10it/s, epoch=25.23/30"
     ]
    },
    {
     "name": "stderr",
     "output_type": "stream",
     "text": [
      "\r",
      "Training for 192000 iter, 300.00 epochs:   8%| | 16197/192000 [00:45<07:46, 377.10it/s, epoch=25.31/30"
     ]
    },
    {
     "name": "stderr",
     "output_type": "stream",
     "text": [
      "\r",
      "Training for 192000 iter, 300.00 epochs:   8%| | 16237/192000 [00:45<07:39, 382.67it/s, epoch=25.31/30"
     ]
    },
    {
     "name": "stderr",
     "output_type": "stream",
     "text": [
      "\r",
      "Training for 192000 iter, 300.00 epochs:   8%| | 16237/192000 [00:45<07:39, 382.67it/s, epoch=25.39/30"
     ]
    },
    {
     "name": "stderr",
     "output_type": "stream",
     "text": [
      "\r",
      "Training for 192000 iter, 300.00 epochs:   8%| | 16276/192000 [00:45<07:44, 378.03it/s, epoch=25.39/30"
     ]
    },
    {
     "name": "stderr",
     "output_type": "stream",
     "text": [
      "\r",
      "Training for 192000 iter, 300.00 epochs:   8%| | 16276/192000 [00:45<07:44, 378.03it/s, epoch=25.47/30"
     ]
    },
    {
     "name": "stderr",
     "output_type": "stream",
     "text": [
      "\r",
      "Training for 192000 iter, 300.00 epochs:   8%| | 16314/192000 [00:45<07:54, 370.38it/s, epoch=25.47/30"
     ]
    },
    {
     "name": "stderr",
     "output_type": "stream",
     "text": [
      "\r",
      "Training for 192000 iter, 300.00 epochs:   8%| | 16314/192000 [00:45<07:54, 370.38it/s, epoch=25.55/30"
     ]
    },
    {
     "name": "stderr",
     "output_type": "stream",
     "text": [
      "\r",
      "Training for 192000 iter, 300.00 epochs:   9%| | 16354/192000 [00:45<07:45, 377.35it/s, epoch=25.55/30"
     ]
    },
    {
     "name": "stderr",
     "output_type": "stream",
     "text": [
      "\r",
      "Training for 192000 iter, 300.00 epochs:   9%| | 16393/192000 [00:45<07:41, 380.53it/s, epoch=25.55/30"
     ]
    },
    {
     "name": "stderr",
     "output_type": "stream",
     "text": [
      "\r",
      "Training for 192000 iter, 300.00 epochs:   9%| | 16393/192000 [00:45<07:41, 380.53it/s, epoch=25.62/30"
     ]
    },
    {
     "name": "stderr",
     "output_type": "stream",
     "text": [
      "\r",
      "Training for 192000 iter, 300.00 epochs:   9%| | 16432/192000 [00:45<08:00, 365.74it/s, epoch=25.62/30"
     ]
    },
    {
     "name": "stderr",
     "output_type": "stream",
     "text": [
      "\r",
      "Training for 192000 iter, 300.00 epochs:   9%| | 16432/192000 [00:45<08:00, 365.74it/s, epoch=25.70/30"
     ]
    },
    {
     "name": "stderr",
     "output_type": "stream",
     "text": [
      "\r",
      "Training for 192000 iter, 300.00 epochs:   9%| | 16473/192000 [00:45<07:46, 376.46it/s, epoch=25.70/30"
     ]
    },
    {
     "name": "stderr",
     "output_type": "stream",
     "text": [
      "\r",
      "Training for 192000 iter, 300.00 epochs:   9%| | 16473/192000 [00:45<07:46, 376.46it/s, epoch=25.78/30"
     ]
    },
    {
     "name": "stderr",
     "output_type": "stream",
     "text": [
      "\r",
      "Training for 192000 iter, 300.00 epochs:   9%| | 16511/192000 [00:45<07:47, 375.44it/s, epoch=25.78/30"
     ]
    },
    {
     "name": "stderr",
     "output_type": "stream",
     "text": [
      "\r",
      "Training for 192000 iter, 300.00 epochs:   9%| | 16511/192000 [00:46<07:47, 375.44it/s, epoch=25.86/30"
     ]
    },
    {
     "name": "stderr",
     "output_type": "stream",
     "text": [
      "\r",
      "Training for 192000 iter, 300.00 epochs:   9%| | 16551/192000 [00:46<07:39, 382.13it/s, epoch=25.86/30"
     ]
    },
    {
     "name": "stderr",
     "output_type": "stream",
     "text": [
      "\r",
      "Training for 192000 iter, 300.00 epochs:   9%| | 16590/192000 [00:46<07:36, 383.84it/s, epoch=25.86/30"
     ]
    },
    {
     "name": "stderr",
     "output_type": "stream",
     "text": [
      "\r",
      "Training for 192000 iter, 300.00 epochs:   9%| | 16590/192000 [00:46<07:36, 383.84it/s, epoch=25.94/30"
     ]
    },
    {
     "name": "stderr",
     "output_type": "stream",
     "text": [
      "\r",
      "Training for 192000 iter, 300.00 epochs:   9%| | 16629/192000 [00:46<07:35, 385.06it/s, epoch=25.94/30"
     ]
    },
    {
     "name": "stderr",
     "output_type": "stream",
     "text": [
      "\r",
      "Training for 192000 iter, 300.00 epochs:   9%| | 16629/192000 [00:46<07:35, 385.06it/s, epoch=26.02/30"
     ]
    },
    {
     "name": "stderr",
     "output_type": "stream",
     "text": [
      "\r",
      "Training for 192000 iter, 300.00 epochs:   9%| | 16668/192000 [00:46<08:51, 329.86it/s, epoch=26.02/30"
     ]
    },
    {
     "name": "stderr",
     "output_type": "stream",
     "text": [
      "\r",
      "Training for 192000 iter, 300.00 epochs:   9%| | 16668/192000 [00:46<08:51, 329.86it/s, epoch=26.09/30"
     ]
    },
    {
     "name": "stderr",
     "output_type": "stream",
     "text": [
      "\r",
      "Training for 192000 iter, 300.00 epochs:   9%| | 16708/192000 [00:46<08:23, 348.02it/s, epoch=26.09/30"
     ]
    },
    {
     "name": "stderr",
     "output_type": "stream",
     "text": [
      "\r",
      "Training for 192000 iter, 300.00 epochs:   9%| | 16748/192000 [00:46<08:05, 361.26it/s, epoch=26.09/30"
     ]
    },
    {
     "name": "stderr",
     "output_type": "stream",
     "text": [
      "\r",
      "Training for 192000 iter, 300.00 epochs:   9%| | 16748/192000 [00:46<08:05, 361.26it/s, epoch=26.17/30"
     ]
    },
    {
     "name": "stderr",
     "output_type": "stream",
     "text": [
      "\r",
      "Training for 192000 iter, 300.00 epochs:   9%| | 16789/192000 [00:46<07:49, 372.94it/s, epoch=26.17/30"
     ]
    },
    {
     "name": "stderr",
     "output_type": "stream",
     "text": [
      "\r",
      "Training for 192000 iter, 300.00 epochs:   9%| | 16789/192000 [00:46<07:49, 372.94it/s, epoch=26.25/30"
     ]
    },
    {
     "name": "stderr",
     "output_type": "stream",
     "text": [
      "\r",
      "Training for 192000 iter, 300.00 epochs:   9%| | 16828/192000 [00:46<08:12, 355.79it/s, epoch=26.25/30"
     ]
    },
    {
     "name": "stderr",
     "output_type": "stream",
     "text": [
      "\r",
      "Training for 192000 iter, 300.00 epochs:   9%| | 16828/192000 [00:46<08:12, 355.79it/s, epoch=26.33/30"
     ]
    },
    {
     "name": "stderr",
     "output_type": "stream",
     "text": [
      "\r",
      "Training for 192000 iter, 300.00 epochs:   9%| | 16865/192000 [00:46<08:59, 324.69it/s, epoch=26.33/30"
     ]
    },
    {
     "name": "stderr",
     "output_type": "stream",
     "text": [
      "\r",
      "Training for 192000 iter, 300.00 epochs:   9%| | 16899/192000 [00:47<09:41, 301.30it/s, epoch=26.33/30"
     ]
    },
    {
     "name": "stderr",
     "output_type": "stream",
     "text": [
      "\r",
      "Training for 192000 iter, 300.00 epochs:   9%| | 16899/192000 [00:47<09:41, 301.30it/s, epoch=26.41/30"
     ]
    },
    {
     "name": "stderr",
     "output_type": "stream",
     "text": [
      "\r",
      "Training for 192000 iter, 300.00 epochs:   9%| | 16937/192000 [00:47<09:05, 320.75it/s, epoch=26.41/30"
     ]
    },
    {
     "name": "stderr",
     "output_type": "stream",
     "text": [
      "\r",
      "Training for 192000 iter, 300.00 epochs:   9%| | 16937/192000 [00:47<09:05, 320.75it/s, epoch=26.48/30"
     ]
    },
    {
     "name": "stderr",
     "output_type": "stream",
     "text": [
      "\r",
      "Training for 192000 iter, 300.00 epochs:   9%| | 16977/192000 [00:47<08:32, 341.27it/s, epoch=26.48/30"
     ]
    },
    {
     "name": "stderr",
     "output_type": "stream",
     "text": [
      "\r",
      "Training for 192000 iter, 300.00 epochs:   9%| | 16977/192000 [00:47<08:32, 341.27it/s, epoch=26.56/30"
     ]
    },
    {
     "name": "stderr",
     "output_type": "stream",
     "text": [
      "\r",
      "Training for 192000 iter, 300.00 epochs:   9%| | 17015/192000 [00:47<08:22, 348.45it/s, epoch=26.56/30"
     ]
    },
    {
     "name": "stderr",
     "output_type": "stream",
     "text": [
      "\r",
      "Training for 192000 iter, 300.00 epochs:   9%| | 17015/192000 [00:47<08:22, 348.45it/s, epoch=26.64/30"
     ]
    },
    {
     "name": "stderr",
     "output_type": "stream",
     "text": [
      "\r",
      "Training for 192000 iter, 300.00 epochs:   9%| | 17051/192000 [00:47<08:20, 349.46it/s, epoch=26.64/30"
     ]
    },
    {
     "name": "stderr",
     "output_type": "stream",
     "text": [
      "\r",
      "Training for 192000 iter, 300.00 epochs:   9%| | 17087/192000 [00:47<08:25, 345.95it/s, epoch=26.64/30"
     ]
    },
    {
     "name": "stderr",
     "output_type": "stream",
     "text": [
      "\r",
      "Training for 192000 iter, 300.00 epochs:   9%| | 17087/192000 [00:47<08:25, 345.95it/s, epoch=26.72/30"
     ]
    },
    {
     "name": "stderr",
     "output_type": "stream",
     "text": [
      "\r",
      "Training for 192000 iter, 300.00 epochs:   9%| | 17123/192000 [00:47<08:19, 349.79it/s, epoch=26.72/30"
     ]
    },
    {
     "name": "stderr",
     "output_type": "stream",
     "text": [
      "\r",
      "Training for 192000 iter, 300.00 epochs:   9%| | 17123/192000 [00:47<08:19, 349.79it/s, epoch=26.80/30"
     ]
    },
    {
     "name": "stderr",
     "output_type": "stream",
     "text": [
      "\r",
      "Training for 192000 iter, 300.00 epochs:   9%| | 17162/192000 [00:47<08:06, 359.50it/s, epoch=26.80/30"
     ]
    },
    {
     "name": "stderr",
     "output_type": "stream",
     "text": [
      "\r",
      "Training for 192000 iter, 300.00 epochs:   9%| | 17162/192000 [00:47<08:06, 359.50it/s, epoch=26.88/30"
     ]
    },
    {
     "name": "stderr",
     "output_type": "stream",
     "text": [
      "\r",
      "Training for 192000 iter, 300.00 epochs:   9%| | 17203/192000 [00:47<07:48, 372.92it/s, epoch=26.88/30"
     ]
    },
    {
     "name": "stderr",
     "output_type": "stream",
     "text": [
      "\r",
      "Training for 192000 iter, 300.00 epochs:   9%| | 17245/192000 [00:47<07:33, 385.10it/s, epoch=26.88/30"
     ]
    },
    {
     "name": "stderr",
     "output_type": "stream",
     "text": [
      "\r",
      "Training for 192000 iter, 300.00 epochs:   9%| | 17245/192000 [00:47<07:33, 385.10it/s, epoch=26.95/30"
     ]
    },
    {
     "name": "stderr",
     "output_type": "stream",
     "text": [
      "\r",
      "Training for 192000 iter, 300.00 epochs:   9%| | 17284/192000 [00:48<07:49, 371.86it/s, epoch=26.95/30"
     ]
    },
    {
     "name": "stderr",
     "output_type": "stream",
     "text": [
      "\r",
      "Training for 192000 iter, 300.00 epochs:   9%| | 17284/192000 [00:48<07:49, 371.86it/s, epoch=27.03/30"
     ]
    },
    {
     "name": "stderr",
     "output_type": "stream",
     "text": [
      "\r",
      "Training for 192000 iter, 300.00 epochs:   9%| | 17323/192000 [00:48<07:45, 375.30it/s, epoch=27.03/30"
     ]
    },
    {
     "name": "stderr",
     "output_type": "stream",
     "text": [
      "\r",
      "Training for 192000 iter, 300.00 epochs:   9%| | 17323/192000 [00:48<07:45, 375.30it/s, epoch=27.11/30"
     ]
    },
    {
     "name": "stderr",
     "output_type": "stream",
     "text": [
      "\r",
      "Training for 192000 iter, 300.00 epochs:   9%| | 17361/192000 [00:48<08:47, 331.09it/s, epoch=27.11/30"
     ]
    },
    {
     "name": "stderr",
     "output_type": "stream",
     "text": [
      "\r",
      "Training for 192000 iter, 300.00 epochs:   9%| | 17396/192000 [00:48<09:41, 300.37it/s, epoch=27.11/30"
     ]
    },
    {
     "name": "stderr",
     "output_type": "stream",
     "text": [
      "\r",
      "Training for 192000 iter, 300.00 epochs:   9%| | 17396/192000 [00:48<09:41, 300.37it/s, epoch=27.19/30"
     ]
    },
    {
     "name": "stderr",
     "output_type": "stream",
     "text": [
      "\r",
      "Training for 192000 iter, 300.00 epochs:   9%| | 17435/192000 [00:48<09:01, 322.23it/s, epoch=27.19/30"
     ]
    },
    {
     "name": "stderr",
     "output_type": "stream",
     "text": [
      "\r",
      "Training for 192000 iter, 300.00 epochs:   9%| | 17435/192000 [00:48<09:01, 322.23it/s, epoch=27.27/30"
     ]
    },
    {
     "name": "stderr",
     "output_type": "stream",
     "text": [
      "\r",
      "Training for 192000 iter, 300.00 epochs:   9%| | 17474/192000 [00:48<08:34, 339.52it/s, epoch=27.27/30"
     ]
    },
    {
     "name": "stderr",
     "output_type": "stream",
     "text": [
      "\r",
      "Training for 192000 iter, 300.00 epochs:   9%| | 17474/192000 [00:48<08:34, 339.52it/s, epoch=27.34/30"
     ]
    },
    {
     "name": "stderr",
     "output_type": "stream",
     "text": [
      "\r",
      "Training for 192000 iter, 300.00 epochs:   9%| | 17514/192000 [00:48<08:11, 355.00it/s, epoch=27.34/30"
     ]
    },
    {
     "name": "stderr",
     "output_type": "stream",
     "text": [
      "\r",
      "Training for 192000 iter, 300.00 epochs:   9%| | 17514/192000 [00:48<08:11, 355.00it/s, epoch=27.42/30"
     ]
    },
    {
     "name": "stderr",
     "output_type": "stream",
     "text": [
      "\r",
      "Training for 192000 iter, 300.00 epochs:   9%| | 17551/192000 [00:48<08:11, 354.80it/s, epoch=27.42/30"
     ]
    },
    {
     "name": "stderr",
     "output_type": "stream",
     "text": [
      "\r",
      "Training for 192000 iter, 300.00 epochs:   9%| | 17589/192000 [00:48<08:02, 361.60it/s, epoch=27.42/30"
     ]
    },
    {
     "name": "stderr",
     "output_type": "stream",
     "text": [
      "\r",
      "Training for 192000 iter, 300.00 epochs:   9%| | 17589/192000 [00:49<08:02, 361.60it/s, epoch=27.50/30"
     ]
    },
    {
     "name": "stderr",
     "output_type": "stream",
     "text": [
      "\r",
      "Training for 192000 iter, 300.00 epochs:   9%| | 17627/192000 [00:49<07:56, 366.29it/s, epoch=27.50/30"
     ]
    },
    {
     "name": "stderr",
     "output_type": "stream",
     "text": [
      "\r",
      "Training for 192000 iter, 300.00 epochs:   9%| | 17627/192000 [00:49<07:56, 366.29it/s, epoch=27.58/30"
     ]
    },
    {
     "name": "stderr",
     "output_type": "stream",
     "text": [
      "\r",
      "Training for 192000 iter, 300.00 epochs:   9%| | 17666/192000 [00:49<07:49, 371.36it/s, epoch=27.58/30"
     ]
    },
    {
     "name": "stderr",
     "output_type": "stream",
     "text": [
      "\r",
      "Training for 192000 iter, 300.00 epochs:   9%| | 17666/192000 [00:49<07:49, 371.36it/s, epoch=27.66/30"
     ]
    },
    {
     "name": "stderr",
     "output_type": "stream",
     "text": [
      "\r",
      "Training for 192000 iter, 300.00 epochs:   9%| | 17706/192000 [00:49<07:39, 379.53it/s, epoch=27.66/30"
     ]
    },
    {
     "name": "stderr",
     "output_type": "stream",
     "text": [
      "\r",
      "Training for 192000 iter, 300.00 epochs:   9%| | 17747/192000 [00:49<07:31, 386.15it/s, epoch=27.66/30"
     ]
    },
    {
     "name": "stderr",
     "output_type": "stream",
     "text": [
      "\r",
      "Training for 192000 iter, 300.00 epochs:   9%| | 17747/192000 [00:49<07:31, 386.15it/s, epoch=27.73/30"
     ]
    },
    {
     "name": "stderr",
     "output_type": "stream",
     "text": [
      "\r",
      "Training for 192000 iter, 300.00 epochs:   9%| | 17788/192000 [00:49<07:25, 390.68it/s, epoch=27.73/30"
     ]
    },
    {
     "name": "stderr",
     "output_type": "stream",
     "text": [
      "\r",
      "Training for 192000 iter, 300.00 epochs:   9%| | 17788/192000 [00:49<07:25, 390.68it/s, epoch=27.81/30"
     ]
    },
    {
     "name": "stderr",
     "output_type": "stream",
     "text": [
      "\r",
      "Training for 192000 iter, 300.00 epochs:   9%| | 17828/192000 [00:49<07:22, 393.30it/s, epoch=27.81/30"
     ]
    },
    {
     "name": "stderr",
     "output_type": "stream",
     "text": [
      "\r",
      "Training for 192000 iter, 300.00 epochs:   9%| | 17828/192000 [00:49<07:22, 393.30it/s, epoch=27.89/30"
     ]
    },
    {
     "name": "stderr",
     "output_type": "stream",
     "text": [
      "\r",
      "Training for 192000 iter, 300.00 epochs:   9%| | 17869/192000 [00:49<07:20, 395.63it/s, epoch=27.89/30"
     ]
    },
    {
     "name": "stderr",
     "output_type": "stream",
     "text": [
      "\r",
      "Training for 192000 iter, 300.00 epochs:   9%| | 17869/192000 [00:49<07:20, 395.63it/s, epoch=27.97/30"
     ]
    },
    {
     "name": "stderr",
     "output_type": "stream",
     "text": [
      "\r",
      "Training for 192000 iter, 300.00 epochs:   9%| | 17909/192000 [00:49<07:19, 396.49it/s, epoch=27.97/30"
     ]
    },
    {
     "name": "stderr",
     "output_type": "stream",
     "text": [
      "\r",
      "Training for 192000 iter, 300.00 epochs:   9%| | 17949/192000 [00:49<07:34, 383.30it/s, epoch=27.97/30"
     ]
    },
    {
     "name": "stderr",
     "output_type": "stream",
     "text": [
      "\r",
      "Training for 192000 iter, 300.00 epochs:   9%| | 17949/192000 [00:49<07:34, 383.30it/s, epoch=28.05/30"
     ]
    },
    {
     "name": "stderr",
     "output_type": "stream",
     "text": [
      "\r",
      "Training for 192000 iter, 300.00 epochs:   9%| | 17989/192000 [00:50<07:28, 387.57it/s, epoch=28.05/30"
     ]
    },
    {
     "name": "stderr",
     "output_type": "stream",
     "text": [
      "\r",
      "Training for 192000 iter, 300.00 epochs:   9%| | 17989/192000 [00:50<07:28, 387.57it/s, epoch=28.12/30"
     ]
    },
    {
     "name": "stderr",
     "output_type": "stream",
     "text": [
      "\r",
      "Training for 192000 iter, 300.00 epochs:   9%| | 18029/192000 [00:50<07:25, 390.93it/s, epoch=28.12/30"
     ]
    },
    {
     "name": "stderr",
     "output_type": "stream",
     "text": [
      "\r",
      "Training for 192000 iter, 300.00 epochs:   9%| | 18029/192000 [00:50<07:25, 390.93it/s, epoch=28.20/30"
     ]
    },
    {
     "name": "stderr",
     "output_type": "stream",
     "text": [
      "\r",
      "Training for 192000 iter, 300.00 epochs:   9%| | 18069/192000 [00:50<07:22, 393.08it/s, epoch=28.20/30"
     ]
    },
    {
     "name": "stderr",
     "output_type": "stream",
     "text": [
      "\r",
      "Training for 192000 iter, 300.00 epochs:   9%| | 18069/192000 [00:50<07:22, 393.08it/s, epoch=28.28/30"
     ]
    },
    {
     "name": "stderr",
     "output_type": "stream",
     "text": [
      "\r",
      "Training for 192000 iter, 300.00 epochs:   9%| | 18109/192000 [00:50<07:28, 388.11it/s, epoch=28.28/30"
     ]
    },
    {
     "name": "stderr",
     "output_type": "stream",
     "text": [
      "\r",
      "Training for 192000 iter, 300.00 epochs:   9%| | 18148/192000 [00:50<07:28, 387.64it/s, epoch=28.28/30"
     ]
    },
    {
     "name": "stderr",
     "output_type": "stream",
     "text": [
      "\r",
      "Training for 192000 iter, 300.00 epochs:   9%| | 18148/192000 [00:50<07:28, 387.64it/s, epoch=28.36/30"
     ]
    },
    {
     "name": "stderr",
     "output_type": "stream",
     "text": [
      "\r",
      "Training for 192000 iter, 300.00 epochs:   9%| | 18188/192000 [00:50<07:26, 388.91it/s, epoch=28.36/30"
     ]
    },
    {
     "name": "stderr",
     "output_type": "stream",
     "text": [
      "\r",
      "Training for 192000 iter, 300.00 epochs:   9%| | 18188/192000 [00:50<07:26, 388.91it/s, epoch=28.44/30"
     ]
    },
    {
     "name": "stderr",
     "output_type": "stream",
     "text": [
      "\r",
      "Training for 192000 iter, 300.00 epochs:   9%| | 18227/192000 [00:50<07:27, 388.09it/s, epoch=28.44/30"
     ]
    },
    {
     "name": "stderr",
     "output_type": "stream",
     "text": [
      "\r",
      "Training for 192000 iter, 300.00 epochs:   9%| | 18227/192000 [00:50<07:27, 388.09it/s, epoch=28.52/30"
     ]
    },
    {
     "name": "stderr",
     "output_type": "stream",
     "text": [
      "\r",
      "Training for 192000 iter, 300.00 epochs:  10%| | 18266/192000 [00:50<07:28, 387.38it/s, epoch=28.52/30"
     ]
    },
    {
     "name": "stderr",
     "output_type": "stream",
     "text": [
      "\r",
      "Training for 192000 iter, 300.00 epochs:  10%| | 18266/192000 [00:50<07:28, 387.38it/s, epoch=28.59/30"
     ]
    },
    {
     "name": "stderr",
     "output_type": "stream",
     "text": [
      "\r",
      "Training for 192000 iter, 300.00 epochs:  10%| | 18305/192000 [00:50<07:27, 388.08it/s, epoch=28.59/30"
     ]
    },
    {
     "name": "stderr",
     "output_type": "stream",
     "text": [
      "\r",
      "Training for 192000 iter, 300.00 epochs:  10%| | 18344/192000 [00:50<07:29, 386.13it/s, epoch=28.59/30"
     ]
    },
    {
     "name": "stderr",
     "output_type": "stream",
     "text": [
      "\r",
      "Training for 192000 iter, 300.00 epochs:  10%| | 18344/192000 [00:50<07:29, 386.13it/s, epoch=28.67/30"
     ]
    },
    {
     "name": "stderr",
     "output_type": "stream",
     "text": [
      "\r",
      "Training for 192000 iter, 300.00 epochs:  10%| | 18384/192000 [00:51<07:25, 389.48it/s, epoch=28.67/30"
     ]
    },
    {
     "name": "stderr",
     "output_type": "stream",
     "text": [
      "\r",
      "Training for 192000 iter, 300.00 epochs:  10%| | 18384/192000 [00:51<07:25, 389.48it/s, epoch=28.75/30"
     ]
    },
    {
     "name": "stderr",
     "output_type": "stream",
     "text": [
      "\r",
      "Training for 192000 iter, 300.00 epochs:  10%| | 18423/192000 [00:51<07:57, 363.24it/s, epoch=28.75/30"
     ]
    },
    {
     "name": "stderr",
     "output_type": "stream",
     "text": [
      "\r",
      "Training for 192000 iter, 300.00 epochs:  10%| | 18423/192000 [00:51<07:57, 363.24it/s, epoch=28.83/30"
     ]
    },
    {
     "name": "stderr",
     "output_type": "stream",
     "text": [
      "\r",
      "Training for 192000 iter, 300.00 epochs:  10%| | 18463/192000 [00:51<07:44, 373.22it/s, epoch=28.83/30"
     ]
    },
    {
     "name": "stderr",
     "output_type": "stream",
     "text": [
      "\r",
      "Training for 192000 iter, 300.00 epochs:  10%| | 18463/192000 [00:51<07:44, 373.22it/s, epoch=28.91/30"
     ]
    },
    {
     "name": "stderr",
     "output_type": "stream",
     "text": [
      "\r",
      "Training for 192000 iter, 300.00 epochs:  10%| | 18503/192000 [00:51<07:35, 380.53it/s, epoch=28.91/30"
     ]
    },
    {
     "name": "stderr",
     "output_type": "stream",
     "text": [
      "\r",
      "Training for 192000 iter, 300.00 epochs:  10%| | 18544/192000 [00:51<07:28, 386.42it/s, epoch=28.91/30"
     ]
    },
    {
     "name": "stderr",
     "output_type": "stream",
     "text": [
      "\r",
      "Training for 192000 iter, 300.00 epochs:  10%| | 18544/192000 [00:51<07:28, 386.42it/s, epoch=28.98/30"
     ]
    },
    {
     "name": "stderr",
     "output_type": "stream",
     "text": [
      "\r",
      "Training for 192000 iter, 300.00 epochs:  10%| | 18583/192000 [00:51<07:38, 378.10it/s, epoch=28.98/30"
     ]
    },
    {
     "name": "stderr",
     "output_type": "stream",
     "text": [
      "\r",
      "Training for 192000 iter, 300.00 epochs:  10%| | 18583/192000 [00:51<07:38, 378.10it/s, epoch=29.06/30"
     ]
    },
    {
     "name": "stderr",
     "output_type": "stream",
     "text": [
      "\r",
      "Training for 192000 iter, 300.00 epochs:  10%| | 18622/192000 [00:51<07:35, 380.42it/s, epoch=29.06/30"
     ]
    },
    {
     "name": "stderr",
     "output_type": "stream",
     "text": [
      "\r",
      "Training for 192000 iter, 300.00 epochs:  10%| | 18622/192000 [00:51<07:35, 380.42it/s, epoch=29.14/30"
     ]
    },
    {
     "name": "stderr",
     "output_type": "stream",
     "text": [
      "\r",
      "Training for 192000 iter, 300.00 epochs:  10%| | 18662/192000 [00:51<07:31, 384.31it/s, epoch=29.14/30"
     ]
    },
    {
     "name": "stderr",
     "output_type": "stream",
     "text": [
      "\r",
      "Training for 192000 iter, 300.00 epochs:  10%| | 18662/192000 [00:51<07:31, 384.31it/s, epoch=29.22/30"
     ]
    },
    {
     "name": "stderr",
     "output_type": "stream",
     "text": [
      "\r",
      "Training for 192000 iter, 300.00 epochs:  10%| | 18702/192000 [00:51<07:28, 386.13it/s, epoch=29.22/30"
     ]
    },
    {
     "name": "stderr",
     "output_type": "stream",
     "text": [
      "\r",
      "Training for 192000 iter, 300.00 epochs:  10%| | 18742/192000 [00:51<07:26, 388.16it/s, epoch=29.22/30"
     ]
    },
    {
     "name": "stderr",
     "output_type": "stream",
     "text": [
      "\r",
      "Training for 192000 iter, 300.00 epochs:  10%| | 18742/192000 [00:51<07:26, 388.16it/s, epoch=29.30/30"
     ]
    },
    {
     "name": "stderr",
     "output_type": "stream",
     "text": [
      "\r",
      "Training for 192000 iter, 300.00 epochs:  10%| | 18782/192000 [00:52<07:24, 389.34it/s, epoch=29.30/30"
     ]
    },
    {
     "name": "stderr",
     "output_type": "stream",
     "text": [
      "\r",
      "Training for 192000 iter, 300.00 epochs:  10%| | 18782/192000 [00:52<07:24, 389.34it/s, epoch=29.38/30"
     ]
    },
    {
     "name": "stderr",
     "output_type": "stream",
     "text": [
      "\r",
      "Training for 192000 iter, 300.00 epochs:  10%| | 18821/192000 [00:52<07:24, 389.21it/s, epoch=29.38/30"
     ]
    },
    {
     "name": "stderr",
     "output_type": "stream",
     "text": [
      "\r",
      "Training for 192000 iter, 300.00 epochs:  10%| | 18821/192000 [00:52<07:24, 389.21it/s, epoch=29.45/30"
     ]
    },
    {
     "name": "stderr",
     "output_type": "stream",
     "text": [
      "\r",
      "Training for 192000 iter, 300.00 epochs:  10%| | 18861/192000 [00:52<07:24, 389.88it/s, epoch=29.45/30"
     ]
    },
    {
     "name": "stderr",
     "output_type": "stream",
     "text": [
      "\r",
      "Training for 192000 iter, 300.00 epochs:  10%| | 18861/192000 [00:52<07:24, 389.88it/s, epoch=29.53/30"
     ]
    },
    {
     "name": "stderr",
     "output_type": "stream",
     "text": [
      "\r",
      "Training for 192000 iter, 300.00 epochs:  10%| | 18901/192000 [00:52<07:21, 391.69it/s, epoch=29.53/30"
     ]
    },
    {
     "name": "stderr",
     "output_type": "stream",
     "text": [
      "\r",
      "Training for 192000 iter, 300.00 epochs:  10%| | 18941/192000 [00:52<07:20, 393.18it/s, epoch=29.53/30"
     ]
    },
    {
     "name": "stderr",
     "output_type": "stream",
     "text": [
      "\r",
      "Training for 192000 iter, 300.00 epochs:  10%| | 18941/192000 [00:52<07:20, 393.18it/s, epoch=29.61/30"
     ]
    },
    {
     "name": "stderr",
     "output_type": "stream",
     "text": [
      "\r",
      "Training for 192000 iter, 300.00 epochs:  10%| | 18981/192000 [00:52<07:20, 393.03it/s, epoch=29.61/30"
     ]
    },
    {
     "name": "stderr",
     "output_type": "stream",
     "text": [
      "\r",
      "Training for 192000 iter, 300.00 epochs:  10%| | 18981/192000 [00:52<07:20, 393.03it/s, epoch=29.69/30"
     ]
    },
    {
     "name": "stderr",
     "output_type": "stream",
     "text": [
      "\r",
      "Training for 192000 iter, 300.00 epochs:  10%| | 19021/192000 [00:52<07:20, 392.47it/s, epoch=29.69/30"
     ]
    },
    {
     "name": "stderr",
     "output_type": "stream",
     "text": [
      "\r",
      "Training for 192000 iter, 300.00 epochs:  10%| | 19021/192000 [00:52<07:20, 392.47it/s, epoch=29.77/30"
     ]
    },
    {
     "name": "stderr",
     "output_type": "stream",
     "text": [
      "\r",
      "Training for 192000 iter, 300.00 epochs:  10%| | 19061/192000 [00:52<07:20, 392.62it/s, epoch=29.77/30"
     ]
    },
    {
     "name": "stderr",
     "output_type": "stream",
     "text": [
      "\r",
      "Training for 192000 iter, 300.00 epochs:  10%| | 19061/192000 [00:52<07:20, 392.62it/s, epoch=29.84/30"
     ]
    },
    {
     "name": "stderr",
     "output_type": "stream",
     "text": [
      "\r",
      "Training for 192000 iter, 300.00 epochs:  10%| | 19101/192000 [00:52<07:21, 391.77it/s, epoch=29.84/30"
     ]
    },
    {
     "name": "stderr",
     "output_type": "stream",
     "text": [
      "\r",
      "Training for 192000 iter, 300.00 epochs:  10%| | 19141/192000 [00:52<07:21, 391.81it/s, epoch=29.84/30"
     ]
    },
    {
     "name": "stderr",
     "output_type": "stream",
     "text": [
      "\r",
      "Training for 192000 iter, 300.00 epochs:  10%| | 19141/192000 [00:53<07:21, 391.81it/s, epoch=29.92/30"
     ]
    },
    {
     "name": "stderr",
     "output_type": "stream",
     "text": [
      "\r",
      "Training for 192000 iter, 300.00 epochs:  10%| | 19181/192000 [00:53<07:21, 391.33it/s, epoch=29.92/30"
     ]
    },
    {
     "name": "stderr",
     "output_type": "stream",
     "text": [
      "\r",
      "Training for 192000 iter, 300.00 epochs:  10%| | 19181/192000 [00:53<07:21, 391.33it/s, epoch=30.00/30"
     ]
    },
    {
     "name": "stderr",
     "output_type": "stream",
     "text": [
      "\r",
      "Training for 192000 iter, 300.00 epochs:  10%| | 19221/192000 [00:53<07:34, 380.33it/s, epoch=30.00/30"
     ]
    },
    {
     "name": "stderr",
     "output_type": "stream",
     "text": [
      "\r",
      "Training for 192000 iter, 300.00 epochs:  10%| | 19221/192000 [00:53<07:34, 380.33it/s, epoch=30.08/30"
     ]
    },
    {
     "name": "stderr",
     "output_type": "stream",
     "text": [
      "\r",
      "Training for 192000 iter, 300.00 epochs:  10%| | 19261/192000 [00:53<07:29, 384.07it/s, epoch=30.08/30"
     ]
    },
    {
     "name": "stderr",
     "output_type": "stream",
     "text": [
      "\r",
      "Training for 192000 iter, 300.00 epochs:  10%| | 19261/192000 [00:53<07:29, 384.07it/s, epoch=30.16/30"
     ]
    },
    {
     "name": "stderr",
     "output_type": "stream",
     "text": [
      "\r",
      "Training for 192000 iter, 300.00 epochs:  10%| | 19301/192000 [00:53<07:24, 388.57it/s, epoch=30.16/30"
     ]
    },
    {
     "name": "stderr",
     "output_type": "stream",
     "text": [
      "\r",
      "Training for 192000 iter, 300.00 epochs:  10%| | 19342/192000 [00:53<07:19, 393.27it/s, epoch=30.16/30"
     ]
    },
    {
     "name": "stderr",
     "output_type": "stream",
     "text": [
      "\r",
      "Training for 192000 iter, 300.00 epochs:  10%| | 19342/192000 [00:53<07:19, 393.27it/s, epoch=30.23/30"
     ]
    },
    {
     "name": "stderr",
     "output_type": "stream",
     "text": [
      "\r",
      "Training for 192000 iter, 300.00 epochs:  10%| | 19383/192000 [00:53<07:15, 395.96it/s, epoch=30.23/30"
     ]
    },
    {
     "name": "stderr",
     "output_type": "stream",
     "text": [
      "\r",
      "Training for 192000 iter, 300.00 epochs:  10%| | 19383/192000 [00:53<07:15, 395.96it/s, epoch=30.31/30"
     ]
    },
    {
     "name": "stderr",
     "output_type": "stream",
     "text": [
      "\r",
      "Training for 192000 iter, 300.00 epochs:  10%| | 19423/192000 [00:53<07:17, 394.59it/s, epoch=30.31/30"
     ]
    },
    {
     "name": "stderr",
     "output_type": "stream",
     "text": [
      "\r",
      "Training for 192000 iter, 300.00 epochs:  10%| | 19423/192000 [00:53<07:17, 394.59it/s, epoch=30.39/30"
     ]
    },
    {
     "name": "stderr",
     "output_type": "stream",
     "text": [
      "\r",
      "Training for 192000 iter, 300.00 epochs:  10%| | 19463/192000 [00:53<07:15, 395.96it/s, epoch=30.39/30"
     ]
    },
    {
     "name": "stderr",
     "output_type": "stream",
     "text": [
      "\r",
      "Training for 192000 iter, 300.00 epochs:  10%| | 19463/192000 [00:53<07:15, 395.96it/s, epoch=30.47/30"
     ]
    },
    {
     "name": "stderr",
     "output_type": "stream",
     "text": [
      "\r",
      "Training for 192000 iter, 300.00 epochs:  10%| | 19503/192000 [00:53<07:16, 395.46it/s, epoch=30.47/30"
     ]
    },
    {
     "name": "stderr",
     "output_type": "stream",
     "text": [
      "\r",
      "Training for 192000 iter, 300.00 epochs:  10%| | 19543/192000 [00:54<07:17, 394.01it/s, epoch=30.47/30"
     ]
    },
    {
     "name": "stderr",
     "output_type": "stream",
     "text": [
      "\r",
      "Training for 192000 iter, 300.00 epochs:  10%| | 19543/192000 [00:54<07:17, 394.01it/s, epoch=30.55/30"
     ]
    },
    {
     "name": "stderr",
     "output_type": "stream",
     "text": [
      "\r",
      "Training for 192000 iter, 300.00 epochs:  10%| | 19583/192000 [00:54<07:16, 395.43it/s, epoch=30.55/30"
     ]
    },
    {
     "name": "stderr",
     "output_type": "stream",
     "text": [
      "\r",
      "Training for 192000 iter, 300.00 epochs:  10%| | 19583/192000 [00:54<07:16, 395.43it/s, epoch=30.62/30"
     ]
    },
    {
     "name": "stderr",
     "output_type": "stream",
     "text": [
      "\r",
      "Training for 192000 iter, 300.00 epochs:  10%| | 19623/192000 [00:54<07:15, 395.79it/s, epoch=30.62/30"
     ]
    },
    {
     "name": "stderr",
     "output_type": "stream",
     "text": [
      "\r",
      "Training for 192000 iter, 300.00 epochs:  10%| | 19623/192000 [00:54<07:15, 395.79it/s, epoch=30.70/30"
     ]
    },
    {
     "name": "stderr",
     "output_type": "stream",
     "text": [
      "\r",
      "Training for 192000 iter, 300.00 epochs:  10%| | 19664/192000 [00:54<07:12, 398.28it/s, epoch=30.70/30"
     ]
    },
    {
     "name": "stderr",
     "output_type": "stream",
     "text": [
      "\r",
      "Training for 192000 iter, 300.00 epochs:  10%| | 19664/192000 [00:54<07:12, 398.28it/s, epoch=30.78/30"
     ]
    },
    {
     "name": "stderr",
     "output_type": "stream",
     "text": [
      "\r",
      "Training for 192000 iter, 300.00 epochs:  10%| | 19704/192000 [00:54<07:13, 397.89it/s, epoch=30.78/30"
     ]
    },
    {
     "name": "stderr",
     "output_type": "stream",
     "text": [
      "\r",
      "Training for 192000 iter, 300.00 epochs:  10%| | 19745/192000 [00:54<07:11, 398.92it/s, epoch=30.78/30"
     ]
    },
    {
     "name": "stderr",
     "output_type": "stream",
     "text": [
      "\r",
      "Training for 192000 iter, 300.00 epochs:  10%| | 19745/192000 [00:54<07:11, 398.92it/s, epoch=30.86/30"
     ]
    },
    {
     "name": "stderr",
     "output_type": "stream",
     "text": [
      "\r",
      "Training for 192000 iter, 300.00 epochs:  10%| | 19785/192000 [00:54<07:15, 395.48it/s, epoch=30.86/30"
     ]
    },
    {
     "name": "stderr",
     "output_type": "stream",
     "text": [
      "\r",
      "Training for 192000 iter, 300.00 epochs:  10%| | 19785/192000 [00:54<07:15, 395.48it/s, epoch=30.94/30"
     ]
    },
    {
     "name": "stderr",
     "output_type": "stream",
     "text": [
      "\r",
      "Training for 192000 iter, 300.00 epochs:  10%| | 19825/192000 [00:54<07:38, 375.67it/s, epoch=30.94/30"
     ]
    },
    {
     "name": "stderr",
     "output_type": "stream",
     "text": [
      "\r",
      "Training for 192000 iter, 300.00 epochs:  10%| | 19825/192000 [00:54<07:38, 375.67it/s, epoch=31.02/30"
     ]
    },
    {
     "name": "stderr",
     "output_type": "stream",
     "text": [
      "\r",
      "Training for 192000 iter, 300.00 epochs:  10%| | 19863/192000 [00:54<08:27, 339.01it/s, epoch=31.02/30"
     ]
    },
    {
     "name": "stderr",
     "output_type": "stream",
     "text": [
      "\r",
      "Training for 192000 iter, 300.00 epochs:  10%| | 19863/192000 [00:54<08:27, 339.01it/s, epoch=31.09/30"
     ]
    },
    {
     "name": "stderr",
     "output_type": "stream",
     "text": [
      "\r",
      "Training for 192000 iter, 300.00 epochs:  10%| | 19903/192000 [00:54<08:05, 354.75it/s, epoch=31.09/30"
     ]
    },
    {
     "name": "stderr",
     "output_type": "stream",
     "text": [
      "\r",
      "Training for 192000 iter, 300.00 epochs:  10%| | 19944/192000 [00:55<07:47, 367.82it/s, epoch=31.09/30"
     ]
    },
    {
     "name": "stderr",
     "output_type": "stream",
     "text": [
      "\r",
      "Training for 192000 iter, 300.00 epochs:  10%| | 19944/192000 [00:55<07:47, 367.82it/s, epoch=31.17/30"
     ]
    },
    {
     "name": "stderr",
     "output_type": "stream",
     "text": [
      "\r",
      "Training for 192000 iter, 300.00 epochs:  10%| | 19984/192000 [00:55<07:36, 376.58it/s, epoch=31.17/30"
     ]
    },
    {
     "name": "stderr",
     "output_type": "stream",
     "text": [
      "\r",
      "Training for 192000 iter, 300.00 epochs:  10%| | 19984/192000 [00:55<07:36, 376.58it/s, epoch=31.25/30"
     ]
    },
    {
     "name": "stderr",
     "output_type": "stream",
     "text": [
      "\r",
      "Training for 192000 iter, 300.00 epochs:  10%| | 20024/192000 [00:55<07:30, 381.53it/s, epoch=31.25/30"
     ]
    },
    {
     "name": "stderr",
     "output_type": "stream",
     "text": [
      "\r",
      "Training for 192000 iter, 300.00 epochs:  10%| | 20024/192000 [00:55<07:30, 381.53it/s, epoch=31.33/30"
     ]
    },
    {
     "name": "stderr",
     "output_type": "stream",
     "text": [
      "\r",
      "Training for 192000 iter, 300.00 epochs:  10%| | 20064/192000 [00:55<07:24, 386.66it/s, epoch=31.33/30"
     ]
    },
    {
     "name": "stderr",
     "output_type": "stream",
     "text": [
      "\r",
      "Training for 192000 iter, 300.00 epochs:  10%| | 20064/192000 [00:55<07:24, 386.66it/s, epoch=31.41/30"
     ]
    },
    {
     "name": "stderr",
     "output_type": "stream",
     "text": [
      "\r",
      "Training for 192000 iter, 300.00 epochs:  10%| | 20104/192000 [00:55<07:20, 390.18it/s, epoch=31.41/30"
     ]
    },
    {
     "name": "stderr",
     "output_type": "stream",
     "text": [
      "\r",
      "Training for 192000 iter, 300.00 epochs:  10%| | 20145/192000 [00:55<07:16, 393.51it/s, epoch=31.41/30"
     ]
    },
    {
     "name": "stderr",
     "output_type": "stream",
     "text": [
      "\r",
      "Training for 192000 iter, 300.00 epochs:  10%| | 20145/192000 [00:55<07:16, 393.51it/s, epoch=31.48/30"
     ]
    },
    {
     "name": "stderr",
     "output_type": "stream",
     "text": [
      "\r",
      "Training for 192000 iter, 300.00 epochs:  11%| | 20186/192000 [00:55<07:14, 395.86it/s, epoch=31.48/30"
     ]
    },
    {
     "name": "stderr",
     "output_type": "stream",
     "text": [
      "\r",
      "Training for 192000 iter, 300.00 epochs:  11%| | 20186/192000 [00:55<07:14, 395.86it/s, epoch=31.56/30"
     ]
    },
    {
     "name": "stderr",
     "output_type": "stream",
     "text": [
      "\r",
      "Training for 192000 iter, 300.00 epochs:  11%| | 20226/192000 [00:55<07:12, 396.87it/s, epoch=31.56/30"
     ]
    },
    {
     "name": "stderr",
     "output_type": "stream",
     "text": [
      "\r",
      "Training for 192000 iter, 300.00 epochs:  11%| | 20226/192000 [00:55<07:12, 396.87it/s, epoch=31.64/30"
     ]
    },
    {
     "name": "stderr",
     "output_type": "stream",
     "text": [
      "\r",
      "Training for 192000 iter, 300.00 epochs:  11%| | 20266/192000 [00:55<07:13, 396.48it/s, epoch=31.64/30"
     ]
    },
    {
     "name": "stderr",
     "output_type": "stream",
     "text": [
      "\r",
      "Training for 192000 iter, 300.00 epochs:  11%| | 20266/192000 [00:55<07:13, 396.48it/s, epoch=31.72/30"
     ]
    },
    {
     "name": "stderr",
     "output_type": "stream",
     "text": [
      "\r",
      "Training for 192000 iter, 300.00 epochs:  11%| | 20306/192000 [00:55<07:12, 396.61it/s, epoch=31.72/30"
     ]
    },
    {
     "name": "stderr",
     "output_type": "stream",
     "text": [
      "\r",
      "Training for 192000 iter, 300.00 epochs:  11%| | 20347/192000 [00:56<07:11, 397.87it/s, epoch=31.72/30"
     ]
    },
    {
     "name": "stderr",
     "output_type": "stream",
     "text": [
      "\r",
      "Training for 192000 iter, 300.00 epochs:  11%| | 20347/192000 [00:56<07:11, 397.87it/s, epoch=31.80/30"
     ]
    },
    {
     "name": "stderr",
     "output_type": "stream",
     "text": [
      "\r",
      "Training for 192000 iter, 300.00 epochs:  11%| | 20387/192000 [00:56<07:10, 398.29it/s, epoch=31.80/30"
     ]
    },
    {
     "name": "stderr",
     "output_type": "stream",
     "text": [
      "\r",
      "Training for 192000 iter, 300.00 epochs:  11%| | 20387/192000 [00:56<07:10, 398.29it/s, epoch=31.88/30"
     ]
    },
    {
     "name": "stderr",
     "output_type": "stream",
     "text": [
      "\r",
      "Training for 192000 iter, 300.00 epochs:  11%| | 20428/192000 [00:56<07:07, 401.05it/s, epoch=31.88/30"
     ]
    },
    {
     "name": "stderr",
     "output_type": "stream",
     "text": [
      "\r",
      "Training for 192000 iter, 300.00 epochs:  11%| | 20428/192000 [00:56<07:07, 401.05it/s, epoch=31.95/30"
     ]
    },
    {
     "name": "stderr",
     "output_type": "stream",
     "text": [
      "\r",
      "Training for 192000 iter, 300.00 epochs:  11%| | 20469/192000 [00:56<07:09, 399.39it/s, epoch=31.95/30"
     ]
    },
    {
     "name": "stderr",
     "output_type": "stream",
     "text": [
      "\r",
      "Training for 192000 iter, 300.00 epochs:  11%| | 20469/192000 [00:56<07:09, 399.39it/s, epoch=32.03/30"
     ]
    },
    {
     "name": "stderr",
     "output_type": "stream",
     "text": [
      "\r",
      "Training for 192000 iter, 300.00 epochs:  11%| | 20509/192000 [00:56<07:29, 381.92it/s, epoch=32.03/30"
     ]
    },
    {
     "name": "stderr",
     "output_type": "stream",
     "text": [
      "\r",
      "Training for 192000 iter, 300.00 epochs:  11%| | 20549/192000 [00:56<07:24, 385.68it/s, epoch=32.03/30"
     ]
    },
    {
     "name": "stderr",
     "output_type": "stream",
     "text": [
      "\r",
      "Training for 192000 iter, 300.00 epochs:  11%| | 20549/192000 [00:56<07:24, 385.68it/s, epoch=32.11/30"
     ]
    },
    {
     "name": "stderr",
     "output_type": "stream",
     "text": [
      "\r",
      "Training for 192000 iter, 300.00 epochs:  11%| | 20590/192000 [00:56<07:17, 392.22it/s, epoch=32.11/30"
     ]
    },
    {
     "name": "stderr",
     "output_type": "stream",
     "text": [
      "\r",
      "Training for 192000 iter, 300.00 epochs:  11%| | 20590/192000 [00:56<07:17, 392.22it/s, epoch=32.19/30"
     ]
    },
    {
     "name": "stderr",
     "output_type": "stream",
     "text": [
      "\r",
      "Training for 192000 iter, 300.00 epochs:  11%| | 20630/192000 [00:56<07:17, 391.78it/s, epoch=32.19/30"
     ]
    },
    {
     "name": "stderr",
     "output_type": "stream",
     "text": [
      "\r",
      "Training for 192000 iter, 300.00 epochs:  11%| | 20630/192000 [00:56<07:17, 391.78it/s, epoch=32.27/30"
     ]
    },
    {
     "name": "stderr",
     "output_type": "stream",
     "text": [
      "\r",
      "Training for 192000 iter, 300.00 epochs:  11%| | 20670/192000 [00:56<07:32, 378.56it/s, epoch=32.27/30"
     ]
    },
    {
     "name": "stderr",
     "output_type": "stream",
     "text": [
      "\r",
      "Training for 192000 iter, 300.00 epochs:  11%| | 20670/192000 [00:57<07:32, 378.56it/s, epoch=32.34/30"
     ]
    },
    {
     "name": "stderr",
     "output_type": "stream",
     "text": [
      "\r",
      "Training for 192000 iter, 300.00 epochs:  11%| | 20711/192000 [00:57<07:23, 386.57it/s, epoch=32.34/30"
     ]
    },
    {
     "name": "stderr",
     "output_type": "stream",
     "text": [
      "\r",
      "Training for 192000 iter, 300.00 epochs:  11%| | 20711/192000 [00:57<07:23, 386.57it/s, epoch=32.42/30"
     ]
    },
    {
     "name": "stderr",
     "output_type": "stream",
     "text": [
      "\r",
      "Training for 192000 iter, 300.00 epochs:  11%| | 20752/192000 [00:57<07:18, 390.64it/s, epoch=32.42/30"
     ]
    },
    {
     "name": "stderr",
     "output_type": "stream",
     "text": [
      "\r",
      "Training for 192000 iter, 300.00 epochs:  11%| | 20792/192000 [00:57<07:22, 387.12it/s, epoch=32.42/30"
     ]
    },
    {
     "name": "stderr",
     "output_type": "stream",
     "text": [
      "\r",
      "Training for 192000 iter, 300.00 epochs:  11%| | 20792/192000 [00:57<07:22, 387.12it/s, epoch=32.50/30"
     ]
    },
    {
     "name": "stderr",
     "output_type": "stream",
     "text": [
      "\r",
      "Training for 192000 iter, 300.00 epochs:  11%| | 20833/192000 [00:57<07:15, 393.38it/s, epoch=32.50/30"
     ]
    },
    {
     "name": "stderr",
     "output_type": "stream",
     "text": [
      "\r",
      "Training for 192000 iter, 300.00 epochs:  11%| | 20833/192000 [00:57<07:15, 393.38it/s, epoch=32.58/30"
     ]
    },
    {
     "name": "stderr",
     "output_type": "stream",
     "text": [
      "\r",
      "Training for 192000 iter, 300.00 epochs:  11%| | 20873/192000 [00:57<07:18, 390.49it/s, epoch=32.58/30"
     ]
    },
    {
     "name": "stderr",
     "output_type": "stream",
     "text": [
      "\r",
      "Training for 192000 iter, 300.00 epochs:  11%| | 20873/192000 [00:57<07:18, 390.49it/s, epoch=32.66/30"
     ]
    },
    {
     "name": "stderr",
     "output_type": "stream",
     "text": [
      "\r",
      "Training for 192000 iter, 300.00 epochs:  11%| | 20913/192000 [00:57<07:16, 391.86it/s, epoch=32.66/30"
     ]
    },
    {
     "name": "stderr",
     "output_type": "stream",
     "text": [
      "\r",
      "Training for 192000 iter, 300.00 epochs:  11%| | 20913/192000 [00:57<07:16, 391.86it/s, epoch=32.73/30"
     ]
    },
    {
     "name": "stderr",
     "output_type": "stream",
     "text": [
      "\r",
      "Training for 192000 iter, 300.00 epochs:  11%| | 20953/192000 [00:57<07:13, 394.20it/s, epoch=32.73/30"
     ]
    },
    {
     "name": "stderr",
     "output_type": "stream",
     "text": [
      "\r",
      "Training for 192000 iter, 300.00 epochs:  11%| | 20995/192000 [00:57<07:07, 399.63it/s, epoch=32.73/30"
     ]
    },
    {
     "name": "stderr",
     "output_type": "stream",
     "text": [
      "\r",
      "Training for 192000 iter, 300.00 epochs:  11%| | 20995/192000 [00:57<07:07, 399.63it/s, epoch=32.81/30"
     ]
    },
    {
     "name": "stderr",
     "output_type": "stream",
     "text": [
      "\r",
      "Training for 192000 iter, 300.00 epochs:  11%| | 21037/192000 [00:57<07:04, 402.80it/s, epoch=32.81/30"
     ]
    },
    {
     "name": "stderr",
     "output_type": "stream",
     "text": [
      "\r",
      "Training for 192000 iter, 300.00 epochs:  11%| | 21037/192000 [00:57<07:04, 402.80it/s, epoch=32.89/30"
     ]
    },
    {
     "name": "stderr",
     "output_type": "stream",
     "text": [
      "\r",
      "Training for 192000 iter, 300.00 epochs:  11%| | 21078/192000 [00:57<07:04, 403.09it/s, epoch=32.89/30"
     ]
    },
    {
     "name": "stderr",
     "output_type": "stream",
     "text": [
      "\r",
      "Training for 192000 iter, 300.00 epochs:  11%| | 21078/192000 [00:58<07:04, 403.09it/s, epoch=32.97/30"
     ]
    },
    {
     "name": "stderr",
     "output_type": "stream",
     "text": [
      "\r",
      "Training for 192000 iter, 300.00 epochs:  11%| | 21119/192000 [00:58<07:01, 405.04it/s, epoch=32.97/30"
     ]
    },
    {
     "name": "stderr",
     "output_type": "stream",
     "text": [
      "\r",
      "Training for 192000 iter, 300.00 epochs:  11%| | 21119/192000 [00:58<07:01, 405.04it/s, epoch=33.05/30"
     ]
    },
    {
     "name": "stderr",
     "output_type": "stream",
     "text": [
      "\r",
      "Training for 192000 iter, 300.00 epochs:  11%| | 21160/192000 [00:58<07:18, 389.98it/s, epoch=33.05/30"
     ]
    },
    {
     "name": "stderr",
     "output_type": "stream",
     "text": [
      "\r",
      "Training for 192000 iter, 300.00 epochs:  11%| | 21160/192000 [00:58<07:18, 389.98it/s, epoch=33.12/30"
     ]
    },
    {
     "name": "stderr",
     "output_type": "stream",
     "text": [
      "\r",
      "Training for 192000 iter, 300.00 epochs:  11%| | 21200/192000 [00:58<07:16, 390.97it/s, epoch=33.12/30"
     ]
    },
    {
     "name": "stderr",
     "output_type": "stream",
     "text": [
      "\r",
      "Training for 192000 iter, 300.00 epochs:  11%| | 21242/192000 [00:58<07:10, 396.88it/s, epoch=33.12/30"
     ]
    },
    {
     "name": "stderr",
     "output_type": "stream",
     "text": [
      "\r",
      "Training for 192000 iter, 300.00 epochs:  11%| | 21242/192000 [00:58<07:10, 396.88it/s, epoch=33.20/30"
     ]
    },
    {
     "name": "stderr",
     "output_type": "stream",
     "text": [
      "\r",
      "Training for 192000 iter, 300.00 epochs:  11%| | 21282/192000 [00:58<07:27, 381.30it/s, epoch=33.20/30"
     ]
    },
    {
     "name": "stderr",
     "output_type": "stream",
     "text": [
      "\r",
      "Training for 192000 iter, 300.00 epochs:  11%| | 21282/192000 [00:58<07:27, 381.30it/s, epoch=33.28/30"
     ]
    },
    {
     "name": "stderr",
     "output_type": "stream",
     "text": [
      "\r",
      "Training for 192000 iter, 300.00 epochs:  11%| | 21321/192000 [00:58<07:25, 383.44it/s, epoch=33.28/30"
     ]
    },
    {
     "name": "stderr",
     "output_type": "stream",
     "text": [
      "\r",
      "Training for 192000 iter, 300.00 epochs:  11%| | 21321/192000 [00:58<07:25, 383.44it/s, epoch=33.36/30"
     ]
    },
    {
     "name": "stderr",
     "output_type": "stream",
     "text": [
      "\r",
      "Training for 192000 iter, 300.00 epochs:  11%| | 21360/192000 [00:58<07:27, 381.44it/s, epoch=33.36/30"
     ]
    },
    {
     "name": "stderr",
     "output_type": "stream",
     "text": [
      "\r",
      "Training for 192000 iter, 300.00 epochs:  11%| | 21360/192000 [00:58<07:27, 381.44it/s, epoch=33.44/30"
     ]
    },
    {
     "name": "stderr",
     "output_type": "stream",
     "text": [
      "\r",
      "Training for 192000 iter, 300.00 epochs:  11%| | 21401/192000 [00:58<07:20, 387.61it/s, epoch=33.44/30"
     ]
    },
    {
     "name": "stderr",
     "output_type": "stream",
     "text": [
      "\r",
      "Training for 192000 iter, 300.00 epochs:  11%| | 21442/192000 [00:58<07:14, 392.47it/s, epoch=33.44/30"
     ]
    },
    {
     "name": "stderr",
     "output_type": "stream",
     "text": [
      "\r",
      "Training for 192000 iter, 300.00 epochs:  11%| | 21442/192000 [00:58<07:14, 392.47it/s, epoch=33.52/30"
     ]
    },
    {
     "name": "stderr",
     "output_type": "stream",
     "text": [
      "\r",
      "Training for 192000 iter, 300.00 epochs:  11%| | 21483/192000 [00:59<07:12, 393.99it/s, epoch=33.52/30"
     ]
    },
    {
     "name": "stderr",
     "output_type": "stream",
     "text": [
      "\r",
      "Training for 192000 iter, 300.00 epochs:  11%| | 21483/192000 [00:59<07:12, 393.99it/s, epoch=33.59/30"
     ]
    },
    {
     "name": "stderr",
     "output_type": "stream",
     "text": [
      "\r",
      "Training for 192000 iter, 300.00 epochs:  11%| | 21523/192000 [00:59<07:36, 373.70it/s, epoch=33.59/30"
     ]
    },
    {
     "name": "stderr",
     "output_type": "stream",
     "text": [
      "\r",
      "Training for 192000 iter, 300.00 epochs:  11%| | 21523/192000 [00:59<07:36, 373.70it/s, epoch=33.67/30"
     ]
    },
    {
     "name": "stderr",
     "output_type": "stream",
     "text": [
      "\r",
      "Training for 192000 iter, 300.00 epochs:  11%| | 21563/192000 [00:59<07:27, 381.11it/s, epoch=33.67/30"
     ]
    },
    {
     "name": "stderr",
     "output_type": "stream",
     "text": [
      "\r",
      "Training for 192000 iter, 300.00 epochs:  11%| | 21563/192000 [00:59<07:27, 381.11it/s, epoch=33.75/30"
     ]
    },
    {
     "name": "stderr",
     "output_type": "stream",
     "text": [
      "\r",
      "Training for 192000 iter, 300.00 epochs:  11%| | 21604/192000 [00:59<07:19, 388.07it/s, epoch=33.75/30"
     ]
    },
    {
     "name": "stderr",
     "output_type": "stream",
     "text": [
      "\r",
      "Training for 192000 iter, 300.00 epochs:  11%| | 21644/192000 [00:59<07:15, 391.21it/s, epoch=33.75/30"
     ]
    },
    {
     "name": "stderr",
     "output_type": "stream",
     "text": [
      "\r",
      "Training for 192000 iter, 300.00 epochs:  11%| | 21644/192000 [00:59<07:15, 391.21it/s, epoch=33.83/30"
     ]
    },
    {
     "name": "stderr",
     "output_type": "stream",
     "text": [
      "\r",
      "Training for 192000 iter, 300.00 epochs:  11%| | 21684/192000 [00:59<07:34, 375.00it/s, epoch=33.83/30"
     ]
    },
    {
     "name": "stderr",
     "output_type": "stream",
     "text": [
      "\r",
      "Training for 192000 iter, 300.00 epochs:  11%| | 21684/192000 [00:59<07:34, 375.00it/s, epoch=33.91/30"
     ]
    },
    {
     "name": "stderr",
     "output_type": "stream",
     "text": [
      "\r",
      "Training for 192000 iter, 300.00 epochs:  11%| | 21722/192000 [00:59<07:33, 375.67it/s, epoch=33.91/30"
     ]
    },
    {
     "name": "stderr",
     "output_type": "stream",
     "text": [
      "\r",
      "Training for 192000 iter, 300.00 epochs:  11%| | 21722/192000 [00:59<07:33, 375.67it/s, epoch=33.98/30"
     ]
    },
    {
     "name": "stderr",
     "output_type": "stream",
     "text": [
      "\r",
      "Training for 192000 iter, 300.00 epochs:  11%| | 21760/192000 [00:59<07:38, 371.64it/s, epoch=33.98/30"
     ]
    },
    {
     "name": "stderr",
     "output_type": "stream",
     "text": [
      "\r",
      "Training for 192000 iter, 300.00 epochs:  11%| | 21798/192000 [00:59<07:56, 357.40it/s, epoch=33.98/30"
     ]
    },
    {
     "name": "stderr",
     "output_type": "stream",
     "text": [
      "\r",
      "Training for 192000 iter, 300.00 epochs:  11%| | 21798/192000 [00:59<07:56, 357.40it/s, epoch=34.06/30"
     ]
    },
    {
     "name": "stderr",
     "output_type": "stream",
     "text": [
      "\r",
      "Training for 192000 iter, 300.00 epochs:  11%| | 21836/192000 [00:59<07:48, 363.05it/s, epoch=34.06/30"
     ]
    },
    {
     "name": "stderr",
     "output_type": "stream",
     "text": [
      "\r",
      "Training for 192000 iter, 300.00 epochs:  11%| | 21836/192000 [01:00<07:48, 363.05it/s, epoch=34.14/30"
     ]
    },
    {
     "name": "stderr",
     "output_type": "stream",
     "text": [
      "\r",
      "Training for 192000 iter, 300.00 epochs:  11%| | 21873/192000 [01:00<07:46, 364.33it/s, epoch=34.14/30"
     ]
    },
    {
     "name": "stderr",
     "output_type": "stream",
     "text": [
      "\r",
      "Training for 192000 iter, 300.00 epochs:  11%| | 21873/192000 [01:00<07:46, 364.33it/s, epoch=34.22/30"
     ]
    },
    {
     "name": "stderr",
     "output_type": "stream",
     "text": [
      "\r",
      "Training for 192000 iter, 300.00 epochs:  11%| | 21914/192000 [01:00<07:31, 376.88it/s, epoch=34.22/30"
     ]
    },
    {
     "name": "stderr",
     "output_type": "stream",
     "text": [
      "\r",
      "Training for 192000 iter, 300.00 epochs:  11%| | 21914/192000 [01:00<07:31, 376.88it/s, epoch=34.30/30"
     ]
    },
    {
     "name": "stderr",
     "output_type": "stream",
     "text": [
      "\r",
      "Training for 192000 iter, 300.00 epochs:  11%| | 21953/192000 [01:00<07:27, 379.64it/s, epoch=34.30/30"
     ]
    },
    {
     "name": "stderr",
     "output_type": "stream",
     "text": [
      "\r",
      "Training for 192000 iter, 300.00 epochs:  11%| | 21992/192000 [01:00<07:29, 377.98it/s, epoch=34.30/30"
     ]
    },
    {
     "name": "stderr",
     "output_type": "stream",
     "text": [
      "\r",
      "Training for 192000 iter, 300.00 epochs:  11%| | 21992/192000 [01:00<07:29, 377.98it/s, epoch=34.38/30"
     ]
    },
    {
     "name": "stderr",
     "output_type": "stream",
     "text": [
      "\r",
      "Training for 192000 iter, 300.00 epochs:  11%| | 22030/192000 [01:00<07:35, 373.44it/s, epoch=34.38/30"
     ]
    },
    {
     "name": "stderr",
     "output_type": "stream",
     "text": [
      "\r",
      "Training for 192000 iter, 300.00 epochs:  11%| | 22030/192000 [01:00<07:35, 373.44it/s, epoch=34.45/30"
     ]
    },
    {
     "name": "stderr",
     "output_type": "stream",
     "text": [
      "\r",
      "Training for 192000 iter, 300.00 epochs:  11%| | 22068/192000 [01:00<07:40, 368.92it/s, epoch=34.45/30"
     ]
    },
    {
     "name": "stderr",
     "output_type": "stream",
     "text": [
      "\r",
      "Training for 192000 iter, 300.00 epochs:  11%| | 22068/192000 [01:00<07:40, 368.92it/s, epoch=34.53/30"
     ]
    },
    {
     "name": "stderr",
     "output_type": "stream",
     "text": [
      "\r",
      "Training for 192000 iter, 300.00 epochs:  12%| | 22105/192000 [01:00<07:44, 365.78it/s, epoch=34.53/30"
     ]
    },
    {
     "name": "stderr",
     "output_type": "stream",
     "text": [
      "\r",
      "Training for 192000 iter, 300.00 epochs:  12%| | 22145/192000 [01:00<07:33, 374.52it/s, epoch=34.53/30"
     ]
    },
    {
     "name": "stderr",
     "output_type": "stream",
     "text": [
      "\r",
      "Training for 192000 iter, 300.00 epochs:  12%| | 22145/192000 [01:00<07:33, 374.52it/s, epoch=34.61/30"
     ]
    },
    {
     "name": "stderr",
     "output_type": "stream",
     "text": [
      "\r",
      "Training for 192000 iter, 300.00 epochs:  12%| | 22185/192000 [01:00<07:27, 379.64it/s, epoch=34.61/30"
     ]
    },
    {
     "name": "stderr",
     "output_type": "stream",
     "text": [
      "\r",
      "Training for 192000 iter, 300.00 epochs:  12%| | 22185/192000 [01:00<07:27, 379.64it/s, epoch=34.69/30"
     ]
    },
    {
     "name": "stderr",
     "output_type": "stream",
     "text": [
      "\r",
      "Training for 192000 iter, 300.00 epochs:  12%| | 22226/192000 [01:00<07:18, 386.83it/s, epoch=34.69/30"
     ]
    },
    {
     "name": "stderr",
     "output_type": "stream",
     "text": [
      "\r",
      "Training for 192000 iter, 300.00 epochs:  12%| | 22226/192000 [01:01<07:18, 386.83it/s, epoch=34.77/30"
     ]
    },
    {
     "name": "stderr",
     "output_type": "stream",
     "text": [
      "\r",
      "Training for 192000 iter, 300.00 epochs:  12%| | 22266/192000 [01:01<07:15, 389.70it/s, epoch=34.77/30"
     ]
    },
    {
     "name": "stderr",
     "output_type": "stream",
     "text": [
      "\r",
      "Training for 192000 iter, 300.00 epochs:  12%| | 22266/192000 [01:01<07:15, 389.70it/s, epoch=34.84/30"
     ]
    },
    {
     "name": "stderr",
     "output_type": "stream",
     "text": [
      "\r",
      "Training for 192000 iter, 300.00 epochs:  12%| | 22307/192000 [01:01<07:10, 394.32it/s, epoch=34.84/30"
     ]
    },
    {
     "name": "stderr",
     "output_type": "stream",
     "text": [
      "\r",
      "Training for 192000 iter, 300.00 epochs:  12%| | 22347/192000 [01:01<07:32, 374.63it/s, epoch=34.84/30"
     ]
    },
    {
     "name": "stderr",
     "output_type": "stream",
     "text": [
      "\r",
      "Training for 192000 iter, 300.00 epochs:  12%| | 22347/192000 [01:01<07:32, 374.63it/s, epoch=34.92/30"
     ]
    },
    {
     "name": "stderr",
     "output_type": "stream",
     "text": [
      "\r",
      "Training for 192000 iter, 300.00 epochs:  12%| | 22387/192000 [01:01<07:25, 381.07it/s, epoch=34.92/30"
     ]
    },
    {
     "name": "stderr",
     "output_type": "stream",
     "text": [
      "\r",
      "Training for 192000 iter, 300.00 epochs:  12%| | 22387/192000 [01:01<07:25, 381.07it/s, epoch=35.00/30"
     ]
    },
    {
     "name": "stderr",
     "output_type": "stream",
     "text": [
      "\r",
      "Training for 192000 iter, 300.00 epochs:  12%| | 22426/192000 [01:01<07:38, 369.89it/s, epoch=35.00/30"
     ]
    },
    {
     "name": "stderr",
     "output_type": "stream",
     "text": [
      "\r",
      "Training for 192000 iter, 300.00 epochs:  12%| | 22426/192000 [01:01<07:38, 369.89it/s, epoch=35.08/30"
     ]
    },
    {
     "name": "stderr",
     "output_type": "stream",
     "text": [
      "\r",
      "Training for 192000 iter, 300.00 epochs:  12%| | 22466/192000 [01:01<07:30, 376.28it/s, epoch=35.08/30"
     ]
    },
    {
     "name": "stderr",
     "output_type": "stream",
     "text": [
      "\r",
      "Training for 192000 iter, 300.00 epochs:  12%| | 22466/192000 [01:01<07:30, 376.28it/s, epoch=35.16/30"
     ]
    },
    {
     "name": "stderr",
     "output_type": "stream",
     "text": [
      "\r",
      "Training for 192000 iter, 300.00 epochs:  12%| | 22504/192000 [01:01<07:53, 358.34it/s, epoch=35.16/30"
     ]
    },
    {
     "name": "stderr",
     "output_type": "stream",
     "text": [
      "\r",
      "Training for 192000 iter, 300.00 epochs:  12%| | 22541/192000 [01:01<09:15, 305.26it/s, epoch=35.16/30"
     ]
    },
    {
     "name": "stderr",
     "output_type": "stream",
     "text": [
      "\r",
      "Training for 192000 iter, 300.00 epochs:  12%| | 22541/192000 [01:01<09:15, 305.26it/s, epoch=35.23/30"
     ]
    },
    {
     "name": "stderr",
     "output_type": "stream",
     "text": [
      "\r",
      "Training for 192000 iter, 300.00 epochs:  12%| | 22580/192000 [01:02<08:44, 322.99it/s, epoch=35.23/30"
     ]
    },
    {
     "name": "stderr",
     "output_type": "stream",
     "text": [
      "\r",
      "Training for 192000 iter, 300.00 epochs:  12%| | 22580/192000 [01:02<08:44, 322.99it/s, epoch=35.31/30"
     ]
    },
    {
     "name": "stderr",
     "output_type": "stream",
     "text": [
      "\r",
      "Training for 192000 iter, 300.00 epochs:  12%| | 22619/192000 [01:02<08:17, 340.23it/s, epoch=35.31/30"
     ]
    },
    {
     "name": "stderr",
     "output_type": "stream",
     "text": [
      "\r",
      "Training for 192000 iter, 300.00 epochs:  12%| | 22619/192000 [01:02<08:17, 340.23it/s, epoch=35.39/30"
     ]
    },
    {
     "name": "stderr",
     "output_type": "stream",
     "text": [
      "\r",
      "Training for 192000 iter, 300.00 epochs:  12%| | 22659/192000 [01:02<07:57, 354.33it/s, epoch=35.39/30"
     ]
    },
    {
     "name": "stderr",
     "output_type": "stream",
     "text": [
      "\r",
      "Training for 192000 iter, 300.00 epochs:  12%| | 22696/192000 [01:02<07:56, 355.63it/s, epoch=35.39/30"
     ]
    },
    {
     "name": "stderr",
     "output_type": "stream",
     "text": [
      "\r",
      "Training for 192000 iter, 300.00 epochs:  12%| | 22696/192000 [01:02<07:56, 355.63it/s, epoch=35.47/30"
     ]
    },
    {
     "name": "stderr",
     "output_type": "stream",
     "text": [
      "\r",
      "Training for 192000 iter, 300.00 epochs:  12%| | 22733/192000 [01:02<07:54, 356.71it/s, epoch=35.47/30"
     ]
    },
    {
     "name": "stderr",
     "output_type": "stream",
     "text": [
      "\r",
      "Training for 192000 iter, 300.00 epochs:  12%| | 22733/192000 [01:02<07:54, 356.71it/s, epoch=35.55/30"
     ]
    },
    {
     "name": "stderr",
     "output_type": "stream",
     "text": [
      "\r",
      "Training for 192000 iter, 300.00 epochs:  12%| | 22770/192000 [01:02<08:27, 333.59it/s, epoch=35.55/30"
     ]
    },
    {
     "name": "stderr",
     "output_type": "stream",
     "text": [
      "\r",
      "Training for 192000 iter, 300.00 epochs:  12%| | 22770/192000 [01:02<08:27, 333.59it/s, epoch=35.62/30"
     ]
    },
    {
     "name": "stderr",
     "output_type": "stream",
     "text": [
      "\r",
      "Training for 192000 iter, 300.00 epochs:  12%| | 22804/192000 [01:02<08:29, 332.24it/s, epoch=35.62/30"
     ]
    },
    {
     "name": "stderr",
     "output_type": "stream",
     "text": [
      "\r",
      "Training for 192000 iter, 300.00 epochs:  12%| | 22843/192000 [01:02<08:08, 346.13it/s, epoch=35.62/30"
     ]
    },
    {
     "name": "stderr",
     "output_type": "stream",
     "text": [
      "\r",
      "Training for 192000 iter, 300.00 epochs:  12%| | 22843/192000 [01:02<08:08, 346.13it/s, epoch=35.70/30"
     ]
    },
    {
     "name": "stderr",
     "output_type": "stream",
     "text": [
      "\r",
      "Training for 192000 iter, 300.00 epochs:  12%| | 22883/192000 [01:02<07:50, 359.36it/s, epoch=35.70/30"
     ]
    },
    {
     "name": "stderr",
     "output_type": "stream",
     "text": [
      "\r",
      "Training for 192000 iter, 300.00 epochs:  12%| | 22883/192000 [01:02<07:50, 359.36it/s, epoch=35.78/30"
     ]
    },
    {
     "name": "stderr",
     "output_type": "stream",
     "text": [
      "\r",
      "Training for 192000 iter, 300.00 epochs:  12%| | 22920/192000 [01:02<08:11, 343.83it/s, epoch=35.78/30"
     ]
    },
    {
     "name": "stderr",
     "output_type": "stream",
     "text": [
      "\r",
      "Training for 192000 iter, 300.00 epochs:  12%| | 22920/192000 [01:03<08:11, 343.83it/s, epoch=35.86/30"
     ]
    },
    {
     "name": "stderr",
     "output_type": "stream",
     "text": [
      "\r",
      "Training for 192000 iter, 300.00 epochs:  12%| | 22959/192000 [01:03<07:58, 353.27it/s, epoch=35.86/30"
     ]
    },
    {
     "name": "stderr",
     "output_type": "stream",
     "text": [
      "\r",
      "Training for 192000 iter, 300.00 epochs:  12%| | 22997/192000 [01:03<07:48, 360.59it/s, epoch=35.86/30"
     ]
    },
    {
     "name": "stderr",
     "output_type": "stream",
     "text": [
      "\r",
      "Training for 192000 iter, 300.00 epochs:  12%| | 22997/192000 [01:03<07:48, 360.59it/s, epoch=35.94/30"
     ]
    },
    {
     "name": "stderr",
     "output_type": "stream",
     "text": [
      "\r",
      "Training for 192000 iter, 300.00 epochs:  12%| | 23036/192000 [01:03<07:40, 366.82it/s, epoch=35.94/30"
     ]
    },
    {
     "name": "stderr",
     "output_type": "stream",
     "text": [
      "\r",
      "Training for 192000 iter, 300.00 epochs:  12%| | 23036/192000 [01:03<07:40, 366.82it/s, epoch=36.02/30"
     ]
    },
    {
     "name": "stderr",
     "output_type": "stream",
     "text": [
      "\r",
      "Training for 192000 iter, 300.00 epochs:  12%| | 23073/192000 [01:03<08:16, 339.94it/s, epoch=36.02/30"
     ]
    },
    {
     "name": "stderr",
     "output_type": "stream",
     "text": [
      "\r",
      "Training for 192000 iter, 300.00 epochs:  12%| | 23073/192000 [01:03<08:16, 339.94it/s, epoch=36.09/30"
     ]
    },
    {
     "name": "stderr",
     "output_type": "stream",
     "text": [
      "\r",
      "Training for 192000 iter, 300.00 epochs:  12%| | 23114/192000 [01:03<07:51, 358.19it/s, epoch=36.09/30"
     ]
    },
    {
     "name": "stderr",
     "output_type": "stream",
     "text": [
      "\r",
      "Training for 192000 iter, 300.00 epochs:  12%| | 23114/192000 [01:03<07:51, 358.19it/s, epoch=36.17/30"
     ]
    },
    {
     "name": "stderr",
     "output_type": "stream",
     "text": [
      "\r",
      "Training for 192000 iter, 300.00 epochs:  12%| | 23156/192000 [01:03<07:32, 373.51it/s, epoch=36.17/30"
     ]
    },
    {
     "name": "stderr",
     "output_type": "stream",
     "text": [
      "\r",
      "Training for 192000 iter, 300.00 epochs:  12%| | 23197/192000 [01:03<07:21, 382.67it/s, epoch=36.17/30"
     ]
    },
    {
     "name": "stderr",
     "output_type": "stream",
     "text": [
      "\r",
      "Training for 192000 iter, 300.00 epochs:  12%| | 23197/192000 [01:03<07:21, 382.67it/s, epoch=36.25/30"
     ]
    },
    {
     "name": "stderr",
     "output_type": "stream",
     "text": [
      "\r",
      "Training for 192000 iter, 300.00 epochs:  12%| | 23239/192000 [01:03<07:11, 390.79it/s, epoch=36.25/30"
     ]
    },
    {
     "name": "stderr",
     "output_type": "stream",
     "text": [
      "\r",
      "Training for 192000 iter, 300.00 epochs:  12%| | 23239/192000 [01:03<07:11, 390.79it/s, epoch=36.33/30"
     ]
    },
    {
     "name": "stderr",
     "output_type": "stream",
     "text": [
      "\r",
      "Training for 192000 iter, 300.00 epochs:  12%| | 23279/192000 [01:03<07:11, 390.83it/s, epoch=36.33/30"
     ]
    },
    {
     "name": "stderr",
     "output_type": "stream",
     "text": [
      "\r",
      "Training for 192000 iter, 300.00 epochs:  12%| | 23279/192000 [01:03<07:11, 390.83it/s, epoch=36.41/30"
     ]
    },
    {
     "name": "stderr",
     "output_type": "stream",
     "text": [
      "\r",
      "Training for 192000 iter, 300.00 epochs:  12%| | 23320/192000 [01:04<07:07, 394.75it/s, epoch=36.41/30"
     ]
    },
    {
     "name": "stderr",
     "output_type": "stream",
     "text": [
      "\r",
      "Training for 192000 iter, 300.00 epochs:  12%| | 23320/192000 [01:04<07:07, 394.75it/s, epoch=36.48/30"
     ]
    },
    {
     "name": "stderr",
     "output_type": "stream",
     "text": [
      "\r",
      "Training for 192000 iter, 300.00 epochs:  12%| | 23360/192000 [01:04<07:15, 387.21it/s, epoch=36.48/30"
     ]
    },
    {
     "name": "stderr",
     "output_type": "stream",
     "text": [
      "\r",
      "Training for 192000 iter, 300.00 epochs:  12%| | 23399/192000 [01:04<07:22, 381.29it/s, epoch=36.48/30"
     ]
    },
    {
     "name": "stderr",
     "output_type": "stream",
     "text": [
      "\r",
      "Training for 192000 iter, 300.00 epochs:  12%| | 23399/192000 [01:04<07:22, 381.29it/s, epoch=36.56/30"
     ]
    },
    {
     "name": "stderr",
     "output_type": "stream",
     "text": [
      "\r",
      "Training for 192000 iter, 300.00 epochs:  12%| | 23438/192000 [01:04<07:21, 381.70it/s, epoch=36.56/30"
     ]
    },
    {
     "name": "stderr",
     "output_type": "stream",
     "text": [
      "\r",
      "Training for 192000 iter, 300.00 epochs:  12%| | 23438/192000 [01:04<07:21, 381.70it/s, epoch=36.64/30"
     ]
    },
    {
     "name": "stderr",
     "output_type": "stream",
     "text": [
      "\r",
      "Training for 192000 iter, 300.00 epochs:  12%| | 23477/192000 [01:04<07:24, 378.96it/s, epoch=36.64/30"
     ]
    },
    {
     "name": "stderr",
     "output_type": "stream",
     "text": [
      "\r",
      "Training for 192000 iter, 300.00 epochs:  12%| | 23477/192000 [01:04<07:24, 378.96it/s, epoch=36.72/30"
     ]
    },
    {
     "name": "stderr",
     "output_type": "stream",
     "text": [
      "\r",
      "Training for 192000 iter, 300.00 epochs:  12%| | 23517/192000 [01:04<07:20, 382.59it/s, epoch=36.72/30"
     ]
    },
    {
     "name": "stderr",
     "output_type": "stream",
     "text": [
      "\r",
      "Training for 192000 iter, 300.00 epochs:  12%| | 23517/192000 [01:04<07:20, 382.59it/s, epoch=36.80/30"
     ]
    },
    {
     "name": "stderr",
     "output_type": "stream",
     "text": [
      "\r",
      "Training for 192000 iter, 300.00 epochs:  12%| | 23556/192000 [01:04<07:18, 384.03it/s, epoch=36.80/30"
     ]
    },
    {
     "name": "stderr",
     "output_type": "stream",
     "text": [
      "\r",
      "Training for 192000 iter, 300.00 epochs:  12%| | 23595/192000 [01:04<07:28, 375.57it/s, epoch=36.80/30"
     ]
    },
    {
     "name": "stderr",
     "output_type": "stream",
     "text": [
      "\r",
      "Training for 192000 iter, 300.00 epochs:  12%| | 23595/192000 [01:04<07:28, 375.57it/s, epoch=36.88/30"
     ]
    },
    {
     "name": "stderr",
     "output_type": "stream",
     "text": [
      "\r",
      "Training for 192000 iter, 300.00 epochs:  12%| | 23633/192000 [01:04<07:28, 375.30it/s, epoch=36.88/30"
     ]
    },
    {
     "name": "stderr",
     "output_type": "stream",
     "text": [
      "\r",
      "Training for 192000 iter, 300.00 epochs:  12%| | 23633/192000 [01:04<07:28, 375.30it/s, epoch=36.95/30"
     ]
    },
    {
     "name": "stderr",
     "output_type": "stream",
     "text": [
      "\r",
      "Training for 192000 iter, 300.00 epochs:  12%| | 23672/192000 [01:04<07:26, 377.35it/s, epoch=36.95/30"
     ]
    },
    {
     "name": "stderr",
     "output_type": "stream",
     "text": [
      "\r",
      "Training for 192000 iter, 300.00 epochs:  12%| | 23672/192000 [01:05<07:26, 377.35it/s, epoch=37.03/30"
     ]
    },
    {
     "name": "stderr",
     "output_type": "stream",
     "text": [
      "\r",
      "Training for 192000 iter, 300.00 epochs:  12%| | 23710/192000 [01:05<07:36, 368.90it/s, epoch=37.03/30"
     ]
    },
    {
     "name": "stderr",
     "output_type": "stream",
     "text": [
      "\r",
      "Training for 192000 iter, 300.00 epochs:  12%| | 23749/192000 [01:05<07:29, 374.30it/s, epoch=37.03/30"
     ]
    },
    {
     "name": "stderr",
     "output_type": "stream",
     "text": [
      "\r",
      "Training for 192000 iter, 300.00 epochs:  12%| | 23749/192000 [01:05<07:29, 374.30it/s, epoch=37.11/30"
     ]
    },
    {
     "name": "stderr",
     "output_type": "stream",
     "text": [
      "\r",
      "Training for 192000 iter, 300.00 epochs:  12%| | 23788/192000 [01:05<07:24, 378.64it/s, epoch=37.11/30"
     ]
    },
    {
     "name": "stderr",
     "output_type": "stream",
     "text": [
      "\r",
      "Training for 192000 iter, 300.00 epochs:  12%| | 23788/192000 [01:05<07:24, 378.64it/s, epoch=37.19/30"
     ]
    },
    {
     "name": "stderr",
     "output_type": "stream",
     "text": [
      "\r",
      "Training for 192000 iter, 300.00 epochs:  12%| | 23829/192000 [01:05<07:15, 386.29it/s, epoch=37.19/30"
     ]
    },
    {
     "name": "stderr",
     "output_type": "stream",
     "text": [
      "\r",
      "Training for 192000 iter, 300.00 epochs:  12%| | 23829/192000 [01:05<07:15, 386.29it/s, epoch=37.27/30"
     ]
    },
    {
     "name": "stderr",
     "output_type": "stream",
     "text": [
      "\r",
      "Training for 192000 iter, 300.00 epochs:  12%| | 23869/192000 [01:05<07:11, 389.65it/s, epoch=37.27/30"
     ]
    },
    {
     "name": "stderr",
     "output_type": "stream",
     "text": [
      "\r",
      "Training for 192000 iter, 300.00 epochs:  12%| | 23869/192000 [01:05<07:11, 389.65it/s, epoch=37.34/30"
     ]
    },
    {
     "name": "stderr",
     "output_type": "stream",
     "text": [
      "\r",
      "Training for 192000 iter, 300.00 epochs:  12%| | 23910/192000 [01:05<07:07, 393.41it/s, epoch=37.34/30"
     ]
    },
    {
     "name": "stderr",
     "output_type": "stream",
     "text": [
      "\r",
      "Training for 192000 iter, 300.00 epochs:  12%| | 23910/192000 [01:05<07:07, 393.41it/s, epoch=37.42/30"
     ]
    },
    {
     "name": "stderr",
     "output_type": "stream",
     "text": [
      "\r",
      "Training for 192000 iter, 300.00 epochs:  12%| | 23951/192000 [01:05<07:04, 395.89it/s, epoch=37.42/30"
     ]
    },
    {
     "name": "stderr",
     "output_type": "stream",
     "text": [
      "\r",
      "Training for 192000 iter, 300.00 epochs:  12%| | 23992/192000 [01:05<07:01, 398.91it/s, epoch=37.42/30"
     ]
    },
    {
     "name": "stderr",
     "output_type": "stream",
     "text": [
      "\r",
      "Training for 192000 iter, 300.00 epochs:  12%| | 23992/192000 [01:05<07:01, 398.91it/s, epoch=37.50/30"
     ]
    },
    {
     "name": "stderr",
     "output_type": "stream",
     "text": [
      "\r",
      "Training for 192000 iter, 300.00 epochs:  13%|▏| 24032/192000 [01:05<07:01, 398.10it/s, epoch=37.50/30"
     ]
    },
    {
     "name": "stderr",
     "output_type": "stream",
     "text": [
      "\r",
      "Training for 192000 iter, 300.00 epochs:  13%|▏| 24032/192000 [01:05<07:01, 398.10it/s, epoch=37.58/30"
     ]
    },
    {
     "name": "stderr",
     "output_type": "stream",
     "text": [
      "\r",
      "Training for 192000 iter, 300.00 epochs:  13%|▏| 24072/192000 [01:05<07:02, 397.39it/s, epoch=37.58/30"
     ]
    },
    {
     "name": "stderr",
     "output_type": "stream",
     "text": [
      "\r",
      "Training for 192000 iter, 300.00 epochs:  13%|▏| 24072/192000 [01:06<07:02, 397.39it/s, epoch=37.66/30"
     ]
    },
    {
     "name": "stderr",
     "output_type": "stream",
     "text": [
      "\r",
      "Training for 192000 iter, 300.00 epochs:  13%|▏| 24112/192000 [01:06<07:03, 396.83it/s, epoch=37.66/30"
     ]
    },
    {
     "name": "stderr",
     "output_type": "stream",
     "text": [
      "\r",
      "Training for 192000 iter, 300.00 epochs:  13%|▏| 24112/192000 [01:06<07:03, 396.83it/s, epoch=37.73/30"
     ]
    },
    {
     "name": "stderr",
     "output_type": "stream",
     "text": [
      "\r",
      "Training for 192000 iter, 300.00 epochs:  13%|▏| 24152/192000 [01:06<07:02, 397.08it/s, epoch=37.73/30"
     ]
    },
    {
     "name": "stderr",
     "output_type": "stream",
     "text": [
      "\r",
      "Training for 192000 iter, 300.00 epochs:  13%|▏| 24192/192000 [01:06<07:21, 380.21it/s, epoch=37.73/30"
     ]
    },
    {
     "name": "stderr",
     "output_type": "stream",
     "text": [
      "\r",
      "Training for 192000 iter, 300.00 epochs:  13%|▏| 24192/192000 [01:06<07:21, 380.21it/s, epoch=37.81/30"
     ]
    },
    {
     "name": "stderr",
     "output_type": "stream",
     "text": [
      "\r",
      "Training for 192000 iter, 300.00 epochs:  13%|▏| 24233/192000 [01:06<07:14, 386.09it/s, epoch=37.81/30"
     ]
    },
    {
     "name": "stderr",
     "output_type": "stream",
     "text": [
      "\r",
      "Training for 192000 iter, 300.00 epochs:  13%|▏| 24233/192000 [01:06<07:14, 386.09it/s, epoch=37.89/30"
     ]
    },
    {
     "name": "stderr",
     "output_type": "stream",
     "text": [
      "\r",
      "Training for 192000 iter, 300.00 epochs:  13%|▏| 24273/192000 [01:06<07:10, 389.38it/s, epoch=37.89/30"
     ]
    },
    {
     "name": "stderr",
     "output_type": "stream",
     "text": [
      "\r",
      "Training for 192000 iter, 300.00 epochs:  13%|▏| 24273/192000 [01:06<07:10, 389.38it/s, epoch=37.97/30"
     ]
    },
    {
     "name": "stderr",
     "output_type": "stream",
     "text": [
      "\r",
      "Training for 192000 iter, 300.00 epochs:  13%|▏| 24313/192000 [01:06<07:10, 389.96it/s, epoch=37.97/30"
     ]
    },
    {
     "name": "stderr",
     "output_type": "stream",
     "text": [
      "\r",
      "Training for 192000 iter, 300.00 epochs:  13%|▏| 24313/192000 [01:06<07:10, 389.96it/s, epoch=38.05/30"
     ]
    },
    {
     "name": "stderr",
     "output_type": "stream",
     "text": [
      "\r",
      "Training for 192000 iter, 300.00 epochs:  13%|▏| 24353/192000 [01:06<07:28, 374.15it/s, epoch=38.05/30"
     ]
    },
    {
     "name": "stderr",
     "output_type": "stream",
     "text": [
      "\r",
      "Training for 192000 iter, 300.00 epochs:  13%|▏| 24391/192000 [01:06<07:32, 370.55it/s, epoch=38.05/30"
     ]
    },
    {
     "name": "stderr",
     "output_type": "stream",
     "text": [
      "\r",
      "Training for 192000 iter, 300.00 epochs:  13%|▏| 24391/192000 [01:06<07:32, 370.55it/s, epoch=38.12/30"
     ]
    },
    {
     "name": "stderr",
     "output_type": "stream",
     "text": [
      "\r",
      "Training for 192000 iter, 300.00 epochs:  13%|▏| 24431/192000 [01:06<07:24, 376.62it/s, epoch=38.12/30"
     ]
    },
    {
     "name": "stderr",
     "output_type": "stream",
     "text": [
      "\r",
      "Training for 192000 iter, 300.00 epochs:  13%|▏| 24431/192000 [01:06<07:24, 376.62it/s, epoch=38.20/30"
     ]
    },
    {
     "name": "stderr",
     "output_type": "stream",
     "text": [
      "\r",
      "Training for 192000 iter, 300.00 epochs:  13%|▏| 24470/192000 [01:07<07:20, 380.47it/s, epoch=38.20/30"
     ]
    },
    {
     "name": "stderr",
     "output_type": "stream",
     "text": [
      "\r",
      "Training for 192000 iter, 300.00 epochs:  13%|▏| 24470/192000 [01:07<07:20, 380.47it/s, epoch=38.28/30"
     ]
    },
    {
     "name": "stderr",
     "output_type": "stream",
     "text": [
      "\r",
      "Training for 192000 iter, 300.00 epochs:  13%|▏| 24510/192000 [01:07<07:14, 385.47it/s, epoch=38.28/30"
     ]
    },
    {
     "name": "stderr",
     "output_type": "stream",
     "text": [
      "\r",
      "Training for 192000 iter, 300.00 epochs:  13%|▏| 24510/192000 [01:07<07:14, 385.47it/s, epoch=38.36/30"
     ]
    },
    {
     "name": "stderr",
     "output_type": "stream",
     "text": [
      "\r",
      "Training for 192000 iter, 300.00 epochs:  13%|▏| 24550/192000 [01:07<07:11, 388.03it/s, epoch=38.36/30"
     ]
    },
    {
     "name": "stderr",
     "output_type": "stream",
     "text": [
      "\r",
      "Training for 192000 iter, 300.00 epochs:  13%|▏| 24590/192000 [01:07<07:08, 390.78it/s, epoch=38.36/30"
     ]
    },
    {
     "name": "stderr",
     "output_type": "stream",
     "text": [
      "\r",
      "Training for 192000 iter, 300.00 epochs:  13%|▏| 24590/192000 [01:07<07:08, 390.78it/s, epoch=38.44/30"
     ]
    },
    {
     "name": "stderr",
     "output_type": "stream",
     "text": [
      "\r",
      "Training for 192000 iter, 300.00 epochs:  13%|▏| 24631/192000 [01:07<07:03, 395.07it/s, epoch=38.44/30"
     ]
    },
    {
     "name": "stderr",
     "output_type": "stream",
     "text": [
      "\r",
      "Training for 192000 iter, 300.00 epochs:  13%|▏| 24631/192000 [01:07<07:03, 395.07it/s, epoch=38.52/30"
     ]
    },
    {
     "name": "stderr",
     "output_type": "stream",
     "text": [
      "\r",
      "Training for 192000 iter, 300.00 epochs:  13%|▏| 24672/192000 [01:07<07:01, 396.67it/s, epoch=38.52/30"
     ]
    },
    {
     "name": "stderr",
     "output_type": "stream",
     "text": [
      "\r",
      "Training for 192000 iter, 300.00 epochs:  13%|▏| 24672/192000 [01:07<07:01, 396.67it/s, epoch=38.59/30"
     ]
    },
    {
     "name": "stderr",
     "output_type": "stream",
     "text": [
      "\r",
      "Training for 192000 iter, 300.00 epochs:  13%|▏| 24712/192000 [01:07<07:01, 397.17it/s, epoch=38.59/30"
     ]
    },
    {
     "name": "stderr",
     "output_type": "stream",
     "text": [
      "\r",
      "Training for 192000 iter, 300.00 epochs:  13%|▏| 24712/192000 [01:07<07:01, 397.17it/s, epoch=38.67/30"
     ]
    },
    {
     "name": "stderr",
     "output_type": "stream",
     "text": [
      "\r",
      "Training for 192000 iter, 300.00 epochs:  13%|▏| 24753/192000 [01:07<06:59, 398.21it/s, epoch=38.67/30"
     ]
    },
    {
     "name": "stderr",
     "output_type": "stream",
     "text": [
      "\r",
      "Training for 192000 iter, 300.00 epochs:  13%|▏| 24793/192000 [01:07<06:59, 398.43it/s, epoch=38.67/30"
     ]
    },
    {
     "name": "stderr",
     "output_type": "stream",
     "text": [
      "\r",
      "Training for 192000 iter, 300.00 epochs:  13%|▏| 24793/192000 [01:07<06:59, 398.43it/s, epoch=38.75/30"
     ]
    },
    {
     "name": "stderr",
     "output_type": "stream",
     "text": [
      "\r",
      "Training for 192000 iter, 300.00 epochs:  13%|▏| 24833/192000 [01:07<07:00, 397.63it/s, epoch=38.75/30"
     ]
    },
    {
     "name": "stderr",
     "output_type": "stream",
     "text": [
      "\r",
      "Training for 192000 iter, 300.00 epochs:  13%|▏| 24833/192000 [01:07<07:00, 397.63it/s, epoch=38.83/30"
     ]
    },
    {
     "name": "stderr",
     "output_type": "stream",
     "text": [
      "\r",
      "Training for 192000 iter, 300.00 epochs:  13%|▏| 24873/192000 [01:08<07:01, 396.62it/s, epoch=38.83/30"
     ]
    },
    {
     "name": "stderr",
     "output_type": "stream",
     "text": [
      "\r",
      "Training for 192000 iter, 300.00 epochs:  13%|▏| 24873/192000 [01:08<07:01, 396.62it/s, epoch=38.91/30"
     ]
    },
    {
     "name": "stderr",
     "output_type": "stream",
     "text": [
      "\r",
      "Training for 192000 iter, 300.00 epochs:  13%|▏| 24913/192000 [01:08<07:01, 396.75it/s, epoch=38.91/30"
     ]
    },
    {
     "name": "stderr",
     "output_type": "stream",
     "text": [
      "\r",
      "Training for 192000 iter, 300.00 epochs:  13%|▏| 24913/192000 [01:08<07:01, 396.75it/s, epoch=38.98/30"
     ]
    },
    {
     "name": "stderr",
     "output_type": "stream",
     "text": [
      "\r",
      "Training for 192000 iter, 300.00 epochs:  13%|▏| 24953/192000 [01:08<07:11, 387.39it/s, epoch=38.98/30"
     ]
    },
    {
     "name": "stderr",
     "output_type": "stream",
     "text": [
      "\r",
      "Training for 192000 iter, 300.00 epochs:  13%|▏| 24992/192000 [01:08<07:35, 366.42it/s, epoch=38.98/30"
     ]
    },
    {
     "name": "stderr",
     "output_type": "stream",
     "text": [
      "\r",
      "Training for 192000 iter, 300.00 epochs:  13%|▏| 24992/192000 [01:08<07:35, 366.42it/s, epoch=39.06/30"
     ]
    },
    {
     "name": "stderr",
     "output_type": "stream",
     "text": [
      "\r",
      "Training for 192000 iter, 300.00 epochs:  13%|▏| 25029/192000 [01:08<07:42, 360.90it/s, epoch=39.06/30"
     ]
    },
    {
     "name": "stderr",
     "output_type": "stream",
     "text": [
      "\r",
      "Training for 192000 iter, 300.00 epochs:  13%|▏| 25029/192000 [01:08<07:42, 360.90it/s, epoch=39.14/30"
     ]
    },
    {
     "name": "stderr",
     "output_type": "stream",
     "text": [
      "\r",
      "Training for 192000 iter, 300.00 epochs:  13%|▏| 25066/192000 [01:08<07:44, 359.26it/s, epoch=39.14/30"
     ]
    },
    {
     "name": "stderr",
     "output_type": "stream",
     "text": [
      "\r",
      "Training for 192000 iter, 300.00 epochs:  13%|▏| 25066/192000 [01:08<07:44, 359.26it/s, epoch=39.22/30"
     ]
    },
    {
     "name": "stderr",
     "output_type": "stream",
     "text": [
      "\r",
      "Training for 192000 iter, 300.00 epochs:  13%|▏| 25104/192000 [01:08<07:38, 364.26it/s, epoch=39.22/30"
     ]
    },
    {
     "name": "stderr",
     "output_type": "stream",
     "text": [
      "\r",
      "Training for 192000 iter, 300.00 epochs:  13%|▏| 25144/192000 [01:08<07:28, 372.21it/s, epoch=39.22/30"
     ]
    },
    {
     "name": "stderr",
     "output_type": "stream",
     "text": [
      "\r",
      "Training for 192000 iter, 300.00 epochs:  13%|▏| 25144/192000 [01:08<07:28, 372.21it/s, epoch=39.30/30"
     ]
    },
    {
     "name": "stderr",
     "output_type": "stream",
     "text": [
      "\r",
      "Training for 192000 iter, 300.00 epochs:  13%|▏| 25183/192000 [01:08<07:23, 375.81it/s, epoch=39.30/30"
     ]
    },
    {
     "name": "stderr",
     "output_type": "stream",
     "text": [
      "\r",
      "Training for 192000 iter, 300.00 epochs:  13%|▏| 25183/192000 [01:08<07:23, 375.81it/s, epoch=39.38/30"
     ]
    },
    {
     "name": "stderr",
     "output_type": "stream",
     "text": [
      "\r",
      "Training for 192000 iter, 300.00 epochs:  13%|▏| 25222/192000 [01:08<07:19, 379.87it/s, epoch=39.38/30"
     ]
    },
    {
     "name": "stderr",
     "output_type": "stream",
     "text": [
      "\r",
      "Training for 192000 iter, 300.00 epochs:  13%|▏| 25222/192000 [01:09<07:19, 379.87it/s, epoch=39.45/30"
     ]
    },
    {
     "name": "stderr",
     "output_type": "stream",
     "text": [
      "\r",
      "Training for 192000 iter, 300.00 epochs:  13%|▏| 25261/192000 [01:09<07:21, 378.07it/s, epoch=39.45/30"
     ]
    },
    {
     "name": "stderr",
     "output_type": "stream",
     "text": [
      "\r",
      "Training for 192000 iter, 300.00 epochs:  13%|▏| 25261/192000 [01:09<07:21, 378.07it/s, epoch=39.53/30"
     ]
    },
    {
     "name": "stderr",
     "output_type": "stream",
     "text": [
      "\r",
      "Training for 192000 iter, 300.00 epochs:  13%|▏| 25301/192000 [01:09<07:15, 383.18it/s, epoch=39.53/30"
     ]
    },
    {
     "name": "stderr",
     "output_type": "stream",
     "text": [
      "\r",
      "Training for 192000 iter, 300.00 epochs:  13%|▏| 25342/192000 [01:09<07:09, 388.07it/s, epoch=39.53/30"
     ]
    },
    {
     "name": "stderr",
     "output_type": "stream",
     "text": [
      "\r",
      "Training for 192000 iter, 300.00 epochs:  13%|▏| 25342/192000 [01:09<07:09, 388.07it/s, epoch=39.61/30"
     ]
    },
    {
     "name": "stderr",
     "output_type": "stream",
     "text": [
      "\r",
      "Training for 192000 iter, 300.00 epochs:  13%|▏| 25381/192000 [01:09<07:28, 371.87it/s, epoch=39.61/30"
     ]
    },
    {
     "name": "stderr",
     "output_type": "stream",
     "text": [
      "\r",
      "Training for 192000 iter, 300.00 epochs:  13%|▏| 25381/192000 [01:09<07:28, 371.87it/s, epoch=39.69/30"
     ]
    },
    {
     "name": "stderr",
     "output_type": "stream",
     "text": [
      "\r",
      "Training for 192000 iter, 300.00 epochs:  13%|▏| 25419/192000 [01:09<07:37, 364.40it/s, epoch=39.69/30"
     ]
    },
    {
     "name": "stderr",
     "output_type": "stream",
     "text": [
      "\r",
      "Training for 192000 iter, 300.00 epochs:  13%|▏| 25419/192000 [01:09<07:37, 364.40it/s, epoch=39.77/30"
     ]
    },
    {
     "name": "stderr",
     "output_type": "stream",
     "text": [
      "\r",
      "Training for 192000 iter, 300.00 epochs:  13%|▏| 25459/192000 [01:09<07:24, 374.40it/s, epoch=39.77/30"
     ]
    },
    {
     "name": "stderr",
     "output_type": "stream",
     "text": [
      "\r",
      "Training for 192000 iter, 300.00 epochs:  13%|▏| 25459/192000 [01:09<07:24, 374.40it/s, epoch=39.84/30"
     ]
    },
    {
     "name": "stderr",
     "output_type": "stream",
     "text": [
      "\r",
      "Training for 192000 iter, 300.00 epochs:  13%|▏| 25500/192000 [01:09<07:15, 382.55it/s, epoch=39.84/30"
     ]
    },
    {
     "name": "stderr",
     "output_type": "stream",
     "text": [
      "\r",
      "Training for 192000 iter, 300.00 epochs:  13%|▏| 25541/192000 [01:09<07:08, 388.34it/s, epoch=39.84/30"
     ]
    },
    {
     "name": "stderr",
     "output_type": "stream",
     "text": [
      "\r",
      "Training for 192000 iter, 300.00 epochs:  13%|▏| 25541/192000 [01:09<07:08, 388.34it/s, epoch=39.92/30"
     ]
    },
    {
     "name": "stderr",
     "output_type": "stream",
     "text": [
      "\r",
      "Training for 192000 iter, 300.00 epochs:  13%|▏| 25582/192000 [01:09<07:03, 392.98it/s, epoch=39.92/30"
     ]
    },
    {
     "name": "stderr",
     "output_type": "stream",
     "text": [
      "\r",
      "Training for 192000 iter, 300.00 epochs:  13%|▏| 25582/192000 [01:09<07:03, 392.98it/s, epoch=40.00/30"
     ]
    },
    {
     "name": "stderr",
     "output_type": "stream",
     "text": [
      "\r",
      "Training for 192000 iter, 300.00 epochs:  13%|▏| 25622/192000 [01:10<07:23, 375.25it/s, epoch=40.00/30"
     ]
    },
    {
     "name": "stderr",
     "output_type": "stream",
     "text": [
      "\r",
      "Training for 192000 iter, 300.00 epochs:  13%|▏| 25622/192000 [01:10<07:23, 375.25it/s, epoch=40.08/30"
     ]
    },
    {
     "name": "stderr",
     "output_type": "stream",
     "text": [
      "\r",
      "Training for 192000 iter, 300.00 epochs:  13%|▏| 25662/192000 [01:10<07:16, 381.17it/s, epoch=40.08/30"
     ]
    },
    {
     "name": "stderr",
     "output_type": "stream",
     "text": [
      "\r",
      "Training for 192000 iter, 300.00 epochs:  13%|▏| 25662/192000 [01:10<07:16, 381.17it/s, epoch=40.16/30"
     ]
    },
    {
     "name": "stderr",
     "output_type": "stream",
     "text": [
      "\r",
      "Training for 192000 iter, 300.00 epochs:  13%|▏| 25702/192000 [01:10<07:10, 386.37it/s, epoch=40.16/30"
     ]
    },
    {
     "name": "stderr",
     "output_type": "stream",
     "text": [
      "\r",
      "Training for 192000 iter, 300.00 epochs:  13%|▏| 25741/192000 [01:10<07:29, 369.56it/s, epoch=40.16/30"
     ]
    },
    {
     "name": "stderr",
     "output_type": "stream",
     "text": [
      "\r",
      "Training for 192000 iter, 300.00 epochs:  13%|▏| 25741/192000 [01:10<07:29, 369.56it/s, epoch=40.23/30"
     ]
    },
    {
     "name": "stderr",
     "output_type": "stream",
     "text": [
      "\r",
      "Training for 192000 iter, 300.00 epochs:  13%|▏| 25780/192000 [01:10<07:24, 374.15it/s, epoch=40.23/30"
     ]
    },
    {
     "name": "stderr",
     "output_type": "stream",
     "text": [
      "\r",
      "Training for 192000 iter, 300.00 epochs:  13%|▏| 25780/192000 [01:10<07:24, 374.15it/s, epoch=40.31/30"
     ]
    },
    {
     "name": "stderr",
     "output_type": "stream",
     "text": [
      "\r",
      "Training for 192000 iter, 300.00 epochs:  13%|▏| 25819/192000 [01:10<07:21, 376.48it/s, epoch=40.31/30"
     ]
    },
    {
     "name": "stderr",
     "output_type": "stream",
     "text": [
      "\r",
      "Training for 192000 iter, 300.00 epochs:  13%|▏| 25819/192000 [01:10<07:21, 376.48it/s, epoch=40.39/30"
     ]
    },
    {
     "name": "stderr",
     "output_type": "stream",
     "text": [
      "\r",
      "Training for 192000 iter, 300.00 epochs:  13%|▏| 25857/192000 [01:10<07:38, 362.03it/s, epoch=40.39/30"
     ]
    },
    {
     "name": "stderr",
     "output_type": "stream",
     "text": [
      "\r",
      "Training for 192000 iter, 300.00 epochs:  13%|▏| 25898/192000 [01:10<07:25, 373.17it/s, epoch=40.39/30"
     ]
    },
    {
     "name": "stderr",
     "output_type": "stream",
     "text": [
      "\r",
      "Training for 192000 iter, 300.00 epochs:  13%|▏| 25898/192000 [01:10<07:25, 373.17it/s, epoch=40.47/30"
     ]
    },
    {
     "name": "stderr",
     "output_type": "stream",
     "text": [
      "\r",
      "Training for 192000 iter, 300.00 epochs:  14%|▏| 25938/192000 [01:10<07:18, 379.10it/s, epoch=40.47/30"
     ]
    },
    {
     "name": "stderr",
     "output_type": "stream",
     "text": [
      "\r",
      "Training for 192000 iter, 300.00 epochs:  14%|▏| 25938/192000 [01:10<07:18, 379.10it/s, epoch=40.55/30"
     ]
    },
    {
     "name": "stderr",
     "output_type": "stream",
     "text": [
      "\r",
      "Training for 192000 iter, 300.00 epochs:  14%|▏| 25977/192000 [01:10<07:14, 381.82it/s, epoch=40.55/30"
     ]
    },
    {
     "name": "stderr",
     "output_type": "stream",
     "text": [
      "\r",
      "Training for 192000 iter, 300.00 epochs:  14%|▏| 25977/192000 [01:11<07:14, 381.82it/s, epoch=40.62/30"
     ]
    },
    {
     "name": "stderr",
     "output_type": "stream",
     "text": [
      "\r",
      "Training for 192000 iter, 300.00 epochs:  14%|▏| 26016/192000 [01:11<07:17, 379.31it/s, epoch=40.62/30"
     ]
    },
    {
     "name": "stderr",
     "output_type": "stream",
     "text": [
      "\r",
      "Training for 192000 iter, 300.00 epochs:  14%|▏| 26016/192000 [01:11<07:17, 379.31it/s, epoch=40.70/30"
     ]
    },
    {
     "name": "stderr",
     "output_type": "stream",
     "text": [
      "\r",
      "Training for 192000 iter, 300.00 epochs:  14%|▏| 26055/192000 [01:11<07:28, 370.16it/s, epoch=40.70/30"
     ]
    },
    {
     "name": "stderr",
     "output_type": "stream",
     "text": [
      "\r",
      "Training for 192000 iter, 300.00 epochs:  14%|▏| 26095/192000 [01:11<07:21, 376.07it/s, epoch=40.70/30"
     ]
    },
    {
     "name": "stderr",
     "output_type": "stream",
     "text": [
      "\r",
      "Training for 192000 iter, 300.00 epochs:  14%|▏| 26095/192000 [01:11<07:21, 376.07it/s, epoch=40.78/30"
     ]
    },
    {
     "name": "stderr",
     "output_type": "stream",
     "text": [
      "\r",
      "Training for 192000 iter, 300.00 epochs:  14%|▏| 26133/192000 [01:11<07:23, 374.32it/s, epoch=40.78/30"
     ]
    },
    {
     "name": "stderr",
     "output_type": "stream",
     "text": [
      "\r",
      "Training for 192000 iter, 300.00 epochs:  14%|▏| 26133/192000 [01:11<07:23, 374.32it/s, epoch=40.86/30"
     ]
    },
    {
     "name": "stderr",
     "output_type": "stream",
     "text": [
      "\r",
      "Training for 192000 iter, 300.00 epochs:  14%|▏| 26171/192000 [01:11<07:36, 363.55it/s, epoch=40.86/30"
     ]
    },
    {
     "name": "stderr",
     "output_type": "stream",
     "text": [
      "\r",
      "Training for 192000 iter, 300.00 epochs:  14%|▏| 26171/192000 [01:11<07:36, 363.55it/s, epoch=40.94/30"
     ]
    },
    {
     "name": "stderr",
     "output_type": "stream",
     "text": [
      "\r",
      "Training for 192000 iter, 300.00 epochs:  14%|▏| 26208/192000 [01:11<07:40, 360.32it/s, epoch=40.94/30"
     ]
    },
    {
     "name": "stderr",
     "output_type": "stream",
     "text": [
      "\r",
      "Training for 192000 iter, 300.00 epochs:  14%|▏| 26245/192000 [01:11<07:56, 347.55it/s, epoch=40.94/30"
     ]
    },
    {
     "name": "stderr",
     "output_type": "stream",
     "text": [
      "\r",
      "Training for 192000 iter, 300.00 epochs:  14%|▏| 26245/192000 [01:11<07:56, 347.55it/s, epoch=41.02/30"
     ]
    },
    {
     "name": "stderr",
     "output_type": "stream",
     "text": [
      "\r",
      "Training for 192000 iter, 300.00 epochs:  14%|▏| 26286/192000 [01:11<07:36, 362.96it/s, epoch=41.02/30"
     ]
    },
    {
     "name": "stderr",
     "output_type": "stream",
     "text": [
      "\r",
      "Training for 192000 iter, 300.00 epochs:  14%|▏| 26286/192000 [01:11<07:36, 362.96it/s, epoch=41.09/30"
     ]
    },
    {
     "name": "stderr",
     "output_type": "stream",
     "text": [
      "\r",
      "Training for 192000 iter, 300.00 epochs:  14%|▏| 26323/192000 [01:11<07:35, 363.36it/s, epoch=41.09/30"
     ]
    },
    {
     "name": "stderr",
     "output_type": "stream",
     "text": [
      "\r",
      "Training for 192000 iter, 300.00 epochs:  14%|▏| 26323/192000 [01:12<07:35, 363.36it/s, epoch=41.17/30"
     ]
    },
    {
     "name": "stderr",
     "output_type": "stream",
     "text": [
      "\r",
      "Training for 192000 iter, 300.00 epochs:  14%|▏| 26364/192000 [01:12<07:21, 375.04it/s, epoch=41.17/30"
     ]
    },
    {
     "name": "stderr",
     "output_type": "stream",
     "text": [
      "\r",
      "Training for 192000 iter, 300.00 epochs:  14%|▏| 26364/192000 [01:12<07:21, 375.04it/s, epoch=41.25/30"
     ]
    },
    {
     "name": "stderr",
     "output_type": "stream",
     "text": [
      "\r",
      "Training for 192000 iter, 300.00 epochs:  14%|▏| 26405/192000 [01:12<07:10, 384.36it/s, epoch=41.25/30"
     ]
    },
    {
     "name": "stderr",
     "output_type": "stream",
     "text": [
      "\r",
      "Training for 192000 iter, 300.00 epochs:  14%|▏| 26445/192000 [01:12<07:09, 385.29it/s, epoch=41.25/30"
     ]
    },
    {
     "name": "stderr",
     "output_type": "stream",
     "text": [
      "\r",
      "Training for 192000 iter, 300.00 epochs:  14%|▏| 26445/192000 [01:12<07:09, 385.29it/s, epoch=41.33/30"
     ]
    },
    {
     "name": "stderr",
     "output_type": "stream",
     "text": [
      "\r",
      "Training for 192000 iter, 300.00 epochs:  14%|▏| 26484/192000 [01:12<07:09, 385.66it/s, epoch=41.33/30"
     ]
    },
    {
     "name": "stderr",
     "output_type": "stream",
     "text": [
      "\r",
      "Training for 192000 iter, 300.00 epochs:  14%|▏| 26484/192000 [01:12<07:09, 385.66it/s, epoch=41.41/30"
     ]
    },
    {
     "name": "stderr",
     "output_type": "stream",
     "text": [
      "\r",
      "Training for 192000 iter, 300.00 epochs:  14%|▏| 26523/192000 [01:12<07:13, 381.45it/s, epoch=41.41/30"
     ]
    },
    {
     "name": "stderr",
     "output_type": "stream",
     "text": [
      "\r",
      "Training for 192000 iter, 300.00 epochs:  14%|▏| 26523/192000 [01:12<07:13, 381.45it/s, epoch=41.48/30"
     ]
    },
    {
     "name": "stderr",
     "output_type": "stream",
     "text": [
      "\r",
      "Training for 192000 iter, 300.00 epochs:  14%|▏| 26564/192000 [01:12<07:05, 388.42it/s, epoch=41.48/30"
     ]
    },
    {
     "name": "stderr",
     "output_type": "stream",
     "text": [
      "\r",
      "Training for 192000 iter, 300.00 epochs:  14%|▏| 26564/192000 [01:12<07:05, 388.42it/s, epoch=41.56/30"
     ]
    },
    {
     "name": "stderr",
     "output_type": "stream",
     "text": [
      "\r",
      "Training for 192000 iter, 300.00 epochs:  14%|▏| 26603/192000 [01:12<07:13, 381.31it/s, epoch=41.56/30"
     ]
    },
    {
     "name": "stderr",
     "output_type": "stream",
     "text": [
      "\r",
      "Training for 192000 iter, 300.00 epochs:  14%|▏| 26642/192000 [01:12<07:14, 380.99it/s, epoch=41.56/30"
     ]
    },
    {
     "name": "stderr",
     "output_type": "stream",
     "text": [
      "\r",
      "Training for 192000 iter, 300.00 epochs:  14%|▏| 26642/192000 [01:12<07:14, 380.99it/s, epoch=41.64/30"
     ]
    },
    {
     "name": "stderr",
     "output_type": "stream",
     "text": [
      "\r",
      "Training for 192000 iter, 300.00 epochs:  14%|▏| 26683/192000 [01:12<07:06, 387.98it/s, epoch=41.64/30"
     ]
    },
    {
     "name": "stderr",
     "output_type": "stream",
     "text": [
      "\r",
      "Training for 192000 iter, 300.00 epochs:  14%|▏| 26683/192000 [01:12<07:06, 387.98it/s, epoch=41.72/30"
     ]
    },
    {
     "name": "stderr",
     "output_type": "stream",
     "text": [
      "\r",
      "Training for 192000 iter, 300.00 epochs:  14%|▏| 26723/192000 [01:12<07:03, 390.31it/s, epoch=41.72/30"
     ]
    },
    {
     "name": "stderr",
     "output_type": "stream",
     "text": [
      "\r",
      "Training for 192000 iter, 300.00 epochs:  14%|▏| 26723/192000 [01:13<07:03, 390.31it/s, epoch=41.80/30"
     ]
    },
    {
     "name": "stderr",
     "output_type": "stream",
     "text": [
      "\r",
      "Training for 192000 iter, 300.00 epochs:  14%|▏| 26763/192000 [01:13<07:01, 391.83it/s, epoch=41.80/30"
     ]
    },
    {
     "name": "stderr",
     "output_type": "stream",
     "text": [
      "\r",
      "Training for 192000 iter, 300.00 epochs:  14%|▏| 26763/192000 [01:13<07:01, 391.83it/s, epoch=41.88/30"
     ]
    },
    {
     "name": "stderr",
     "output_type": "stream",
     "text": [
      "\r",
      "Training for 192000 iter, 300.00 epochs:  14%|▏| 26804/192000 [01:13<06:56, 396.36it/s, epoch=41.88/30"
     ]
    },
    {
     "name": "stderr",
     "output_type": "stream",
     "text": [
      "\r",
      "Training for 192000 iter, 300.00 epochs:  14%|▏| 26845/192000 [01:13<06:55, 397.92it/s, epoch=41.88/30"
     ]
    },
    {
     "name": "stderr",
     "output_type": "stream",
     "text": [
      "\r",
      "Training for 192000 iter, 300.00 epochs:  14%|▏| 26845/192000 [01:13<06:55, 397.92it/s, epoch=41.95/30"
     ]
    },
    {
     "name": "stderr",
     "output_type": "stream",
     "text": [
      "\r",
      "Training for 192000 iter, 300.00 epochs:  14%|▏| 26885/192000 [01:13<07:12, 382.17it/s, epoch=41.95/30"
     ]
    },
    {
     "name": "stderr",
     "output_type": "stream",
     "text": [
      "\r",
      "Training for 192000 iter, 300.00 epochs:  14%|▏| 26885/192000 [01:13<07:12, 382.17it/s, epoch=42.03/30"
     ]
    },
    {
     "name": "stderr",
     "output_type": "stream",
     "text": [
      "\r",
      "Training for 192000 iter, 300.00 epochs:  14%|▏| 26924/192000 [01:13<07:14, 379.51it/s, epoch=42.03/30"
     ]
    },
    {
     "name": "stderr",
     "output_type": "stream",
     "text": [
      "\r",
      "Training for 192000 iter, 300.00 epochs:  14%|▏| 26924/192000 [01:13<07:14, 379.51it/s, epoch=42.11/30"
     ]
    },
    {
     "name": "stderr",
     "output_type": "stream",
     "text": [
      "\r",
      "Training for 192000 iter, 300.00 epochs:  14%|▏| 26964/192000 [01:13<07:11, 382.26it/s, epoch=42.11/30"
     ]
    },
    {
     "name": "stderr",
     "output_type": "stream",
     "text": [
      "\r",
      "Training for 192000 iter, 300.00 epochs:  14%|▏| 26964/192000 [01:13<07:11, 382.26it/s, epoch=42.19/30"
     ]
    },
    {
     "name": "stderr",
     "output_type": "stream",
     "text": [
      "\r",
      "Training for 192000 iter, 300.00 epochs:  14%|▏| 27003/192000 [01:13<07:11, 382.82it/s, epoch=42.19/30"
     ]
    },
    {
     "name": "stderr",
     "output_type": "stream",
     "text": [
      "\r",
      "Training for 192000 iter, 300.00 epochs:  14%|▏| 27042/192000 [01:13<07:11, 382.15it/s, epoch=42.19/30"
     ]
    },
    {
     "name": "stderr",
     "output_type": "stream",
     "text": [
      "\r",
      "Training for 192000 iter, 300.00 epochs:  14%|▏| 27042/192000 [01:13<07:11, 382.15it/s, epoch=42.27/30"
     ]
    },
    {
     "name": "stderr",
     "output_type": "stream",
     "text": [
      "\r",
      "Training for 192000 iter, 300.00 epochs:  14%|▏| 27081/192000 [01:13<07:10, 383.03it/s, epoch=42.27/30"
     ]
    },
    {
     "name": "stderr",
     "output_type": "stream",
     "text": [
      "\r",
      "Training for 192000 iter, 300.00 epochs:  14%|▏| 27081/192000 [01:13<07:10, 383.03it/s, epoch=42.34/30"
     ]
    },
    {
     "name": "stderr",
     "output_type": "stream",
     "text": [
      "\r",
      "Training for 192000 iter, 300.00 epochs:  14%|▏| 27120/192000 [01:13<07:11, 381.95it/s, epoch=42.34/30"
     ]
    },
    {
     "name": "stderr",
     "output_type": "stream",
     "text": [
      "\r",
      "Training for 192000 iter, 300.00 epochs:  14%|▏| 27120/192000 [01:14<07:11, 381.95it/s, epoch=42.42/30"
     ]
    },
    {
     "name": "stderr",
     "output_type": "stream",
     "text": [
      "\r",
      "Training for 192000 iter, 300.00 epochs:  14%|▏| 27159/192000 [01:14<07:21, 373.23it/s, epoch=42.42/30"
     ]
    },
    {
     "name": "stderr",
     "output_type": "stream",
     "text": [
      "\r",
      "Training for 192000 iter, 300.00 epochs:  14%|▏| 27159/192000 [01:14<07:21, 373.23it/s, epoch=42.50/30"
     ]
    },
    {
     "name": "stderr",
     "output_type": "stream",
     "text": [
      "\r",
      "Training for 192000 iter, 300.00 epochs:  14%|▏| 27200/192000 [01:14<07:10, 382.64it/s, epoch=42.50/30"
     ]
    },
    {
     "name": "stderr",
     "output_type": "stream",
     "text": [
      "\r",
      "Training for 192000 iter, 300.00 epochs:  14%|▏| 27239/192000 [01:14<07:35, 361.84it/s, epoch=42.50/30"
     ]
    },
    {
     "name": "stderr",
     "output_type": "stream",
     "text": [
      "\r",
      "Training for 192000 iter, 300.00 epochs:  14%|▏| 27239/192000 [01:14<07:35, 361.84it/s, epoch=42.58/30"
     ]
    },
    {
     "name": "stderr",
     "output_type": "stream",
     "text": [
      "\r",
      "Training for 192000 iter, 300.00 epochs:  14%|▏| 27278/192000 [01:14<07:25, 369.41it/s, epoch=42.58/30"
     ]
    },
    {
     "name": "stderr",
     "output_type": "stream",
     "text": [
      "\r",
      "Training for 192000 iter, 300.00 epochs:  14%|▏| 27278/192000 [01:14<07:25, 369.41it/s, epoch=42.66/30"
     ]
    },
    {
     "name": "stderr",
     "output_type": "stream",
     "text": [
      "\r",
      "Training for 192000 iter, 300.00 epochs:  14%|▏| 27319/192000 [01:14<07:13, 380.09it/s, epoch=42.66/30"
     ]
    },
    {
     "name": "stderr",
     "output_type": "stream",
     "text": [
      "\r",
      "Training for 192000 iter, 300.00 epochs:  14%|▏| 27319/192000 [01:14<07:13, 380.09it/s, epoch=42.73/30"
     ]
    },
    {
     "name": "stderr",
     "output_type": "stream",
     "text": [
      "\r",
      "Training for 192000 iter, 300.00 epochs:  14%|▏| 27359/192000 [01:14<07:09, 383.55it/s, epoch=42.73/30"
     ]
    },
    {
     "name": "stderr",
     "output_type": "stream",
     "text": [
      "\r",
      "Training for 192000 iter, 300.00 epochs:  14%|▏| 27398/192000 [01:14<07:07, 384.61it/s, epoch=42.73/30"
     ]
    },
    {
     "name": "stderr",
     "output_type": "stream",
     "text": [
      "\r",
      "Training for 192000 iter, 300.00 epochs:  14%|▏| 27398/192000 [01:14<07:07, 384.61it/s, epoch=42.81/30"
     ]
    },
    {
     "name": "stderr",
     "output_type": "stream",
     "text": [
      "\r",
      "Training for 192000 iter, 300.00 epochs:  14%|▏| 27437/192000 [01:14<07:14, 379.00it/s, epoch=42.81/30"
     ]
    },
    {
     "name": "stderr",
     "output_type": "stream",
     "text": [
      "\r",
      "Training for 192000 iter, 300.00 epochs:  14%|▏| 27437/192000 [01:14<07:14, 379.00it/s, epoch=42.89/30"
     ]
    },
    {
     "name": "stderr",
     "output_type": "stream",
     "text": [
      "\r",
      "Training for 192000 iter, 300.00 epochs:  14%|▏| 27478/192000 [01:14<07:04, 387.29it/s, epoch=42.89/30"
     ]
    },
    {
     "name": "stderr",
     "output_type": "stream",
     "text": [
      "\r",
      "Training for 192000 iter, 300.00 epochs:  14%|▏| 27478/192000 [01:14<07:04, 387.29it/s, epoch=42.97/30"
     ]
    },
    {
     "name": "stderr",
     "output_type": "stream",
     "text": [
      "\r",
      "Training for 192000 iter, 300.00 epochs:  14%|▏| 27520/192000 [01:15<06:57, 394.32it/s, epoch=42.97/30"
     ]
    },
    {
     "name": "stderr",
     "output_type": "stream",
     "text": [
      "\r",
      "Training for 192000 iter, 300.00 epochs:  14%|▏| 27520/192000 [01:15<06:57, 394.32it/s, epoch=43.05/30"
     ]
    },
    {
     "name": "stderr",
     "output_type": "stream",
     "text": [
      "\r",
      "Training for 192000 iter, 300.00 epochs:  14%|▏| 27560/192000 [01:15<08:07, 337.08it/s, epoch=43.05/30"
     ]
    },
    {
     "name": "stderr",
     "output_type": "stream",
     "text": [
      "\r",
      "Training for 192000 iter, 300.00 epochs:  14%|▏| 27560/192000 [01:15<08:07, 337.08it/s, epoch=43.12/30"
     ]
    },
    {
     "name": "stderr",
     "output_type": "stream",
     "text": [
      "\r",
      "Training for 192000 iter, 300.00 epochs:  14%|▏| 27601/192000 [01:15<07:43, 354.73it/s, epoch=43.12/30"
     ]
    },
    {
     "name": "stderr",
     "output_type": "stream",
     "text": [
      "\r",
      "Training for 192000 iter, 300.00 epochs:  14%|▏| 27640/192000 [01:15<07:33, 362.20it/s, epoch=43.12/30"
     ]
    },
    {
     "name": "stderr",
     "output_type": "stream",
     "text": [
      "\r",
      "Training for 192000 iter, 300.00 epochs:  14%|▏| 27640/192000 [01:15<07:33, 362.20it/s, epoch=43.20/30"
     ]
    },
    {
     "name": "stderr",
     "output_type": "stream",
     "text": [
      "\r",
      "Training for 192000 iter, 300.00 epochs:  14%|▏| 27678/192000 [01:15<08:00, 342.29it/s, epoch=43.20/30"
     ]
    },
    {
     "name": "stderr",
     "output_type": "stream",
     "text": [
      "\r",
      "Training for 192000 iter, 300.00 epochs:  14%|▏| 27678/192000 [01:15<08:00, 342.29it/s, epoch=43.28/30"
     ]
    },
    {
     "name": "stderr",
     "output_type": "stream",
     "text": [
      "\r",
      "Training for 192000 iter, 300.00 epochs:  14%|▏| 27716/192000 [01:15<07:48, 350.92it/s, epoch=43.28/30"
     ]
    },
    {
     "name": "stderr",
     "output_type": "stream",
     "text": [
      "\r",
      "Training for 192000 iter, 300.00 epochs:  14%|▏| 27716/192000 [01:15<07:48, 350.92it/s, epoch=43.36/30"
     ]
    },
    {
     "name": "stderr",
     "output_type": "stream",
     "text": [
      "\r",
      "Training for 192000 iter, 300.00 epochs:  14%|▏| 27754/192000 [01:15<07:41, 355.93it/s, epoch=43.36/30"
     ]
    },
    {
     "name": "stderr",
     "output_type": "stream",
     "text": [
      "\r",
      "Training for 192000 iter, 300.00 epochs:  14%|▏| 27794/192000 [01:15<07:25, 368.22it/s, epoch=43.36/30"
     ]
    },
    {
     "name": "stderr",
     "output_type": "stream",
     "text": [
      "\r",
      "Training for 192000 iter, 300.00 epochs:  14%|▏| 27794/192000 [01:15<07:25, 368.22it/s, epoch=43.44/30"
     ]
    },
    {
     "name": "stderr",
     "output_type": "stream",
     "text": [
      "\r",
      "Training for 192000 iter, 300.00 epochs:  14%|▏| 27832/192000 [01:15<07:30, 364.65it/s, epoch=43.44/30"
     ]
    },
    {
     "name": "stderr",
     "output_type": "stream",
     "text": [
      "\r",
      "Training for 192000 iter, 300.00 epochs:  14%|▏| 27832/192000 [01:15<07:30, 364.65it/s, epoch=43.52/30"
     ]
    },
    {
     "name": "stderr",
     "output_type": "stream",
     "text": [
      "\r",
      "Training for 192000 iter, 300.00 epochs:  15%|▏| 27873/192000 [01:16<07:15, 376.65it/s, epoch=43.52/30"
     ]
    },
    {
     "name": "stderr",
     "output_type": "stream",
     "text": [
      "\r",
      "Training for 192000 iter, 300.00 epochs:  15%|▏| 27873/192000 [01:16<07:15, 376.65it/s, epoch=43.59/30"
     ]
    },
    {
     "name": "stderr",
     "output_type": "stream",
     "text": [
      "\r",
      "Training for 192000 iter, 300.00 epochs:  15%|▏| 27914/192000 [01:16<07:05, 385.77it/s, epoch=43.59/30"
     ]
    },
    {
     "name": "stderr",
     "output_type": "stream",
     "text": [
      "\r",
      "Training for 192000 iter, 300.00 epochs:  15%|▏| 27914/192000 [01:16<07:05, 385.77it/s, epoch=43.67/30"
     ]
    },
    {
     "name": "stderr",
     "output_type": "stream",
     "text": [
      "\r",
      "Training for 192000 iter, 300.00 epochs:  15%|▏| 27953/192000 [01:16<07:20, 372.44it/s, epoch=43.67/30"
     ]
    },
    {
     "name": "stderr",
     "output_type": "stream",
     "text": [
      "\r",
      "Training for 192000 iter, 300.00 epochs:  15%|▏| 27994/192000 [01:16<07:11, 379.65it/s, epoch=43.67/30"
     ]
    },
    {
     "name": "stderr",
     "output_type": "stream",
     "text": [
      "\r",
      "Training for 192000 iter, 300.00 epochs:  15%|▏| 27994/192000 [01:16<07:11, 379.65it/s, epoch=43.75/30"
     ]
    },
    {
     "name": "stderr",
     "output_type": "stream",
     "text": [
      "\r",
      "Training for 192000 iter, 300.00 epochs:  15%|▏| 28034/192000 [01:16<07:06, 384.66it/s, epoch=43.75/30"
     ]
    },
    {
     "name": "stderr",
     "output_type": "stream",
     "text": [
      "\r",
      "Training for 192000 iter, 300.00 epochs:  15%|▏| 28034/192000 [01:16<07:06, 384.66it/s, epoch=43.83/30"
     ]
    },
    {
     "name": "stderr",
     "output_type": "stream",
     "text": [
      "\r",
      "Training for 192000 iter, 300.00 epochs:  15%|▏| 28073/192000 [01:16<07:04, 386.00it/s, epoch=43.83/30"
     ]
    },
    {
     "name": "stderr",
     "output_type": "stream",
     "text": [
      "\r",
      "Training for 192000 iter, 300.00 epochs:  15%|▏| 28073/192000 [01:16<07:04, 386.00it/s, epoch=43.91/30"
     ]
    },
    {
     "name": "stderr",
     "output_type": "stream",
     "text": [
      "\r",
      "Training for 192000 iter, 300.00 epochs:  15%|▏| 28113/192000 [01:16<07:00, 389.61it/s, epoch=43.91/30"
     ]
    },
    {
     "name": "stderr",
     "output_type": "stream",
     "text": [
      "\r",
      "Training for 192000 iter, 300.00 epochs:  15%|▏| 28113/192000 [01:16<07:00, 389.61it/s, epoch=43.98/30"
     ]
    },
    {
     "name": "stderr",
     "output_type": "stream",
     "text": [
      "\r",
      "Training for 192000 iter, 300.00 epochs:  15%|▏| 28153/192000 [01:16<07:34, 360.71it/s, epoch=43.98/30"
     ]
    },
    {
     "name": "stderr",
     "output_type": "stream",
     "text": [
      "\r",
      "Training for 192000 iter, 300.00 epochs:  15%|▏| 28190/192000 [01:16<07:48, 349.53it/s, epoch=43.98/30"
     ]
    },
    {
     "name": "stderr",
     "output_type": "stream",
     "text": [
      "\r",
      "Training for 192000 iter, 300.00 epochs:  15%|▏| 28190/192000 [01:16<07:48, 349.53it/s, epoch=44.06/30"
     ]
    },
    {
     "name": "stderr",
     "output_type": "stream",
     "text": [
      "\r",
      "Training for 192000 iter, 300.00 epochs:  15%|▏| 28226/192000 [01:17<07:52, 346.70it/s, epoch=44.06/30"
     ]
    },
    {
     "name": "stderr",
     "output_type": "stream",
     "text": [
      "\r",
      "Training for 192000 iter, 300.00 epochs:  15%|▏| 28226/192000 [01:17<07:52, 346.70it/s, epoch=44.14/30"
     ]
    },
    {
     "name": "stderr",
     "output_type": "stream",
     "text": [
      "\r",
      "Training for 192000 iter, 300.00 epochs:  15%|▏| 28267/192000 [01:17<07:30, 363.71it/s, epoch=44.14/30"
     ]
    },
    {
     "name": "stderr",
     "output_type": "stream",
     "text": [
      "\r",
      "Training for 192000 iter, 300.00 epochs:  15%|▏| 28267/192000 [01:17<07:30, 363.71it/s, epoch=44.22/30"
     ]
    },
    {
     "name": "stderr",
     "output_type": "stream",
     "text": [
      "\r",
      "Training for 192000 iter, 300.00 epochs:  15%|▏| 28308/192000 [01:17<07:15, 375.68it/s, epoch=44.22/30"
     ]
    },
    {
     "name": "stderr",
     "output_type": "stream",
     "text": [
      "\r",
      "Training for 192000 iter, 300.00 epochs:  15%|▏| 28349/192000 [01:17<07:05, 384.50it/s, epoch=44.22/30"
     ]
    },
    {
     "name": "stderr",
     "output_type": "stream",
     "text": [
      "\r",
      "Training for 192000 iter, 300.00 epochs:  15%|▏| 28349/192000 [01:17<07:05, 384.50it/s, epoch=44.30/30"
     ]
    },
    {
     "name": "stderr",
     "output_type": "stream",
     "text": [
      "\r",
      "Training for 192000 iter, 300.00 epochs:  15%|▏| 28389/192000 [01:17<07:03, 386.37it/s, epoch=44.30/30"
     ]
    },
    {
     "name": "stderr",
     "output_type": "stream",
     "text": [
      "\r",
      "Training for 192000 iter, 300.00 epochs:  15%|▏| 28389/192000 [01:17<07:03, 386.37it/s, epoch=44.38/30"
     ]
    },
    {
     "name": "stderr",
     "output_type": "stream",
     "text": [
      "\r",
      "Training for 192000 iter, 300.00 epochs:  15%|▏| 28428/192000 [01:17<07:03, 386.10it/s, epoch=44.38/30"
     ]
    },
    {
     "name": "stderr",
     "output_type": "stream",
     "text": [
      "\r",
      "Training for 192000 iter, 300.00 epochs:  15%|▏| 28428/192000 [01:17<07:03, 386.10it/s, epoch=44.45/30"
     ]
    },
    {
     "name": "stderr",
     "output_type": "stream",
     "text": [
      "\r",
      "Training for 192000 iter, 300.00 epochs:  15%|▏| 28467/192000 [01:17<07:15, 375.46it/s, epoch=44.45/30"
     ]
    },
    {
     "name": "stderr",
     "output_type": "stream",
     "text": [
      "\r",
      "Training for 192000 iter, 300.00 epochs:  15%|▏| 28467/192000 [01:17<07:15, 375.46it/s, epoch=44.53/30"
     ]
    },
    {
     "name": "stderr",
     "output_type": "stream",
     "text": [
      "\r",
      "Training for 192000 iter, 300.00 epochs:  15%|▏| 28505/192000 [01:17<07:14, 376.34it/s, epoch=44.53/30"
     ]
    },
    {
     "name": "stderr",
     "output_type": "stream",
     "text": [
      "\r",
      "Training for 192000 iter, 300.00 epochs:  15%|▏| 28543/192000 [01:17<07:17, 374.03it/s, epoch=44.53/30"
     ]
    },
    {
     "name": "stderr",
     "output_type": "stream",
     "text": [
      "\r",
      "Training for 192000 iter, 300.00 epochs:  15%|▏| 28543/192000 [01:17<07:17, 374.03it/s, epoch=44.61/30"
     ]
    },
    {
     "name": "stderr",
     "output_type": "stream",
     "text": [
      "\r",
      "Training for 192000 iter, 300.00 epochs:  15%|▏| 28581/192000 [01:17<07:49, 347.85it/s, epoch=44.61/30"
     ]
    },
    {
     "name": "stderr",
     "output_type": "stream",
     "text": [
      "\r",
      "Training for 192000 iter, 300.00 epochs:  15%|▏| 28581/192000 [01:18<07:49, 347.85it/s, epoch=44.69/30"
     ]
    },
    {
     "name": "stderr",
     "output_type": "stream",
     "text": [
      "\r",
      "Training for 192000 iter, 300.00 epochs:  15%|▏| 28620/192000 [01:18<07:35, 358.65it/s, epoch=44.69/30"
     ]
    },
    {
     "name": "stderr",
     "output_type": "stream",
     "text": [
      "\r",
      "Training for 192000 iter, 300.00 epochs:  15%|▏| 28620/192000 [01:18<07:35, 358.65it/s, epoch=44.77/30"
     ]
    },
    {
     "name": "stderr",
     "output_type": "stream",
     "text": [
      "\r",
      "Training for 192000 iter, 300.00 epochs:  15%|▏| 28659/192000 [01:18<07:25, 366.46it/s, epoch=44.77/30"
     ]
    },
    {
     "name": "stderr",
     "output_type": "stream",
     "text": [
      "\r",
      "Training for 192000 iter, 300.00 epochs:  15%|▏| 28696/192000 [01:18<07:35, 358.13it/s, epoch=44.77/30"
     ]
    },
    {
     "name": "stderr",
     "output_type": "stream",
     "text": [
      "\r",
      "Training for 192000 iter, 300.00 epochs:  15%|▏| 28696/192000 [01:18<07:35, 358.13it/s, epoch=44.84/30"
     ]
    },
    {
     "name": "stderr",
     "output_type": "stream",
     "text": [
      "\r",
      "Training for 192000 iter, 300.00 epochs:  15%|▏| 28737/192000 [01:18<07:20, 370.84it/s, epoch=44.84/30"
     ]
    },
    {
     "name": "stderr",
     "output_type": "stream",
     "text": [
      "\r",
      "Training for 192000 iter, 300.00 epochs:  15%|▏| 28737/192000 [01:18<07:20, 370.84it/s, epoch=44.92/30"
     ]
    },
    {
     "name": "stderr",
     "output_type": "stream",
     "text": [
      "\r",
      "Training for 192000 iter, 300.00 epochs:  15%|▏| 28775/192000 [01:18<07:21, 369.94it/s, epoch=44.92/30"
     ]
    },
    {
     "name": "stderr",
     "output_type": "stream",
     "text": [
      "\r",
      "Training for 192000 iter, 300.00 epochs:  15%|▏| 28775/192000 [01:18<07:21, 369.94it/s, epoch=45.00/30"
     ]
    },
    {
     "name": "stderr",
     "output_type": "stream",
     "text": [
      "\r",
      "Training for 192000 iter, 300.00 epochs:  15%|▏| 28813/192000 [01:18<07:30, 362.52it/s, epoch=45.00/30"
     ]
    },
    {
     "name": "stderr",
     "output_type": "stream",
     "text": [
      "\r",
      "Training for 192000 iter, 300.00 epochs:  15%|▏| 28813/192000 [01:18<07:30, 362.52it/s, epoch=45.08/30"
     ]
    },
    {
     "name": "stderr",
     "output_type": "stream",
     "text": [
      "\r",
      "Training for 192000 iter, 300.00 epochs:  15%|▏| 28853/192000 [01:18<07:18, 371.99it/s, epoch=45.08/30"
     ]
    },
    {
     "name": "stderr",
     "output_type": "stream",
     "text": [
      "\r",
      "Training for 192000 iter, 300.00 epochs:  15%|▏| 28891/192000 [01:18<07:20, 370.24it/s, epoch=45.08/30"
     ]
    },
    {
     "name": "stderr",
     "output_type": "stream",
     "text": [
      "\r",
      "Training for 192000 iter, 300.00 epochs:  15%|▏| 28891/192000 [01:18<07:20, 370.24it/s, epoch=45.16/30"
     ]
    },
    {
     "name": "stderr",
     "output_type": "stream",
     "text": [
      "\r",
      "Training for 192000 iter, 300.00 epochs:  15%|▏| 28930/192000 [01:18<07:14, 375.38it/s, epoch=45.16/30"
     ]
    },
    {
     "name": "stderr",
     "output_type": "stream",
     "text": [
      "\r",
      "Training for 192000 iter, 300.00 epochs:  15%|▏| 28930/192000 [01:18<07:14, 375.38it/s, epoch=45.23/30"
     ]
    },
    {
     "name": "stderr",
     "output_type": "stream",
     "text": [
      "\r",
      "Training for 192000 iter, 300.00 epochs:  15%|▏| 28968/192000 [01:19<07:33, 359.46it/s, epoch=45.23/30"
     ]
    },
    {
     "name": "stderr",
     "output_type": "stream",
     "text": [
      "\r",
      "Training for 192000 iter, 300.00 epochs:  15%|▏| 28968/192000 [01:19<07:33, 359.46it/s, epoch=45.31/30"
     ]
    },
    {
     "name": "stderr",
     "output_type": "stream",
     "text": [
      "\r",
      "Training for 192000 iter, 300.00 epochs:  15%|▏| 29005/192000 [01:19<07:52, 345.28it/s, epoch=45.31/30"
     ]
    },
    {
     "name": "stderr",
     "output_type": "stream",
     "text": [
      "\r",
      "Training for 192000 iter, 300.00 epochs:  15%|▏| 29046/192000 [01:19<07:30, 361.62it/s, epoch=45.31/30"
     ]
    },
    {
     "name": "stderr",
     "output_type": "stream",
     "text": [
      "\r",
      "Training for 192000 iter, 300.00 epochs:  15%|▏| 29046/192000 [01:19<07:30, 361.62it/s, epoch=45.39/30"
     ]
    },
    {
     "name": "stderr",
     "output_type": "stream",
     "text": [
      "\r",
      "Training for 192000 iter, 300.00 epochs:  15%|▏| 29086/192000 [01:19<07:17, 372.47it/s, epoch=45.39/30"
     ]
    },
    {
     "name": "stderr",
     "output_type": "stream",
     "text": [
      "\r",
      "Training for 192000 iter, 300.00 epochs:  15%|▏| 29086/192000 [01:19<07:17, 372.47it/s, epoch=45.47/30"
     ]
    },
    {
     "name": "stderr",
     "output_type": "stream",
     "text": [
      "\r",
      "Training for 192000 iter, 300.00 epochs:  15%|▏| 29127/192000 [01:19<07:07, 381.34it/s, epoch=45.47/30"
     ]
    },
    {
     "name": "stderr",
     "output_type": "stream",
     "text": [
      "\r",
      "Training for 192000 iter, 300.00 epochs:  15%|▏| 29127/192000 [01:19<07:07, 381.34it/s, epoch=45.55/30"
     ]
    },
    {
     "name": "stderr",
     "output_type": "stream",
     "text": [
      "\r",
      "Training for 192000 iter, 300.00 epochs:  15%|▏| 29166/192000 [01:19<07:08, 379.86it/s, epoch=45.55/30"
     ]
    },
    {
     "name": "stderr",
     "output_type": "stream",
     "text": [
      "\r",
      "Training for 192000 iter, 300.00 epochs:  15%|▏| 29166/192000 [01:19<07:08, 379.86it/s, epoch=45.62/30"
     ]
    },
    {
     "name": "stderr",
     "output_type": "stream",
     "text": [
      "\r",
      "Training for 192000 iter, 300.00 epochs:  15%|▏| 29205/192000 [01:19<07:19, 370.25it/s, epoch=45.62/30"
     ]
    },
    {
     "name": "stderr",
     "output_type": "stream",
     "text": [
      "\r",
      "Training for 192000 iter, 300.00 epochs:  15%|▏| 29246/192000 [01:19<07:07, 380.51it/s, epoch=45.62/30"
     ]
    },
    {
     "name": "stderr",
     "output_type": "stream",
     "text": [
      "\r",
      "Training for 192000 iter, 300.00 epochs:  15%|▏| 29246/192000 [01:19<07:07, 380.51it/s, epoch=45.70/30"
     ]
    },
    {
     "name": "stderr",
     "output_type": "stream",
     "text": [
      "\r",
      "Training for 192000 iter, 300.00 epochs:  15%|▏| 29285/192000 [01:19<07:06, 381.62it/s, epoch=45.70/30"
     ]
    },
    {
     "name": "stderr",
     "output_type": "stream",
     "text": [
      "\r",
      "Training for 192000 iter, 300.00 epochs:  15%|▏| 29285/192000 [01:19<07:06, 381.62it/s, epoch=45.78/30"
     ]
    },
    {
     "name": "stderr",
     "output_type": "stream",
     "text": [
      "\r",
      "Training for 192000 iter, 300.00 epochs:  15%|▏| 29324/192000 [01:19<07:25, 364.83it/s, epoch=45.78/30"
     ]
    },
    {
     "name": "stderr",
     "output_type": "stream",
     "text": [
      "\r",
      "Training for 192000 iter, 300.00 epochs:  15%|▏| 29324/192000 [01:20<07:25, 364.83it/s, epoch=45.86/30"
     ]
    },
    {
     "name": "stderr",
     "output_type": "stream",
     "text": [
      "\r",
      "Training for 192000 iter, 300.00 epochs:  15%|▏| 29364/192000 [01:20<07:15, 373.56it/s, epoch=45.86/30"
     ]
    },
    {
     "name": "stderr",
     "output_type": "stream",
     "text": [
      "\r",
      "Training for 192000 iter, 300.00 epochs:  15%|▏| 29364/192000 [01:20<07:15, 373.56it/s, epoch=45.94/30"
     ]
    },
    {
     "name": "stderr",
     "output_type": "stream",
     "text": [
      "\r",
      "Training for 192000 iter, 300.00 epochs:  15%|▏| 29404/192000 [01:20<07:06, 381.05it/s, epoch=45.94/30"
     ]
    },
    {
     "name": "stderr",
     "output_type": "stream",
     "text": [
      "\r",
      "Training for 192000 iter, 300.00 epochs:  15%|▏| 29443/192000 [01:20<07:27, 362.98it/s, epoch=45.94/30"
     ]
    },
    {
     "name": "stderr",
     "output_type": "stream",
     "text": [
      "\r",
      "Training for 192000 iter, 300.00 epochs:  15%|▏| 29443/192000 [01:20<07:27, 362.98it/s, epoch=46.02/30"
     ]
    },
    {
     "name": "stderr",
     "output_type": "stream",
     "text": [
      "\r",
      "Training for 192000 iter, 300.00 epochs:  15%|▏| 29480/192000 [01:20<07:28, 362.74it/s, epoch=46.02/30"
     ]
    },
    {
     "name": "stderr",
     "output_type": "stream",
     "text": [
      "\r",
      "Training for 192000 iter, 300.00 epochs:  15%|▏| 29480/192000 [01:20<07:28, 362.74it/s, epoch=46.09/30"
     ]
    },
    {
     "name": "stderr",
     "output_type": "stream",
     "text": [
      "\r",
      "Training for 192000 iter, 300.00 epochs:  15%|▏| 29520/192000 [01:20<07:18, 370.94it/s, epoch=46.09/30"
     ]
    },
    {
     "name": "stderr",
     "output_type": "stream",
     "text": [
      "\r",
      "Training for 192000 iter, 300.00 epochs:  15%|▏| 29520/192000 [01:20<07:18, 370.94it/s, epoch=46.17/30"
     ]
    },
    {
     "name": "stderr",
     "output_type": "stream",
     "text": [
      "\r",
      "Training for 192000 iter, 300.00 epochs:  15%|▏| 29558/192000 [01:20<07:34, 357.20it/s, epoch=46.17/30"
     ]
    },
    {
     "name": "stderr",
     "output_type": "stream",
     "text": [
      "\r",
      "Training for 192000 iter, 300.00 epochs:  15%|▏| 29594/192000 [01:20<07:36, 355.69it/s, epoch=46.17/30"
     ]
    },
    {
     "name": "stderr",
     "output_type": "stream",
     "text": [
      "\r",
      "Training for 192000 iter, 300.00 epochs:  15%|▏| 29594/192000 [01:20<07:36, 355.69it/s, epoch=46.25/30"
     ]
    },
    {
     "name": "stderr",
     "output_type": "stream",
     "text": [
      "\r",
      "Training for 192000 iter, 300.00 epochs:  15%|▏| 29633/192000 [01:20<07:26, 363.68it/s, epoch=46.25/30"
     ]
    },
    {
     "name": "stderr",
     "output_type": "stream",
     "text": [
      "\r",
      "Training for 192000 iter, 300.00 epochs:  15%|▏| 29633/192000 [01:20<07:26, 363.68it/s, epoch=46.33/30"
     ]
    },
    {
     "name": "stderr",
     "output_type": "stream",
     "text": [
      "\r",
      "Training for 192000 iter, 300.00 epochs:  15%|▏| 29670/192000 [01:20<07:42, 350.83it/s, epoch=46.33/30"
     ]
    },
    {
     "name": "stderr",
     "output_type": "stream",
     "text": [
      "\r",
      "Training for 192000 iter, 300.00 epochs:  15%|▏| 29670/192000 [01:21<07:42, 350.83it/s, epoch=46.41/30"
     ]
    },
    {
     "name": "stderr",
     "output_type": "stream",
     "text": [
      "\r",
      "Training for 192000 iter, 300.00 epochs:  15%|▏| 29709/192000 [01:21<07:30, 360.13it/s, epoch=46.41/30"
     ]
    },
    {
     "name": "stderr",
     "output_type": "stream",
     "text": [
      "\r",
      "Training for 192000 iter, 300.00 epochs:  15%|▏| 29709/192000 [01:21<07:30, 360.13it/s, epoch=46.48/30"
     ]
    },
    {
     "name": "stderr",
     "output_type": "stream",
     "text": [
      "\r",
      "Training for 192000 iter, 300.00 epochs:  15%|▏| 29750/192000 [01:21<07:15, 372.74it/s, epoch=46.48/30"
     ]
    },
    {
     "name": "stderr",
     "output_type": "stream",
     "text": [
      "\r",
      "Training for 192000 iter, 300.00 epochs:  16%|▏| 29791/192000 [01:21<07:05, 381.57it/s, epoch=46.48/30"
     ]
    },
    {
     "name": "stderr",
     "output_type": "stream",
     "text": [
      "\r",
      "Training for 192000 iter, 300.00 epochs:  16%|▏| 29791/192000 [01:21<07:05, 381.57it/s, epoch=46.56/30"
     ]
    },
    {
     "name": "stderr",
     "output_type": "stream",
     "text": [
      "\r",
      "Training for 192000 iter, 300.00 epochs:  16%|▏| 29832/192000 [01:21<06:58, 387.49it/s, epoch=46.56/30"
     ]
    },
    {
     "name": "stderr",
     "output_type": "stream",
     "text": [
      "\r",
      "Training for 192000 iter, 300.00 epochs:  16%|▏| 29832/192000 [01:21<06:58, 387.49it/s, epoch=46.64/30"
     ]
    },
    {
     "name": "stderr",
     "output_type": "stream",
     "text": [
      "\r",
      "Training for 192000 iter, 300.00 epochs:  16%|▏| 29871/192000 [01:21<07:01, 384.32it/s, epoch=46.64/30"
     ]
    },
    {
     "name": "stderr",
     "output_type": "stream",
     "text": [
      "\r",
      "Training for 192000 iter, 300.00 epochs:  16%|▏| 29871/192000 [01:21<07:01, 384.32it/s, epoch=46.72/30"
     ]
    },
    {
     "name": "stderr",
     "output_type": "stream",
     "text": [
      "\r",
      "Training for 192000 iter, 300.00 epochs:  16%|▏| 29911/192000 [01:21<06:58, 387.41it/s, epoch=46.72/30"
     ]
    },
    {
     "name": "stderr",
     "output_type": "stream",
     "text": [
      "\r",
      "Training for 192000 iter, 300.00 epochs:  16%|▏| 29911/192000 [01:21<06:58, 387.41it/s, epoch=46.80/30"
     ]
    },
    {
     "name": "stderr",
     "output_type": "stream",
     "text": [
      "\r",
      "Training for 192000 iter, 300.00 epochs:  16%|▏| 29951/192000 [01:21<06:54, 390.56it/s, epoch=46.80/30"
     ]
    },
    {
     "name": "stderr",
     "output_type": "stream",
     "text": [
      "\r",
      "Training for 192000 iter, 300.00 epochs:  16%|▏| 29991/192000 [01:21<07:29, 360.66it/s, epoch=46.80/30"
     ]
    },
    {
     "name": "stderr",
     "output_type": "stream",
     "text": [
      "\r",
      "Training for 192000 iter, 300.00 epochs:  16%|▏| 29991/192000 [01:21<07:29, 360.66it/s, epoch=46.88/30"
     ]
    },
    {
     "name": "stderr",
     "output_type": "stream",
     "text": [
      "\r",
      "Training for 192000 iter, 300.00 epochs:  16%|▏| 30028/192000 [01:21<07:31, 358.51it/s, epoch=46.88/30"
     ]
    },
    {
     "name": "stderr",
     "output_type": "stream",
     "text": [
      "\r",
      "Training for 192000 iter, 300.00 epochs:  16%|▏| 30028/192000 [01:21<07:31, 358.51it/s, epoch=46.95/30"
     ]
    },
    {
     "name": "stderr",
     "output_type": "stream",
     "text": [
      "\r",
      "Training for 192000 iter, 300.00 epochs:  16%|▏| 30066/192000 [01:21<07:27, 362.11it/s, epoch=46.95/30"
     ]
    },
    {
     "name": "stderr",
     "output_type": "stream",
     "text": [
      "\r",
      "Training for 192000 iter, 300.00 epochs:  16%|▏| 30066/192000 [01:22<07:27, 362.11it/s, epoch=47.03/30"
     ]
    },
    {
     "name": "stderr",
     "output_type": "stream",
     "text": [
      "\r",
      "Training for 192000 iter, 300.00 epochs:  16%|▏| 30103/192000 [01:22<07:47, 346.37it/s, epoch=47.03/30"
     ]
    },
    {
     "name": "stderr",
     "output_type": "stream",
     "text": [
      "\r",
      "Training for 192000 iter, 300.00 epochs:  16%|▏| 30138/192000 [01:22<07:47, 345.90it/s, epoch=47.03/30"
     ]
    },
    {
     "name": "stderr",
     "output_type": "stream",
     "text": [
      "\r",
      "Training for 192000 iter, 300.00 epochs:  16%|▏| 30138/192000 [01:22<07:47, 345.90it/s, epoch=47.11/30"
     ]
    },
    {
     "name": "stderr",
     "output_type": "stream",
     "text": [
      "\r",
      "Training for 192000 iter, 300.00 epochs:  16%|▏| 30177/192000 [01:22<07:34, 356.18it/s, epoch=47.11/30"
     ]
    },
    {
     "name": "stderr",
     "output_type": "stream",
     "text": [
      "\r",
      "Training for 192000 iter, 300.00 epochs:  16%|▏| 30177/192000 [01:22<07:34, 356.18it/s, epoch=47.19/30"
     ]
    },
    {
     "name": "stderr",
     "output_type": "stream",
     "text": [
      "\r",
      "Training for 192000 iter, 300.00 epochs:  16%|▏| 30213/192000 [01:22<07:41, 350.93it/s, epoch=47.19/30"
     ]
    },
    {
     "name": "stderr",
     "output_type": "stream",
     "text": [
      "\r",
      "Training for 192000 iter, 300.00 epochs:  16%|▏| 30213/192000 [01:22<07:41, 350.93it/s, epoch=47.27/30"
     ]
    },
    {
     "name": "stderr",
     "output_type": "stream",
     "text": [
      "\r",
      "Training for 192000 iter, 300.00 epochs:  16%|▏| 30253/192000 [01:22<07:23, 364.61it/s, epoch=47.27/30"
     ]
    },
    {
     "name": "stderr",
     "output_type": "stream",
     "text": [
      "\r",
      "Training for 192000 iter, 300.00 epochs:  16%|▏| 30292/192000 [01:22<07:16, 370.32it/s, epoch=47.27/30"
     ]
    },
    {
     "name": "stderr",
     "output_type": "stream",
     "text": [
      "\r",
      "Training for 192000 iter, 300.00 epochs:  16%|▏| 30292/192000 [01:22<07:16, 370.32it/s, epoch=47.34/30"
     ]
    },
    {
     "name": "stderr",
     "output_type": "stream",
     "text": [
      "\r",
      "Training for 192000 iter, 300.00 epochs:  16%|▏| 30330/192000 [01:22<07:47, 345.75it/s, epoch=47.34/30"
     ]
    },
    {
     "name": "stderr",
     "output_type": "stream",
     "text": [
      "\r",
      "Training for 192000 iter, 300.00 epochs:  16%|▏| 30330/192000 [01:22<07:47, 345.75it/s, epoch=47.42/30"
     ]
    },
    {
     "name": "stderr",
     "output_type": "stream",
     "text": [
      "\r",
      "Training for 192000 iter, 300.00 epochs:  16%|▏| 30369/192000 [01:22<07:33, 356.64it/s, epoch=47.42/30"
     ]
    },
    {
     "name": "stderr",
     "output_type": "stream",
     "text": [
      "\r",
      "Training for 192000 iter, 300.00 epochs:  16%|▏| 30369/192000 [01:22<07:33, 356.64it/s, epoch=47.50/30"
     ]
    },
    {
     "name": "stderr",
     "output_type": "stream",
     "text": [
      "\r",
      "Training for 192000 iter, 300.00 epochs:  16%|▏| 30406/192000 [01:22<07:49, 344.46it/s, epoch=47.50/30"
     ]
    },
    {
     "name": "stderr",
     "output_type": "stream",
     "text": [
      "\r",
      "Training for 192000 iter, 300.00 epochs:  16%|▏| 30443/192000 [01:23<07:41, 350.39it/s, epoch=47.50/30"
     ]
    },
    {
     "name": "stderr",
     "output_type": "stream",
     "text": [
      "\r",
      "Training for 192000 iter, 300.00 epochs:  16%|▏| 30443/192000 [01:23<07:41, 350.39it/s, epoch=47.58/30"
     ]
    },
    {
     "name": "stderr",
     "output_type": "stream",
     "text": [
      "\r",
      "Training for 192000 iter, 300.00 epochs:  16%|▏| 30483/192000 [01:23<07:24, 363.29it/s, epoch=47.58/30"
     ]
    },
    {
     "name": "stderr",
     "output_type": "stream",
     "text": [
      "\r",
      "Training for 192000 iter, 300.00 epochs:  16%|▏| 30483/192000 [01:23<07:24, 363.29it/s, epoch=47.66/30"
     ]
    },
    {
     "name": "stderr",
     "output_type": "stream",
     "text": [
      "\r",
      "Training for 192000 iter, 300.00 epochs:  16%|▏| 30522/192000 [01:23<07:17, 369.50it/s, epoch=47.66/30"
     ]
    },
    {
     "name": "stderr",
     "output_type": "stream",
     "text": [
      "\r",
      "Training for 192000 iter, 300.00 epochs:  16%|▏| 30522/192000 [01:23<07:17, 369.50it/s, epoch=47.73/30"
     ]
    },
    {
     "name": "stderr",
     "output_type": "stream",
     "text": [
      "\r",
      "Training for 192000 iter, 300.00 epochs:  16%|▏| 30562/192000 [01:23<07:08, 377.09it/s, epoch=47.73/30"
     ]
    },
    {
     "name": "stderr",
     "output_type": "stream",
     "text": [
      "\r",
      "Training for 192000 iter, 300.00 epochs:  16%|▏| 30562/192000 [01:23<07:08, 377.09it/s, epoch=47.81/30"
     ]
    },
    {
     "name": "stderr",
     "output_type": "stream",
     "text": [
      "\r",
      "Training for 192000 iter, 300.00 epochs:  16%|▏| 30601/192000 [01:23<07:06, 378.34it/s, epoch=47.81/30"
     ]
    },
    {
     "name": "stderr",
     "output_type": "stream",
     "text": [
      "\r",
      "Training for 192000 iter, 300.00 epochs:  16%|▏| 30639/192000 [01:23<07:13, 371.82it/s, epoch=47.81/30"
     ]
    },
    {
     "name": "stderr",
     "output_type": "stream",
     "text": [
      "\r",
      "Training for 192000 iter, 300.00 epochs:  16%|▏| 30639/192000 [01:23<07:13, 371.82it/s, epoch=47.89/30"
     ]
    },
    {
     "name": "stderr",
     "output_type": "stream",
     "text": [
      "\r",
      "Training for 192000 iter, 300.00 epochs:  16%|▏| 30680/192000 [01:23<07:02, 382.00it/s, epoch=47.89/30"
     ]
    },
    {
     "name": "stderr",
     "output_type": "stream",
     "text": [
      "\r",
      "Training for 192000 iter, 300.00 epochs:  16%|▏| 30680/192000 [01:23<07:02, 382.00it/s, epoch=47.97/30"
     ]
    },
    {
     "name": "stderr",
     "output_type": "stream",
     "text": [
      "\r",
      "Training for 192000 iter, 300.00 epochs:  16%|▏| 30719/192000 [01:23<07:00, 383.49it/s, epoch=47.97/30"
     ]
    },
    {
     "name": "stderr",
     "output_type": "stream",
     "text": [
      "\r",
      "Training for 192000 iter, 300.00 epochs:  16%|▏| 30719/192000 [01:23<07:00, 383.49it/s, epoch=48.05/30"
     ]
    },
    {
     "name": "stderr",
     "output_type": "stream",
     "text": [
      "\r",
      "Training for 192000 iter, 300.00 epochs:  16%|▏| 30758/192000 [01:23<07:20, 366.24it/s, epoch=48.05/30"
     ]
    },
    {
     "name": "stderr",
     "output_type": "stream",
     "text": [
      "\r",
      "Training for 192000 iter, 300.00 epochs:  16%|▏| 30795/192000 [01:23<07:35, 354.09it/s, epoch=48.05/30"
     ]
    },
    {
     "name": "stderr",
     "output_type": "stream",
     "text": [
      "\r",
      "Training for 192000 iter, 300.00 epochs:  16%|▏| 30795/192000 [01:24<07:35, 354.09it/s, epoch=48.12/30"
     ]
    },
    {
     "name": "stderr",
     "output_type": "stream",
     "text": [
      "\r",
      "Training for 192000 iter, 300.00 epochs:  16%|▏| 30831/192000 [01:24<07:39, 351.00it/s, epoch=48.12/30"
     ]
    },
    {
     "name": "stderr",
     "output_type": "stream",
     "text": [
      "\r",
      "Training for 192000 iter, 300.00 epochs:  16%|▏| 30831/192000 [01:24<07:39, 351.00it/s, epoch=48.20/30"
     ]
    },
    {
     "name": "stderr",
     "output_type": "stream",
     "text": [
      "\r",
      "Training for 192000 iter, 300.00 epochs:  16%|▏| 30868/192000 [01:24<07:32, 356.06it/s, epoch=48.20/30"
     ]
    },
    {
     "name": "stderr",
     "output_type": "stream",
     "text": [
      "\r",
      "Training for 192000 iter, 300.00 epochs:  16%|▏| 30868/192000 [01:24<07:32, 356.06it/s, epoch=48.28/30"
     ]
    },
    {
     "name": "stderr",
     "output_type": "stream",
     "text": [
      "\r",
      "Training for 192000 iter, 300.00 epochs:  16%|▏| 30907/192000 [01:24<07:21, 364.54it/s, epoch=48.28/30"
     ]
    },
    {
     "name": "stderr",
     "output_type": "stream",
     "text": [
      "\r",
      "Training for 192000 iter, 300.00 epochs:  16%|▏| 30948/192000 [01:24<07:08, 375.56it/s, epoch=48.28/30"
     ]
    },
    {
     "name": "stderr",
     "output_type": "stream",
     "text": [
      "\r",
      "Training for 192000 iter, 300.00 epochs:  16%|▏| 30948/192000 [01:24<07:08, 375.56it/s, epoch=48.36/30"
     ]
    },
    {
     "name": "stderr",
     "output_type": "stream",
     "text": [
      "\r",
      "Training for 192000 iter, 300.00 epochs:  16%|▏| 30986/192000 [01:24<07:10, 374.30it/s, epoch=48.36/30"
     ]
    },
    {
     "name": "stderr",
     "output_type": "stream",
     "text": [
      "\r",
      "Training for 192000 iter, 300.00 epochs:  16%|▏| 30986/192000 [01:24<07:10, 374.30it/s, epoch=48.44/30"
     ]
    },
    {
     "name": "stderr",
     "output_type": "stream",
     "text": [
      "\r",
      "Training for 192000 iter, 300.00 epochs:  16%|▏| 31025/192000 [01:24<07:07, 376.66it/s, epoch=48.44/30"
     ]
    },
    {
     "name": "stderr",
     "output_type": "stream",
     "text": [
      "\r",
      "Training for 192000 iter, 300.00 epochs:  16%|▏| 31025/192000 [01:24<07:07, 376.66it/s, epoch=48.52/30"
     ]
    },
    {
     "name": "stderr",
     "output_type": "stream",
     "text": [
      "\r",
      "Training for 192000 iter, 300.00 epochs:  16%|▏| 31064/192000 [01:24<07:05, 378.21it/s, epoch=48.52/30"
     ]
    },
    {
     "name": "stderr",
     "output_type": "stream",
     "text": [
      "\r",
      "Training for 192000 iter, 300.00 epochs:  16%|▏| 31064/192000 [01:24<07:05, 378.21it/s, epoch=48.59/30"
     ]
    },
    {
     "name": "stderr",
     "output_type": "stream",
     "text": [
      "\r",
      "Training for 192000 iter, 300.00 epochs:  16%|▏| 31102/192000 [01:24<07:08, 375.53it/s, epoch=48.59/30"
     ]
    },
    {
     "name": "stderr",
     "output_type": "stream",
     "text": [
      "\r",
      "Training for 192000 iter, 300.00 epochs:  16%|▏| 31140/192000 [01:24<07:13, 371.09it/s, epoch=48.59/30"
     ]
    },
    {
     "name": "stderr",
     "output_type": "stream",
     "text": [
      "\r",
      "Training for 192000 iter, 300.00 epochs:  16%|▏| 31140/192000 [01:24<07:13, 371.09it/s, epoch=48.67/30"
     ]
    },
    {
     "name": "stderr",
     "output_type": "stream",
     "text": [
      "\r",
      "Training for 192000 iter, 300.00 epochs:  16%|▏| 31180/192000 [01:25<07:04, 379.12it/s, epoch=48.67/30"
     ]
    },
    {
     "name": "stderr",
     "output_type": "stream",
     "text": [
      "\r",
      "Training for 192000 iter, 300.00 epochs:  16%|▏| 31180/192000 [01:25<07:04, 379.12it/s, epoch=48.75/30"
     ]
    },
    {
     "name": "stderr",
     "output_type": "stream",
     "text": [
      "\r",
      "Training for 192000 iter, 300.00 epochs:  16%|▏| 31220/192000 [01:25<06:58, 384.32it/s, epoch=48.75/30"
     ]
    },
    {
     "name": "stderr",
     "output_type": "stream",
     "text": [
      "\r",
      "Training for 192000 iter, 300.00 epochs:  16%|▏| 31220/192000 [01:25<06:58, 384.32it/s, epoch=48.83/30"
     ]
    },
    {
     "name": "stderr",
     "output_type": "stream",
     "text": [
      "\r",
      "Training for 192000 iter, 300.00 epochs:  16%|▏| 31259/192000 [01:25<06:57, 384.94it/s, epoch=48.83/30"
     ]
    },
    {
     "name": "stderr",
     "output_type": "stream",
     "text": [
      "\r",
      "Training for 192000 iter, 300.00 epochs:  16%|▏| 31298/192000 [01:25<07:18, 366.38it/s, epoch=48.83/30"
     ]
    },
    {
     "name": "stderr",
     "output_type": "stream",
     "text": [
      "\r",
      "Training for 192000 iter, 300.00 epochs:  16%|▏| 31298/192000 [01:25<07:18, 366.38it/s, epoch=48.91/30"
     ]
    },
    {
     "name": "stderr",
     "output_type": "stream",
     "text": [
      "\r",
      "Training for 192000 iter, 300.00 epochs:  16%|▏| 31335/192000 [01:25<07:31, 356.21it/s, epoch=48.91/30"
     ]
    },
    {
     "name": "stderr",
     "output_type": "stream",
     "text": [
      "\r",
      "Training for 192000 iter, 300.00 epochs:  16%|▏| 31335/192000 [01:25<07:31, 356.21it/s, epoch=48.98/30"
     ]
    },
    {
     "name": "stderr",
     "output_type": "stream",
     "text": [
      "\r",
      "Training for 192000 iter, 300.00 epochs:  16%|▏| 31371/192000 [01:25<07:44, 345.53it/s, epoch=48.98/30"
     ]
    },
    {
     "name": "stderr",
     "output_type": "stream",
     "text": [
      "\r",
      "Training for 192000 iter, 300.00 epochs:  16%|▏| 31371/192000 [01:25<07:44, 345.53it/s, epoch=49.06/30"
     ]
    },
    {
     "name": "stderr",
     "output_type": "stream",
     "text": [
      "\r",
      "Training for 192000 iter, 300.00 epochs:  16%|▏| 31406/192000 [01:25<07:43, 346.22it/s, epoch=49.06/30"
     ]
    },
    {
     "name": "stderr",
     "output_type": "stream",
     "text": [
      "\r",
      "Training for 192000 iter, 300.00 epochs:  16%|▏| 31443/192000 [01:25<07:35, 352.18it/s, epoch=49.06/30"
     ]
    },
    {
     "name": "stderr",
     "output_type": "stream",
     "text": [
      "\r",
      "Training for 192000 iter, 300.00 epochs:  16%|▏| 31443/192000 [01:25<07:35, 352.18it/s, epoch=49.14/30"
     ]
    },
    {
     "name": "stderr",
     "output_type": "stream",
     "text": [
      "\r",
      "Training for 192000 iter, 300.00 epochs:  16%|▏| 31482/192000 [01:25<07:25, 360.56it/s, epoch=49.14/30"
     ]
    },
    {
     "name": "stderr",
     "output_type": "stream",
     "text": [
      "\r",
      "Training for 192000 iter, 300.00 epochs:  16%|▏| 31482/192000 [01:25<07:25, 360.56it/s, epoch=49.22/30"
     ]
    },
    {
     "name": "stderr",
     "output_type": "stream",
     "text": [
      "\r",
      "Training for 192000 iter, 300.00 epochs:  16%|▏| 31519/192000 [01:25<07:25, 360.24it/s, epoch=49.22/30"
     ]
    },
    {
     "name": "stderr",
     "output_type": "stream",
     "text": [
      "\r",
      "Training for 192000 iter, 300.00 epochs:  16%|▏| 31519/192000 [01:26<07:25, 360.24it/s, epoch=49.30/30"
     ]
    },
    {
     "name": "stderr",
     "output_type": "stream",
     "text": [
      "\r",
      "Training for 192000 iter, 300.00 epochs:  16%|▏| 31558/192000 [01:26<07:17, 366.79it/s, epoch=49.30/30"
     ]
    },
    {
     "name": "stderr",
     "output_type": "stream",
     "text": [
      "\r",
      "Training for 192000 iter, 300.00 epochs:  16%|▏| 31597/192000 [01:26<07:12, 371.18it/s, epoch=49.30/30"
     ]
    },
    {
     "name": "stderr",
     "output_type": "stream",
     "text": [
      "\r",
      "Training for 192000 iter, 300.00 epochs:  16%|▏| 31597/192000 [01:26<07:12, 371.18it/s, epoch=49.38/30"
     ]
    },
    {
     "name": "stderr",
     "output_type": "stream",
     "text": [
      "\r",
      "Training for 192000 iter, 300.00 epochs:  16%|▏| 31636/192000 [01:26<07:06, 376.35it/s, epoch=49.38/30"
     ]
    },
    {
     "name": "stderr",
     "output_type": "stream",
     "text": [
      "\r",
      "Training for 192000 iter, 300.00 epochs:  16%|▏| 31636/192000 [01:26<07:06, 376.35it/s, epoch=49.45/30"
     ]
    },
    {
     "name": "stderr",
     "output_type": "stream",
     "text": [
      "\r",
      "Training for 192000 iter, 300.00 epochs:  16%|▏| 31676/192000 [01:26<07:00, 381.14it/s, epoch=49.45/30"
     ]
    },
    {
     "name": "stderr",
     "output_type": "stream",
     "text": [
      "\r",
      "Training for 192000 iter, 300.00 epochs:  16%|▏| 31676/192000 [01:26<07:00, 381.14it/s, epoch=49.53/30"
     ]
    },
    {
     "name": "stderr",
     "output_type": "stream",
     "text": [
      "\r",
      "Training for 192000 iter, 300.00 epochs:  17%|▏| 31715/192000 [01:26<06:58, 382.69it/s, epoch=49.53/30"
     ]
    },
    {
     "name": "stderr",
     "output_type": "stream",
     "text": [
      "\r",
      "Training for 192000 iter, 300.00 epochs:  17%|▏| 31715/192000 [01:26<06:58, 382.69it/s, epoch=49.61/30"
     ]
    },
    {
     "name": "stderr",
     "output_type": "stream",
     "text": [
      "\r",
      "Training for 192000 iter, 300.00 epochs:  17%|▏| 31754/192000 [01:26<07:10, 372.05it/s, epoch=49.61/30"
     ]
    },
    {
     "name": "stderr",
     "output_type": "stream",
     "text": [
      "\r",
      "Training for 192000 iter, 300.00 epochs:  17%|▏| 31792/192000 [01:26<07:13, 369.50it/s, epoch=49.61/30"
     ]
    },
    {
     "name": "stderr",
     "output_type": "stream",
     "text": [
      "\r",
      "Training for 192000 iter, 300.00 epochs:  17%|▏| 31792/192000 [01:26<07:13, 369.50it/s, epoch=49.69/30"
     ]
    },
    {
     "name": "stderr",
     "output_type": "stream",
     "text": [
      "\r",
      "Training for 192000 iter, 300.00 epochs:  17%|▏| 31831/192000 [01:26<07:09, 372.76it/s, epoch=49.69/30"
     ]
    },
    {
     "name": "stderr",
     "output_type": "stream",
     "text": [
      "\r",
      "Training for 192000 iter, 300.00 epochs:  17%|▏| 31831/192000 [01:26<07:09, 372.76it/s, epoch=49.77/30"
     ]
    },
    {
     "name": "stderr",
     "output_type": "stream",
     "text": [
      "\r",
      "Training for 192000 iter, 300.00 epochs:  17%|▏| 31870/192000 [01:26<07:04, 377.36it/s, epoch=49.77/30"
     ]
    },
    {
     "name": "stderr",
     "output_type": "stream",
     "text": [
      "\r",
      "Training for 192000 iter, 300.00 epochs:  17%|▏| 31870/192000 [01:26<07:04, 377.36it/s, epoch=49.84/30"
     ]
    },
    {
     "name": "stderr",
     "output_type": "stream",
     "text": [
      "\r",
      "Training for 192000 iter, 300.00 epochs:  17%|▏| 31910/192000 [01:26<06:56, 383.98it/s, epoch=49.84/30"
     ]
    },
    {
     "name": "stderr",
     "output_type": "stream",
     "text": [
      "\r",
      "Training for 192000 iter, 300.00 epochs:  17%|▏| 31910/192000 [01:27<06:56, 383.98it/s, epoch=49.92/30"
     ]
    },
    {
     "name": "stderr",
     "output_type": "stream",
     "text": [
      "\r",
      "Training for 192000 iter, 300.00 epochs:  17%|▏| 31951/192000 [01:27<06:50, 389.88it/s, epoch=49.92/30"
     ]
    },
    {
     "name": "stderr",
     "output_type": "stream",
     "text": [
      "\r",
      "Training for 192000 iter, 300.00 epochs:  17%|▏| 31991/192000 [01:27<06:55, 385.33it/s, epoch=49.92/30"
     ]
    },
    {
     "name": "stderr",
     "output_type": "stream",
     "text": [
      "\r",
      "Training for 192000 iter, 300.00 epochs:  17%|▏| 31991/192000 [01:27<06:55, 385.33it/s, epoch=50.00/30"
     ]
    },
    {
     "name": "stderr",
     "output_type": "stream",
     "text": [
      "\r",
      "Training for 192000 iter, 300.00 epochs:  17%|▏| 32030/192000 [01:27<07:06, 375.31it/s, epoch=50.00/30"
     ]
    },
    {
     "name": "stderr",
     "output_type": "stream",
     "text": [
      "\r",
      "Training for 192000 iter, 300.00 epochs:  17%|▏| 32030/192000 [01:27<07:06, 375.31it/s, epoch=50.08/30"
     ]
    },
    {
     "name": "stderr",
     "output_type": "stream",
     "text": [
      "\r",
      "Training for 192000 iter, 300.00 epochs:  17%|▏| 32069/192000 [01:27<07:01, 379.37it/s, epoch=50.08/30"
     ]
    },
    {
     "name": "stderr",
     "output_type": "stream",
     "text": [
      "\r",
      "Training for 192000 iter, 300.00 epochs:  17%|▏| 32069/192000 [01:27<07:01, 379.37it/s, epoch=50.16/30"
     ]
    },
    {
     "name": "stderr",
     "output_type": "stream",
     "text": [
      "\r",
      "Training for 192000 iter, 300.00 epochs:  17%|▏| 32110/192000 [01:27<06:52, 388.01it/s, epoch=50.16/30"
     ]
    },
    {
     "name": "stderr",
     "output_type": "stream",
     "text": [
      "\r",
      "Training for 192000 iter, 300.00 epochs:  17%|▏| 32110/192000 [01:27<06:52, 388.01it/s, epoch=50.23/30"
     ]
    },
    {
     "name": "stderr",
     "output_type": "stream",
     "text": [
      "\r",
      "Training for 192000 iter, 300.00 epochs:  17%|▏| 32150/192000 [01:27<06:48, 391.21it/s, epoch=50.23/30"
     ]
    },
    {
     "name": "stderr",
     "output_type": "stream",
     "text": [
      "\r",
      "Training for 192000 iter, 300.00 epochs:  17%|▏| 32191/192000 [01:27<06:44, 394.72it/s, epoch=50.23/30"
     ]
    },
    {
     "name": "stderr",
     "output_type": "stream",
     "text": [
      "\r",
      "Training for 192000 iter, 300.00 epochs:  17%|▏| 32191/192000 [01:27<06:44, 394.72it/s, epoch=50.31/30"
     ]
    },
    {
     "name": "stderr",
     "output_type": "stream",
     "text": [
      "\r",
      "Training for 192000 iter, 300.00 epochs:  17%|▏| 32231/192000 [01:27<06:44, 395.32it/s, epoch=50.31/30"
     ]
    },
    {
     "name": "stderr",
     "output_type": "stream",
     "text": [
      "\r",
      "Training for 192000 iter, 300.00 epochs:  17%|▏| 32231/192000 [01:27<06:44, 395.32it/s, epoch=50.39/30"
     ]
    },
    {
     "name": "stderr",
     "output_type": "stream",
     "text": [
      "\r",
      "Training for 192000 iter, 300.00 epochs:  17%|▏| 32271/192000 [01:27<07:13, 368.50it/s, epoch=50.39/30"
     ]
    },
    {
     "name": "stderr",
     "output_type": "stream",
     "text": [
      "\r",
      "Training for 192000 iter, 300.00 epochs:  17%|▏| 32271/192000 [01:28<07:13, 368.50it/s, epoch=50.47/30"
     ]
    },
    {
     "name": "stderr",
     "output_type": "stream",
     "text": [
      "\r",
      "Training for 192000 iter, 300.00 epochs:  17%|▏| 32309/192000 [01:28<07:15, 367.04it/s, epoch=50.47/30"
     ]
    },
    {
     "name": "stderr",
     "output_type": "stream",
     "text": [
      "\r",
      "Training for 192000 iter, 300.00 epochs:  17%|▏| 32349/192000 [01:28<07:05, 374.94it/s, epoch=50.47/30"
     ]
    },
    {
     "name": "stderr",
     "output_type": "stream",
     "text": [
      "\r",
      "Training for 192000 iter, 300.00 epochs:  17%|▏| 32349/192000 [01:28<07:05, 374.94it/s, epoch=50.55/30"
     ]
    },
    {
     "name": "stderr",
     "output_type": "stream",
     "text": [
      "\r",
      "Training for 192000 iter, 300.00 epochs:  17%|▏| 32389/192000 [01:28<06:59, 380.66it/s, epoch=50.55/30"
     ]
    },
    {
     "name": "stderr",
     "output_type": "stream",
     "text": [
      "\r",
      "Training for 192000 iter, 300.00 epochs:  17%|▏| 32389/192000 [01:28<06:59, 380.66it/s, epoch=50.62/30"
     ]
    },
    {
     "name": "stderr",
     "output_type": "stream",
     "text": [
      "\r",
      "Training for 192000 iter, 300.00 epochs:  17%|▏| 32429/192000 [01:28<06:55, 384.45it/s, epoch=50.62/30"
     ]
    },
    {
     "name": "stderr",
     "output_type": "stream",
     "text": [
      "\r",
      "Training for 192000 iter, 300.00 epochs:  17%|▏| 32429/192000 [01:28<06:55, 384.45it/s, epoch=50.70/30"
     ]
    },
    {
     "name": "stderr",
     "output_type": "stream",
     "text": [
      "\r",
      "Training for 192000 iter, 300.00 epochs:  17%|▏| 32468/192000 [01:28<07:32, 352.90it/s, epoch=50.70/30"
     ]
    },
    {
     "name": "stderr",
     "output_type": "stream",
     "text": [
      "\r",
      "Training for 192000 iter, 300.00 epochs:  17%|▏| 32468/192000 [01:28<07:32, 352.90it/s, epoch=50.78/30"
     ]
    },
    {
     "name": "stderr",
     "output_type": "stream",
     "text": [
      "\r",
      "Training for 192000 iter, 300.00 epochs:  17%|▏| 32509/192000 [01:28<07:14, 367.34it/s, epoch=50.78/30"
     ]
    },
    {
     "name": "stderr",
     "output_type": "stream",
     "text": [
      "\r",
      "Training for 192000 iter, 300.00 epochs:  17%|▏| 32509/192000 [01:28<07:14, 367.34it/s, epoch=50.86/30"
     ]
    },
    {
     "name": "stderr",
     "output_type": "stream",
     "text": [
      "\r",
      "Training for 192000 iter, 300.00 epochs:  17%|▏| 32550/192000 [01:28<07:00, 379.02it/s, epoch=50.86/30"
     ]
    },
    {
     "name": "stderr",
     "output_type": "stream",
     "text": [
      "\r",
      "Training for 192000 iter, 300.00 epochs:  17%|▏| 32589/192000 [01:28<07:01, 378.03it/s, epoch=50.86/30"
     ]
    },
    {
     "name": "stderr",
     "output_type": "stream",
     "text": [
      "\r",
      "Training for 192000 iter, 300.00 epochs:  17%|▏| 32589/192000 [01:28<07:01, 378.03it/s, epoch=50.94/30"
     ]
    },
    {
     "name": "stderr",
     "output_type": "stream",
     "text": [
      "\r",
      "Training for 192000 iter, 300.00 epochs:  17%|▏| 32631/192000 [01:28<06:51, 387.57it/s, epoch=50.94/30"
     ]
    },
    {
     "name": "stderr",
     "output_type": "stream",
     "text": [
      "\r",
      "Training for 192000 iter, 300.00 epochs:  17%|▏| 32631/192000 [01:28<06:51, 387.57it/s, epoch=51.02/30"
     ]
    },
    {
     "name": "stderr",
     "output_type": "stream",
     "text": [
      "\r",
      "Training for 192000 iter, 300.00 epochs:  17%|▏| 32670/192000 [01:29<07:02, 376.78it/s, epoch=51.02/30"
     ]
    },
    {
     "name": "stderr",
     "output_type": "stream",
     "text": [
      "\r",
      "Training for 192000 iter, 300.00 epochs:  17%|▏| 32670/192000 [01:29<07:02, 376.78it/s, epoch=51.09/30"
     ]
    },
    {
     "name": "stderr",
     "output_type": "stream",
     "text": [
      "\r",
      "Training for 192000 iter, 300.00 epochs:  17%|▏| 32711/192000 [01:29<06:54, 384.70it/s, epoch=51.09/30"
     ]
    },
    {
     "name": "stderr",
     "output_type": "stream",
     "text": [
      "\r",
      "Training for 192000 iter, 300.00 epochs:  17%|▏| 32711/192000 [01:29<06:54, 384.70it/s, epoch=51.17/30"
     ]
    },
    {
     "name": "stderr",
     "output_type": "stream",
     "text": [
      "\r",
      "Training for 192000 iter, 300.00 epochs:  17%|▏| 32752/192000 [01:29<06:48, 389.80it/s, epoch=51.17/30"
     ]
    },
    {
     "name": "stderr",
     "output_type": "stream",
     "text": [
      "\r",
      "Training for 192000 iter, 300.00 epochs:  17%|▏| 32792/192000 [01:29<06:47, 390.71it/s, epoch=51.17/30"
     ]
    },
    {
     "name": "stderr",
     "output_type": "stream",
     "text": [
      "\r",
      "Training for 192000 iter, 300.00 epochs:  17%|▏| 32792/192000 [01:29<06:47, 390.71it/s, epoch=51.25/30"
     ]
    },
    {
     "name": "stderr",
     "output_type": "stream",
     "text": [
      "\r",
      "Training for 192000 iter, 300.00 epochs:  17%|▏| 32832/192000 [01:29<06:54, 383.88it/s, epoch=51.25/30"
     ]
    },
    {
     "name": "stderr",
     "output_type": "stream",
     "text": [
      "\r",
      "Training for 192000 iter, 300.00 epochs:  17%|▏| 32832/192000 [01:29<06:54, 383.88it/s, epoch=51.33/30"
     ]
    },
    {
     "name": "stderr",
     "output_type": "stream",
     "text": [
      "\r",
      "Training for 192000 iter, 300.00 epochs:  17%|▏| 32871/192000 [01:29<07:00, 378.29it/s, epoch=51.33/30"
     ]
    },
    {
     "name": "stderr",
     "output_type": "stream",
     "text": [
      "\r",
      "Training for 192000 iter, 300.00 epochs:  17%|▏| 32871/192000 [01:29<07:00, 378.29it/s, epoch=51.41/30"
     ]
    },
    {
     "name": "stderr",
     "output_type": "stream",
     "text": [
      "\r",
      "Training for 192000 iter, 300.00 epochs:  17%|▏| 32911/192000 [01:29<06:54, 383.45it/s, epoch=51.41/30"
     ]
    },
    {
     "name": "stderr",
     "output_type": "stream",
     "text": [
      "\r",
      "Training for 192000 iter, 300.00 epochs:  17%|▏| 32911/192000 [01:29<06:54, 383.45it/s, epoch=51.48/30"
     ]
    },
    {
     "name": "stderr",
     "output_type": "stream",
     "text": [
      "\r",
      "Training for 192000 iter, 300.00 epochs:  17%|▏| 32952/192000 [01:29<06:48, 389.13it/s, epoch=51.48/30"
     ]
    },
    {
     "name": "stderr",
     "output_type": "stream",
     "text": [
      "\r",
      "Training for 192000 iter, 300.00 epochs:  17%|▏| 32992/192000 [01:29<06:45, 392.10it/s, epoch=51.48/30"
     ]
    },
    {
     "name": "stderr",
     "output_type": "stream",
     "text": [
      "\r",
      "Training for 192000 iter, 300.00 epochs:  17%|▏| 32992/192000 [01:29<06:45, 392.10it/s, epoch=51.56/30"
     ]
    },
    {
     "name": "stderr",
     "output_type": "stream",
     "text": [
      "\r",
      "Training for 192000 iter, 300.00 epochs:  17%|▏| 33032/192000 [01:29<06:43, 394.36it/s, epoch=51.56/30"
     ]
    },
    {
     "name": "stderr",
     "output_type": "stream",
     "text": [
      "\r",
      "Training for 192000 iter, 300.00 epochs:  17%|▏| 33032/192000 [01:29<06:43, 394.36it/s, epoch=51.64/30"
     ]
    },
    {
     "name": "stderr",
     "output_type": "stream",
     "text": [
      "\r",
      "Training for 192000 iter, 300.00 epochs:  17%|▏| 33072/192000 [01:30<06:46, 391.28it/s, epoch=51.64/30"
     ]
    },
    {
     "name": "stderr",
     "output_type": "stream",
     "text": [
      "\r",
      "Training for 192000 iter, 300.00 epochs:  17%|▏| 33072/192000 [01:30<06:46, 391.28it/s, epoch=51.72/30"
     ]
    },
    {
     "name": "stderr",
     "output_type": "stream",
     "text": [
      "\r",
      "Training for 192000 iter, 300.00 epochs:  17%|▏| 33112/192000 [01:30<06:44, 393.10it/s, epoch=51.72/30"
     ]
    },
    {
     "name": "stderr",
     "output_type": "stream",
     "text": [
      "\r",
      "Training for 192000 iter, 300.00 epochs:  17%|▏| 33112/192000 [01:30<06:44, 393.10it/s, epoch=51.80/30"
     ]
    },
    {
     "name": "stderr",
     "output_type": "stream",
     "text": [
      "\r",
      "Training for 192000 iter, 300.00 epochs:  17%|▏| 33152/192000 [01:30<06:53, 384.13it/s, epoch=51.80/30"
     ]
    },
    {
     "name": "stderr",
     "output_type": "stream",
     "text": [
      "\r",
      "Training for 192000 iter, 300.00 epochs:  17%|▏| 33192/192000 [01:30<06:50, 386.52it/s, epoch=51.80/30"
     ]
    },
    {
     "name": "stderr",
     "output_type": "stream",
     "text": [
      "\r",
      "Training for 192000 iter, 300.00 epochs:  17%|▏| 33192/192000 [01:30<06:50, 386.52it/s, epoch=51.88/30"
     ]
    },
    {
     "name": "stderr",
     "output_type": "stream",
     "text": [
      "\r",
      "Training for 192000 iter, 300.00 epochs:  17%|▏| 33231/192000 [01:30<06:50, 386.61it/s, epoch=51.88/30"
     ]
    },
    {
     "name": "stderr",
     "output_type": "stream",
     "text": [
      "\r",
      "Training for 192000 iter, 300.00 epochs:  17%|▏| 33231/192000 [01:30<06:50, 386.61it/s, epoch=51.95/30"
     ]
    },
    {
     "name": "stderr",
     "output_type": "stream",
     "text": [
      "\r",
      "Training for 192000 iter, 300.00 epochs:  17%|▏| 33271/192000 [01:30<06:48, 388.87it/s, epoch=51.95/30"
     ]
    },
    {
     "name": "stderr",
     "output_type": "stream",
     "text": [
      "\r",
      "Training for 192000 iter, 300.00 epochs:  17%|▏| 33271/192000 [01:30<06:48, 388.87it/s, epoch=52.03/30"
     ]
    },
    {
     "name": "stderr",
     "output_type": "stream",
     "text": [
      "\r",
      "Training for 192000 iter, 300.00 epochs:  17%|▏| 33310/192000 [01:30<07:00, 377.45it/s, epoch=52.03/30"
     ]
    },
    {
     "name": "stderr",
     "output_type": "stream",
     "text": [
      "\r",
      "Training for 192000 iter, 300.00 epochs:  17%|▏| 33349/192000 [01:30<06:58, 379.45it/s, epoch=52.03/30"
     ]
    },
    {
     "name": "stderr",
     "output_type": "stream",
     "text": [
      "\r",
      "Training for 192000 iter, 300.00 epochs:  17%|▏| 33349/192000 [01:30<06:58, 379.45it/s, epoch=52.11/30"
     ]
    },
    {
     "name": "stderr",
     "output_type": "stream",
     "text": [
      "\r",
      "Training for 192000 iter, 300.00 epochs:  17%|▏| 33390/192000 [01:30<06:49, 387.77it/s, epoch=52.11/30"
     ]
    },
    {
     "name": "stderr",
     "output_type": "stream",
     "text": [
      "\r",
      "Training for 192000 iter, 300.00 epochs:  17%|▏| 33390/192000 [01:30<06:49, 387.77it/s, epoch=52.19/30"
     ]
    },
    {
     "name": "stderr",
     "output_type": "stream",
     "text": [
      "\r",
      "Training for 192000 iter, 300.00 epochs:  17%|▏| 33429/192000 [01:30<06:50, 385.84it/s, epoch=52.19/30"
     ]
    },
    {
     "name": "stderr",
     "output_type": "stream",
     "text": [
      "\r",
      "Training for 192000 iter, 300.00 epochs:  17%|▏| 33429/192000 [01:31<06:50, 385.84it/s, epoch=52.27/30"
     ]
    },
    {
     "name": "stderr",
     "output_type": "stream",
     "text": [
      "\r",
      "Training for 192000 iter, 300.00 epochs:  17%|▏| 33468/192000 [01:31<06:54, 382.26it/s, epoch=52.27/30"
     ]
    },
    {
     "name": "stderr",
     "output_type": "stream",
     "text": [
      "\r",
      "Training for 192000 iter, 300.00 epochs:  17%|▏| 33468/192000 [01:31<06:54, 382.26it/s, epoch=52.34/30"
     ]
    },
    {
     "name": "stderr",
     "output_type": "stream",
     "text": [
      "\r",
      "Training for 192000 iter, 300.00 epochs:  17%|▏| 33509/192000 [01:31<06:47, 388.64it/s, epoch=52.34/30"
     ]
    },
    {
     "name": "stderr",
     "output_type": "stream",
     "text": [
      "\r",
      "Training for 192000 iter, 300.00 epochs:  17%|▏| 33549/192000 [01:31<06:45, 390.55it/s, epoch=52.34/30"
     ]
    },
    {
     "name": "stderr",
     "output_type": "stream",
     "text": [
      "\r",
      "Training for 192000 iter, 300.00 epochs:  17%|▏| 33549/192000 [01:31<06:45, 390.55it/s, epoch=52.42/30"
     ]
    },
    {
     "name": "stderr",
     "output_type": "stream",
     "text": [
      "\r",
      "Training for 192000 iter, 300.00 epochs:  17%|▏| 33589/192000 [01:31<06:43, 392.54it/s, epoch=52.42/30"
     ]
    },
    {
     "name": "stderr",
     "output_type": "stream",
     "text": [
      "\r",
      "Training for 192000 iter, 300.00 epochs:  17%|▏| 33589/192000 [01:31<06:43, 392.54it/s, epoch=52.50/30"
     ]
    },
    {
     "name": "stderr",
     "output_type": "stream",
     "text": [
      "\r",
      "Training for 192000 iter, 300.00 epochs:  18%|▏| 33629/192000 [01:31<06:41, 394.15it/s, epoch=52.50/30"
     ]
    },
    {
     "name": "stderr",
     "output_type": "stream",
     "text": [
      "\r",
      "Training for 192000 iter, 300.00 epochs:  18%|▏| 33629/192000 [01:31<06:41, 394.15it/s, epoch=52.58/30"
     ]
    },
    {
     "name": "stderr",
     "output_type": "stream",
     "text": [
      "\r",
      "Training for 192000 iter, 300.00 epochs:  18%|▏| 33669/192000 [01:31<06:40, 395.27it/s, epoch=52.58/30"
     ]
    },
    {
     "name": "stderr",
     "output_type": "stream",
     "text": [
      "\r",
      "Training for 192000 iter, 300.00 epochs:  18%|▏| 33669/192000 [01:31<06:40, 395.27it/s, epoch=52.66/30"
     ]
    },
    {
     "name": "stderr",
     "output_type": "stream",
     "text": [
      "\r",
      "Training for 192000 iter, 300.00 epochs:  18%|▏| 33709/192000 [01:31<06:39, 396.08it/s, epoch=52.66/30"
     ]
    },
    {
     "name": "stderr",
     "output_type": "stream",
     "text": [
      "\r",
      "Training for 192000 iter, 300.00 epochs:  18%|▏| 33749/192000 [01:31<06:39, 396.61it/s, epoch=52.66/30"
     ]
    },
    {
     "name": "stderr",
     "output_type": "stream",
     "text": [
      "\r",
      "Training for 192000 iter, 300.00 epochs:  18%|▏| 33749/192000 [01:31<06:39, 396.61it/s, epoch=52.73/30"
     ]
    },
    {
     "name": "stderr",
     "output_type": "stream",
     "text": [
      "\r",
      "Training for 192000 iter, 300.00 epochs:  18%|▏| 33789/192000 [01:31<06:39, 396.11it/s, epoch=52.73/30"
     ]
    },
    {
     "name": "stderr",
     "output_type": "stream",
     "text": [
      "\r",
      "Training for 192000 iter, 300.00 epochs:  18%|▏| 33789/192000 [01:31<06:39, 396.11it/s, epoch=52.81/30"
     ]
    },
    {
     "name": "stderr",
     "output_type": "stream",
     "text": [
      "\r",
      "Training for 192000 iter, 300.00 epochs:  18%|▏| 33829/192000 [01:31<06:39, 396.12it/s, epoch=52.81/30"
     ]
    },
    {
     "name": "stderr",
     "output_type": "stream",
     "text": [
      "\r",
      "Training for 192000 iter, 300.00 epochs:  18%|▏| 33829/192000 [01:32<06:39, 396.12it/s, epoch=52.89/30"
     ]
    },
    {
     "name": "stderr",
     "output_type": "stream",
     "text": [
      "\r",
      "Training for 192000 iter, 300.00 epochs:  18%|▏| 33869/192000 [01:32<06:39, 396.07it/s, epoch=52.89/30"
     ]
    },
    {
     "name": "stderr",
     "output_type": "stream",
     "text": [
      "\r",
      "Training for 192000 iter, 300.00 epochs:  18%|▏| 33869/192000 [01:32<06:39, 396.07it/s, epoch=52.97/30"
     ]
    },
    {
     "name": "stderr",
     "output_type": "stream",
     "text": [
      "\r",
      "Training for 192000 iter, 300.00 epochs:  18%|▏| 33909/192000 [01:32<06:38, 396.84it/s, epoch=52.97/30"
     ]
    },
    {
     "name": "stderr",
     "output_type": "stream",
     "text": [
      "\r",
      "Training for 192000 iter, 300.00 epochs:  18%|▏| 33949/192000 [01:32<06:57, 378.24it/s, epoch=52.97/30"
     ]
    },
    {
     "name": "stderr",
     "output_type": "stream",
     "text": [
      "\r",
      "Training for 192000 iter, 300.00 epochs:  18%|▏| 33949/192000 [01:32<06:57, 378.24it/s, epoch=53.05/30"
     ]
    },
    {
     "name": "stderr",
     "output_type": "stream",
     "text": [
      "\r",
      "Training for 192000 iter, 300.00 epochs:  18%|▏| 33988/192000 [01:32<06:54, 380.77it/s, epoch=53.05/30"
     ]
    },
    {
     "name": "stderr",
     "output_type": "stream",
     "text": [
      "\r",
      "Training for 192000 iter, 300.00 epochs:  18%|▏| 33988/192000 [01:32<06:54, 380.77it/s, epoch=53.12/30"
     ]
    },
    {
     "name": "stderr",
     "output_type": "stream",
     "text": [
      "\r",
      "Training for 192000 iter, 300.00 epochs:  18%|▏| 34029/192000 [01:32<06:47, 387.51it/s, epoch=53.12/30"
     ]
    },
    {
     "name": "stderr",
     "output_type": "stream",
     "text": [
      "\r",
      "Training for 192000 iter, 300.00 epochs:  18%|▏| 34029/192000 [01:32<06:47, 387.51it/s, epoch=53.20/30"
     ]
    },
    {
     "name": "stderr",
     "output_type": "stream",
     "text": [
      "\r",
      "Training for 192000 iter, 300.00 epochs:  18%|▏| 34068/192000 [01:32<06:47, 387.47it/s, epoch=53.20/30"
     ]
    },
    {
     "name": "stderr",
     "output_type": "stream",
     "text": [
      "\r",
      "Training for 192000 iter, 300.00 epochs:  18%|▏| 34068/192000 [01:32<06:47, 387.47it/s, epoch=53.28/30"
     ]
    },
    {
     "name": "stderr",
     "output_type": "stream",
     "text": [
      "\r",
      "Training for 192000 iter, 300.00 epochs:  18%|▏| 34108/192000 [01:32<06:45, 389.76it/s, epoch=53.28/30"
     ]
    },
    {
     "name": "stderr",
     "output_type": "stream",
     "text": [
      "\r",
      "Training for 192000 iter, 300.00 epochs:  18%|▏| 34149/192000 [01:32<06:41, 393.32it/s, epoch=53.28/30"
     ]
    },
    {
     "name": "stderr",
     "output_type": "stream",
     "text": [
      "\r",
      "Training for 192000 iter, 300.00 epochs:  18%|▏| 34149/192000 [01:32<06:41, 393.32it/s, epoch=53.36/30"
     ]
    },
    {
     "name": "stderr",
     "output_type": "stream",
     "text": [
      "\r",
      "Training for 192000 iter, 300.00 epochs:  18%|▏| 34189/192000 [01:32<06:39, 394.61it/s, epoch=53.36/30"
     ]
    },
    {
     "name": "stderr",
     "output_type": "stream",
     "text": [
      "\r",
      "Training for 192000 iter, 300.00 epochs:  18%|▏| 34189/192000 [01:32<06:39, 394.61it/s, epoch=53.44/30"
     ]
    },
    {
     "name": "stderr",
     "output_type": "stream",
     "text": [
      "\r",
      "Training for 192000 iter, 300.00 epochs:  18%|▏| 34229/192000 [01:33<06:41, 392.61it/s, epoch=53.44/30"
     ]
    },
    {
     "name": "stderr",
     "output_type": "stream",
     "text": [
      "\r",
      "Training for 192000 iter, 300.00 epochs:  18%|▏| 34229/192000 [01:33<06:41, 392.61it/s, epoch=53.52/30"
     ]
    },
    {
     "name": "stderr",
     "output_type": "stream",
     "text": [
      "\r",
      "Training for 192000 iter, 300.00 epochs:  18%|▏| 34269/192000 [01:33<06:41, 392.52it/s, epoch=53.52/30"
     ]
    },
    {
     "name": "stderr",
     "output_type": "stream",
     "text": [
      "\r",
      "Training for 192000 iter, 300.00 epochs:  18%|▏| 34269/192000 [01:33<06:41, 392.52it/s, epoch=53.59/30"
     ]
    },
    {
     "name": "stderr",
     "output_type": "stream",
     "text": [
      "\r",
      "Training for 192000 iter, 300.00 epochs:  18%|▏| 34309/192000 [01:33<06:41, 392.76it/s, epoch=53.59/30"
     ]
    },
    {
     "name": "stderr",
     "output_type": "stream",
     "text": [
      "\r",
      "Training for 192000 iter, 300.00 epochs:  18%|▏| 34349/192000 [01:33<06:40, 393.26it/s, epoch=53.59/30"
     ]
    },
    {
     "name": "stderr",
     "output_type": "stream",
     "text": [
      "\r",
      "Training for 192000 iter, 300.00 epochs:  18%|▏| 34349/192000 [01:33<06:40, 393.26it/s, epoch=53.67/30"
     ]
    },
    {
     "name": "stderr",
     "output_type": "stream",
     "text": [
      "\r",
      "Training for 192000 iter, 300.00 epochs:  18%|▏| 34389/192000 [01:33<06:40, 393.22it/s, epoch=53.67/30"
     ]
    },
    {
     "name": "stderr",
     "output_type": "stream",
     "text": [
      "\r",
      "Training for 192000 iter, 300.00 epochs:  18%|▏| 34389/192000 [01:33<06:40, 393.22it/s, epoch=53.75/30"
     ]
    },
    {
     "name": "stderr",
     "output_type": "stream",
     "text": [
      "\r",
      "Training for 192000 iter, 300.00 epochs:  18%|▏| 34429/192000 [01:33<06:50, 383.88it/s, epoch=53.75/30"
     ]
    },
    {
     "name": "stderr",
     "output_type": "stream",
     "text": [
      "\r",
      "Training for 192000 iter, 300.00 epochs:  18%|▏| 34429/192000 [01:33<06:50, 383.88it/s, epoch=53.83/30"
     ]
    },
    {
     "name": "stderr",
     "output_type": "stream",
     "text": [
      "\r",
      "Training for 192000 iter, 300.00 epochs:  18%|▏| 34468/192000 [01:33<07:14, 362.16it/s, epoch=53.83/30"
     ]
    },
    {
     "name": "stderr",
     "output_type": "stream",
     "text": [
      "\r",
      "Training for 192000 iter, 300.00 epochs:  18%|▏| 34468/192000 [01:33<07:14, 362.16it/s, epoch=53.91/30"
     ]
    },
    {
     "name": "stderr",
     "output_type": "stream",
     "text": [
      "\r",
      "Training for 192000 iter, 300.00 epochs:  18%|▏| 34507/192000 [01:33<07:06, 368.98it/s, epoch=53.91/30"
     ]
    },
    {
     "name": "stderr",
     "output_type": "stream",
     "text": [
      "\r",
      "Training for 192000 iter, 300.00 epochs:  18%|▏| 34547/192000 [01:33<06:58, 375.88it/s, epoch=53.91/30"
     ]
    },
    {
     "name": "stderr",
     "output_type": "stream",
     "text": [
      "\r",
      "Training for 192000 iter, 300.00 epochs:  18%|▏| 34547/192000 [01:33<06:58, 375.88it/s, epoch=53.98/30"
     ]
    },
    {
     "name": "stderr",
     "output_type": "stream",
     "text": [
      "\r",
      "Training for 192000 iter, 300.00 epochs:  18%|▏| 34585/192000 [01:33<07:06, 369.16it/s, epoch=53.98/30"
     ]
    },
    {
     "name": "stderr",
     "output_type": "stream",
     "text": [
      "\r",
      "Training for 192000 iter, 300.00 epochs:  18%|▏| 34585/192000 [01:33<07:06, 369.16it/s, epoch=54.06/30"
     ]
    },
    {
     "name": "stderr",
     "output_type": "stream",
     "text": [
      "\r",
      "Training for 192000 iter, 300.00 epochs:  18%|▏| 34624/192000 [01:34<07:01, 373.06it/s, epoch=54.06/30"
     ]
    },
    {
     "name": "stderr",
     "output_type": "stream",
     "text": [
      "\r",
      "Training for 192000 iter, 300.00 epochs:  18%|▏| 34624/192000 [01:34<07:01, 373.06it/s, epoch=54.14/30"
     ]
    },
    {
     "name": "stderr",
     "output_type": "stream",
     "text": [
      "\r",
      "Training for 192000 iter, 300.00 epochs:  18%|▏| 34662/192000 [01:34<07:01, 373.10it/s, epoch=54.14/30"
     ]
    },
    {
     "name": "stderr",
     "output_type": "stream",
     "text": [
      "\r",
      "Training for 192000 iter, 300.00 epochs:  18%|▏| 34662/192000 [01:34<07:01, 373.10it/s, epoch=54.22/30"
     ]
    },
    {
     "name": "stderr",
     "output_type": "stream",
     "text": [
      "\r",
      "Training for 192000 iter, 300.00 epochs:  18%|▏| 34700/192000 [01:34<07:18, 358.98it/s, epoch=54.22/30"
     ]
    },
    {
     "name": "stderr",
     "output_type": "stream",
     "text": [
      "\r",
      "Training for 192000 iter, 300.00 epochs:  18%|▏| 34737/192000 [01:34<07:20, 356.66it/s, epoch=54.22/30"
     ]
    },
    {
     "name": "stderr",
     "output_type": "stream",
     "text": [
      "\r",
      "Training for 192000 iter, 300.00 epochs:  18%|▏| 34737/192000 [01:34<07:20, 356.66it/s, epoch=54.30/30"
     ]
    },
    {
     "name": "stderr",
     "output_type": "stream",
     "text": [
      "\r",
      "Training for 192000 iter, 300.00 epochs:  18%|▏| 34774/192000 [01:34<07:17, 359.55it/s, epoch=54.30/30"
     ]
    },
    {
     "name": "stderr",
     "output_type": "stream",
     "text": [
      "\r",
      "Training for 192000 iter, 300.00 epochs:  18%|▏| 34774/192000 [01:34<07:17, 359.55it/s, epoch=54.38/30"
     ]
    },
    {
     "name": "stderr",
     "output_type": "stream",
     "text": [
      "\r",
      "Training for 192000 iter, 300.00 epochs:  18%|▏| 34815/192000 [01:34<07:03, 371.58it/s, epoch=54.38/30"
     ]
    },
    {
     "name": "stderr",
     "output_type": "stream",
     "text": [
      "\r",
      "Training for 192000 iter, 300.00 epochs:  18%|▏| 34815/192000 [01:34<07:03, 371.58it/s, epoch=54.45/30"
     ]
    },
    {
     "name": "stderr",
     "output_type": "stream",
     "text": [
      "\r",
      "Training for 192000 iter, 300.00 epochs:  18%|▏| 34855/192000 [01:34<06:55, 378.19it/s, epoch=54.45/30"
     ]
    },
    {
     "name": "stderr",
     "output_type": "stream",
     "text": [
      "\r",
      "Training for 192000 iter, 300.00 epochs:  18%|▏| 34896/192000 [01:34<06:47, 385.81it/s, epoch=54.45/30"
     ]
    },
    {
     "name": "stderr",
     "output_type": "stream",
     "text": [
      "\r",
      "Training for 192000 iter, 300.00 epochs:  18%|▏| 34896/192000 [01:34<06:47, 385.81it/s, epoch=54.53/30"
     ]
    },
    {
     "name": "stderr",
     "output_type": "stream",
     "text": [
      "\r",
      "Training for 192000 iter, 300.00 epochs:  18%|▏| 34935/192000 [01:34<06:53, 380.22it/s, epoch=54.53/30"
     ]
    },
    {
     "name": "stderr",
     "output_type": "stream",
     "text": [
      "\r",
      "Training for 192000 iter, 300.00 epochs:  18%|▏| 34935/192000 [01:34<06:53, 380.22it/s, epoch=54.61/30"
     ]
    },
    {
     "name": "stderr",
     "output_type": "stream",
     "text": [
      "\r",
      "Training for 192000 iter, 300.00 epochs:  18%|▏| 34975/192000 [01:34<06:47, 384.94it/s, epoch=54.61/30"
     ]
    },
    {
     "name": "stderr",
     "output_type": "stream",
     "text": [
      "\r",
      "Training for 192000 iter, 300.00 epochs:  18%|▏| 34975/192000 [01:35<06:47, 384.94it/s, epoch=54.69/30"
     ]
    },
    {
     "name": "stderr",
     "output_type": "stream",
     "text": [
      "\r",
      "Training for 192000 iter, 300.00 epochs:  18%|▏| 35015/192000 [01:35<06:45, 387.01it/s, epoch=54.69/30"
     ]
    },
    {
     "name": "stderr",
     "output_type": "stream",
     "text": [
      "\r",
      "Training for 192000 iter, 300.00 epochs:  18%|▏| 35015/192000 [01:35<06:45, 387.01it/s, epoch=54.77/30"
     ]
    },
    {
     "name": "stderr",
     "output_type": "stream",
     "text": [
      "\r",
      "Training for 192000 iter, 300.00 epochs:  18%|▏| 35054/192000 [01:35<06:46, 386.28it/s, epoch=54.77/30"
     ]
    },
    {
     "name": "stderr",
     "output_type": "stream",
     "text": [
      "\r",
      "Training for 192000 iter, 300.00 epochs:  18%|▏| 35093/192000 [01:35<06:46, 386.38it/s, epoch=54.77/30"
     ]
    },
    {
     "name": "stderr",
     "output_type": "stream",
     "text": [
      "\r",
      "Training for 192000 iter, 300.00 epochs:  18%|▏| 35093/192000 [01:35<06:46, 386.38it/s, epoch=54.84/30"
     ]
    },
    {
     "name": "stderr",
     "output_type": "stream",
     "text": [
      "\r",
      "Training for 192000 iter, 300.00 epochs:  18%|▏| 35134/192000 [01:35<06:40, 391.19it/s, epoch=54.84/30"
     ]
    },
    {
     "name": "stderr",
     "output_type": "stream",
     "text": [
      "\r",
      "Training for 192000 iter, 300.00 epochs:  18%|▏| 35134/192000 [01:35<06:40, 391.19it/s, epoch=54.92/30"
     ]
    },
    {
     "name": "stderr",
     "output_type": "stream",
     "text": [
      "\r",
      "Training for 192000 iter, 300.00 epochs:  18%|▏| 35174/192000 [01:35<06:44, 387.74it/s, epoch=54.92/30"
     ]
    },
    {
     "name": "stderr",
     "output_type": "stream",
     "text": [
      "\r",
      "Training for 192000 iter, 300.00 epochs:  18%|▏| 35174/192000 [01:35<06:44, 387.74it/s, epoch=55.00/30"
     ]
    },
    {
     "name": "stderr",
     "output_type": "stream",
     "text": [
      "\r",
      "Training for 192000 iter, 300.00 epochs:  18%|▏| 35213/192000 [01:35<07:06, 367.86it/s, epoch=55.00/30"
     ]
    },
    {
     "name": "stderr",
     "output_type": "stream",
     "text": [
      "\r",
      "Training for 192000 iter, 300.00 epochs:  18%|▏| 35213/192000 [01:35<07:06, 367.86it/s, epoch=55.08/30"
     ]
    },
    {
     "name": "stderr",
     "output_type": "stream",
     "text": [
      "\r",
      "Training for 192000 iter, 300.00 epochs:  18%|▏| 35252/192000 [01:35<06:59, 374.07it/s, epoch=55.08/30"
     ]
    },
    {
     "name": "stderr",
     "output_type": "stream",
     "text": [
      "\r",
      "Training for 192000 iter, 300.00 epochs:  18%|▏| 35291/192000 [01:35<06:55, 377.38it/s, epoch=55.08/30"
     ]
    },
    {
     "name": "stderr",
     "output_type": "stream",
     "text": [
      "\r",
      "Training for 192000 iter, 300.00 epochs:  18%|▏| 35291/192000 [01:35<06:55, 377.38it/s, epoch=55.16/30"
     ]
    },
    {
     "name": "stderr",
     "output_type": "stream",
     "text": [
      "\r",
      "Training for 192000 iter, 300.00 epochs:  18%|▏| 35331/192000 [01:35<06:49, 382.97it/s, epoch=55.16/30"
     ]
    },
    {
     "name": "stderr",
     "output_type": "stream",
     "text": [
      "\r",
      "Training for 192000 iter, 300.00 epochs:  18%|▏| 35331/192000 [01:35<06:49, 382.97it/s, epoch=55.23/30"
     ]
    },
    {
     "name": "stderr",
     "output_type": "stream",
     "text": [
      "\r",
      "Training for 192000 iter, 300.00 epochs:  18%|▏| 35372/192000 [01:36<06:41, 389.83it/s, epoch=55.23/30"
     ]
    },
    {
     "name": "stderr",
     "output_type": "stream",
     "text": [
      "\r",
      "Training for 192000 iter, 300.00 epochs:  18%|▏| 35372/192000 [01:36<06:41, 389.83it/s, epoch=55.31/30"
     ]
    },
    {
     "name": "stderr",
     "output_type": "stream",
     "text": [
      "\r",
      "Training for 192000 iter, 300.00 epochs:  18%|▏| 35412/192000 [01:36<06:39, 392.04it/s, epoch=55.31/30"
     ]
    },
    {
     "name": "stderr",
     "output_type": "stream",
     "text": [
      "\r",
      "Training for 192000 iter, 300.00 epochs:  18%|▏| 35412/192000 [01:36<06:39, 392.04it/s, epoch=55.39/30"
     ]
    },
    {
     "name": "stderr",
     "output_type": "stream",
     "text": [
      "\r",
      "Training for 192000 iter, 300.00 epochs:  18%|▏| 35452/192000 [01:36<06:42, 388.53it/s, epoch=55.39/30"
     ]
    },
    {
     "name": "stderr",
     "output_type": "stream",
     "text": [
      "\r",
      "Training for 192000 iter, 300.00 epochs:  18%|▏| 35491/192000 [01:36<06:57, 374.83it/s, epoch=55.39/30"
     ]
    },
    {
     "name": "stderr",
     "output_type": "stream",
     "text": [
      "\r",
      "Training for 192000 iter, 300.00 epochs:  18%|▏| 35491/192000 [01:36<06:57, 374.83it/s, epoch=55.47/30"
     ]
    },
    {
     "name": "stderr",
     "output_type": "stream",
     "text": [
      "\r",
      "Training for 192000 iter, 300.00 epochs:  19%|▏| 35531/192000 [01:36<06:50, 381.28it/s, epoch=55.47/30"
     ]
    },
    {
     "name": "stderr",
     "output_type": "stream",
     "text": [
      "\r",
      "Training for 192000 iter, 300.00 epochs:  19%|▏| 35531/192000 [01:36<06:50, 381.28it/s, epoch=55.55/30"
     ]
    },
    {
     "name": "stderr",
     "output_type": "stream",
     "text": [
      "\r",
      "Training for 192000 iter, 300.00 epochs:  19%|▏| 35572/192000 [01:36<06:44, 386.94it/s, epoch=55.55/30"
     ]
    },
    {
     "name": "stderr",
     "output_type": "stream",
     "text": [
      "\r",
      "Training for 192000 iter, 300.00 epochs:  19%|▏| 35572/192000 [01:36<06:44, 386.94it/s, epoch=55.62/30"
     ]
    },
    {
     "name": "stderr",
     "output_type": "stream",
     "text": [
      "\r",
      "Training for 192000 iter, 300.00 epochs:  19%|▏| 35612/192000 [01:36<06:41, 389.62it/s, epoch=55.62/30"
     ]
    },
    {
     "name": "stderr",
     "output_type": "stream",
     "text": [
      "\r",
      "Training for 192000 iter, 300.00 epochs:  19%|▏| 35612/192000 [01:36<06:41, 389.62it/s, epoch=55.70/30"
     ]
    },
    {
     "name": "stderr",
     "output_type": "stream",
     "text": [
      "\r",
      "Training for 192000 iter, 300.00 epochs:  19%|▏| 35652/192000 [01:36<06:46, 385.01it/s, epoch=55.70/30"
     ]
    },
    {
     "name": "stderr",
     "output_type": "stream",
     "text": [
      "\r",
      "Training for 192000 iter, 300.00 epochs:  19%|▏| 35692/192000 [01:36<06:44, 386.40it/s, epoch=55.70/30"
     ]
    },
    {
     "name": "stderr",
     "output_type": "stream",
     "text": [
      "\r",
      "Training for 192000 iter, 300.00 epochs:  19%|▏| 35692/192000 [01:36<06:44, 386.40it/s, epoch=55.78/30"
     ]
    },
    {
     "name": "stderr",
     "output_type": "stream",
     "text": [
      "\r",
      "Training for 192000 iter, 300.00 epochs:  19%|▏| 35731/192000 [01:36<06:50, 380.64it/s, epoch=55.78/30"
     ]
    },
    {
     "name": "stderr",
     "output_type": "stream",
     "text": [
      "\r",
      "Training for 192000 iter, 300.00 epochs:  19%|▏| 35731/192000 [01:37<06:50, 380.64it/s, epoch=55.86/30"
     ]
    },
    {
     "name": "stderr",
     "output_type": "stream",
     "text": [
      "\r",
      "Training for 192000 iter, 300.00 epochs:  19%|▏| 35770/192000 [01:37<06:47, 383.08it/s, epoch=55.86/30"
     ]
    },
    {
     "name": "stderr",
     "output_type": "stream",
     "text": [
      "\r",
      "Training for 192000 iter, 300.00 epochs:  19%|▏| 35770/192000 [01:37<06:47, 383.08it/s, epoch=55.94/30"
     ]
    },
    {
     "name": "stderr",
     "output_type": "stream",
     "text": [
      "\r",
      "Training for 192000 iter, 300.00 epochs:  19%|▏| 35810/192000 [01:37<06:44, 385.90it/s, epoch=55.94/30"
     ]
    },
    {
     "name": "stderr",
     "output_type": "stream",
     "text": [
      "\r",
      "Training for 192000 iter, 300.00 epochs:  19%|▏| 35849/192000 [01:37<07:01, 370.13it/s, epoch=55.94/30"
     ]
    },
    {
     "name": "stderr",
     "output_type": "stream",
     "text": [
      "\r",
      "Training for 192000 iter, 300.00 epochs:  19%|▏| 35849/192000 [01:37<07:01, 370.13it/s, epoch=56.02/30"
     ]
    },
    {
     "name": "stderr",
     "output_type": "stream",
     "text": [
      "\r",
      "Training for 192000 iter, 300.00 epochs:  19%|▏| 35887/192000 [01:37<07:19, 354.93it/s, epoch=56.02/30"
     ]
    },
    {
     "name": "stderr",
     "output_type": "stream",
     "text": [
      "\r",
      "Training for 192000 iter, 300.00 epochs:  19%|▏| 35887/192000 [01:37<07:19, 354.93it/s, epoch=56.09/30"
     ]
    },
    {
     "name": "stderr",
     "output_type": "stream",
     "text": [
      "\r",
      "Training for 192000 iter, 300.00 epochs:  19%|▏| 35925/192000 [01:37<07:13, 359.93it/s, epoch=56.09/30"
     ]
    },
    {
     "name": "stderr",
     "output_type": "stream",
     "text": [
      "\r",
      "Training for 192000 iter, 300.00 epochs:  19%|▏| 35925/192000 [01:37<07:13, 359.93it/s, epoch=56.17/30"
     ]
    },
    {
     "name": "stderr",
     "output_type": "stream",
     "text": [
      "\r",
      "Training for 192000 iter, 300.00 epochs:  19%|▏| 35965/192000 [01:37<07:02, 369.16it/s, epoch=56.17/30"
     ]
    },
    {
     "name": "stderr",
     "output_type": "stream",
     "text": [
      "\r",
      "Training for 192000 iter, 300.00 epochs:  19%|▏| 35965/192000 [01:37<07:02, 369.16it/s, epoch=56.25/30"
     ]
    },
    {
     "name": "stderr",
     "output_type": "stream",
     "text": [
      "\r",
      "Training for 192000 iter, 300.00 epochs:  19%|▏| 36005/192000 [01:37<06:53, 377.26it/s, epoch=56.25/30"
     ]
    },
    {
     "name": "stderr",
     "output_type": "stream",
     "text": [
      "\r",
      "Training for 192000 iter, 300.00 epochs:  19%|▏| 36045/192000 [01:37<06:47, 382.64it/s, epoch=56.25/30"
     ]
    },
    {
     "name": "stderr",
     "output_type": "stream",
     "text": [
      "\r",
      "Training for 192000 iter, 300.00 epochs:  19%|▏| 36045/192000 [01:37<06:47, 382.64it/s, epoch=56.33/30"
     ]
    },
    {
     "name": "stderr",
     "output_type": "stream",
     "text": [
      "\r",
      "Training for 192000 iter, 300.00 epochs:  19%|▏| 36085/192000 [01:37<06:43, 386.58it/s, epoch=56.33/30"
     ]
    },
    {
     "name": "stderr",
     "output_type": "stream",
     "text": [
      "\r",
      "Training for 192000 iter, 300.00 epochs:  19%|▏| 36085/192000 [01:37<06:43, 386.58it/s, epoch=56.41/30"
     ]
    },
    {
     "name": "stderr",
     "output_type": "stream",
     "text": [
      "\r",
      "Training for 192000 iter, 300.00 epochs:  19%|▏| 36124/192000 [01:38<07:14, 358.75it/s, epoch=56.41/30"
     ]
    },
    {
     "name": "stderr",
     "output_type": "stream",
     "text": [
      "\r",
      "Training for 192000 iter, 300.00 epochs:  19%|▏| 36124/192000 [01:38<07:14, 358.75it/s, epoch=56.48/30"
     ]
    },
    {
     "name": "stderr",
     "output_type": "stream",
     "text": [
      "\r",
      "Training for 192000 iter, 300.00 epochs:  19%|▏| 36161/192000 [01:38<07:11, 361.21it/s, epoch=56.48/30"
     ]
    },
    {
     "name": "stderr",
     "output_type": "stream",
     "text": [
      "\r",
      "Training for 192000 iter, 300.00 epochs:  19%|▏| 36161/192000 [01:38<07:11, 361.21it/s, epoch=56.56/30"
     ]
    },
    {
     "name": "stderr",
     "output_type": "stream",
     "text": [
      "\r",
      "Training for 192000 iter, 300.00 epochs:  19%|▏| 36201/192000 [01:38<07:01, 369.49it/s, epoch=56.56/30"
     ]
    },
    {
     "name": "stderr",
     "output_type": "stream",
     "text": [
      "\r",
      "Training for 192000 iter, 300.00 epochs:  19%|▏| 36241/192000 [01:38<06:52, 377.17it/s, epoch=56.56/30"
     ]
    },
    {
     "name": "stderr",
     "output_type": "stream",
     "text": [
      "\r",
      "Training for 192000 iter, 300.00 epochs:  19%|▏| 36241/192000 [01:38<06:52, 377.17it/s, epoch=56.64/30"
     ]
    },
    {
     "name": "stderr",
     "output_type": "stream",
     "text": [
      "\r",
      "Training for 192000 iter, 300.00 epochs:  19%|▏| 36281/192000 [01:38<06:45, 383.67it/s, epoch=56.64/30"
     ]
    },
    {
     "name": "stderr",
     "output_type": "stream",
     "text": [
      "\r",
      "Training for 192000 iter, 300.00 epochs:  19%|▏| 36281/192000 [01:38<06:45, 383.67it/s, epoch=56.72/30"
     ]
    },
    {
     "name": "stderr",
     "output_type": "stream",
     "text": [
      "\r",
      "Training for 192000 iter, 300.00 epochs:  19%|▏| 36321/192000 [01:38<06:42, 387.13it/s, epoch=56.72/30"
     ]
    },
    {
     "name": "stderr",
     "output_type": "stream",
     "text": [
      "\r",
      "Training for 192000 iter, 300.00 epochs:  19%|▏| 36321/192000 [01:38<06:42, 387.13it/s, epoch=56.80/30"
     ]
    },
    {
     "name": "stderr",
     "output_type": "stream",
     "text": [
      "\r",
      "Training for 192000 iter, 300.00 epochs:  19%|▏| 36360/192000 [01:38<06:41, 387.82it/s, epoch=56.80/30"
     ]
    },
    {
     "name": "stderr",
     "output_type": "stream",
     "text": [
      "\r",
      "Training for 192000 iter, 300.00 epochs:  19%|▏| 36399/192000 [01:38<07:04, 366.50it/s, epoch=56.80/30"
     ]
    },
    {
     "name": "stderr",
     "output_type": "stream",
     "text": [
      "\r",
      "Training for 192000 iter, 300.00 epochs:  19%|▏| 36399/192000 [01:38<07:04, 366.50it/s, epoch=56.88/30"
     ]
    },
    {
     "name": "stderr",
     "output_type": "stream",
     "text": [
      "\r",
      "Training for 192000 iter, 300.00 epochs:  19%|▏| 36436/192000 [01:38<07:22, 351.45it/s, epoch=56.88/30"
     ]
    },
    {
     "name": "stderr",
     "output_type": "stream",
     "text": [
      "\r",
      "Training for 192000 iter, 300.00 epochs:  19%|▏| 36436/192000 [01:38<07:22, 351.45it/s, epoch=56.95/30"
     ]
    },
    {
     "name": "stderr",
     "output_type": "stream",
     "text": [
      "\r",
      "Training for 192000 iter, 300.00 epochs:  19%|▏| 36474/192000 [01:38<07:14, 358.20it/s, epoch=56.95/30"
     ]
    },
    {
     "name": "stderr",
     "output_type": "stream",
     "text": [
      "\r",
      "Training for 192000 iter, 300.00 epochs:  19%|▏| 36474/192000 [01:39<07:14, 358.20it/s, epoch=57.03/30"
     ]
    },
    {
     "name": "stderr",
     "output_type": "stream",
     "text": [
      "\r",
      "Training for 192000 iter, 300.00 epochs:  19%|▏| 36511/192000 [01:39<07:19, 353.70it/s, epoch=57.03/30"
     ]
    },
    {
     "name": "stderr",
     "output_type": "stream",
     "text": [
      "\r",
      "Training for 192000 iter, 300.00 epochs:  19%|▏| 36547/192000 [01:39<07:25, 349.33it/s, epoch=57.03/30"
     ]
    },
    {
     "name": "stderr",
     "output_type": "stream",
     "text": [
      "\r",
      "Training for 192000 iter, 300.00 epochs:  19%|▏| 36547/192000 [01:39<07:25, 349.33it/s, epoch=57.11/30"
     ]
    },
    {
     "name": "stderr",
     "output_type": "stream",
     "text": [
      "\r",
      "Training for 192000 iter, 300.00 epochs:  19%|▏| 36587/192000 [01:39<07:08, 362.42it/s, epoch=57.11/30"
     ]
    },
    {
     "name": "stderr",
     "output_type": "stream",
     "text": [
      "\r",
      "Training for 192000 iter, 300.00 epochs:  19%|▏| 36587/192000 [01:39<07:08, 362.42it/s, epoch=57.19/30"
     ]
    },
    {
     "name": "stderr",
     "output_type": "stream",
     "text": [
      "\r",
      "Training for 192000 iter, 300.00 epochs:  19%|▏| 36624/192000 [01:39<07:19, 353.51it/s, epoch=57.19/30"
     ]
    },
    {
     "name": "stderr",
     "output_type": "stream",
     "text": [
      "\r",
      "Training for 192000 iter, 300.00 epochs:  19%|▏| 36624/192000 [01:39<07:19, 353.51it/s, epoch=57.27/30"
     ]
    },
    {
     "name": "stderr",
     "output_type": "stream",
     "text": [
      "\r",
      "Training for 192000 iter, 300.00 epochs:  19%|▏| 36666/192000 [01:39<06:59, 370.05it/s, epoch=57.27/30"
     ]
    },
    {
     "name": "stderr",
     "output_type": "stream",
     "text": [
      "\r",
      "Training for 192000 iter, 300.00 epochs:  19%|▏| 36666/192000 [01:39<06:59, 370.05it/s, epoch=57.34/30"
     ]
    },
    {
     "name": "stderr",
     "output_type": "stream",
     "text": [
      "\r",
      "Training for 192000 iter, 300.00 epochs:  19%|▏| 36708/192000 [01:39<06:46, 381.97it/s, epoch=57.34/30"
     ]
    },
    {
     "name": "stderr",
     "output_type": "stream",
     "text": [
      "\r",
      "Training for 192000 iter, 300.00 epochs:  19%|▏| 36747/192000 [01:39<06:46, 381.49it/s, epoch=57.34/30"
     ]
    },
    {
     "name": "stderr",
     "output_type": "stream",
     "text": [
      "\r",
      "Training for 192000 iter, 300.00 epochs:  19%|▏| 36747/192000 [01:39<06:46, 381.49it/s, epoch=57.42/30"
     ]
    },
    {
     "name": "stderr",
     "output_type": "stream",
     "text": [
      "\r",
      "Training for 192000 iter, 300.00 epochs:  19%|▏| 36787/192000 [01:39<06:42, 385.24it/s, epoch=57.42/30"
     ]
    },
    {
     "name": "stderr",
     "output_type": "stream",
     "text": [
      "\r",
      "Training for 192000 iter, 300.00 epochs:  19%|▏| 36787/192000 [01:39<06:42, 385.24it/s, epoch=57.50/30"
     ]
    },
    {
     "name": "stderr",
     "output_type": "stream",
     "text": [
      "\r",
      "Training for 192000 iter, 300.00 epochs:  19%|▏| 36826/192000 [01:39<06:48, 379.81it/s, epoch=57.50/30"
     ]
    },
    {
     "name": "stderr",
     "output_type": "stream",
     "text": [
      "\r",
      "Training for 192000 iter, 300.00 epochs:  19%|▏| 36826/192000 [01:39<06:48, 379.81it/s, epoch=57.58/30"
     ]
    },
    {
     "name": "stderr",
     "output_type": "stream",
     "text": [
      "\r",
      "Training for 192000 iter, 300.00 epochs:  19%|▏| 36866/192000 [01:40<06:44, 383.48it/s, epoch=57.58/30"
     ]
    },
    {
     "name": "stderr",
     "output_type": "stream",
     "text": [
      "\r",
      "Training for 192000 iter, 300.00 epochs:  19%|▏| 36866/192000 [01:40<06:44, 383.48it/s, epoch=57.66/30"
     ]
    },
    {
     "name": "stderr",
     "output_type": "stream",
     "text": [
      "\r",
      "Training for 192000 iter, 300.00 epochs:  19%|▏| 36907/192000 [01:40<06:39, 388.65it/s, epoch=57.66/30"
     ]
    },
    {
     "name": "stderr",
     "output_type": "stream",
     "text": [
      "\r",
      "Training for 192000 iter, 300.00 epochs:  19%|▏| 36946/192000 [01:40<06:41, 386.29it/s, epoch=57.66/30"
     ]
    },
    {
     "name": "stderr",
     "output_type": "stream",
     "text": [
      "\r",
      "Training for 192000 iter, 300.00 epochs:  19%|▏| 36946/192000 [01:40<06:41, 386.29it/s, epoch=57.73/30"
     ]
    },
    {
     "name": "stderr",
     "output_type": "stream",
     "text": [
      "\r",
      "Training for 192000 iter, 300.00 epochs:  19%|▏| 36985/192000 [01:40<06:47, 380.79it/s, epoch=57.73/30"
     ]
    },
    {
     "name": "stderr",
     "output_type": "stream",
     "text": [
      "\r",
      "Training for 192000 iter, 300.00 epochs:  19%|▏| 36985/192000 [01:40<06:47, 380.79it/s, epoch=57.81/30"
     ]
    },
    {
     "name": "stderr",
     "output_type": "stream",
     "text": [
      "\r",
      "Training for 192000 iter, 300.00 epochs:  19%|▏| 37024/192000 [01:40<06:44, 382.80it/s, epoch=57.81/30"
     ]
    },
    {
     "name": "stderr",
     "output_type": "stream",
     "text": [
      "\r",
      "Training for 192000 iter, 300.00 epochs:  19%|▏| 37024/192000 [01:40<06:44, 382.80it/s, epoch=57.89/30"
     ]
    },
    {
     "name": "stderr",
     "output_type": "stream",
     "text": [
      "\r",
      "Training for 192000 iter, 300.00 epochs:  19%|▏| 37063/192000 [01:40<06:51, 376.88it/s, epoch=57.89/30"
     ]
    },
    {
     "name": "stderr",
     "output_type": "stream",
     "text": [
      "\r",
      "Training for 192000 iter, 300.00 epochs:  19%|▏| 37063/192000 [01:40<06:51, 376.88it/s, epoch=57.97/30"
     ]
    },
    {
     "name": "stderr",
     "output_type": "stream",
     "text": [
      "\r",
      "Training for 192000 iter, 300.00 epochs:  19%|▏| 37101/192000 [01:40<06:51, 376.71it/s, epoch=57.97/30"
     ]
    },
    {
     "name": "stderr",
     "output_type": "stream",
     "text": [
      "\r",
      "Training for 192000 iter, 300.00 epochs:  19%|▏| 37139/192000 [01:40<06:57, 370.93it/s, epoch=57.97/30"
     ]
    },
    {
     "name": "stderr",
     "output_type": "stream",
     "text": [
      "\r",
      "Training for 192000 iter, 300.00 epochs:  19%|▏| 37139/192000 [01:40<06:57, 370.93it/s, epoch=58.05/30"
     ]
    },
    {
     "name": "stderr",
     "output_type": "stream",
     "text": [
      "\r",
      "Training for 192000 iter, 300.00 epochs:  19%|▏| 37177/192000 [01:40<06:55, 372.21it/s, epoch=58.05/30"
     ]
    },
    {
     "name": "stderr",
     "output_type": "stream",
     "text": [
      "\r",
      "Training for 192000 iter, 300.00 epochs:  19%|▏| 37177/192000 [01:40<06:55, 372.21it/s, epoch=58.12/30"
     ]
    },
    {
     "name": "stderr",
     "output_type": "stream",
     "text": [
      "\r",
      "Training for 192000 iter, 300.00 epochs:  19%|▏| 37216/192000 [01:40<06:52, 375.40it/s, epoch=58.12/30"
     ]
    },
    {
     "name": "stderr",
     "output_type": "stream",
     "text": [
      "\r",
      "Training for 192000 iter, 300.00 epochs:  19%|▏| 37216/192000 [01:41<06:52, 375.40it/s, epoch=58.20/30"
     ]
    },
    {
     "name": "stderr",
     "output_type": "stream",
     "text": [
      "\r",
      "Training for 192000 iter, 300.00 epochs:  19%|▏| 37256/192000 [01:41<06:46, 380.82it/s, epoch=58.20/30"
     ]
    },
    {
     "name": "stderr",
     "output_type": "stream",
     "text": [
      "\r",
      "Training for 192000 iter, 300.00 epochs:  19%|▏| 37296/192000 [01:41<06:41, 385.47it/s, epoch=58.20/30"
     ]
    },
    {
     "name": "stderr",
     "output_type": "stream",
     "text": [
      "\r",
      "Training for 192000 iter, 300.00 epochs:  19%|▏| 37296/192000 [01:41<06:41, 385.47it/s, epoch=58.28/30"
     ]
    },
    {
     "name": "stderr",
     "output_type": "stream",
     "text": [
      "\r",
      "Training for 192000 iter, 300.00 epochs:  19%|▏| 37336/192000 [01:41<06:38, 388.22it/s, epoch=58.28/30"
     ]
    },
    {
     "name": "stderr",
     "output_type": "stream",
     "text": [
      "\r",
      "Training for 192000 iter, 300.00 epochs:  19%|▏| 37336/192000 [01:41<06:38, 388.22it/s, epoch=58.36/30"
     ]
    },
    {
     "name": "stderr",
     "output_type": "stream",
     "text": [
      "\r",
      "Training for 192000 iter, 300.00 epochs:  19%|▏| 37376/192000 [01:41<06:37, 389.03it/s, epoch=58.36/30"
     ]
    },
    {
     "name": "stderr",
     "output_type": "stream",
     "text": [
      "\r",
      "Training for 192000 iter, 300.00 epochs:  19%|▏| 37376/192000 [01:41<06:37, 389.03it/s, epoch=58.44/30"
     ]
    },
    {
     "name": "stderr",
     "output_type": "stream",
     "text": [
      "\r",
      "Training for 192000 iter, 300.00 epochs:  19%|▏| 37416/192000 [01:41<06:35, 390.65it/s, epoch=58.44/30"
     ]
    },
    {
     "name": "stderr",
     "output_type": "stream",
     "text": [
      "\r",
      "Training for 192000 iter, 300.00 epochs:  19%|▏| 37416/192000 [01:41<06:35, 390.65it/s, epoch=58.52/30"
     ]
    },
    {
     "name": "stderr",
     "output_type": "stream",
     "text": [
      "\r",
      "Training for 192000 iter, 300.00 epochs:  20%|▏| 37456/192000 [01:41<06:34, 391.44it/s, epoch=58.52/30"
     ]
    },
    {
     "name": "stderr",
     "output_type": "stream",
     "text": [
      "\r",
      "Training for 192000 iter, 300.00 epochs:  20%|▏| 37496/192000 [01:41<06:32, 393.40it/s, epoch=58.52/30"
     ]
    },
    {
     "name": "stderr",
     "output_type": "stream",
     "text": [
      "\r",
      "Training for 192000 iter, 300.00 epochs:  20%|▏| 37496/192000 [01:41<06:32, 393.40it/s, epoch=58.59/30"
     ]
    },
    {
     "name": "stderr",
     "output_type": "stream",
     "text": [
      "\r",
      "Training for 192000 iter, 300.00 epochs:  20%|▏| 37536/192000 [01:41<06:32, 393.82it/s, epoch=58.59/30"
     ]
    },
    {
     "name": "stderr",
     "output_type": "stream",
     "text": [
      "\r",
      "Training for 192000 iter, 300.00 epochs:  20%|▏| 37536/192000 [01:41<06:32, 393.82it/s, epoch=58.67/30"
     ]
    },
    {
     "name": "stderr",
     "output_type": "stream",
     "text": [
      "\r",
      "Training for 192000 iter, 300.00 epochs:  20%|▏| 37576/192000 [01:41<06:32, 393.17it/s, epoch=58.67/30"
     ]
    },
    {
     "name": "stderr",
     "output_type": "stream",
     "text": [
      "\r",
      "Training for 192000 iter, 300.00 epochs:  20%|▏| 37576/192000 [01:41<06:32, 393.17it/s, epoch=58.75/30"
     ]
    },
    {
     "name": "stderr",
     "output_type": "stream",
     "text": [
      "\r",
      "Training for 192000 iter, 300.00 epochs:  20%|▏| 37616/192000 [01:41<06:31, 393.97it/s, epoch=58.75/30"
     ]
    },
    {
     "name": "stderr",
     "output_type": "stream",
     "text": [
      "\r",
      "Training for 192000 iter, 300.00 epochs:  20%|▏| 37616/192000 [01:42<06:31, 393.97it/s, epoch=58.83/30"
     ]
    },
    {
     "name": "stderr",
     "output_type": "stream",
     "text": [
      "\r",
      "Training for 192000 iter, 300.00 epochs:  20%|▏| 37656/192000 [01:42<06:31, 393.95it/s, epoch=58.83/30"
     ]
    },
    {
     "name": "stderr",
     "output_type": "stream",
     "text": [
      "\r",
      "Training for 192000 iter, 300.00 epochs:  20%|▏| 37696/192000 [01:42<06:30, 395.27it/s, epoch=58.83/30"
     ]
    },
    {
     "name": "stderr",
     "output_type": "stream",
     "text": [
      "\r",
      "Training for 192000 iter, 300.00 epochs:  20%|▏| 37696/192000 [01:42<06:30, 395.27it/s, epoch=58.91/30"
     ]
    },
    {
     "name": "stderr",
     "output_type": "stream",
     "text": [
      "\r",
      "Training for 192000 iter, 300.00 epochs:  20%|▏| 37736/192000 [01:42<06:31, 394.10it/s, epoch=58.91/30"
     ]
    },
    {
     "name": "stderr",
     "output_type": "stream",
     "text": [
      "\r",
      "Training for 192000 iter, 300.00 epochs:  20%|▏| 37736/192000 [01:42<06:31, 394.10it/s, epoch=58.98/30"
     ]
    },
    {
     "name": "stderr",
     "output_type": "stream",
     "text": [
      "\r",
      "Training for 192000 iter, 300.00 epochs:  20%|▏| 37776/192000 [01:42<06:48, 377.58it/s, epoch=58.98/30"
     ]
    },
    {
     "name": "stderr",
     "output_type": "stream",
     "text": [
      "\r",
      "Training for 192000 iter, 300.00 epochs:  20%|▏| 37776/192000 [01:42<06:48, 377.58it/s, epoch=59.06/30"
     ]
    },
    {
     "name": "stderr",
     "output_type": "stream",
     "text": [
      "\r",
      "Training for 192000 iter, 300.00 epochs:  20%|▏| 37814/192000 [01:42<06:53, 372.59it/s, epoch=59.06/30"
     ]
    },
    {
     "name": "stderr",
     "output_type": "stream",
     "text": [
      "\r",
      "Training for 192000 iter, 300.00 epochs:  20%|▏| 37814/192000 [01:42<06:53, 372.59it/s, epoch=59.14/30"
     ]
    },
    {
     "name": "stderr",
     "output_type": "stream",
     "text": [
      "\r",
      "Training for 192000 iter, 300.00 epochs:  20%|▏| 37854/192000 [01:42<06:45, 380.46it/s, epoch=59.14/30"
     ]
    },
    {
     "name": "stderr",
     "output_type": "stream",
     "text": [
      "\r",
      "Training for 192000 iter, 300.00 epochs:  20%|▏| 37893/192000 [01:42<06:57, 369.16it/s, epoch=59.14/30"
     ]
    },
    {
     "name": "stderr",
     "output_type": "stream",
     "text": [
      "\r",
      "Training for 192000 iter, 300.00 epochs:  20%|▏| 37893/192000 [01:42<06:57, 369.16it/s, epoch=59.22/30"
     ]
    },
    {
     "name": "stderr",
     "output_type": "stream",
     "text": [
      "\r",
      "Training for 192000 iter, 300.00 epochs:  20%|▏| 37931/192000 [01:42<07:23, 347.70it/s, epoch=59.22/30"
     ]
    },
    {
     "name": "stderr",
     "output_type": "stream",
     "text": [
      "\r",
      "Training for 192000 iter, 300.00 epochs:  20%|▏| 37931/192000 [01:42<07:23, 347.70it/s, epoch=59.30/30"
     ]
    },
    {
     "name": "stderr",
     "output_type": "stream",
     "text": [
      "\r",
      "Training for 192000 iter, 300.00 epochs:  20%|▏| 37970/192000 [01:42<07:09, 358.87it/s, epoch=59.30/30"
     ]
    },
    {
     "name": "stderr",
     "output_type": "stream",
     "text": [
      "\r",
      "Training for 192000 iter, 300.00 epochs:  20%|▏| 37970/192000 [01:43<07:09, 358.87it/s, epoch=59.38/30"
     ]
    },
    {
     "name": "stderr",
     "output_type": "stream",
     "text": [
      "\r",
      "Training for 192000 iter, 300.00 epochs:  20%|▏| 38007/192000 [01:43<07:06, 360.77it/s, epoch=59.38/30"
     ]
    },
    {
     "name": "stderr",
     "output_type": "stream",
     "text": [
      "\r",
      "Training for 192000 iter, 300.00 epochs:  20%|▏| 38047/192000 [01:43<06:56, 369.81it/s, epoch=59.38/30"
     ]
    },
    {
     "name": "stderr",
     "output_type": "stream",
     "text": [
      "\r",
      "Training for 192000 iter, 300.00 epochs:  20%|▏| 38047/192000 [01:43<06:56, 369.81it/s, epoch=59.45/30"
     ]
    },
    {
     "name": "stderr",
     "output_type": "stream",
     "text": [
      "\r",
      "Training for 192000 iter, 300.00 epochs:  20%|▏| 38085/192000 [01:43<06:53, 371.92it/s, epoch=59.45/30"
     ]
    },
    {
     "name": "stderr",
     "output_type": "stream",
     "text": [
      "\r",
      "Training for 192000 iter, 300.00 epochs:  20%|▏| 38085/192000 [01:43<06:53, 371.92it/s, epoch=59.53/30"
     ]
    },
    {
     "name": "stderr",
     "output_type": "stream",
     "text": [
      "\r",
      "Training for 192000 iter, 300.00 epochs:  20%|▏| 38126/192000 [01:43<06:43, 380.89it/s, epoch=59.53/30"
     ]
    },
    {
     "name": "stderr",
     "output_type": "stream",
     "text": [
      "\r",
      "Training for 192000 iter, 300.00 epochs:  20%|▏| 38126/192000 [01:43<06:43, 380.89it/s, epoch=59.61/30"
     ]
    },
    {
     "name": "stderr",
     "output_type": "stream",
     "text": [
      "\r",
      "Training for 192000 iter, 300.00 epochs:  20%|▏| 38167/192000 [01:43<06:38, 386.40it/s, epoch=59.61/30"
     ]
    },
    {
     "name": "stderr",
     "output_type": "stream",
     "text": [
      "\r",
      "Training for 192000 iter, 300.00 epochs:  20%|▏| 38167/192000 [01:43<06:38, 386.40it/s, epoch=59.69/30"
     ]
    },
    {
     "name": "stderr",
     "output_type": "stream",
     "text": [
      "\r",
      "Training for 192000 iter, 300.00 epochs:  20%|▏| 38206/192000 [01:43<06:37, 387.22it/s, epoch=59.69/30"
     ]
    },
    {
     "name": "stderr",
     "output_type": "stream",
     "text": [
      "\r",
      "Training for 192000 iter, 300.00 epochs:  20%|▏| 38247/192000 [01:43<06:31, 392.35it/s, epoch=59.69/30"
     ]
    },
    {
     "name": "stderr",
     "output_type": "stream",
     "text": [
      "\r",
      "Training for 192000 iter, 300.00 epochs:  20%|▏| 38247/192000 [01:43<06:31, 392.35it/s, epoch=59.77/30"
     ]
    },
    {
     "name": "stderr",
     "output_type": "stream",
     "text": [
      "\r",
      "Training for 192000 iter, 300.00 epochs:  20%|▏| 38287/192000 [01:43<06:31, 392.55it/s, epoch=59.77/30"
     ]
    },
    {
     "name": "stderr",
     "output_type": "stream",
     "text": [
      "\r",
      "Training for 192000 iter, 300.00 epochs:  20%|▏| 38287/192000 [01:43<06:31, 392.55it/s, epoch=59.84/30"
     ]
    },
    {
     "name": "stderr",
     "output_type": "stream",
     "text": [
      "\r",
      "Training for 192000 iter, 300.00 epochs:  20%|▏| 38327/192000 [01:43<06:30, 393.93it/s, epoch=59.84/30"
     ]
    },
    {
     "name": "stderr",
     "output_type": "stream",
     "text": [
      "\r",
      "Training for 192000 iter, 300.00 epochs:  20%|▏| 38327/192000 [01:43<06:30, 393.93it/s, epoch=59.92/30"
     ]
    },
    {
     "name": "stderr",
     "output_type": "stream",
     "text": [
      "\r",
      "Training for 192000 iter, 300.00 epochs:  20%|▏| 38367/192000 [01:43<06:28, 395.50it/s, epoch=59.92/30"
     ]
    },
    {
     "name": "stderr",
     "output_type": "stream",
     "text": [
      "\r",
      "Training for 192000 iter, 300.00 epochs:  20%|▏| 38367/192000 [01:44<06:28, 395.50it/s, epoch=60.00/30"
     ]
    },
    {
     "name": "stderr",
     "output_type": "stream",
     "text": [
      "\r",
      "Training for 192000 iter, 300.00 epochs:  20%|▏| 38407/192000 [01:44<07:00, 365.18it/s, epoch=60.00/30"
     ]
    },
    {
     "name": "stderr",
     "output_type": "stream",
     "text": [
      "\r",
      "Training for 192000 iter, 300.00 epochs:  20%|▏| 38444/192000 [01:44<06:59, 365.82it/s, epoch=60.00/30"
     ]
    },
    {
     "name": "stderr",
     "output_type": "stream",
     "text": [
      "\r",
      "Training for 192000 iter, 300.00 epochs:  20%|▏| 38444/192000 [01:44<06:59, 365.82it/s, epoch=60.08/30"
     ]
    },
    {
     "name": "stderr",
     "output_type": "stream",
     "text": [
      "\r",
      "Training for 192000 iter, 300.00 epochs:  20%|▏| 38481/192000 [01:44<07:19, 349.52it/s, epoch=60.08/30"
     ]
    },
    {
     "name": "stderr",
     "output_type": "stream",
     "text": [
      "\r",
      "Training for 192000 iter, 300.00 epochs:  20%|▏| 38481/192000 [01:44<07:19, 349.52it/s, epoch=60.16/30"
     ]
    },
    {
     "name": "stderr",
     "output_type": "stream",
     "text": [
      "\r",
      "Training for 192000 iter, 300.00 epochs:  20%|▏| 38519/192000 [01:44<07:11, 356.10it/s, epoch=60.16/30"
     ]
    },
    {
     "name": "stderr",
     "output_type": "stream",
     "text": [
      "\r",
      "Training for 192000 iter, 300.00 epochs:  20%|▏| 38519/192000 [01:44<07:11, 356.10it/s, epoch=60.23/30"
     ]
    },
    {
     "name": "stderr",
     "output_type": "stream",
     "text": [
      "\r",
      "Training for 192000 iter, 300.00 epochs:  20%|▏| 38559/192000 [01:44<06:58, 366.48it/s, epoch=60.23/30"
     ]
    },
    {
     "name": "stderr",
     "output_type": "stream",
     "text": [
      "\r",
      "Training for 192000 iter, 300.00 epochs:  20%|▏| 38599/192000 [01:44<06:50, 373.68it/s, epoch=60.23/30"
     ]
    },
    {
     "name": "stderr",
     "output_type": "stream",
     "text": [
      "\r",
      "Training for 192000 iter, 300.00 epochs:  20%|▏| 38599/192000 [01:44<06:50, 373.68it/s, epoch=60.31/30"
     ]
    },
    {
     "name": "stderr",
     "output_type": "stream",
     "text": [
      "\r",
      "Training for 192000 iter, 300.00 epochs:  20%|▏| 38639/192000 [01:44<06:43, 380.50it/s, epoch=60.31/30"
     ]
    },
    {
     "name": "stderr",
     "output_type": "stream",
     "text": [
      "\r",
      "Training for 192000 iter, 300.00 epochs:  20%|▏| 38639/192000 [01:44<06:43, 380.50it/s, epoch=60.39/30"
     ]
    },
    {
     "name": "stderr",
     "output_type": "stream",
     "text": [
      "\r",
      "Training for 192000 iter, 300.00 epochs:  20%|▏| 38679/192000 [01:44<06:38, 384.89it/s, epoch=60.39/30"
     ]
    },
    {
     "name": "stderr",
     "output_type": "stream",
     "text": [
      "\r",
      "Training for 192000 iter, 300.00 epochs:  20%|▏| 38679/192000 [01:44<06:38, 384.89it/s, epoch=60.47/30"
     ]
    },
    {
     "name": "stderr",
     "output_type": "stream",
     "text": [
      "\r",
      "Training for 192000 iter, 300.00 epochs:  20%|▏| 38718/192000 [01:44<06:38, 384.79it/s, epoch=60.47/30"
     ]
    },
    {
     "name": "stderr",
     "output_type": "stream",
     "text": [
      "\r",
      "Training for 192000 iter, 300.00 epochs:  20%|▏| 38718/192000 [01:44<06:38, 384.79it/s, epoch=60.55/30"
     ]
    },
    {
     "name": "stderr",
     "output_type": "stream",
     "text": [
      "\r",
      "Training for 192000 iter, 300.00 epochs:  20%|▏| 38758/192000 [01:44<06:34, 388.33it/s, epoch=60.55/30"
     ]
    },
    {
     "name": "stderr",
     "output_type": "stream",
     "text": [
      "\r",
      "Training for 192000 iter, 300.00 epochs:  20%|▏| 38798/192000 [01:45<06:33, 389.49it/s, epoch=60.55/30"
     ]
    },
    {
     "name": "stderr",
     "output_type": "stream",
     "text": [
      "\r",
      "Training for 192000 iter, 300.00 epochs:  20%|▏| 38798/192000 [01:45<06:33, 389.49it/s, epoch=60.62/30"
     ]
    },
    {
     "name": "stderr",
     "output_type": "stream",
     "text": [
      "\r",
      "Training for 192000 iter, 300.00 epochs:  20%|▏| 38837/192000 [01:45<06:33, 388.95it/s, epoch=60.62/30"
     ]
    },
    {
     "name": "stderr",
     "output_type": "stream",
     "text": [
      "\r",
      "Training for 192000 iter, 300.00 epochs:  20%|▏| 38837/192000 [01:45<06:33, 388.95it/s, epoch=60.70/30"
     ]
    },
    {
     "name": "stderr",
     "output_type": "stream",
     "text": [
      "\r",
      "Training for 192000 iter, 300.00 epochs:  20%|▏| 38876/192000 [01:45<06:49, 374.20it/s, epoch=60.70/30"
     ]
    },
    {
     "name": "stderr",
     "output_type": "stream",
     "text": [
      "\r",
      "Training for 192000 iter, 300.00 epochs:  20%|▏| 38876/192000 [01:45<06:49, 374.20it/s, epoch=60.78/30"
     ]
    },
    {
     "name": "stderr",
     "output_type": "stream",
     "text": [
      "\r",
      "Training for 192000 iter, 300.00 epochs:  20%|▏| 38914/192000 [01:45<07:10, 355.45it/s, epoch=60.78/30"
     ]
    },
    {
     "name": "stderr",
     "output_type": "stream",
     "text": [
      "\r",
      "Training for 192000 iter, 300.00 epochs:  20%|▏| 38914/192000 [01:45<07:10, 355.45it/s, epoch=60.86/30"
     ]
    },
    {
     "name": "stderr",
     "output_type": "stream",
     "text": [
      "\r",
      "Training for 192000 iter, 300.00 epochs:  20%|▏| 38953/192000 [01:45<07:00, 364.36it/s, epoch=60.86/30"
     ]
    },
    {
     "name": "stderr",
     "output_type": "stream",
     "text": [
      "\r",
      "Training for 192000 iter, 300.00 epochs:  20%|▏| 38993/192000 [01:45<06:49, 373.27it/s, epoch=60.86/30"
     ]
    },
    {
     "name": "stderr",
     "output_type": "stream",
     "text": [
      "\r",
      "Training for 192000 iter, 300.00 epochs:  20%|▏| 38993/192000 [01:45<06:49, 373.27it/s, epoch=60.94/30"
     ]
    },
    {
     "name": "stderr",
     "output_type": "stream",
     "text": [
      "\r",
      "Training for 192000 iter, 300.00 epochs:  20%|▏| 39032/192000 [01:45<06:46, 376.15it/s, epoch=60.94/30"
     ]
    },
    {
     "name": "stderr",
     "output_type": "stream",
     "text": [
      "\r",
      "Training for 192000 iter, 300.00 epochs:  20%|▏| 39032/192000 [01:45<06:46, 376.15it/s, epoch=61.02/30"
     ]
    },
    {
     "name": "stderr",
     "output_type": "stream",
     "text": [
      "\r",
      "Training for 192000 iter, 300.00 epochs:  20%|▏| 39070/192000 [01:45<07:52, 323.73it/s, epoch=61.02/30"
     ]
    },
    {
     "name": "stderr",
     "output_type": "stream",
     "text": [
      "\r",
      "Training for 192000 iter, 300.00 epochs:  20%|▏| 39070/192000 [01:45<07:52, 323.73it/s, epoch=61.09/30"
     ]
    },
    {
     "name": "stderr",
     "output_type": "stream",
     "text": [
      "\r",
      "Training for 192000 iter, 300.00 epochs:  20%|▏| 39107/192000 [01:45<07:37, 334.34it/s, epoch=61.09/30"
     ]
    },
    {
     "name": "stderr",
     "output_type": "stream",
     "text": [
      "\r",
      "Training for 192000 iter, 300.00 epochs:  20%|▏| 39147/192000 [01:46<07:14, 351.42it/s, epoch=61.09/30"
     ]
    },
    {
     "name": "stderr",
     "output_type": "stream",
     "text": [
      "\r",
      "Training for 192000 iter, 300.00 epochs:  20%|▏| 39147/192000 [01:46<07:14, 351.42it/s, epoch=61.17/30"
     ]
    },
    {
     "name": "stderr",
     "output_type": "stream",
     "text": [
      "\r",
      "Training for 192000 iter, 300.00 epochs:  20%|▏| 39185/192000 [01:46<07:06, 358.24it/s, epoch=61.17/30"
     ]
    },
    {
     "name": "stderr",
     "output_type": "stream",
     "text": [
      "\r",
      "Training for 192000 iter, 300.00 epochs:  20%|▏| 39185/192000 [01:46<07:06, 358.24it/s, epoch=61.25/30"
     ]
    },
    {
     "name": "stderr",
     "output_type": "stream",
     "text": [
      "\r",
      "Training for 192000 iter, 300.00 epochs:  20%|▏| 39222/192000 [01:46<07:12, 353.45it/s, epoch=61.25/30"
     ]
    },
    {
     "name": "stderr",
     "output_type": "stream",
     "text": [
      "\r",
      "Training for 192000 iter, 300.00 epochs:  20%|▏| 39222/192000 [01:46<07:12, 353.45it/s, epoch=61.33/30"
     ]
    },
    {
     "name": "stderr",
     "output_type": "stream",
     "text": [
      "\r",
      "Training for 192000 iter, 300.00 epochs:  20%|▏| 39259/192000 [01:46<07:08, 356.27it/s, epoch=61.33/30"
     ]
    },
    {
     "name": "stderr",
     "output_type": "stream",
     "text": [
      "\r",
      "Training for 192000 iter, 300.00 epochs:  20%|▏| 39297/192000 [01:46<07:02, 361.34it/s, epoch=61.33/30"
     ]
    },
    {
     "name": "stderr",
     "output_type": "stream",
     "text": [
      "\r",
      "Training for 192000 iter, 300.00 epochs:  20%|▏| 39297/192000 [01:46<07:02, 361.34it/s, epoch=61.41/30"
     ]
    },
    {
     "name": "stderr",
     "output_type": "stream",
     "text": [
      "\r",
      "Training for 192000 iter, 300.00 epochs:  20%|▏| 39336/192000 [01:46<06:54, 368.46it/s, epoch=61.41/30"
     ]
    },
    {
     "name": "stderr",
     "output_type": "stream",
     "text": [
      "\r",
      "Training for 192000 iter, 300.00 epochs:  20%|▏| 39336/192000 [01:46<06:54, 368.46it/s, epoch=61.48/30"
     ]
    },
    {
     "name": "stderr",
     "output_type": "stream",
     "text": [
      "\r",
      "Training for 192000 iter, 300.00 epochs:  21%|▏| 39376/192000 [01:46<06:44, 377.44it/s, epoch=61.48/30"
     ]
    },
    {
     "name": "stderr",
     "output_type": "stream",
     "text": [
      "\r",
      "Training for 192000 iter, 300.00 epochs:  21%|▏| 39376/192000 [01:46<06:44, 377.44it/s, epoch=61.56/30"
     ]
    },
    {
     "name": "stderr",
     "output_type": "stream",
     "text": [
      "\r",
      "Training for 192000 iter, 300.00 epochs:  21%|▏| 39414/192000 [01:46<06:48, 373.64it/s, epoch=61.56/30"
     ]
    },
    {
     "name": "stderr",
     "output_type": "stream",
     "text": [
      "\r",
      "Training for 192000 iter, 300.00 epochs:  21%|▏| 39414/192000 [01:46<06:48, 373.64it/s, epoch=61.64/30"
     ]
    },
    {
     "name": "stderr",
     "output_type": "stream",
     "text": [
      "\r",
      "Training for 192000 iter, 300.00 epochs:  21%|▏| 39455/192000 [01:46<06:39, 382.07it/s, epoch=61.64/30"
     ]
    },
    {
     "name": "stderr",
     "output_type": "stream",
     "text": [
      "\r",
      "Training for 192000 iter, 300.00 epochs:  21%|▏| 39496/192000 [01:47<06:32, 388.31it/s, epoch=61.64/30"
     ]
    },
    {
     "name": "stderr",
     "output_type": "stream",
     "text": [
      "\r",
      "Training for 192000 iter, 300.00 epochs:  21%|▏| 39496/192000 [01:47<06:32, 388.31it/s, epoch=61.72/30"
     ]
    },
    {
     "name": "stderr",
     "output_type": "stream",
     "text": [
      "\r",
      "Training for 192000 iter, 300.00 epochs:  21%|▏| 39535/192000 [01:47<06:35, 385.62it/s, epoch=61.72/30"
     ]
    },
    {
     "name": "stderr",
     "output_type": "stream",
     "text": [
      "\r",
      "Training for 192000 iter, 300.00 epochs:  21%|▏| 39535/192000 [01:47<06:35, 385.62it/s, epoch=61.80/30"
     ]
    },
    {
     "name": "stderr",
     "output_type": "stream",
     "text": [
      "\r",
      "Training for 192000 iter, 300.00 epochs:  21%|▏| 39576/192000 [01:47<06:29, 391.01it/s, epoch=61.80/30"
     ]
    },
    {
     "name": "stderr",
     "output_type": "stream",
     "text": [
      "\r",
      "Training for 192000 iter, 300.00 epochs:  21%|▏| 39576/192000 [01:47<06:29, 391.01it/s, epoch=61.88/30"
     ]
    },
    {
     "name": "stderr",
     "output_type": "stream",
     "text": [
      "\r",
      "Training for 192000 iter, 300.00 epochs:  21%|▏| 39617/192000 [01:47<06:25, 395.31it/s, epoch=61.88/30"
     ]
    },
    {
     "name": "stderr",
     "output_type": "stream",
     "text": [
      "\r",
      "Training for 192000 iter, 300.00 epochs:  21%|▏| 39617/192000 [01:47<06:25, 395.31it/s, epoch=61.95/30"
     ]
    },
    {
     "name": "stderr",
     "output_type": "stream",
     "text": [
      "\r",
      "Training for 192000 iter, 300.00 epochs:  21%|▏| 39658/192000 [01:47<06:22, 398.18it/s, epoch=61.95/30"
     ]
    },
    {
     "name": "stderr",
     "output_type": "stream",
     "text": [
      "\r",
      "Training for 192000 iter, 300.00 epochs:  21%|▏| 39698/192000 [01:47<06:31, 388.91it/s, epoch=61.95/30"
     ]
    },
    {
     "name": "stderr",
     "output_type": "stream",
     "text": [
      "\r",
      "Training for 192000 iter, 300.00 epochs:  21%|▏| 39698/192000 [01:47<06:31, 388.91it/s, epoch=62.03/30"
     ]
    },
    {
     "name": "stderr",
     "output_type": "stream",
     "text": [
      "\r",
      "Training for 192000 iter, 300.00 epochs:  21%|▏| 39737/192000 [01:47<06:31, 388.77it/s, epoch=62.03/30"
     ]
    },
    {
     "name": "stderr",
     "output_type": "stream",
     "text": [
      "\r",
      "Training for 192000 iter, 300.00 epochs:  21%|▏| 39737/192000 [01:47<06:31, 388.77it/s, epoch=62.11/30"
     ]
    },
    {
     "name": "stderr",
     "output_type": "stream",
     "text": [
      "\r",
      "Training for 192000 iter, 300.00 epochs:  21%|▏| 39776/192000 [01:47<07:39, 331.62it/s, epoch=62.11/30"
     ]
    },
    {
     "name": "stderr",
     "output_type": "stream",
     "text": [
      "\r",
      "Training for 192000 iter, 300.00 epochs:  21%|▏| 39776/192000 [01:47<07:39, 331.62it/s, epoch=62.19/30"
     ]
    },
    {
     "name": "stderr",
     "output_type": "stream",
     "text": [
      "\r",
      "Training for 192000 iter, 300.00 epochs:  21%|▏| 39811/192000 [01:47<07:43, 328.33it/s, epoch=62.19/30"
     ]
    },
    {
     "name": "stderr",
     "output_type": "stream",
     "text": [
      "\r",
      "Training for 192000 iter, 300.00 epochs:  21%|▏| 39811/192000 [01:47<07:43, 328.33it/s, epoch=62.27/30"
     ]
    },
    {
     "name": "stderr",
     "output_type": "stream",
     "text": [
      "\r",
      "Training for 192000 iter, 300.00 epochs:  21%|▏| 39852/192000 [01:48<07:16, 348.44it/s, epoch=62.27/30"
     ]
    },
    {
     "name": "stderr",
     "output_type": "stream",
     "text": [
      "\r",
      "Training for 192000 iter, 300.00 epochs:  21%|▏| 39888/192000 [01:48<07:35, 333.64it/s, epoch=62.27/30"
     ]
    },
    {
     "name": "stderr",
     "output_type": "stream",
     "text": [
      "\r",
      "Training for 192000 iter, 300.00 epochs:  21%|▏| 39888/192000 [01:48<07:35, 333.64it/s, epoch=62.34/30"
     ]
    },
    {
     "name": "stderr",
     "output_type": "stream",
     "text": [
      "\r",
      "Training for 192000 iter, 300.00 epochs:  21%|▏| 39927/192000 [01:48<07:17, 347.34it/s, epoch=62.34/30"
     ]
    },
    {
     "name": "stderr",
     "output_type": "stream",
     "text": [
      "\r",
      "Training for 192000 iter, 300.00 epochs:  21%|▏| 39927/192000 [01:48<07:17, 347.34it/s, epoch=62.42/30"
     ]
    },
    {
     "name": "stderr",
     "output_type": "stream",
     "text": [
      "\r",
      "Training for 192000 iter, 300.00 epochs:  21%|▏| 39965/192000 [01:48<07:07, 355.30it/s, epoch=62.42/30"
     ]
    },
    {
     "name": "stderr",
     "output_type": "stream",
     "text": [
      "\r",
      "Training for 192000 iter, 300.00 epochs:  21%|▏| 39965/192000 [01:48<07:07, 355.30it/s, epoch=62.50/30"
     ]
    },
    {
     "name": "stderr",
     "output_type": "stream",
     "text": [
      "\r",
      "Training for 192000 iter, 300.00 epochs:  21%|▏| 40005/192000 [01:48<06:54, 367.00it/s, epoch=62.50/30"
     ]
    },
    {
     "name": "stderr",
     "output_type": "stream",
     "text": [
      "\r",
      "Training for 192000 iter, 300.00 epochs:  21%|▏| 40045/192000 [01:48<06:45, 375.05it/s, epoch=62.50/30"
     ]
    },
    {
     "name": "stderr",
     "output_type": "stream",
     "text": [
      "\r",
      "Training for 192000 iter, 300.00 epochs:  21%|▏| 40045/192000 [01:48<06:45, 375.05it/s, epoch=62.58/30"
     ]
    },
    {
     "name": "stderr",
     "output_type": "stream",
     "text": [
      "\r",
      "Training for 192000 iter, 300.00 epochs:  21%|▏| 40083/192000 [01:48<06:54, 366.64it/s, epoch=62.58/30"
     ]
    },
    {
     "name": "stderr",
     "output_type": "stream",
     "text": [
      "\r",
      "Training for 192000 iter, 300.00 epochs:  21%|▏| 40083/192000 [01:48<06:54, 366.64it/s, epoch=62.66/30"
     ]
    },
    {
     "name": "stderr",
     "output_type": "stream",
     "text": [
      "\r",
      "Training for 192000 iter, 300.00 epochs:  21%|▏| 40120/192000 [01:48<07:22, 343.02it/s, epoch=62.66/30"
     ]
    },
    {
     "name": "stderr",
     "output_type": "stream",
     "text": [
      "\r",
      "Training for 192000 iter, 300.00 epochs:  21%|▏| 40120/192000 [01:48<07:22, 343.02it/s, epoch=62.73/30"
     ]
    },
    {
     "name": "stderr",
     "output_type": "stream",
     "text": [
      "\r",
      "Training for 192000 iter, 300.00 epochs:  21%|▏| 40159/192000 [01:48<07:07, 354.96it/s, epoch=62.73/30"
     ]
    },
    {
     "name": "stderr",
     "output_type": "stream",
     "text": [
      "\r",
      "Training for 192000 iter, 300.00 epochs:  21%|▏| 40195/192000 [01:48<07:16, 347.86it/s, epoch=62.73/30"
     ]
    },
    {
     "name": "stderr",
     "output_type": "stream",
     "text": [
      "\r",
      "Training for 192000 iter, 300.00 epochs:  21%|▏| 40195/192000 [01:48<07:16, 347.86it/s, epoch=62.81/30"
     ]
    },
    {
     "name": "stderr",
     "output_type": "stream",
     "text": [
      "\r",
      "Training for 192000 iter, 300.00 epochs:  21%|▏| 40231/192000 [01:49<07:56, 318.82it/s, epoch=62.81/30"
     ]
    },
    {
     "name": "stderr",
     "output_type": "stream",
     "text": [
      "\r",
      "Training for 192000 iter, 300.00 epochs:  21%|▏| 40231/192000 [01:49<07:56, 318.82it/s, epoch=62.89/30"
     ]
    },
    {
     "name": "stderr",
     "output_type": "stream",
     "text": [
      "\r",
      "Training for 192000 iter, 300.00 epochs:  21%|▏| 40269/192000 [01:49<07:34, 334.02it/s, epoch=62.89/30"
     ]
    },
    {
     "name": "stderr",
     "output_type": "stream",
     "text": [
      "\r",
      "Training for 192000 iter, 300.00 epochs:  21%|▏| 40269/192000 [01:49<07:34, 334.02it/s, epoch=62.97/30"
     ]
    },
    {
     "name": "stderr",
     "output_type": "stream",
     "text": [
      "\r",
      "Training for 192000 iter, 300.00 epochs:  21%|▏| 40309/192000 [01:49<07:12, 350.50it/s, epoch=62.97/30"
     ]
    },
    {
     "name": "stderr",
     "output_type": "stream",
     "text": [
      "\r",
      "Training for 192000 iter, 300.00 epochs:  21%|▏| 40345/192000 [01:49<07:22, 342.93it/s, epoch=62.97/30"
     ]
    },
    {
     "name": "stderr",
     "output_type": "stream",
     "text": [
      "\r",
      "Training for 192000 iter, 300.00 epochs:  21%|▏| 40345/192000 [01:49<07:22, 342.93it/s, epoch=63.05/30"
     ]
    },
    {
     "name": "stderr",
     "output_type": "stream",
     "text": [
      "\r",
      "Training for 192000 iter, 300.00 epochs:  21%|▏| 40380/192000 [01:49<07:28, 338.25it/s, epoch=63.05/30"
     ]
    },
    {
     "name": "stderr",
     "output_type": "stream",
     "text": [
      "\r",
      "Training for 192000 iter, 300.00 epochs:  21%|▏| 40380/192000 [01:49<07:28, 338.25it/s, epoch=63.12/30"
     ]
    },
    {
     "name": "stderr",
     "output_type": "stream",
     "text": [
      "\r",
      "Training for 192000 iter, 300.00 epochs:  21%|▏| 40417/192000 [01:49<07:20, 344.49it/s, epoch=63.12/30"
     ]
    },
    {
     "name": "stderr",
     "output_type": "stream",
     "text": [
      "\r",
      "Training for 192000 iter, 300.00 epochs:  21%|▏| 40417/192000 [01:49<07:20, 344.49it/s, epoch=63.20/30"
     ]
    },
    {
     "name": "stderr",
     "output_type": "stream",
     "text": [
      "\r",
      "Training for 192000 iter, 300.00 epochs:  21%|▏| 40453/192000 [01:49<07:15, 347.92it/s, epoch=63.20/30"
     ]
    },
    {
     "name": "stderr",
     "output_type": "stream",
     "text": [
      "\r",
      "Training for 192000 iter, 300.00 epochs:  21%|▏| 40493/192000 [01:49<06:57, 362.63it/s, epoch=63.20/30"
     ]
    },
    {
     "name": "stderr",
     "output_type": "stream",
     "text": [
      "\r",
      "Training for 192000 iter, 300.00 epochs:  21%|▏| 40493/192000 [01:49<06:57, 362.63it/s, epoch=63.28/30"
     ]
    },
    {
     "name": "stderr",
     "output_type": "stream",
     "text": [
      "\r",
      "Training for 192000 iter, 300.00 epochs:  21%|▏| 40534/192000 [01:49<06:45, 373.58it/s, epoch=63.28/30"
     ]
    },
    {
     "name": "stderr",
     "output_type": "stream",
     "text": [
      "\r",
      "Training for 192000 iter, 300.00 epochs:  21%|▏| 40534/192000 [01:49<06:45, 373.58it/s, epoch=63.36/30"
     ]
    },
    {
     "name": "stderr",
     "output_type": "stream",
     "text": [
      "\r",
      "Training for 192000 iter, 300.00 epochs:  21%|▏| 40574/192000 [01:50<06:38, 380.15it/s, epoch=63.36/30"
     ]
    },
    {
     "name": "stderr",
     "output_type": "stream",
     "text": [
      "\r",
      "Training for 192000 iter, 300.00 epochs:  21%|▏| 40574/192000 [01:50<06:38, 380.15it/s, epoch=63.44/30"
     ]
    },
    {
     "name": "stderr",
     "output_type": "stream",
     "text": [
      "\r",
      "Training for 192000 iter, 300.00 epochs:  21%|▏| 40613/192000 [01:50<06:51, 367.80it/s, epoch=63.44/30"
     ]
    },
    {
     "name": "stderr",
     "output_type": "stream",
     "text": [
      "\r",
      "Training for 192000 iter, 300.00 epochs:  21%|▏| 40613/192000 [01:50<06:51, 367.80it/s, epoch=63.52/30"
     ]
    },
    {
     "name": "stderr",
     "output_type": "stream",
     "text": [
      "\r",
      "Training for 192000 iter, 300.00 epochs:  21%|▏| 40650/192000 [01:50<06:54, 365.46it/s, epoch=63.52/30"
     ]
    },
    {
     "name": "stderr",
     "output_type": "stream",
     "text": [
      "\r",
      "Training for 192000 iter, 300.00 epochs:  21%|▏| 40689/192000 [01:50<06:47, 371.21it/s, epoch=63.52/30"
     ]
    },
    {
     "name": "stderr",
     "output_type": "stream",
     "text": [
      "\r",
      "Training for 192000 iter, 300.00 epochs:  21%|▏| 40689/192000 [01:50<06:47, 371.21it/s, epoch=63.59/30"
     ]
    },
    {
     "name": "stderr",
     "output_type": "stream",
     "text": [
      "\r",
      "Training for 192000 iter, 300.00 epochs:  21%|▏| 40727/192000 [01:50<07:50, 321.65it/s, epoch=63.59/30"
     ]
    },
    {
     "name": "stderr",
     "output_type": "stream",
     "text": [
      "\r",
      "Training for 192000 iter, 300.00 epochs:  21%|▏| 40727/192000 [01:50<07:50, 321.65it/s, epoch=63.67/30"
     ]
    },
    {
     "name": "stderr",
     "output_type": "stream",
     "text": [
      "\r",
      "Training for 192000 iter, 300.00 epochs:  21%|▏| 40768/192000 [01:50<07:21, 342.79it/s, epoch=63.67/30"
     ]
    },
    {
     "name": "stderr",
     "output_type": "stream",
     "text": [
      "\r",
      "Training for 192000 iter, 300.00 epochs:  21%|▏| 40768/192000 [01:50<07:21, 342.79it/s, epoch=63.75/30"
     ]
    },
    {
     "name": "stderr",
     "output_type": "stream",
     "text": [
      "\r",
      "Training for 192000 iter, 300.00 epochs:  21%|▏| 40804/192000 [01:50<07:15, 346.99it/s, epoch=63.75/30"
     ]
    },
    {
     "name": "stderr",
     "output_type": "stream",
     "text": [
      "\r",
      "Training for 192000 iter, 300.00 epochs:  21%|▏| 40844/192000 [01:50<06:57, 361.75it/s, epoch=63.75/30"
     ]
    },
    {
     "name": "stderr",
     "output_type": "stream",
     "text": [
      "\r",
      "Training for 192000 iter, 300.00 epochs:  21%|▏| 40844/192000 [01:50<06:57, 361.75it/s, epoch=63.83/30"
     ]
    },
    {
     "name": "stderr",
     "output_type": "stream",
     "text": [
      "\r",
      "Training for 192000 iter, 300.00 epochs:  21%|▏| 40885/192000 [01:50<06:43, 374.79it/s, epoch=63.83/30"
     ]
    },
    {
     "name": "stderr",
     "output_type": "stream",
     "text": [
      "\r",
      "Training for 192000 iter, 300.00 epochs:  21%|▏| 40885/192000 [01:50<06:43, 374.79it/s, epoch=63.91/30"
     ]
    },
    {
     "name": "stderr",
     "output_type": "stream",
     "text": [
      "\r",
      "Training for 192000 iter, 300.00 epochs:  21%|▏| 40926/192000 [01:51<06:34, 383.34it/s, epoch=63.91/30"
     ]
    },
    {
     "name": "stderr",
     "output_type": "stream",
     "text": [
      "\r",
      "Training for 192000 iter, 300.00 epochs:  21%|▏| 40926/192000 [01:51<06:34, 383.34it/s, epoch=63.98/30"
     ]
    },
    {
     "name": "stderr",
     "output_type": "stream",
     "text": [
      "\r",
      "Training for 192000 iter, 300.00 epochs:  21%|▏| 40965/192000 [01:51<06:42, 374.97it/s, epoch=63.98/30"
     ]
    },
    {
     "name": "stderr",
     "output_type": "stream",
     "text": [
      "\r",
      "Training for 192000 iter, 300.00 epochs:  21%|▏| 40965/192000 [01:51<06:42, 374.97it/s, epoch=64.06/30"
     ]
    },
    {
     "name": "stderr",
     "output_type": "stream",
     "text": [
      "\r",
      "Training for 192000 iter, 300.00 epochs:  21%|▏| 41005/192000 [01:51<06:36, 380.97it/s, epoch=64.06/30"
     ]
    },
    {
     "name": "stderr",
     "output_type": "stream",
     "text": [
      "\r",
      "Training for 192000 iter, 300.00 epochs:  21%|▏| 41046/192000 [01:51<06:28, 388.58it/s, epoch=64.06/30"
     ]
    },
    {
     "name": "stderr",
     "output_type": "stream",
     "text": [
      "\r",
      "Training for 192000 iter, 300.00 epochs:  21%|▏| 41046/192000 [01:51<06:28, 388.58it/s, epoch=64.14/30"
     ]
    },
    {
     "name": "stderr",
     "output_type": "stream",
     "text": [
      "\r",
      "Training for 192000 iter, 300.00 epochs:  21%|▏| 41088/192000 [01:51<06:21, 395.33it/s, epoch=64.14/30"
     ]
    },
    {
     "name": "stderr",
     "output_type": "stream",
     "text": [
      "\r",
      "Training for 192000 iter, 300.00 epochs:  21%|▏| 41088/192000 [01:51<06:21, 395.33it/s, epoch=64.22/30"
     ]
    },
    {
     "name": "stderr",
     "output_type": "stream",
     "text": [
      "\r",
      "Training for 192000 iter, 300.00 epochs:  21%|▏| 41129/192000 [01:51<06:17, 399.49it/s, epoch=64.22/30"
     ]
    },
    {
     "name": "stderr",
     "output_type": "stream",
     "text": [
      "\r",
      "Training for 192000 iter, 300.00 epochs:  21%|▏| 41129/192000 [01:51<06:17, 399.49it/s, epoch=64.30/30"
     ]
    },
    {
     "name": "stderr",
     "output_type": "stream",
     "text": [
      "\r",
      "Training for 192000 iter, 300.00 epochs:  21%|▏| 41170/192000 [01:51<06:40, 376.88it/s, epoch=64.30/30"
     ]
    },
    {
     "name": "stderr",
     "output_type": "stream",
     "text": [
      "\r",
      "Training for 192000 iter, 300.00 epochs:  21%|▏| 41170/192000 [01:51<06:40, 376.88it/s, epoch=64.38/30"
     ]
    },
    {
     "name": "stderr",
     "output_type": "stream",
     "text": [
      "\r",
      "Training for 192000 iter, 300.00 epochs:  21%|▏| 41211/192000 [01:51<06:31, 385.01it/s, epoch=64.38/30"
     ]
    },
    {
     "name": "stderr",
     "output_type": "stream",
     "text": [
      "\r",
      "Training for 192000 iter, 300.00 epochs:  21%|▏| 41211/192000 [01:51<06:31, 385.01it/s, epoch=64.45/30"
     ]
    },
    {
     "name": "stderr",
     "output_type": "stream",
     "text": [
      "\r",
      "Training for 192000 iter, 300.00 epochs:  21%|▏| 41250/192000 [01:51<06:37, 379.01it/s, epoch=64.45/30"
     ]
    },
    {
     "name": "stderr",
     "output_type": "stream",
     "text": [
      "\r",
      "Training for 192000 iter, 300.00 epochs:  22%|▏| 41289/192000 [01:51<06:43, 373.89it/s, epoch=64.45/30"
     ]
    },
    {
     "name": "stderr",
     "output_type": "stream",
     "text": [
      "\r",
      "Training for 192000 iter, 300.00 epochs:  22%|▏| 41289/192000 [01:51<06:43, 373.89it/s, epoch=64.53/30"
     ]
    },
    {
     "name": "stderr",
     "output_type": "stream",
     "text": [
      "\r",
      "Training for 192000 iter, 300.00 epochs:  22%|▏| 41329/192000 [01:52<06:36, 379.90it/s, epoch=64.53/30"
     ]
    },
    {
     "name": "stderr",
     "output_type": "stream",
     "text": [
      "\r",
      "Training for 192000 iter, 300.00 epochs:  22%|▏| 41329/192000 [01:52<06:36, 379.90it/s, epoch=64.61/30"
     ]
    },
    {
     "name": "stderr",
     "output_type": "stream",
     "text": [
      "\r",
      "Training for 192000 iter, 300.00 epochs:  22%|▏| 41369/192000 [01:52<06:33, 383.11it/s, epoch=64.61/30"
     ]
    },
    {
     "name": "stderr",
     "output_type": "stream",
     "text": [
      "\r",
      "Training for 192000 iter, 300.00 epochs:  22%|▏| 41369/192000 [01:52<06:33, 383.11it/s, epoch=64.69/30"
     ]
    },
    {
     "name": "stderr",
     "output_type": "stream",
     "text": [
      "\r",
      "Training for 192000 iter, 300.00 epochs:  22%|▏| 41408/192000 [01:52<06:33, 382.78it/s, epoch=64.69/30"
     ]
    },
    {
     "name": "stderr",
     "output_type": "stream",
     "text": [
      "\r",
      "Training for 192000 iter, 300.00 epochs:  22%|▏| 41448/192000 [01:52<06:28, 387.63it/s, epoch=64.69/30"
     ]
    },
    {
     "name": "stderr",
     "output_type": "stream",
     "text": [
      "\r",
      "Training for 192000 iter, 300.00 epochs:  22%|▏| 41448/192000 [01:52<06:28, 387.63it/s, epoch=64.77/30"
     ]
    },
    {
     "name": "stderr",
     "output_type": "stream",
     "text": [
      "\r",
      "Training for 192000 iter, 300.00 epochs:  22%|▏| 41489/192000 [01:52<06:22, 393.46it/s, epoch=64.77/30"
     ]
    },
    {
     "name": "stderr",
     "output_type": "stream",
     "text": [
      "\r",
      "Training for 192000 iter, 300.00 epochs:  22%|▏| 41489/192000 [01:52<06:22, 393.46it/s, epoch=64.84/30"
     ]
    },
    {
     "name": "stderr",
     "output_type": "stream",
     "text": [
      "\r",
      "Training for 192000 iter, 300.00 epochs:  22%|▏| 41529/192000 [01:52<06:21, 394.10it/s, epoch=64.84/30"
     ]
    },
    {
     "name": "stderr",
     "output_type": "stream",
     "text": [
      "\r",
      "Training for 192000 iter, 300.00 epochs:  22%|▏| 41529/192000 [01:52<06:21, 394.10it/s, epoch=64.92/30"
     ]
    },
    {
     "name": "stderr",
     "output_type": "stream",
     "text": [
      "\r",
      "Training for 192000 iter, 300.00 epochs:  22%|▏| 41570/192000 [01:52<06:18, 397.22it/s, epoch=64.92/30"
     ]
    },
    {
     "name": "stderr",
     "output_type": "stream",
     "text": [
      "\r",
      "Training for 192000 iter, 300.00 epochs:  22%|▏| 41570/192000 [01:52<06:18, 397.22it/s, epoch=65.00/30"
     ]
    },
    {
     "name": "stderr",
     "output_type": "stream",
     "text": [
      "\r",
      "Training for 192000 iter, 300.00 epochs:  22%|▏| 41610/192000 [01:52<06:31, 383.85it/s, epoch=65.00/30"
     ]
    },
    {
     "name": "stderr",
     "output_type": "stream",
     "text": [
      "\r",
      "Training for 192000 iter, 300.00 epochs:  22%|▏| 41649/192000 [01:52<06:34, 380.98it/s, epoch=65.00/30"
     ]
    },
    {
     "name": "stderr",
     "output_type": "stream",
     "text": [
      "\r",
      "Training for 192000 iter, 300.00 epochs:  22%|▏| 41649/192000 [01:52<06:34, 380.98it/s, epoch=65.08/30"
     ]
    },
    {
     "name": "stderr",
     "output_type": "stream",
     "text": [
      "\r",
      "Training for 192000 iter, 300.00 epochs:  22%|▏| 41688/192000 [01:52<06:41, 374.21it/s, epoch=65.08/30"
     ]
    },
    {
     "name": "stderr",
     "output_type": "stream",
     "text": [
      "\r",
      "Training for 192000 iter, 300.00 epochs:  22%|▏| 41688/192000 [01:53<06:41, 374.21it/s, epoch=65.16/30"
     ]
    },
    {
     "name": "stderr",
     "output_type": "stream",
     "text": [
      "\r",
      "Training for 192000 iter, 300.00 epochs:  22%|▏| 41729/192000 [01:53<06:31, 383.57it/s, epoch=65.16/30"
     ]
    },
    {
     "name": "stderr",
     "output_type": "stream",
     "text": [
      "\r",
      "Training for 192000 iter, 300.00 epochs:  22%|▏| 41729/192000 [01:53<06:31, 383.57it/s, epoch=65.23/30"
     ]
    },
    {
     "name": "stderr",
     "output_type": "stream",
     "text": [
      "\r",
      "Training for 192000 iter, 300.00 epochs:  22%|▏| 41768/192000 [01:53<06:33, 381.71it/s, epoch=65.23/30"
     ]
    },
    {
     "name": "stderr",
     "output_type": "stream",
     "text": [
      "\r",
      "Training for 192000 iter, 300.00 epochs:  22%|▏| 41768/192000 [01:53<06:33, 381.71it/s, epoch=65.31/30"
     ]
    },
    {
     "name": "stderr",
     "output_type": "stream",
     "text": [
      "\r",
      "Training for 192000 iter, 300.00 epochs:  22%|▏| 41807/192000 [01:53<06:31, 383.26it/s, epoch=65.31/30"
     ]
    },
    {
     "name": "stderr",
     "output_type": "stream",
     "text": [
      "\r",
      "Training for 192000 iter, 300.00 epochs:  22%|▏| 41847/192000 [01:53<06:27, 387.06it/s, epoch=65.31/30"
     ]
    },
    {
     "name": "stderr",
     "output_type": "stream",
     "text": [
      "\r",
      "Training for 192000 iter, 300.00 epochs:  22%|▏| 41847/192000 [01:53<06:27, 387.06it/s, epoch=65.39/30"
     ]
    },
    {
     "name": "stderr",
     "output_type": "stream",
     "text": [
      "\r",
      "Training for 192000 iter, 300.00 epochs:  22%|▏| 41886/192000 [01:53<06:34, 380.90it/s, epoch=65.39/30"
     ]
    },
    {
     "name": "stderr",
     "output_type": "stream",
     "text": [
      "\r",
      "Training for 192000 iter, 300.00 epochs:  22%|▏| 41886/192000 [01:53<06:34, 380.90it/s, epoch=65.47/30"
     ]
    },
    {
     "name": "stderr",
     "output_type": "stream",
     "text": [
      "\r",
      "Training for 192000 iter, 300.00 epochs:  22%|▏| 41925/192000 [01:53<07:13, 346.08it/s, epoch=65.47/30"
     ]
    },
    {
     "name": "stderr",
     "output_type": "stream",
     "text": [
      "\r",
      "Training for 192000 iter, 300.00 epochs:  22%|▏| 41925/192000 [01:53<07:13, 346.08it/s, epoch=65.55/30"
     ]
    },
    {
     "name": "stderr",
     "output_type": "stream",
     "text": [
      "\r",
      "Training for 192000 iter, 300.00 epochs:  22%|▏| 41966/192000 [01:53<06:54, 362.34it/s, epoch=65.55/30"
     ]
    },
    {
     "name": "stderr",
     "output_type": "stream",
     "text": [
      "\r",
      "Training for 192000 iter, 300.00 epochs:  22%|▏| 41966/192000 [01:53<06:54, 362.34it/s, epoch=65.62/30"
     ]
    },
    {
     "name": "stderr",
     "output_type": "stream",
     "text": [
      "\r",
      "Training for 192000 iter, 300.00 epochs:  22%|▏| 42003/192000 [01:53<07:12, 347.00it/s, epoch=65.62/30"
     ]
    },
    {
     "name": "stderr",
     "output_type": "stream",
     "text": [
      "\r",
      "Training for 192000 iter, 300.00 epochs:  22%|▏| 42039/192000 [01:53<07:11, 347.50it/s, epoch=65.62/30"
     ]
    },
    {
     "name": "stderr",
     "output_type": "stream",
     "text": [
      "\r",
      "Training for 192000 iter, 300.00 epochs:  22%|▏| 42039/192000 [01:53<07:11, 347.50it/s, epoch=65.70/30"
     ]
    },
    {
     "name": "stderr",
     "output_type": "stream",
     "text": [
      "\r",
      "Training for 192000 iter, 300.00 epochs:  22%|▏| 42076/192000 [01:54<07:06, 351.14it/s, epoch=65.70/30"
     ]
    },
    {
     "name": "stderr",
     "output_type": "stream",
     "text": [
      "\r",
      "Training for 192000 iter, 300.00 epochs:  22%|▏| 42076/192000 [01:54<07:06, 351.14it/s, epoch=65.78/30"
     ]
    },
    {
     "name": "stderr",
     "output_type": "stream",
     "text": [
      "\r",
      "Training for 192000 iter, 300.00 epochs:  22%|▏| 42114/192000 [01:54<06:59, 357.70it/s, epoch=65.78/30"
     ]
    },
    {
     "name": "stderr",
     "output_type": "stream",
     "text": [
      "\r",
      "Training for 192000 iter, 300.00 epochs:  22%|▏| 42114/192000 [01:54<06:59, 357.70it/s, epoch=65.86/30"
     ]
    },
    {
     "name": "stderr",
     "output_type": "stream",
     "text": [
      "\r",
      "Training for 192000 iter, 300.00 epochs:  22%|▏| 42150/192000 [01:54<06:59, 357.51it/s, epoch=65.86/30"
     ]
    },
    {
     "name": "stderr",
     "output_type": "stream",
     "text": [
      "\r",
      "Training for 192000 iter, 300.00 epochs:  22%|▏| 42186/192000 [01:54<07:39, 326.10it/s, epoch=65.86/30"
     ]
    },
    {
     "name": "stderr",
     "output_type": "stream",
     "text": [
      "\r",
      "Training for 192000 iter, 300.00 epochs:  22%|▏| 42186/192000 [01:54<07:39, 326.10it/s, epoch=65.94/30"
     ]
    },
    {
     "name": "stderr",
     "output_type": "stream",
     "text": [
      "\r",
      "Training for 192000 iter, 300.00 epochs:  22%|▏| 42227/192000 [01:54<07:11, 346.80it/s, epoch=65.94/30"
     ]
    },
    {
     "name": "stderr",
     "output_type": "stream",
     "text": [
      "\r",
      "Training for 192000 iter, 300.00 epochs:  22%|▏| 42227/192000 [01:54<07:11, 346.80it/s, epoch=66.02/30"
     ]
    },
    {
     "name": "stderr",
     "output_type": "stream",
     "text": [
      "\r",
      "Training for 192000 iter, 300.00 epochs:  22%|▏| 42263/192000 [01:54<07:32, 331.13it/s, epoch=66.02/30"
     ]
    },
    {
     "name": "stderr",
     "output_type": "stream",
     "text": [
      "\r",
      "Training for 192000 iter, 300.00 epochs:  22%|▏| 42263/192000 [01:54<07:32, 331.13it/s, epoch=66.09/30"
     ]
    },
    {
     "name": "stderr",
     "output_type": "stream",
     "text": [
      "\r",
      "Training for 192000 iter, 300.00 epochs:  22%|▏| 42304/192000 [01:54<07:05, 351.85it/s, epoch=66.09/30"
     ]
    },
    {
     "name": "stderr",
     "output_type": "stream",
     "text": [
      "\r",
      "Training for 192000 iter, 300.00 epochs:  22%|▏| 42345/192000 [01:54<06:47, 367.20it/s, epoch=66.09/30"
     ]
    },
    {
     "name": "stderr",
     "output_type": "stream",
     "text": [
      "\r",
      "Training for 192000 iter, 300.00 epochs:  22%|▏| 42345/192000 [01:54<06:47, 367.20it/s, epoch=66.17/30"
     ]
    },
    {
     "name": "stderr",
     "output_type": "stream",
     "text": [
      "\r",
      "Training for 192000 iter, 300.00 epochs:  22%|▏| 42386/192000 [01:54<06:35, 377.83it/s, epoch=66.17/30"
     ]
    },
    {
     "name": "stderr",
     "output_type": "stream",
     "text": [
      "\r",
      "Training for 192000 iter, 300.00 epochs:  22%|▏| 42386/192000 [01:54<06:35, 377.83it/s, epoch=66.25/30"
     ]
    },
    {
     "name": "stderr",
     "output_type": "stream",
     "text": [
      "\r",
      "Training for 192000 iter, 300.00 epochs:  22%|▏| 42427/192000 [01:55<06:28, 385.27it/s, epoch=66.25/30"
     ]
    },
    {
     "name": "stderr",
     "output_type": "stream",
     "text": [
      "\r",
      "Training for 192000 iter, 300.00 epochs:  22%|▏| 42427/192000 [01:55<06:28, 385.27it/s, epoch=66.33/30"
     ]
    },
    {
     "name": "stderr",
     "output_type": "stream",
     "text": [
      "\r",
      "Training for 192000 iter, 300.00 epochs:  22%|▏| 42468/192000 [01:55<06:23, 390.15it/s, epoch=66.33/30"
     ]
    },
    {
     "name": "stderr",
     "output_type": "stream",
     "text": [
      "\r",
      "Training for 192000 iter, 300.00 epochs:  22%|▏| 42468/192000 [01:55<06:23, 390.15it/s, epoch=66.41/30"
     ]
    },
    {
     "name": "stderr",
     "output_type": "stream",
     "text": [
      "\r",
      "Training for 192000 iter, 300.00 epochs:  22%|▏| 42509/192000 [01:55<06:18, 394.68it/s, epoch=66.41/30"
     ]
    },
    {
     "name": "stderr",
     "output_type": "stream",
     "text": [
      "\r",
      "Training for 192000 iter, 300.00 epochs:  22%|▏| 42549/192000 [01:55<06:23, 389.68it/s, epoch=66.41/30"
     ]
    },
    {
     "name": "stderr",
     "output_type": "stream",
     "text": [
      "\r",
      "Training for 192000 iter, 300.00 epochs:  22%|▏| 42549/192000 [01:55<06:23, 389.68it/s, epoch=66.48/30"
     ]
    },
    {
     "name": "stderr",
     "output_type": "stream",
     "text": [
      "\r",
      "Training for 192000 iter, 300.00 epochs:  22%|▏| 42589/192000 [01:55<06:31, 381.98it/s, epoch=66.48/30"
     ]
    },
    {
     "name": "stderr",
     "output_type": "stream",
     "text": [
      "\r",
      "Training for 192000 iter, 300.00 epochs:  22%|▏| 42589/192000 [01:55<06:31, 381.98it/s, epoch=66.56/30"
     ]
    },
    {
     "name": "stderr",
     "output_type": "stream",
     "text": [
      "\r",
      "Training for 192000 iter, 300.00 epochs:  22%|▏| 42628/192000 [01:55<06:37, 375.82it/s, epoch=66.56/30"
     ]
    },
    {
     "name": "stderr",
     "output_type": "stream",
     "text": [
      "\r",
      "Training for 192000 iter, 300.00 epochs:  22%|▏| 42628/192000 [01:55<06:37, 375.82it/s, epoch=66.64/30"
     ]
    },
    {
     "name": "stderr",
     "output_type": "stream",
     "text": [
      "\r",
      "Training for 192000 iter, 300.00 epochs:  22%|▏| 42668/192000 [01:55<06:30, 382.24it/s, epoch=66.64/30"
     ]
    },
    {
     "name": "stderr",
     "output_type": "stream",
     "text": [
      "\r",
      "Training for 192000 iter, 300.00 epochs:  22%|▏| 42668/192000 [01:55<06:30, 382.24it/s, epoch=66.72/30"
     ]
    },
    {
     "name": "stderr",
     "output_type": "stream",
     "text": [
      "\r",
      "Training for 192000 iter, 300.00 epochs:  22%|▏| 42708/192000 [01:55<06:27, 385.73it/s, epoch=66.72/30"
     ]
    },
    {
     "name": "stderr",
     "output_type": "stream",
     "text": [
      "\r",
      "Training for 192000 iter, 300.00 epochs:  22%|▏| 42749/192000 [01:55<06:20, 392.02it/s, epoch=66.72/30"
     ]
    },
    {
     "name": "stderr",
     "output_type": "stream",
     "text": [
      "\r",
      "Training for 192000 iter, 300.00 epochs:  22%|▏| 42749/192000 [01:55<06:20, 392.02it/s, epoch=66.80/30"
     ]
    },
    {
     "name": "stderr",
     "output_type": "stream",
     "text": [
      "\r",
      "Training for 192000 iter, 300.00 epochs:  22%|▏| 42789/192000 [01:55<06:34, 378.47it/s, epoch=66.80/30"
     ]
    },
    {
     "name": "stderr",
     "output_type": "stream",
     "text": [
      "\r",
      "Training for 192000 iter, 300.00 epochs:  22%|▏| 42789/192000 [01:56<06:34, 378.47it/s, epoch=66.88/30"
     ]
    },
    {
     "name": "stderr",
     "output_type": "stream",
     "text": [
      "\r",
      "Training for 192000 iter, 300.00 epochs:  22%|▏| 42827/192000 [01:56<06:37, 374.88it/s, epoch=66.88/30"
     ]
    },
    {
     "name": "stderr",
     "output_type": "stream",
     "text": [
      "\r",
      "Training for 192000 iter, 300.00 epochs:  22%|▏| 42827/192000 [01:56<06:37, 374.88it/s, epoch=66.95/30"
     ]
    },
    {
     "name": "stderr",
     "output_type": "stream",
     "text": [
      "\r",
      "Training for 192000 iter, 300.00 epochs:  22%|▏| 42865/192000 [01:56<06:42, 370.65it/s, epoch=66.95/30"
     ]
    },
    {
     "name": "stderr",
     "output_type": "stream",
     "text": [
      "\r",
      "Training for 192000 iter, 300.00 epochs:  22%|▏| 42865/192000 [01:56<06:42, 370.65it/s, epoch=67.03/30"
     ]
    },
    {
     "name": "stderr",
     "output_type": "stream",
     "text": [
      "\r",
      "Training for 192000 iter, 300.00 epochs:  22%|▏| 42903/192000 [01:56<07:03, 351.72it/s, epoch=67.03/30"
     ]
    },
    {
     "name": "stderr",
     "output_type": "stream",
     "text": [
      "\r",
      "Training for 192000 iter, 300.00 epochs:  22%|▏| 42939/192000 [01:56<07:27, 333.05it/s, epoch=67.03/30"
     ]
    },
    {
     "name": "stderr",
     "output_type": "stream",
     "text": [
      "\r",
      "Training for 192000 iter, 300.00 epochs:  22%|▏| 42939/192000 [01:56<07:27, 333.05it/s, epoch=67.11/30"
     ]
    },
    {
     "name": "stderr",
     "output_type": "stream",
     "text": [
      "\r",
      "Training for 192000 iter, 300.00 epochs:  22%|▏| 42978/192000 [01:56<07:08, 347.74it/s, epoch=67.11/30"
     ]
    },
    {
     "name": "stderr",
     "output_type": "stream",
     "text": [
      "\r",
      "Training for 192000 iter, 300.00 epochs:  22%|▏| 42978/192000 [01:56<07:08, 347.74it/s, epoch=67.19/30"
     ]
    },
    {
     "name": "stderr",
     "output_type": "stream",
     "text": [
      "\r",
      "Training for 192000 iter, 300.00 epochs:  22%|▏| 43014/192000 [01:56<07:04, 350.86it/s, epoch=67.19/30"
     ]
    },
    {
     "name": "stderr",
     "output_type": "stream",
     "text": [
      "\r",
      "Training for 192000 iter, 300.00 epochs:  22%|▏| 43014/192000 [01:56<07:04, 350.86it/s, epoch=67.27/30"
     ]
    },
    {
     "name": "stderr",
     "output_type": "stream",
     "text": [
      "\r",
      "Training for 192000 iter, 300.00 epochs:  22%|▏| 43050/192000 [01:56<07:12, 344.21it/s, epoch=67.27/30"
     ]
    },
    {
     "name": "stderr",
     "output_type": "stream",
     "text": [
      "\r",
      "Training for 192000 iter, 300.00 epochs:  22%|▏| 43087/192000 [01:56<07:07, 348.72it/s, epoch=67.27/30"
     ]
    },
    {
     "name": "stderr",
     "output_type": "stream",
     "text": [
      "\r",
      "Training for 192000 iter, 300.00 epochs:  22%|▏| 43087/192000 [01:56<07:07, 348.72it/s, epoch=67.34/30"
     ]
    },
    {
     "name": "stderr",
     "output_type": "stream",
     "text": [
      "\r",
      "Training for 192000 iter, 300.00 epochs:  22%|▏| 43127/192000 [01:56<06:52, 361.04it/s, epoch=67.34/30"
     ]
    },
    {
     "name": "stderr",
     "output_type": "stream",
     "text": [
      "\r",
      "Training for 192000 iter, 300.00 epochs:  22%|▏| 43127/192000 [01:57<06:52, 361.04it/s, epoch=67.42/30"
     ]
    },
    {
     "name": "stderr",
     "output_type": "stream",
     "text": [
      "\r",
      "Training for 192000 iter, 300.00 epochs:  22%|▏| 43164/192000 [01:57<06:58, 356.05it/s, epoch=67.42/30"
     ]
    },
    {
     "name": "stderr",
     "output_type": "stream",
     "text": [
      "\r",
      "Training for 192000 iter, 300.00 epochs:  22%|▏| 43164/192000 [01:57<06:58, 356.05it/s, epoch=67.50/30"
     ]
    },
    {
     "name": "stderr",
     "output_type": "stream",
     "text": [
      "\r",
      "Training for 192000 iter, 300.00 epochs:  22%|▏| 43200/192000 [01:57<07:20, 337.93it/s, epoch=67.50/30"
     ]
    },
    {
     "name": "stderr",
     "output_type": "stream",
     "text": [
      "\r",
      "Training for 192000 iter, 300.00 epochs:  23%|▏| 43239/192000 [01:57<07:02, 352.01it/s, epoch=67.50/30"
     ]
    },
    {
     "name": "stderr",
     "output_type": "stream",
     "text": [
      "\r",
      "Training for 192000 iter, 300.00 epochs:  23%|▏| 43239/192000 [01:57<07:02, 352.01it/s, epoch=67.58/30"
     ]
    },
    {
     "name": "stderr",
     "output_type": "stream",
     "text": [
      "\r",
      "Training for 192000 iter, 300.00 epochs:  23%|▏| 43278/192000 [01:57<06:50, 362.29it/s, epoch=67.58/30"
     ]
    },
    {
     "name": "stderr",
     "output_type": "stream",
     "text": [
      "\r",
      "Training for 192000 iter, 300.00 epochs:  23%|▏| 43278/192000 [01:57<06:50, 362.29it/s, epoch=67.66/30"
     ]
    },
    {
     "name": "stderr",
     "output_type": "stream",
     "text": [
      "\r",
      "Training for 192000 iter, 300.00 epochs:  23%|▏| 43315/192000 [01:57<06:50, 362.56it/s, epoch=67.66/30"
     ]
    },
    {
     "name": "stderr",
     "output_type": "stream",
     "text": [
      "\r",
      "Training for 192000 iter, 300.00 epochs:  23%|▏| 43315/192000 [01:57<06:50, 362.56it/s, epoch=67.73/30"
     ]
    },
    {
     "name": "stderr",
     "output_type": "stream",
     "text": [
      "\r",
      "Training for 192000 iter, 300.00 epochs:  23%|▏| 43352/192000 [01:57<07:00, 353.82it/s, epoch=67.73/30"
     ]
    },
    {
     "name": "stderr",
     "output_type": "stream",
     "text": [
      "\r",
      "Training for 192000 iter, 300.00 epochs:  23%|▏| 43392/192000 [01:57<06:44, 366.96it/s, epoch=67.73/30"
     ]
    },
    {
     "name": "stderr",
     "output_type": "stream",
     "text": [
      "\r",
      "Training for 192000 iter, 300.00 epochs:  23%|▏| 43392/192000 [01:57<06:44, 366.96it/s, epoch=67.81/30"
     ]
    },
    {
     "name": "stderr",
     "output_type": "stream",
     "text": [
      "\r",
      "Training for 192000 iter, 300.00 epochs:  23%|▏| 43429/192000 [01:57<07:08, 346.64it/s, epoch=67.81/30"
     ]
    },
    {
     "name": "stderr",
     "output_type": "stream",
     "text": [
      "\r",
      "Training for 192000 iter, 300.00 epochs:  23%|▏| 43429/192000 [01:57<07:08, 346.64it/s, epoch=67.89/30"
     ]
    },
    {
     "name": "stderr",
     "output_type": "stream",
     "text": [
      "\r",
      "Training for 192000 iter, 300.00 epochs:  23%|▏| 43464/192000 [01:57<07:14, 341.86it/s, epoch=67.89/30"
     ]
    },
    {
     "name": "stderr",
     "output_type": "stream",
     "text": [
      "\r",
      "Training for 192000 iter, 300.00 epochs:  23%|▏| 43499/192000 [01:58<07:23, 334.78it/s, epoch=67.89/30"
     ]
    },
    {
     "name": "stderr",
     "output_type": "stream",
     "text": [
      "\r",
      "Training for 192000 iter, 300.00 epochs:  23%|▏| 43499/192000 [01:58<07:23, 334.78it/s, epoch=67.97/30"
     ]
    },
    {
     "name": "stderr",
     "output_type": "stream",
     "text": [
      "\r",
      "Training for 192000 iter, 300.00 epochs:  23%|▏| 43533/192000 [01:58<08:00, 308.99it/s, epoch=67.97/30"
     ]
    },
    {
     "name": "stderr",
     "output_type": "stream",
     "text": [
      "\r",
      "Training for 192000 iter, 300.00 epochs:  23%|▏| 43533/192000 [01:58<08:00, 308.99it/s, epoch=68.05/30"
     ]
    },
    {
     "name": "stderr",
     "output_type": "stream",
     "text": [
      "\r",
      "Training for 192000 iter, 300.00 epochs:  23%|▏| 43572/192000 [01:58<07:29, 330.49it/s, epoch=68.05/30"
     ]
    },
    {
     "name": "stderr",
     "output_type": "stream",
     "text": [
      "\r",
      "Training for 192000 iter, 300.00 epochs:  23%|▏| 43572/192000 [01:58<07:29, 330.49it/s, epoch=68.12/30"
     ]
    },
    {
     "name": "stderr",
     "output_type": "stream",
     "text": [
      "\r",
      "Training for 192000 iter, 300.00 epochs:  23%|▏| 43610/192000 [01:58<07:12, 343.15it/s, epoch=68.12/30"
     ]
    },
    {
     "name": "stderr",
     "output_type": "stream",
     "text": [
      "\r",
      "Training for 192000 iter, 300.00 epochs:  23%|▏| 43647/192000 [01:58<07:03, 350.05it/s, epoch=68.12/30"
     ]
    },
    {
     "name": "stderr",
     "output_type": "stream",
     "text": [
      "\r",
      "Training for 192000 iter, 300.00 epochs:  23%|▏| 43647/192000 [01:58<07:03, 350.05it/s, epoch=68.20/30"
     ]
    },
    {
     "name": "stderr",
     "output_type": "stream",
     "text": [
      "\r",
      "Training for 192000 iter, 300.00 epochs:  23%|▏| 43683/192000 [01:58<07:03, 349.98it/s, epoch=68.20/30"
     ]
    },
    {
     "name": "stderr",
     "output_type": "stream",
     "text": [
      "\r",
      "Training for 192000 iter, 300.00 epochs:  23%|▏| 43683/192000 [01:58<07:03, 349.98it/s, epoch=68.28/30"
     ]
    },
    {
     "name": "stderr",
     "output_type": "stream",
     "text": [
      "\r",
      "Training for 192000 iter, 300.00 epochs:  23%|▏| 43720/192000 [01:58<06:59, 353.86it/s, epoch=68.28/30"
     ]
    },
    {
     "name": "stderr",
     "output_type": "stream",
     "text": [
      "\r",
      "Training for 192000 iter, 300.00 epochs:  23%|▏| 43720/192000 [01:58<06:59, 353.86it/s, epoch=68.36/30"
     ]
    },
    {
     "name": "stderr",
     "output_type": "stream",
     "text": [
      "\r",
      "Training for 192000 iter, 300.00 epochs:  23%|▏| 43757/192000 [01:58<06:54, 357.79it/s, epoch=68.36/30"
     ]
    },
    {
     "name": "stderr",
     "output_type": "stream",
     "text": [
      "\r",
      "Training for 192000 iter, 300.00 epochs:  23%|▏| 43796/192000 [01:58<06:43, 367.00it/s, epoch=68.36/30"
     ]
    },
    {
     "name": "stderr",
     "output_type": "stream",
     "text": [
      "\r",
      "Training for 192000 iter, 300.00 epochs:  23%|▏| 43796/192000 [01:58<06:43, 367.00it/s, epoch=68.44/30"
     ]
    },
    {
     "name": "stderr",
     "output_type": "stream",
     "text": [
      "\r",
      "Training for 192000 iter, 300.00 epochs:  23%|▏| 43835/192000 [01:58<06:38, 372.14it/s, epoch=68.44/30"
     ]
    },
    {
     "name": "stderr",
     "output_type": "stream",
     "text": [
      "\r",
      "Training for 192000 iter, 300.00 epochs:  23%|▏| 43835/192000 [01:59<06:38, 372.14it/s, epoch=68.52/30"
     ]
    },
    {
     "name": "stderr",
     "output_type": "stream",
     "text": [
      "\r",
      "Training for 192000 iter, 300.00 epochs:  23%|▏| 43876/192000 [01:59<06:28, 380.83it/s, epoch=68.52/30"
     ]
    },
    {
     "name": "stderr",
     "output_type": "stream",
     "text": [
      "\r",
      "Training for 192000 iter, 300.00 epochs:  23%|▏| 43876/192000 [01:59<06:28, 380.83it/s, epoch=68.59/30"
     ]
    },
    {
     "name": "stderr",
     "output_type": "stream",
     "text": [
      "\r",
      "Training for 192000 iter, 300.00 epochs:  23%|▏| 43915/192000 [01:59<06:34, 375.14it/s, epoch=68.59/30"
     ]
    },
    {
     "name": "stderr",
     "output_type": "stream",
     "text": [
      "\r",
      "Training for 192000 iter, 300.00 epochs:  23%|▏| 43915/192000 [01:59<06:34, 375.14it/s, epoch=68.67/30"
     ]
    },
    {
     "name": "stderr",
     "output_type": "stream",
     "text": [
      "\r",
      "Training for 192000 iter, 300.00 epochs:  23%|▏| 43953/192000 [01:59<06:44, 366.31it/s, epoch=68.67/30"
     ]
    },
    {
     "name": "stderr",
     "output_type": "stream",
     "text": [
      "\r",
      "Training for 192000 iter, 300.00 epochs:  23%|▏| 43990/192000 [01:59<06:44, 365.94it/s, epoch=68.67/30"
     ]
    },
    {
     "name": "stderr",
     "output_type": "stream",
     "text": [
      "\r",
      "Training for 192000 iter, 300.00 epochs:  23%|▏| 43990/192000 [01:59<06:44, 365.94it/s, epoch=68.75/30"
     ]
    },
    {
     "name": "stderr",
     "output_type": "stream",
     "text": [
      "\r",
      "Training for 192000 iter, 300.00 epochs:  23%|▏| 44027/192000 [01:59<07:00, 352.21it/s, epoch=68.75/30"
     ]
    }
   ],
   "source": [
    "print(\"\\n===== Training S-N-VAE on dSprites =====\")\n",
    "model_dsprites, loss_fn_dsprites, optimizer_dsprites = setup_components(dsprites_dataset, \n",
    "                                                                        loss_kwargs_dsprites,\n",
    "                                                                        latent_factor_topologies\n",
    "                                                                        )\n",
    "trainer_dsprites = UnsupervisedTrainer(model=model_dsprites,\n",
    "                                      loss=loss_fn_dsprites,\n",
    "                                      optimizer=optimizer_dsprites,\n",
    "                                      lr_scheduler=None,\n",
    "                                      determinism_kwargs=determinism_kwargs,\n",
    "                                      use_torch_compile=use_torch_compile,\n",
    "                                      return_logs=True,\n",
    "                                      return_chkpt=return_chkpt,\n",
    "                                      chkpt_save_path=chkpt_save_path,\n",
    "                                      chkpt_save_dir=chkpt_save_dir,\n",
    "                                      chkpt_every_n_steps=chkpt_every_n_steps,\n",
    "                                      chkpt_viz=chkpt_viz\n",
    "                                      )\n",
    "\n",
    "trainer_dsprites.train(max_steps=num_train_steps, step_unit=train_step_unit, dataloader=dsprites_dataloader)"
   ]
  },
  {
   "cell_type": "code",
   "execution_count": null,
   "id": "a923e0e8",
   "metadata": {
    "papermill": {
     "duration": null,
     "end_time": null,
     "exception": null,
     "start_time": null,
     "status": "pending"
    },
    "tags": []
   },
   "outputs": [],
   "source": [
    "print(\"\\n===== Visualizing dSprites Results =====\")\n",
    "visualizer_dsprites = utils.visualize.SNVAEVisualizer(vae_model=model_dsprites, dataset=dsprites_dataset)"
   ]
  },
  {
   "cell_type": "markdown",
   "id": "6456f3c1",
   "metadata": {
    "papermill": {
     "duration": null,
     "end_time": null,
     "exception": null,
     "start_time": null,
     "status": "pending"
    },
    "tags": []
   },
   "source": [
    "## Visualization"
   ]
  },
  {
   "cell_type": "markdown",
   "id": "e135e92c",
   "metadata": {
    "papermill": {
     "duration": null,
     "end_time": null,
     "exception": null,
     "start_time": null,
     "status": "pending"
    },
    "tags": []
   },
   "source": [
    "### Reconstructions"
   ]
  },
  {
   "cell_type": "code",
   "execution_count": null,
   "id": "5889011f",
   "metadata": {
    "papermill": {
     "duration": null,
     "end_time": null,
     "exception": null,
     "start_time": null,
     "status": "pending"
    },
    "tags": []
   },
   "outputs": [],
   "source": [
    "print(\"Plotting random reconstructions...\")\n",
    "visualizer_dsprites.plot_random_reconstructions(10, mode='mean')\n",
    "plt.show()\n",
    "\n",
    "print(\"Plotting reconstructions from specific indices...\")\n",
    "indices_dsprites = [0, 10, 20, 30, 40, 50]  # Example indices\n",
    "visualizer_dsprites.plot_reconstructions_sub_dataset(indices_dsprites, mode='mean')\n",
    "plt.show()"
   ]
  },
  {
   "cell_type": "markdown",
   "id": "65c3d475",
   "metadata": {
    "papermill": {
     "duration": null,
     "end_time": null,
     "exception": null,
     "start_time": null,
     "status": "pending"
    },
    "tags": []
   },
   "source": [
    "### Latent traversal"
   ]
  },
  {
   "cell_type": "code",
   "execution_count": null,
   "id": "4e63bb62",
   "metadata": {
    "papermill": {
     "duration": null,
     "end_time": null,
     "exception": null,
     "start_time": null,
     "status": "pending"
    },
    "tags": []
   },
   "outputs": [],
   "source": [
    "print(\"Plotting latent traversals...\")\n",
    "visualizer_dsprites.plot_all_latent_traversals(num_samples=15,\n",
    "                                               r1_max_traversal_type='probability',\n",
    "                                               r1_max_traversal=0.95,\n",
    "                                               s1_max_traversal_type='fraction',\n",
    "                                               s1_max_traversal=1.0,\n",
    "                                               use_ref_img=True\n",
    "                                               )\n",
    "plt.show()"
   ]
  },
  {
   "cell_type": "code",
   "execution_count": null,
   "id": "7ca43106",
   "metadata": {
    "papermill": {
     "duration": null,
     "end_time": null,
     "exception": null,
     "start_time": null,
     "status": "pending"
    },
    "tags": []
   },
   "outputs": [],
   "source": [
    "# Select a reference image index for dSprites\n",
    "ref_img_idx_dsprites = 495  # Example index\n",
    "ref_img_dsprites = dsprites_dataset[ref_img_idx_dsprites][0]\n",
    "\n",
    "# Plot the reference image\n",
    "plt.imshow(ref_img_dsprites.permute(1, 2, 0).cpu().numpy(), cmap='gray')\n",
    "plt.title(f\"dSprites Reference Image (Index: {ref_img_idx_dsprites})\")\n",
    "plt.show()"
   ]
  },
  {
   "cell_type": "code",
   "execution_count": null,
   "id": "2fec48f5",
   "metadata": {
    "papermill": {
     "duration": null,
     "end_time": null,
     "exception": null,
     "start_time": null,
     "status": "pending"
    },
    "tags": []
   },
   "outputs": [],
   "source": [
    "# Single latent traversal based on the reference image\n",
    "latent_factor_idx_dsprites = 0  # Index of the latent dimension to traverse\n",
    "print(f\"Plotting single latent traversal for dimension {latent_factor_idx_dsprites}...\")\n",
    "visualizer_dsprites.plot_single_latent_traversal(latent_factor_idx_dsprites, \n",
    "                                                 ref_img=ref_img_dsprites, \n",
    "                                                 num_samples=11,\n",
    "                                                 max_traversal_type='fraction',\n",
    "                                                 max_traversal=1)\n",
    "plt.show()"
   ]
  },
  {
   "cell_type": "code",
   "execution_count": null,
   "id": "d11fd2fc",
   "metadata": {
    "papermill": {
     "duration": null,
     "end_time": null,
     "exception": null,
     "start_time": null,
     "status": "pending"
    },
    "tags": []
   },
   "outputs": [],
   "source": [
    "# All latent traversals based on the reference image\n",
    "print(\"Plotting all latent traversals based on reference image...\")\n",
    "visualizer_dsprites.plot_all_latent_traversals(ref_img=ref_img_dsprites, \n",
    "                                               num_samples=15,\n",
    "                                               r1_max_traversal_type='probability',\n",
    "                                               r1_max_traversal=0.95,\n",
    "                                               s1_max_traversal_type='fraction',\n",
    "                                               s1_max_traversal=1\n",
    "                                               )"
   ]
  }
 ],
 "metadata": {
  "kernelspec": {
   "display_name": "Python 3",
   "language": "python",
   "name": "python3"
  },
  "language_info": {
   "codemirror_mode": {
    "name": "ipython",
    "version": 3
   },
   "file_extension": ".py",
   "mimetype": "text/x-python",
   "name": "python",
   "nbconvert_exporter": "python",
   "pygments_lexer": "ipython3",
   "version": "3.10.18"
  },
  "papermill": {
   "default_parameters": {},
   "duration": null,
   "end_time": null,
   "environment_variables": {},
   "exception": null,
   "input_path": "/workspace/Disentanglement-Project-V2/jupyter NBs/models test/s_n_vae/dsprites/betavae/s_n_beta_vae (dsprites).ipynb",
   "output_path": "/workspace/Disentanglement-Project-V2/jupyter NBs/models test/s_n_vae/dsprites/betavae/outputs/s_n_beta_vae (dsprites)_seed_0.ipynb",
   "parameters": {
    "seed": 0
   },
   "start_time": "2025-09-18T15:54:16.561493",
   "version": "2.6.0"
  }
 },
 "nbformat": 4,
 "nbformat_minor": 5
}