{
 "cells": [
  {
   "cell_type": "markdown",
   "id": "61845a43",
   "metadata": {
    "papermill": {
     "duration": 0.002405,
     "end_time": "2025-09-18T16:11:57.007054",
     "exception": false,
     "start_time": "2025-09-18T16:11:57.004649",
     "status": "completed"
    },
    "tags": []
   },
   "source": [
    "# S-N-VAE Model Testing Framework"
   ]
  },
  {
   "cell_type": "code",
   "execution_count": 1,
   "id": "106968af",
   "metadata": {
    "execution": {
     "iopub.execute_input": "2025-09-18T16:11:57.010685Z",
     "iopub.status.busy": "2025-09-18T16:11:57.010549Z",
     "iopub.status.idle": "2025-09-18T16:11:57.014317Z",
     "shell.execute_reply": "2025-09-18T16:11:57.014057Z"
    },
    "papermill": {
     "duration": 0.006393,
     "end_time": "2025-09-18T16:11:57.014896",
     "exception": false,
     "start_time": "2025-09-18T16:11:57.008503",
     "status": "completed"
    },
    "tags": [
     "parameters"
    ]
   },
   "outputs": [],
   "source": [
    "# Parameters cell for papermill\n",
    "# This cell will be tagged as \"parameters\" to allow papermill to inject parameter values\n",
    "# Default seed value - can be overridden by papermill execution\n",
    "seed = 0"
   ]
  },
  {
   "cell_type": "code",
   "execution_count": 2,
   "id": "83fbf3de",
   "metadata": {
    "execution": {
     "iopub.execute_input": "2025-09-18T16:11:57.017851Z",
     "iopub.status.busy": "2025-09-18T16:11:57.017742Z",
     "iopub.status.idle": "2025-09-18T16:11:57.019607Z",
     "shell.execute_reply": "2025-09-18T16:11:57.019242Z"
    },
    "papermill": {
     "duration": 0.003913,
     "end_time": "2025-09-18T16:11:57.020080",
     "exception": false,
     "start_time": "2025-09-18T16:11:57.016167",
     "status": "completed"
    },
    "tags": [
     "injected-parameters"
    ]
   },
   "outputs": [],
   "source": [
    "# Parameters\n",
    "seed = 2\n"
   ]
  },
  {
   "cell_type": "code",
   "execution_count": 3,
   "id": "a55671c9",
   "metadata": {
    "execution": {
     "iopub.execute_input": "2025-09-18T16:11:57.023219Z",
     "iopub.status.busy": "2025-09-18T16:11:57.023097Z",
     "iopub.status.idle": "2025-09-18T16:11:57.025467Z",
     "shell.execute_reply": "2025-09-18T16:11:57.025275Z"
    },
    "papermill": {
     "duration": 0.004545,
     "end_time": "2025-09-18T16:11:57.025914",
     "exception": false,
     "start_time": "2025-09-18T16:11:57.021369",
     "status": "completed"
    },
    "tags": []
   },
   "outputs": [
    {
     "name": "stdout",
     "output_type": "stream",
     "text": [
      "Added project root: /workspace/Disentanglement-Project-V2\n"
     ]
    }
   ],
   "source": [
    "import sys\n",
    "from pathlib import Path\n",
    "\n",
    "# Find project root by looking for .git or requirements.txt\n",
    "current = Path.cwd()\n",
    "while not any((current / marker).exists() for marker in ['.git', 'requirements.txt']):\n",
    "    if current.parent == current:\n",
    "        raise FileNotFoundError(\"Project root not found\")\n",
    "    current = current.parent\n",
    "\n",
    "sys.path.append(str(current))\n",
    "print(f\"Added project root: {current}\")"
   ]
  },
  {
   "cell_type": "markdown",
   "id": "78d13d7b",
   "metadata": {
    "papermill": {
     "duration": 0.001356,
     "end_time": "2025-09-18T16:11:57.028622",
     "exception": false,
     "start_time": "2025-09-18T16:11:57.027266",
     "status": "completed"
    },
    "tags": []
   },
   "source": [
    "# Hyperparameters"
   ]
  },
  {
   "cell_type": "code",
   "execution_count": 4,
   "id": "42d8ea8b",
   "metadata": {
    "execution": {
     "iopub.execute_input": "2025-09-18T16:11:57.032673Z",
     "iopub.status.busy": "2025-09-18T16:11:57.032419Z",
     "iopub.status.idle": "2025-09-18T16:11:57.776910Z",
     "shell.execute_reply": "2025-09-18T16:11:57.776631Z"
    },
    "papermill": {
     "duration": 0.747263,
     "end_time": "2025-09-18T16:11:57.777431",
     "exception": false,
     "start_time": "2025-09-18T16:11:57.030168",
     "status": "completed"
    },
    "tags": []
   },
   "outputs": [
    {
     "name": "stdout",
     "output_type": "stream",
     "text": [
      "Using GPU\n"
     ]
    }
   ],
   "source": [
    "import torch\n",
    "\n",
    "#### deterministic run ####\n",
    "determinism_kwargs = {\n",
    "    'seed': seed,  # Use parameterized seed value\n",
    "    'use_cuda_det': True,\n",
    "    'enforce_det':False,\n",
    "    'cublas_workspace_config': None,\n",
    "}\n",
    "\n",
    "##### Model parameters #####\n",
    "model_name = 's_n_vae_locatello'  # S-N-VAE model with Locatello architecture\n",
    "model_decoder_output_dist = 'bernoulli'  # Output distribution of the decoder\n",
    "\n",
    "# Define latent factor topologies: mix of Normal (R1) and Power Spherical (S1)\n",
    "latent_factor_topologies = ['S1', 'R1', 'R1']  # 3 factors total\n",
    "\n",
    "use_torch_compile = True  # Use torch.compile for model compilation\n",
    "\n",
    "#### Training parameters ####\n",
    "train_step_unit = 'epoch'  # Unit for training steps ('epoch' or 'iteration')\n",
    "num_train_steps = 300\n",
    "\n",
    "# train_step_unit = 'iteration'  # Unit for training steps ('epoch' or 'iteration')\n",
    "# num_train_steps = int(9e3)  # Number of training steps \n",
    "\n",
    "learning_rate = 1e-4\n",
    "batch_size = 64\n",
    "\n",
    "#### losses ####\n",
    "loss_name = 'beta_s_n_vae'      # S-N-VAE Beta loss\n",
    "loss_kwargs_dsprites = {\n",
    "    'beta': 13,\n",
    "    'latent_factor_topologies': latent_factor_topologies,\n",
    "    'rec_dist': 'bernoulli',  # Reconstruction distribution\n",
    "    'log_kl_components': True,\n",
    "#     'schedulers_kwargs':[\n",
    "#     {\n",
    "#         'name': 'linear',\n",
    "#         'kwargs': {\n",
    "#             'param_name': 'beta',\n",
    "#             'initial_value': 0,\n",
    "#             'final_value': 16,\n",
    "#             'total_steps': 100000\n",
    "#         }\n",
    "#     }\n",
    "# ]\n",
    "}\n",
    "\n",
    "#### device parameters ####\n",
    "device = torch.device('cuda' if torch.cuda.is_available() else 'cpu')\n",
    "if device.type == 'cuda':\n",
    "    print(f\"Using GPU\")\n",
    "else:\n",
    "    print(\"Using CPU\")\n",
    "\n",
    "### Checkpoint parameters ###\n",
    "return_chkpt = False\n",
    "chkpt_every_n_steps = 2400\n",
    "\n",
    "# chkpt_save_path = 'checkpoints/tests/test-epoch-1.pt'\n",
    "chkpt_save_path = None\n",
    "\n",
    "chkpt_save_dir = None\n",
    "# chkpt_save_dir = 'checkpoints/tests_s_n_vae'\n",
    "\n",
    "chkpt_save_master_dir = None\n",
    "chkpt_viz = False"
   ]
  },
  {
   "cell_type": "markdown",
   "id": "ba19743b",
   "metadata": {
    "papermill": {
     "duration": 0.001419,
     "end_time": "2025-09-18T16:11:57.780503",
     "exception": false,
     "start_time": "2025-09-18T16:11:57.779084",
     "status": "completed"
    },
    "tags": []
   },
   "source": [
    "# Reproducibility"
   ]
  },
  {
   "cell_type": "code",
   "execution_count": 5,
   "id": "6c1f42e8",
   "metadata": {
    "execution": {
     "iopub.execute_input": "2025-09-18T16:11:57.783785Z",
     "iopub.status.busy": "2025-09-18T16:11:57.783629Z",
     "iopub.status.idle": "2025-09-18T16:11:57.790753Z",
     "shell.execute_reply": "2025-09-18T16:11:57.790477Z"
    },
    "papermill": {
     "duration": 0.009225,
     "end_time": "2025-09-18T16:11:57.791098",
     "exception": false,
     "start_time": "2025-09-18T16:11:57.781873",
     "status": "completed"
    },
    "tags": []
   },
   "outputs": [
    {
     "name": "stdout",
     "output_type": "stream",
     "text": [
      "Set deterministic run with kwargs: {'seed': 2, 'use_cuda_det': True, 'enforce_det': False, 'cublas_workspace_config': None}\n"
     ]
    }
   ],
   "source": [
    "if determinism_kwargs is not None:\n",
    "    # MUST Be set before importing any other modules\n",
    "    # to ensure reproducibility across all libraries\n",
    "    from utils.reproducibility import set_deterministic_run, get_deterministic_dataloader\n",
    "    set_deterministic_run(**determinism_kwargs)\n",
    "    print(f\"Set deterministic run with kwargs: {determinism_kwargs}\")"
   ]
  },
  {
   "cell_type": "markdown",
   "id": "df2c010a",
   "metadata": {
    "papermill": {
     "duration": 0.001326,
     "end_time": "2025-09-18T16:11:57.793825",
     "exception": false,
     "start_time": "2025-09-18T16:11:57.792499",
     "status": "completed"
    },
    "tags": []
   },
   "source": [
    "# Imports"
   ]
  },
  {
   "cell_type": "code",
   "execution_count": 6,
   "id": "3343ab8c",
   "metadata": {
    "execution": {
     "iopub.execute_input": "2025-09-18T16:11:57.796928Z",
     "iopub.status.busy": "2025-09-18T16:11:57.796801Z",
     "iopub.status.idle": "2025-09-18T16:11:58.327521Z",
     "shell.execute_reply": "2025-09-18T16:11:58.327172Z"
    },
    "papermill": {
     "duration": 0.532953,
     "end_time": "2025-09-18T16:11:58.328185",
     "exception": false,
     "start_time": "2025-09-18T16:11:57.795232",
     "status": "completed"
    },
    "tags": []
   },
   "outputs": [],
   "source": [
    "import torch\n",
    "import numpy as np\n",
    "import torch.utils\n",
    "import matplotlib.pyplot as plt\n",
    "import torch.optim as optim\n",
    "\n",
    "import utils.visualize\n",
    "from trainers import UnsupervisedTrainer\n",
    "import losses\n",
    "import vae_models\n",
    "from datasets import get_dataset\n",
    "from utils.io import find_optimal_num_workers\n",
    "from metrics.utils import MetricAggregator"
   ]
  },
  {
   "cell_type": "markdown",
   "id": "246f46c2",
   "metadata": {
    "papermill": {
     "duration": 0.001437,
     "end_time": "2025-09-18T16:11:58.331246",
     "exception": false,
     "start_time": "2025-09-18T16:11:58.329809",
     "status": "completed"
    },
    "tags": []
   },
   "source": [
    "## Setup Model, Loss, and Optimizer"
   ]
  },
  {
   "cell_type": "code",
   "execution_count": 7,
   "id": "e91eafec",
   "metadata": {
    "execution": {
     "iopub.execute_input": "2025-09-18T16:11:58.334542Z",
     "iopub.status.busy": "2025-09-18T16:11:58.334373Z",
     "iopub.status.idle": "2025-09-18T16:11:58.337074Z",
     "shell.execute_reply": "2025-09-18T16:11:58.336835Z"
    },
    "papermill": {
     "duration": 0.005105,
     "end_time": "2025-09-18T16:11:58.337705",
     "exception": false,
     "start_time": "2025-09-18T16:11:58.332600",
     "status": "completed"
    },
    "tags": []
   },
   "outputs": [],
   "source": [
    "def setup_components(dataset, loss_kwargs, latent_factor_topologies):\n",
    "    \"\"\"Instantiates model, loss function, and optimizer based on config.\"\"\"\n",
    "    img_size = dataset[0][0].shape\n",
    "    n_data = len(dataset)\n",
    "    \n",
    "    # Instantiate S-N-VAE Model\n",
    "    model = vae_models.select(name=model_name, \n",
    "                              img_size=img_size, \n",
    "                              latent_factor_topologies=latent_factor_topologies,\n",
    "                              decoder_output_dist=model_decoder_output_dist\n",
    "                              ).to(device)\n",
    "\n",
    "    # Instantiate S-N-VAE Loss\n",
    "    loss_fn = losses.select(loss_name, **loss_kwargs)\n",
    "\n",
    "    # Instantiate Optimizer\n",
    "    optimizer = optim.Adam(model.parameters(), lr=learning_rate)\n",
    "\n",
    "    print(f\"--- Setup for {dataset.__class__.__name__} --- \")\n",
    "    print(f\"Model: {model.model_name}\")\n",
    "    print(f\"Latent factor topologies: {latent_factor_topologies}\")\n",
    "    print(f\"Loss: {loss_fn.name} (rec_dist={loss_kwargs['rec_dist']}), kwargs={loss_kwargs}\")\n",
    "    print(f\"Optimizer: {optimizer.__class__.__name__}\")\n",
    "    print(f\"Learning rate: {learning_rate}\")\n",
    "\n",
    "    return model, loss_fn, optimizer"
   ]
  },
  {
   "cell_type": "markdown",
   "id": "9d8cda39",
   "metadata": {
    "papermill": {
     "duration": 0.001392,
     "end_time": "2025-09-18T16:11:58.340572",
     "exception": false,
     "start_time": "2025-09-18T16:11:58.339180",
     "status": "completed"
    },
    "tags": []
   },
   "source": [
    "# dSprites"
   ]
  },
  {
   "cell_type": "code",
   "execution_count": 8,
   "id": "ead6fa0d",
   "metadata": {
    "execution": {
     "iopub.execute_input": "2025-09-18T16:11:58.344207Z",
     "iopub.status.busy": "2025-09-18T16:11:58.343972Z",
     "iopub.status.idle": "2025-09-18T16:12:00.779561Z",
     "shell.execute_reply": "2025-09-18T16:12:00.779217Z"
    },
    "papermill": {
     "duration": 2.438167,
     "end_time": "2025-09-18T16:12:00.780159",
     "exception": false,
     "start_time": "2025-09-18T16:11:58.341992",
     "status": "completed"
    },
    "tags": []
   },
   "outputs": [
    {
     "name": "stdout",
     "output_type": "stream",
     "text": [
      "Loaded dSprites dataset with 40960 samples.\n"
     ]
    }
   ],
   "source": [
    "# Load dSprites\n",
    "Dsprites = get_dataset('dsprites')\n",
    "\n",
    "# dsprites_dataset = Dsprites(selected_factors='all', not_selected_factors_index_value=None)\n",
    "dsprites_dataset = Dsprites(selected_factors=['posX', 'posY', 'orientation'], not_selected_factors_index_value={'scale':5, 'shape':0, 'color':0})\n",
    "\n",
    "# num_workers_dsprites = find_optimal_num_workers(dsprites_dataset, batch_size=batch_size, num_batches_to_test='all')\n",
    "num_workers_dsprites = 7\n",
    "\n",
    "if determinism_kwargs is not None:\n",
    "    dsprites_dataloader = get_deterministic_dataloader(dataset=dsprites_dataset,\n",
    "                                                   batch_size=batch_size,\n",
    "                                                   shuffle=True,\n",
    "                                                   num_workers=num_workers_dsprites,\n",
    "                                                   seed=seed,  # Use parameterized seed value\n",
    "                                                   pin_memory=True)\n",
    "else:\n",
    "    dsprites_dataloader = torch.utils.data.DataLoader(dsprites_dataset, \n",
    "                                                      batch_size=batch_size, \n",
    "                                                      num_workers=num_workers_dsprites, \n",
    "                                                      shuffle=True, \n",
    "                                                      pin_memory=True)\n",
    "\n",
    "print(f\"Loaded dSprites dataset with {len(dsprites_dataset)} samples.\")"
   ]
  },
  {
   "cell_type": "markdown",
   "id": "83352e50",
   "metadata": {
    "papermill": {
     "duration": 0.005356,
     "end_time": "2025-09-18T16:12:00.787224",
     "exception": false,
     "start_time": "2025-09-18T16:12:00.781868",
     "status": "completed"
    },
    "tags": []
   },
   "source": [
    "## Train"
   ]
  },
  {
   "cell_type": "code",
   "execution_count": null,
   "id": "b020bd4b",
   "metadata": {
    "papermill": {
     "duration": null,
     "end_time": null,
     "exception": false,
     "start_time": "2025-09-18T16:12:00.788750",
     "status": "running"
    },
    "tags": []
   },
   "outputs": [],
   "source": [
    "print(\"\\n===== Training S-N-VAE on dSprites =====\")\n",
    "model_dsprites, loss_fn_dsprites, optimizer_dsprites = setup_components(dsprites_dataset, \n",
    "                                                                        loss_kwargs_dsprites,\n",
    "                                                                        latent_factor_topologies\n",
    "                                                                        )\n",
    "trainer_dsprites = UnsupervisedTrainer(model=model_dsprites,\n",
    "                                      loss=loss_fn_dsprites,\n",
    "                                      optimizer=optimizer_dsprites,\n",
    "                                      lr_scheduler=None,\n",
    "                                      determinism_kwargs=determinism_kwargs,\n",
    "                                      use_torch_compile=use_torch_compile,\n",
    "                                      return_logs=True,\n",
    "                                      return_chkpt=return_chkpt,\n",
    "                                      chkpt_save_path=chkpt_save_path,\n",
    "                                      chkpt_save_dir=chkpt_save_dir,\n",
    "                                      chkpt_every_n_steps=chkpt_every_n_steps,\n",
    "                                      chkpt_viz=chkpt_viz\n",
    "                                      )\n",
    "\n",
    "trainer_dsprites.train(max_steps=num_train_steps, step_unit=train_step_unit, dataloader=dsprites_dataloader)"
   ]
  },
  {
   "cell_type": "code",
   "execution_count": null,
   "id": "a923e0e8",
   "metadata": {
    "papermill": {
     "duration": null,
     "end_time": null,
     "exception": null,
     "start_time": null,
     "status": "pending"
    },
    "tags": []
   },
   "outputs": [],
   "source": [
    "print(\"\\n===== Visualizing dSprites Results =====\")\n",
    "visualizer_dsprites = utils.visualize.SNVAEVisualizer(vae_model=model_dsprites, dataset=dsprites_dataset)"
   ]
  },
  {
   "cell_type": "markdown",
   "id": "6456f3c1",
   "metadata": {
    "papermill": {
     "duration": null,
     "end_time": null,
     "exception": null,
     "start_time": null,
     "status": "pending"
    },
    "tags": []
   },
   "source": [
    "## Visualization"
   ]
  },
  {
   "cell_type": "markdown",
   "id": "e135e92c",
   "metadata": {
    "papermill": {
     "duration": null,
     "end_time": null,
     "exception": null,
     "start_time": null,
     "status": "pending"
    },
    "tags": []
   },
   "source": [
    "### Reconstructions"
   ]
  },
  {
   "cell_type": "code",
   "execution_count": null,
   "id": "5889011f",
   "metadata": {
    "papermill": {
     "duration": null,
     "end_time": null,
     "exception": null,
     "start_time": null,
     "status": "pending"
    },
    "tags": []
   },
   "outputs": [],
   "source": [
    "print(\"Plotting random reconstructions...\")\n",
    "visualizer_dsprites.plot_random_reconstructions(10, mode='mean')\n",
    "plt.show()\n",
    "\n",
    "print(\"Plotting reconstructions from specific indices...\")\n",
    "indices_dsprites = [0, 10, 20, 30, 40, 50]  # Example indices\n",
    "visualizer_dsprites.plot_reconstructions_sub_dataset(indices_dsprites, mode='mean')\n",
    "plt.show()"
   ]
  },
  {
   "cell_type": "markdown",
   "id": "65c3d475",
   "metadata": {
    "papermill": {
     "duration": null,
     "end_time": null,
     "exception": null,
     "start_time": null,
     "status": "pending"
    },
    "tags": []
   },
   "source": [
    "### Latent traversal"
   ]
  },
  {
   "cell_type": "code",
   "execution_count": null,
   "id": "4e63bb62",
   "metadata": {
    "papermill": {
     "duration": null,
     "end_time": null,
     "exception": null,
     "start_time": null,
     "status": "pending"
    },
    "tags": []
   },
   "outputs": [],
   "source": [
    "print(\"Plotting latent traversals...\")\n",
    "visualizer_dsprites.plot_all_latent_traversals(num_samples=15,\n",
    "                                               r1_max_traversal_type='probability',\n",
    "                                               r1_max_traversal=0.95,\n",
    "                                               s1_max_traversal_type='fraction',\n",
    "                                               s1_max_traversal=1.0,\n",
    "                                               use_ref_img=True\n",
    "                                               )\n",
    "plt.show()"
   ]
  },
  {
   "cell_type": "code",
   "execution_count": null,
   "id": "7ca43106",
   "metadata": {
    "papermill": {
     "duration": null,
     "end_time": null,
     "exception": null,
     "start_time": null,
     "status": "pending"
    },
    "tags": []
   },
   "outputs": [],
   "source": [
    "# Select a reference image index for dSprites\n",
    "ref_img_idx_dsprites = 495  # Example index\n",
    "ref_img_dsprites = dsprites_dataset[ref_img_idx_dsprites][0]\n",
    "\n",
    "# Plot the reference image\n",
    "plt.imshow(ref_img_dsprites.permute(1, 2, 0).cpu().numpy(), cmap='gray')\n",
    "plt.title(f\"dSprites Reference Image (Index: {ref_img_idx_dsprites})\")\n",
    "plt.show()"
   ]
  },
  {
   "cell_type": "code",
   "execution_count": null,
   "id": "2fec48f5",
   "metadata": {
    "papermill": {
     "duration": null,
     "end_time": null,
     "exception": null,
     "start_time": null,
     "status": "pending"
    },
    "tags": []
   },
   "outputs": [],
   "source": [
    "# Single latent traversal based on the reference image\n",
    "latent_factor_idx_dsprites = 0  # Index of the latent dimension to traverse\n",
    "print(f\"Plotting single latent traversal for dimension {latent_factor_idx_dsprites}...\")\n",
    "visualizer_dsprites.plot_single_latent_traversal(latent_factor_idx_dsprites, \n",
    "                                                 ref_img=ref_img_dsprites, \n",
    "                                                 num_samples=11,\n",
    "                                                 max_traversal_type='fraction',\n",
    "                                                 max_traversal=1)\n",
    "plt.show()"
   ]
  },
  {
   "cell_type": "code",
   "execution_count": null,
   "id": "d11fd2fc",
   "metadata": {
    "papermill": {
     "duration": null,
     "end_time": null,
     "exception": null,
     "start_time": null,
     "status": "pending"
    },
    "tags": []
   },
   "outputs": [],
   "source": [
    "# All latent traversals based on the reference image\n",
    "print(\"Plotting all latent traversals based on reference image...\")\n",
    "visualizer_dsprites.plot_all_latent_traversals(ref_img=ref_img_dsprites, \n",
    "                                               num_samples=15,\n",
    "                                               r1_max_traversal_type='probability',\n",
    "                                               r1_max_traversal=0.95,\n",
    "                                               s1_max_traversal_type='fraction',\n",
    "                                               s1_max_traversal=1\n",
    "                                               )"
   ]
  }
 ],
 "metadata": {
  "kernelspec": {
   "display_name": "Python 3",
   "language": "python",
   "name": "python3"
  },
  "language_info": {
   "codemirror_mode": {
    "name": "ipython",
    "version": 3
   },
   "file_extension": ".py",
   "mimetype": "text/x-python",
   "name": "python",
   "nbconvert_exporter": "python",
   "pygments_lexer": "ipython3",
   "version": "3.10.18"
  },
  "papermill": {
   "default_parameters": {},
   "duration": null,
   "end_time": null,
   "environment_variables": {},
   "exception": null,
   "input_path": "/workspace/Disentanglement-Project-V2/jupyter NBs/models test/s_n_vae/dsprites/betavae/s_n_beta_vae (dsprites).ipynb",
   "output_path": "/workspace/Disentanglement-Project-V2/jupyter NBs/models test/s_n_vae/dsprites/betavae/outputs/s_n_beta_vae (dsprites)_seed_2.ipynb",
   "parameters": {
    "seed": 2
   },
   "start_time": "2025-09-18T16:11:56.246831",
   "version": "2.6.0"
  }
 },
 "nbformat": 4,
 "nbformat_minor": 5
}