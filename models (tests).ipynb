{
 "cells": [
  {
   "cell_type": "code",
   "execution_count": 1,
   "id": "8a08c823",
   "metadata": {},
   "outputs": [],
   "source": [
    "import torch\n",
    "from models import select"
   ]
  },
  {
   "cell_type": "code",
   "execution_count": 2,
   "id": "a3f4716b",
   "metadata": {},
   "outputs": [
    {
     "name": "stdout",
     "output_type": "stream",
     "text": [
      "Dummy data shape: torch.Size([2, 3, 64, 64])\n"
     ]
    }
   ],
   "source": [
    "img_size = (3,64,64)\n",
    "batch_size = 2\n",
    "dummy_data  = torch.randn(batch_size, *img_size)\n",
    "\n",
    "print(\"Dummy data shape:\", dummy_data.shape)"
   ]
  },
  {
   "cell_type": "markdown",
   "id": "1ff51f00",
   "metadata": {},
   "source": [
    "# Locatello"
   ]
  },
  {
   "cell_type": "code",
   "execution_count": 3,
   "id": "3b036e93",
   "metadata": {},
   "outputs": [
    {
     "data": {
      "text/plain": [
       "Model(\n",
       "  (encoder): Encoder(\n",
       "    (conv1): Conv2d(3, 32, kernel_size=(4, 4), stride=(2, 2), padding=(1, 1))\n",
       "    (conv2): Conv2d(32, 32, kernel_size=(4, 4), stride=(2, 2), padding=(1, 1))\n",
       "    (conv3): Conv2d(32, 64, kernel_size=(4, 4), stride=(2, 2), padding=(1, 1))\n",
       "    (conv4): Conv2d(64, 64, kernel_size=(4, 4), stride=(2, 2), padding=(1, 1))\n",
       "    (lin): Linear(in_features=1024, out_features=256, bias=True)\n",
       "    (dist_statistics): Linear(in_features=256, out_features=20, bias=True)\n",
       "  )\n",
       "  (decoder): Decoder(\n",
       "    (lin1): Linear(in_features=10, out_features=256, bias=True)\n",
       "    (lin2): Linear(in_features=256, out_features=1024, bias=True)\n",
       "    (convT1): ConvTranspose2d(64, 64, kernel_size=(4, 4), stride=(2, 2), padding=(1, 1))\n",
       "    (convT2): ConvTranspose2d(64, 32, kernel_size=(4, 4), stride=(2, 2), padding=(1, 1))\n",
       "    (convT3): ConvTranspose2d(32, 32, kernel_size=(4, 4), stride=(2, 2), padding=(1, 1))\n",
       "    (convT4): ConvTranspose2d(32, 3, kernel_size=(4, 4), stride=(2, 2), padding=(1, 1))\n",
       "  )\n",
       ")"
      ]
     },
     "execution_count": 3,
     "metadata": {},
     "output_type": "execute_result"
    }
   ],
   "source": [
    "model = select('vae_locatello', img_size=img_size)\n",
    "model"
   ]
  },
  {
   "cell_type": "code",
   "execution_count": 4,
   "id": "560c2aa6",
   "metadata": {},
   "outputs": [
    {
     "name": "stdout",
     "output_type": "stream",
     "text": [
      "reconstructions: torch.Size([2, 3, 64, 64])\n",
      "stats_qzx: torch.Size([2, 10, 2])\n",
      "samples_qzx: torch.Size([2, 10])\n"
     ]
    }
   ],
   "source": [
    "output = model(dummy_data)\n",
    "\n",
    "for name, tensor in output.items():\n",
    "    print(f\"{name}: {tensor.shape}\")"
   ]
  },
  {
   "cell_type": "markdown",
   "id": "c0f6ba32",
   "metadata": {},
   "source": [
    "# Burgess"
   ]
  },
  {
   "cell_type": "code",
   "execution_count": 5,
   "id": "fa2ae08f",
   "metadata": {},
   "outputs": [
    {
     "data": {
      "text/plain": [
       "Model(\n",
       "  (encoder): Encoder(\n",
       "    (conv1): Conv2d(3, 32, kernel_size=(4, 4), stride=(2, 2), padding=(1, 1))\n",
       "    (conv2): Conv2d(32, 32, kernel_size=(4, 4), stride=(2, 2), padding=(1, 1))\n",
       "    (conv3): Conv2d(32, 32, kernel_size=(4, 4), stride=(2, 2), padding=(1, 1))\n",
       "    (conv_64): Conv2d(32, 32, kernel_size=(4, 4), stride=(2, 2), padding=(1, 1))\n",
       "    (lin1): Linear(in_features=512, out_features=256, bias=True)\n",
       "    (lin2): Linear(in_features=256, out_features=256, bias=True)\n",
       "    (dist_statistics): Linear(in_features=256, out_features=20, bias=True)\n",
       "  )\n",
       "  (decoder): Decoder(\n",
       "    (lin1): Linear(in_features=10, out_features=256, bias=True)\n",
       "    (lin2): Linear(in_features=256, out_features=256, bias=True)\n",
       "    (lin3): Linear(in_features=256, out_features=512, bias=True)\n",
       "    (convT_64): ConvTranspose2d(32, 32, kernel_size=(4, 4), stride=(2, 2), padding=(1, 1))\n",
       "    (convT1): ConvTranspose2d(32, 32, kernel_size=(4, 4), stride=(2, 2), padding=(1, 1))\n",
       "    (convT2): ConvTranspose2d(32, 32, kernel_size=(4, 4), stride=(2, 2), padding=(1, 1))\n",
       "    (convT3): ConvTranspose2d(32, 3, kernel_size=(4, 4), stride=(2, 2), padding=(1, 1))\n",
       "  )\n",
       ")"
      ]
     },
     "execution_count": 5,
     "metadata": {},
     "output_type": "execute_result"
    }
   ],
   "source": [
    "model = select('vae_burgess', img_size=img_size)\n",
    "model"
   ]
  },
  {
   "cell_type": "code",
   "execution_count": 6,
   "id": "1ea5f208",
   "metadata": {},
   "outputs": [
    {
     "name": "stdout",
     "output_type": "stream",
     "text": [
      "reconstructions: torch.Size([2, 3, 64, 64])\n",
      "stats_qzx: torch.Size([2, 10, 2])\n",
      "samples_qzx: torch.Size([2, 10])\n"
     ]
    }
   ],
   "source": [
    "output = model(dummy_data)\n",
    "\n",
    "for name, tensor in output.items():\n",
    "    print(f\"{name}: {tensor.shape}\")"
   ]
  },
  {
   "cell_type": "markdown",
   "id": "a4db58df",
   "metadata": {},
   "source": [
    "# Chen MLP"
   ]
  },
  {
   "cell_type": "code",
   "execution_count": 8,
   "id": "38d0adce",
   "metadata": {},
   "outputs": [
    {
     "data": {
      "text/plain": [
       "Model(\n",
       "  (encoder): Encoder(\n",
       "    (fc1): Linear(in_features=12288, out_features=1200, bias=True)\n",
       "    (fc2): Linear(in_features=1200, out_features=1200, bias=True)\n",
       "    (act): ReLU(inplace=True)\n",
       "    (dist_statistics): Linear(in_features=1200, out_features=20, bias=True)\n",
       "  )\n",
       "  (decoder): Decoder(\n",
       "    (net): Sequential(\n",
       "      (0): Linear(in_features=10, out_features=1200, bias=True)\n",
       "      (1): Tanh()\n",
       "      (2): Linear(in_features=1200, out_features=1200, bias=True)\n",
       "      (3): Tanh()\n",
       "      (4): Linear(in_features=1200, out_features=1200, bias=True)\n",
       "      (5): Tanh()\n",
       "      (6): Linear(in_features=1200, out_features=12288, bias=True)\n",
       "    )\n",
       "  )\n",
       ")"
      ]
     },
     "execution_count": 8,
     "metadata": {},
     "output_type": "execute_result"
    }
   ],
   "source": [
    "model = select('vae_chen_mlp', latent_dim = 10, img_size=img_size)\n",
    "model"
   ]
  },
  {
   "cell_type": "code",
   "execution_count": 10,
   "id": "2c945a1d",
   "metadata": {},
   "outputs": [
    {
     "name": "stdout",
     "output_type": "stream",
     "text": [
      "reconstructions: torch.Size([2, 3, 64, 64])\n",
      "stats_qzx: torch.Size([2, 10, 2])\n",
      "samples_qzx: torch.Size([2, 10])\n"
     ]
    }
   ],
   "source": [
    "output = model(dummy_data)\n",
    "\n",
    "for name, tensor in output.items():\n",
    "    print(f\"{name}: {tensor.shape}\")"
   ]
  },
  {
   "cell_type": "markdown",
   "id": "3ac44256",
   "metadata": {},
   "source": [
    "# Locatello SBD"
   ]
  },
  {
   "cell_type": "code",
   "execution_count": 11,
   "id": "bf15f505",
   "metadata": {},
   "outputs": [
    {
     "data": {
      "text/plain": [
       "Model(\n",
       "  (encoder): Encoder(\n",
       "    (conv1): Conv2d(3, 32, kernel_size=(4, 4), stride=(2, 2), padding=(1, 1))\n",
       "    (conv2): Conv2d(32, 32, kernel_size=(4, 4), stride=(2, 2), padding=(1, 1))\n",
       "    (conv3): Conv2d(32, 64, kernel_size=(4, 4), stride=(2, 2), padding=(1, 1))\n",
       "    (conv4): Conv2d(64, 64, kernel_size=(4, 4), stride=(2, 2), padding=(1, 1))\n",
       "    (lin): Linear(in_features=1024, out_features=256, bias=True)\n",
       "    (dist_statistics): Linear(in_features=256, out_features=20, bias=True)\n",
       "  )\n",
       "  (decoder): Decoder(\n",
       "    (conv1): Conv2d(12, 64, kernel_size=(5, 5), stride=(1, 1), padding=(2, 2))\n",
       "    (conv2): Conv2d(64, 64, kernel_size=(5, 5), stride=(1, 1), padding=(2, 2))\n",
       "    (conv3): Conv2d(64, 64, kernel_size=(5, 5), stride=(1, 1), padding=(2, 2))\n",
       "    (conv4): Conv2d(64, 64, kernel_size=(5, 5), stride=(1, 1), padding=(2, 2))\n",
       "    (conv5): Conv2d(64, 3, kernel_size=(5, 5), stride=(1, 1), padding=(2, 2))\n",
       "  )\n",
       ")"
      ]
     },
     "execution_count": 11,
     "metadata": {},
     "output_type": "execute_result"
    }
   ],
   "source": [
    "model = select('vae_locatello_sbd', img_size=img_size)\n",
    "model"
   ]
  },
  {
   "cell_type": "code",
   "execution_count": 12,
   "id": "8b310a45",
   "metadata": {},
   "outputs": [
    {
     "name": "stdout",
     "output_type": "stream",
     "text": [
      "reconstructions: torch.Size([2, 3, 64, 64])\n",
      "stats_qzx: torch.Size([2, 10, 2])\n",
      "samples_qzx: torch.Size([2, 10])\n"
     ]
    }
   ],
   "source": [
    "output = model(dummy_data)\n",
    "\n",
    "for name, tensor in output.items():\n",
    "    print(f\"{name}: {tensor.shape}\")"
   ]
  },
  {
   "cell_type": "markdown",
   "id": "b451e295",
   "metadata": {},
   "source": [
    "# Montero Large"
   ]
  },
  {
   "cell_type": "code",
   "execution_count": 13,
   "id": "523895ff",
   "metadata": {},
   "outputs": [
    {
     "data": {
      "text/plain": [
       "Model(\n",
       "  (encoder): Encoder(\n",
       "    (conv1): Conv2d(3, 64, kernel_size=(4, 4), stride=(2, 2), padding=(1, 1))\n",
       "    (conv2): Conv2d(64, 64, kernel_size=(4, 4), stride=(2, 2), padding=(1, 1))\n",
       "    (conv3): Conv2d(64, 128, kernel_size=(4, 4), stride=(2, 2), padding=(1, 1))\n",
       "    (conv4): Conv2d(128, 128, kernel_size=(4, 4), stride=(2, 2), padding=(1, 1))\n",
       "    (conv5): Conv2d(128, 256, kernel_size=(4, 4), stride=(2, 2), padding=(1, 1))\n",
       "    (lin): Linear(in_features=1024, out_features=256, bias=True)\n",
       "    (dist_statistics): Linear(in_features=256, out_features=20, bias=True)\n",
       "  )\n",
       "  (decoder): Decoder(\n",
       "    (lin1): Linear(in_features=10, out_features=256, bias=True)\n",
       "    (lin2): Linear(in_features=256, out_features=1024, bias=True)\n",
       "    (convT1): ConvTranspose2d(256, 128, kernel_size=(4, 4), stride=(2, 2), padding=(1, 1))\n",
       "    (convT2): ConvTranspose2d(128, 128, kernel_size=(4, 4), stride=(2, 2), padding=(1, 1))\n",
       "    (convT3): ConvTranspose2d(128, 64, kernel_size=(4, 4), stride=(2, 2), padding=(1, 1))\n",
       "    (convT4): ConvTranspose2d(64, 64, kernel_size=(4, 4), stride=(2, 2), padding=(1, 1))\n",
       "    (convT5): ConvTranspose2d(64, 3, kernel_size=(4, 4), stride=(2, 2), padding=(1, 1))\n",
       "  )\n",
       ")"
      ]
     },
     "execution_count": 13,
     "metadata": {},
     "output_type": "execute_result"
    }
   ],
   "source": [
    "model = select('vae_montero_large', img_size=img_size)\n",
    "model"
   ]
  },
  {
   "cell_type": "code",
   "execution_count": 14,
   "id": "0c089e77",
   "metadata": {},
   "outputs": [
    {
     "name": "stdout",
     "output_type": "stream",
     "text": [
      "reconstructions: torch.Size([2, 3, 64, 64])\n",
      "stats_qzx: torch.Size([2, 10, 2])\n",
      "samples_qzx: torch.Size([2, 10])\n"
     ]
    }
   ],
   "source": [
    "output = model(dummy_data)\n",
    "\n",
    "for name, tensor in output.items():\n",
    "    print(f\"{name}: {tensor.shape}\")"
   ]
  },
  {
   "cell_type": "markdown",
   "id": "3d707e8b",
   "metadata": {},
   "source": [
    "# Montero Small"
   ]
  },
  {
   "cell_type": "code",
   "execution_count": 15,
   "id": "d8257849",
   "metadata": {},
   "outputs": [
    {
     "data": {
      "text/plain": [
       "Model(\n",
       "  (encoder): Encoder(\n",
       "    (conv1): Conv2d(3, 32, kernel_size=(4, 4), stride=(2, 2), padding=(1, 1))\n",
       "    (conv2): Conv2d(32, 32, kernel_size=(4, 4), stride=(2, 2), padding=(1, 1))\n",
       "    (conv3): Conv2d(32, 64, kernel_size=(4, 4), stride=(2, 2), padding=(1, 1))\n",
       "    (conv4): Conv2d(64, 64, kernel_size=(4, 4), stride=(2, 2), padding=(1, 1))\n",
       "    (conv5): Conv2d(64, 128, kernel_size=(4, 4), stride=(2, 2), padding=(1, 1))\n",
       "    (lin): Linear(in_features=512, out_features=256, bias=True)\n",
       "    (dist_statistics): Linear(in_features=256, out_features=20, bias=True)\n",
       "  )\n",
       "  (decoder): Decoder(\n",
       "    (lin1): Linear(in_features=10, out_features=256, bias=True)\n",
       "    (lin2): Linear(in_features=256, out_features=512, bias=True)\n",
       "    (convT1): ConvTranspose2d(128, 64, kernel_size=(4, 4), stride=(2, 2), padding=(1, 1))\n",
       "    (convT2): ConvTranspose2d(64, 64, kernel_size=(4, 4), stride=(2, 2), padding=(1, 1))\n",
       "    (convT3): ConvTranspose2d(64, 32, kernel_size=(4, 4), stride=(2, 2), padding=(1, 1))\n",
       "    (convT4): ConvTranspose2d(32, 32, kernel_size=(4, 4), stride=(2, 2), padding=(1, 1))\n",
       "    (convT5): ConvTranspose2d(32, 3, kernel_size=(4, 4), stride=(2, 2), padding=(1, 1))\n",
       "  )\n",
       ")"
      ]
     },
     "execution_count": 15,
     "metadata": {},
     "output_type": "execute_result"
    }
   ],
   "source": [
    "model = select('vae_montero_small', img_size=img_size)\n",
    "model"
   ]
  },
  {
   "cell_type": "code",
   "execution_count": 16,
   "id": "7cc8b58d",
   "metadata": {},
   "outputs": [
    {
     "name": "stdout",
     "output_type": "stream",
     "text": [
      "reconstructions: torch.Size([2, 3, 64, 64])\n",
      "stats_qzx: torch.Size([2, 10, 2])\n",
      "samples_qzx: torch.Size([2, 10])\n"
     ]
    }
   ],
   "source": [
    "output = model(dummy_data)\n",
    "\n",
    "for name, tensor in output.items():\n",
    "    print(f\"{name}: {tensor.shape}\")"
   ]
  }
 ],
 "metadata": {
  "kernelspec": {
   "display_name": "Dis-Project-V2",
   "language": "python",
   "name": "python3"
  },
  "language_info": {
   "codemirror_mode": {
    "name": "ipython",
    "version": 3
   },
   "file_extension": ".py",
   "mimetype": "text/x-python",
   "name": "python",
   "nbconvert_exporter": "python",
   "pygments_lexer": "ipython3",
   "version": "3.12.9"
  }
 },
 "nbformat": 4,
 "nbformat_minor": 5
}
