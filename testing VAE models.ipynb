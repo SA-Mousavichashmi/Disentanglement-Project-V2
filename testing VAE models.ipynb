{
 "cells": [
  {
   "cell_type": "markdown",
   "id": "faeffa99",
   "metadata": {},
   "source": [
    "# VAE Model Testing Framework"
   ]
  },
  {
   "cell_type": "markdown",
   "id": "399a4f2e",
   "metadata": {},
   "source": [
    "## 1. Imports"
   ]
  },
  {
   "cell_type": "code",
   "execution_count": 1,
   "id": "918a1bfb",
   "metadata": {},
   "outputs": [],
   "source": [
    "import torch\n",
    "import numpy as np\n",
    "import torch.utils\n",
    "import matplotlib.pyplot as plt\n",
    "import torch.optim as optim\n",
    "\n",
    "import utils.visualize\n",
    "from trainers import UnsupervisedTrainer\n",
    "import losses\n",
    "import models\n",
    "from datasets import get_dataset\n",
    "from utils.io import find_optimal_num_workers"
   ]
  },
  {
   "cell_type": "markdown",
   "id": "38e0aecf",
   "metadata": {},
   "source": [
    "## 2. Configuration"
   ]
  },
  {
   "cell_type": "code",
   "execution_count": 2,
   "id": "e755dbe0",
   "metadata": {},
   "outputs": [],
   "source": [
    "# --- General Hyperparameters ---\n",
    "model_name = 'vae_burgess'  # Name of the model architecture file (e.g., 'vae_burgess')\n",
    "latent_dim = 10\n",
    "learning_rate = 1e-4\n",
    "num_epochs = 20\n",
    "batch_size = 64\n",
    "device = torch.device('cuda' if torch.cuda.is_available() else 'cpu')\n",
    "rec_dist = 'bernoulli'  # Reconstruction distribution (e.g., 'bernoulli', 'gaussian')"
   ]
  },
  {
   "cell_type": "code",
   "execution_count": 3,
   "id": "882a0898",
   "metadata": {},
   "outputs": [],
   "source": [
    "# --- Loss Specific Hyperparameters ---\n",
    "# Beta VAE\n",
    "loss_name = 'betavae'      # Type of loss ('betavae', 'annealedvae', 'betatcvae')\n",
    "loss_kwargs = {'beta': 4.0,\n",
    "               'rec_dist': rec_dist}"
   ]
  },
  {
   "cell_type": "code",
   "execution_count": 4,
   "id": "84fc79b7",
   "metadata": {},
   "outputs": [],
   "source": [
    "# AnnealedVAE\n",
    "loss_name = 'annealedvae'  \n",
    "loss_kwargs = {\n",
    "    'C_init': 0.0,\n",
    "    'C_fin_3dshapes': 25.0,\n",
    "    'C_fin_dsprites': 15.0,\n",
    "    'gamma_annealed': 100.0,\n",
    "    'anneal_steps': 10000,\n",
    "    'rec_dist': rec_dist,\n",
    "}"
   ]
  },
  {
   "cell_type": "code",
   "execution_count": 5,
   "id": "a43cfe02",
   "metadata": {},
   "outputs": [],
   "source": [
    "# BetaTCVAE\n",
    "loss_name = 'betatcvae'\n",
    "loss_kwargs = {\n",
    "    'alpha_tc': 1.0,\n",
    "    'beta_tc_3dshapes': 6.0,\n",
    "    'beta_tc_dsprites': 4.0,\n",
    "    'gamma_tc': 1.0,\n",
    "    'is_mss': True,\n",
    "    'rec_dist': rec_dist\n",
    "}"
   ]
  },
  {
   "cell_type": "code",
   "execution_count": 6,
   "id": "36659db8",
   "metadata": {},
   "outputs": [],
   "source": [
    "# Factor VAE\n",
    "\n",
    "loss_name = 'factorvae'\n",
    "loss_kwargs = {\n",
    "    'device': device,\n",
    "    'gamma': 6.4,\n",
    "    'discr_lr': 5e-5,\n",
    "    'discr_betas': (0.5, 0.9),\n",
    "    'rec_dist': rec_dist,\n",
    "}"
   ]
  },
  {
   "cell_type": "markdown",
   "id": "53dd6489",
   "metadata": {},
   "source": [
    "## 3. Load Datasets"
   ]
  },
  {
   "cell_type": "code",
   "execution_count": 7,
   "id": "c48f7ee7",
   "metadata": {},
   "outputs": [
    {
     "name": "stdout",
     "output_type": "stream",
     "text": [
      "Defaulting max_workers to physical core count: 8\n",
      "Finding optimal num_workers (testing 0 to 8)...\n",
      "  num_workers=0: Warming up with 5 batches...\n",
      "  num_workers=0: 0.00917 sec/batch\n",
      "  num_workers=1: Warming up with 5 batches...\n",
      "  num_workers=1: 0.00529 sec/batch\n",
      "  num_workers=2: Warming up with 5 batches...\n",
      "  num_workers=2: 0.00278 sec/batch\n",
      "  num_workers=3: Warming up with 5 batches...\n",
      "  num_workers=3: 0.00262 sec/batch\n",
      "  num_workers=4: Warming up with 5 batches...\n",
      "  num_workers=4: 0.00278 sec/batch\n",
      "  num_workers=5: Warming up with 5 batches...\n",
      "  num_workers=5: 0.00215 sec/batch\n",
      "  num_workers=6: Warming up with 5 batches...\n",
      "  num_workers=6: 0.00426 sec/batch\n",
      "  num_workers=7: Warming up with 5 batches...\n",
      "  num_workers=7: 0.00269 sec/batch\n",
      "  num_workers=8: Warming up with 5 batches...\n",
      "  num_workers=8: 0.00351 sec/batch\n",
      "Optimal num_workers: 5 (0.00215 sec/batch)\n",
      "Loaded 3D Shapes dataset with 480000 samples.\n",
      "Defaulting max_workers to physical core count: 8\n",
      "Finding optimal num_workers (testing 0 to 8)...\n",
      "  num_workers=0: Warming up with 5 batches...\n",
      "  num_workers=0: 0.00252 sec/batch\n",
      "  num_workers=1: Warming up with 5 batches...\n",
      "  num_workers=1: 0.00346 sec/batch\n",
      "  num_workers=2: Warming up with 5 batches...\n",
      "  num_workers=2: 0.00162 sec/batch\n",
      "  num_workers=3: Warming up with 5 batches...\n",
      "  num_workers=3: 0.00183 sec/batch\n",
      "  num_workers=4: Warming up with 5 batches...\n",
      "  num_workers=4: 0.00147 sec/batch\n",
      "  num_workers=5: Warming up with 5 batches...\n",
      "  num_workers=5: 0.00188 sec/batch\n",
      "  num_workers=6: Warming up with 5 batches...\n",
      "  num_workers=6: 0.00161 sec/batch\n",
      "  num_workers=7: Warming up with 5 batches...\n",
      "  num_workers=7: 0.00369 sec/batch\n",
      "  num_workers=8: Warming up with 5 batches...\n",
      "  num_workers=8: 0.00297 sec/batch\n",
      "Optimal num_workers: 4 (0.00147 sec/batch)\n",
      "Loaded dSprites dataset with 737280 samples.\n"
     ]
    }
   ],
   "source": [
    "# Load 3D Shapes\n",
    "Shapes3D = get_dataset(\"shapes3d\")\n",
    "shapes3d_dataset = Shapes3D(selected_factors='all', not_selected_factors_index_value=None)\n",
    "num_workers_3dshapes = find_optimal_num_workers(shapes3d_dataset, batch_size=batch_size)\n",
    "shapes3d_dataloader = torch.utils.data.DataLoader(shapes3d_dataset, batch_size=batch_size, num_workers=num_workers_3dshapes, shuffle=True, pin_memory=True)\n",
    "print(f\"Loaded 3D Shapes dataset with {len(shapes3d_dataset)} samples.\")\n",
    "\n",
    "# Load dSprites\n",
    "Dsprites = get_dataset('dsprites')\n",
    "dsprites_dataset = Dsprites(selected_factors='all', not_selected_factors_index_value=None)\n",
    "num_workers_dsprites = find_optimal_num_workers(dsprites_dataset, batch_size=batch_size)\n",
    "dsprites_dataloader = torch.utils.data.DataLoader(dsprites_dataset, batch_size=batch_size, num_workers=num_workers_dsprites, shuffle=True, pin_memory=True)\n",
    "print(f\"Loaded dSprites dataset with {len(dsprites_dataset)} samples.\")"
   ]
  },
  {
   "cell_type": "markdown",
   "id": "8bd49037",
   "metadata": {},
   "source": [
    "## 4. Setup Model, Loss, and Optimizer"
   ]
  },
  {
   "cell_type": "code",
   "execution_count": null,
   "id": "ce3621be",
   "metadata": {},
   "outputs": [],
   "source": [
    "def setup_components(dataset):\n",
    "    \"\"\"Instantiates model, loss function, and optimizer based on config.\"\"\"\n",
    "    img_size = dataset[0][0].shape\n",
    "    n_data = len(dataset)\n",
    "    \n",
    "\n",
    "    # Instantiate Model\n",
    "    model = models.select(model_name, img_size, latent_dim)\n",
    "\n",
    "    if loss_name == 'betatcvae':\n",
    "        loss_kwargs['n_data'] = n_data\n",
    "    \n",
    "    loss_fn = losses.select(loss_name, **loss_kwargs)\n",
    "\n",
    "    # Instantiate Optimizer\n",
    "    optimizer = optim.Adam(model.parameters(), lr=learning_rate)\n",
    "\n",
    "    print(f\"--- Setup for {dataset.__class__.__name__} --- \")\n",
    "    print(f\"Model: {model.__class__.__name__}\")\n",
    "    print(f\"Loss: {loss_fn.__class__.__name__} (rec_dist={rec_dist}), kwargs={loss_kwargs}\")\n",
    "    print(f\"Optimizer: {optimizer.__class__.__name__}\")\n",
    "    print(f\"---------------------------\")\n",
    "\n",
    "    return model, loss_fn, optimizer"
   ]
  },
  {
   "cell_type": "markdown",
   "id": "37aae795",
   "metadata": {},
   "source": [
    "## 5. Train and Visualize"
   ]
  },
  {
   "cell_type": "markdown",
   "id": "9e346709",
   "metadata": {},
   "source": [
    "## 5.1 - 3D Shapes"
   ]
  },
  {
   "cell_type": "code",
   "execution_count": null,
   "id": "b164af89",
   "metadata": {},
   "outputs": [],
   "source": [
    "print(\"\\n===== Training on 3D Shapes =====\")\n",
    "model_3dshapes, loss_fn_3dshapes, optimizer_3dshapes = setup_components(shapes3d_dataset, 'shapes3d')\n",
    "\n",
    "trainer_3dshapes = UnsupervisedTrainer(model=model_3dshapes,\n",
    "                                     loss_fn=loss_fn_3dshapes,\n",
    "                                     scheduler=None,\n",
    "                                     optimizer=optimizer_3dshapes,\n",
    "                                     device=device)\n",
    "\n",
    "trainer_3dshapes.train(shapes3d_dataloader, num_epochs=num_epochs)"
   ]
  },
  {
   "cell_type": "code",
   "execution_count": null,
   "id": "da151c23",
   "metadata": {},
   "outputs": [],
   "source": [
    "print(\"\\n===== Visualizing 3D Shapes Results =====\")\n",
    "visualizer_3dshapes = utils.visualize.Visualizer(vae_model=model_3dshapes, dataset=shapes3d_dataset)\n",
    "\n",
    "print(\"Plotting random reconstructions...\")\n",
    "visualizer_3dshapes.plot_random_reconstructions(10, mode='mean')\n",
    "plt.show()\n",
    "\n",
    "print(\"Plotting reconstructions from specific indices...\")\n",
    "indices_3dshapes = [5000, 6000, 7000, 100, 1000, 1024] # Example indices\n",
    "visualizer_3dshapes.plot_reconstructions_sub_dataset(indices_3dshapes, mode='mean')\n",
    "plt.show()\n",
    "\n",
    "print(\"Plotting latent traversals...\")\n",
    "visualizer_3dshapes.plot_all_latent_traversals(num_samples=20)\n",
    "plt.show()"
   ]
  },
  {
   "cell_type": "markdown",
   "id": "820acfd4",
   "metadata": {},
   "source": [
    "## 5.2. Train and Visualize: dSprites"
   ]
  },
  {
   "cell_type": "code",
   "execution_count": null,
   "id": "54fb2ffe",
   "metadata": {},
   "outputs": [],
   "source": [
    "print(\"\\n===== Training on dSprites =====\")\n",
    "model_dsprites, loss_fn_dsprites, optimizer_dsprites = setup_components(dsprites_dataset, 'dsprites')\n",
    "\n",
    "trainer_dsprites = UnsupervisedTrainer(model=model_dsprites,\n",
    "                                     loss_fn=loss_fn_dsprites,\n",
    "                                     scheduler=None,\n",
    "                                     optimizer=optimizer_dsprites,\n",
    "                                     device=device)\n",
    "\n",
    "trainer_dsprites.train(dsprites_dataloader, num_epochs=num_epochs)"
   ]
  },
  {
   "cell_type": "code",
   "execution_count": null,
   "id": "b63a16b2",
   "metadata": {},
   "outputs": [],
   "source": [
    "print(\"\\n===== Visualizing dSprites Results =====\")\n",
    "visualizer_dsprites = utils.visualize.Visualizer(vae_model=model_dsprites, dataset=dsprites_dataset)\n",
    "\n",
    "print(\"Plotting random reconstructions...\")\n",
    "visualizer_dsprites.plot_random_reconstructions(10, mode='mean')\n",
    "plt.show()\n",
    "\n",
    "print(\"Plotting reconstructions from specific indices...\")\n",
    "indices_dsprites = [0, 10000, 20000, 30000, 40000, 50000] # Example indices\n",
    "visualizer_dsprites.plot_reconstructions_sub_dataset(indices_dsprites, mode='mean')\n",
    "plt.show()\n",
    "\n",
    "print(\"Plotting latent traversals...\")\n",
    "visualizer_dsprites.plot_all_latent_traversals(num_samples=20)\n",
    "plt.show()"
   ]
  }
 ],
 "metadata": {
  "kernelspec": {
   "display_name": "Python 3 (ipykernel)",
   "language": "python",
   "name": "python3"
  }
 },
 "nbformat": 4,
 "nbformat_minor": 5
}
