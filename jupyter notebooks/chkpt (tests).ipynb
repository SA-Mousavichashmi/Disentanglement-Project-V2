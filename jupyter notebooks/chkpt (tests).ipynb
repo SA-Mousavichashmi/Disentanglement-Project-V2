{
 "cells": [
  {
   "cell_type": "code",
   "execution_count": 9,
   "id": "266610fc",
   "metadata": {},
   "outputs": [
    {
     "name": "stdout",
     "output_type": "stream",
     "text": [
      "Added project root: /notebooks\n"
     ]
    }
   ],
   "source": [
    "import sys\n",
    "from pathlib import Path\n",
    "\n",
    "# Find project root by looking for .git or requirements.txt\n",
    "current = Path.cwd()\n",
    "while not any((current / marker).exists() for marker in ['.git', 'requirements.txt']):\n",
    "    if current.parent == current:\n",
    "        raise FileNotFoundError(\"Project root not found\")\n",
    "    current = current.parent\n",
    "\n",
    "sys.path.append(str(current))\n",
    "print(f\"Added project root: {current}\")"
   ]
  },
  {
   "cell_type": "code",
   "execution_count": 10,
   "id": "93b82d09",
   "metadata": {},
   "outputs": [],
   "source": [
    "from utils.io import load_chkpt\n",
    "import torch\n",
    "from trainers.basetrainer import BaseTrainer, create_trainer_from_chkpt\n",
    "from utils.io import print_chkpt_info\n",
    "import pprint"
   ]
  },
  {
   "cell_type": "code",
   "execution_count": 11,
   "id": "2dc521e4",
   "metadata": {},
   "outputs": [],
   "source": [
    "device = torch.device(\"cuda\" if torch.cuda.is_available() else \"cpu\")"
   ]
  },
  {
   "cell_type": "code",
   "execution_count": 12,
   "id": "cf916f79",
   "metadata": {},
   "outputs": [
    {
     "name": "stdout",
     "output_type": "stream",
     "text": [
      "Checkpoint loaded from checkpoints/tests/test-epoch-1.pt on original.\n"
     ]
    }
   ],
   "source": [
    "chkpt_test = load_chkpt('checkpoints/tests/test-epoch-1.pt')"
   ]
  },
  {
   "cell_type": "code",
   "execution_count": 13,
   "id": "b6955f77",
   "metadata": {},
   "outputs": [
    {
     "name": "stdout",
     "output_type": "stream",
     "text": [
      "dict_keys(['train_id', 'train_step_unit', 'train_step_num', 'train_determinism_kwargs', 'train_device', 'use_torch_compile', 'model', 'loss', 'optimizer', 'lr_scheduler', 'dataset', 'dataloader', 'metrics'])\n"
     ]
    }
   ],
   "source": [
    "pprint.pprint(chkpt_test.keys())"
   ]
  },
  {
   "cell_type": "code",
   "execution_count": 14,
   "id": "418d95fb",
   "metadata": {},
   "outputs": [
    {
     "name": "stdout",
     "output_type": "stream",
     "text": [
      "Checkpoint Information:\n",
      "  Train ID: 256fbce3-a727-4155-a554-1a67b118e42a\n",
      "  Train Step Unit: epoch\n",
      "  Train Step Number: 1\n",
      "  Train determinism kwargs: {'seed': 0, 'use_cuda_deterministic': None, 'cublas_workspace_config': None}\n",
      "  Use Torch Compile: False\n",
      "#### Model ####\n",
      "  Model Name: vae_locatello\n",
      "  Model kwargs: {'img_size': torch.Size([3, 64, 64]), 'latent_dim': 10, 'encoder_decay': 0.0, 'decoder_decay': 0.0, 'decoder_output_dist': 'bernoulli'}\n",
      "#### Loss ####\n",
      "  Loss Name: betavae\n",
      "  Loss kwargs: {'beta': 16, 'log_kl_components': True, 'rec_dist': 'gaussian'}\n",
      "#### Dataset ####\n",
      "  Dataset Name: shapes3d\n",
      "  Dataset kwargs: {'selected_factors': 'all', 'not_selected_factors_index_value': None, 'root': 'data/shapes3d/', 'subset': 1}\n",
      "#### Dataloader ####\n",
      "  Dataloader kwargs: {'batch_size': 64, 'shuffle': True, 'num_workers': 4, 'pin_memory': True, 'seed': 0, 'persistent_workers': True, 'in_order': True, 'snapshot_every_n_steps': 1}\n",
      "#### Optimizer ####\n",
      "  Optimizer Name: Adam\n",
      "  LR Scheduler Name: ConstantLR\n"
     ]
    }
   ],
   "source": [
    "print_chkpt_info(chkpt_test)"
   ]
  },
  {
   "cell_type": "code",
   "execution_count": 15,
   "id": "37885382",
   "metadata": {},
   "outputs": [
    {
     "data": {
      "text/plain": [
       "{'_snapshot': {'_snapshot_step': 7500,\n",
       "  '_last_yielded_worker_id': 3,\n",
       "  '_main_snapshot': {'_num_workers': 4,\n",
       "   '_sampler_iter_state': {'samples_yielded': 480000,\n",
       "    'sampler_iter_state': {'yielded': 480000,\n",
       "     'generator': tensor([0, 0, 0,  ..., 0, 0, 0], dtype=torch.uint8)}},\n",
       "   '_index_sampler_state': None,\n",
       "   '_sampler_iter_yielded': 7500,\n",
       "   '_IterableDataset_len_called': None,\n",
       "   '_shared_seed': None,\n",
       "   '_base_seed': 1559385941720436641},\n",
       "  '_worker_snapshots': {'worker_0': {'worker_id': 0,\n",
       "    'dataset_state': None,\n",
       "    'fetcher_state': None},\n",
       "   'worker_1': {'worker_id': 1, 'dataset_state': None, 'fetcher_state': None},\n",
       "   'worker_2': {'worker_id': 2, 'dataset_state': None, 'fetcher_state': None},\n",
       "   'worker_3': {'worker_id': 3,\n",
       "    'dataset_state': None,\n",
       "    'fetcher_state': None}}},\n",
       " '_steps_since_snapshot': 0,\n",
       " '_iterator_finished': True}"
      ]
     },
     "execution_count": 15,
     "metadata": {},
     "output_type": "execute_result"
    }
   ],
   "source": [
    "chkpt_test['dataloader']['state_dict']"
   ]
  },
  {
   "cell_type": "markdown",
   "id": "c0e7538a",
   "metadata": {},
   "source": [
    "# Training tests"
   ]
  },
  {
   "cell_type": "code",
   "execution_count": 16,
   "id": "29cc2501",
   "metadata": {},
   "outputs": [
    {
     "ename": "KeyError",
     "evalue": "'determinism_kwargs'",
     "output_type": "error",
     "traceback": [
      "\u001b[0;31m---------------------------------------------------------------------------\u001b[0m",
      "\u001b[0;31mKeyError\u001b[0m                                  Traceback (most recent call last)",
      "Cell \u001b[0;32mIn[16], line 1\u001b[0m\n\u001b[0;32m----> 1\u001b[0m trainer \u001b[38;5;241m=\u001b[39m \u001b[43mcreate_trainer_from_chkpt\u001b[49m\u001b[43m(\u001b[49m\u001b[43mchkpt_test\u001b[49m\u001b[43m,\u001b[49m\u001b[43m \u001b[49m\u001b[43madditional_trainer_kwargs\u001b[49m\u001b[38;5;241;43m=\u001b[39;49m\u001b[43m{\u001b[49m\u001b[38;5;124;43m'\u001b[39;49m\u001b[38;5;124;43mreturn_log_loss\u001b[39;49m\u001b[38;5;124;43m'\u001b[39;49m\u001b[43m:\u001b[49m\u001b[43m \u001b[49m\u001b[38;5;28;43;01mTrue\u001b[39;49;00m\u001b[43m}\u001b[49m\u001b[43m)\u001b[49m\n",
      "File \u001b[0;32m/notebooks/trainers/basetrainer.py:576\u001b[0m, in \u001b[0;36mcreate_trainer_from_chkpt\u001b[0;34m(ckpt, additional_trainer_kwargs, new_model, new_loss, new_optimizer, new_lr_scheduler, device)\u001b[0m\n\u001b[1;32m    561\u001b[0m     lr_scheduler \u001b[38;5;241m=\u001b[39m create_load_lr_scheduler(\n\u001b[1;32m    562\u001b[0m         name\u001b[38;5;241m=\u001b[39mlr_scheduler_chkpt[\u001b[38;5;124m'\u001b[39m\u001b[38;5;124mname\u001b[39m\u001b[38;5;124m'\u001b[39m],\n\u001b[1;32m    563\u001b[0m         kwargs\u001b[38;5;241m=\u001b[39mlr_scheduler_chkpt[\u001b[38;5;124m'\u001b[39m\u001b[38;5;124mkwargs\u001b[39m\u001b[38;5;124m'\u001b[39m],\n\u001b[1;32m    564\u001b[0m         state_dict\u001b[38;5;241m=\u001b[39mlr_scheduler_chkpt[\u001b[38;5;124m'\u001b[39m\u001b[38;5;124mstate_dict\u001b[39m\u001b[38;5;124m'\u001b[39m],\n\u001b[1;32m    565\u001b[0m         optimizer\u001b[38;5;241m=\u001b[39moptimizer\n\u001b[1;32m    566\u001b[0m     )\n\u001b[1;32m    568\u001b[0m dataloader \u001b[38;5;241m=\u001b[39m get_dataloader_from_chkpt(checkpoint\u001b[38;5;241m=\u001b[39mckpt)\n\u001b[1;32m    570\u001b[0m trainer \u001b[38;5;241m=\u001b[39m BaseTrainer(\n\u001b[1;32m    571\u001b[0m     model\u001b[38;5;241m=\u001b[39mmodel,\n\u001b[1;32m    572\u001b[0m     loss\u001b[38;5;241m=\u001b[39mloss,\n\u001b[1;32m    573\u001b[0m     optimizer\u001b[38;5;241m=\u001b[39moptimizer,\n\u001b[1;32m    574\u001b[0m     lr_scheduler\u001b[38;5;241m=\u001b[39mlr_scheduler,\n\u001b[1;32m    575\u001b[0m     train_id\u001b[38;5;241m=\u001b[39mtrain_id,\n\u001b[0;32m--> 576\u001b[0m     determinism_kwargs\u001b[38;5;241m=\u001b[39m\u001b[43mckpt\u001b[49m\u001b[43m[\u001b[49m\u001b[38;5;124;43m'\u001b[39;49m\u001b[38;5;124;43mdeterminism_kwargs\u001b[39;49m\u001b[38;5;124;43m'\u001b[39;49m\u001b[43m]\u001b[49m,\n\u001b[1;32m    577\u001b[0m     use_compile_model\u001b[38;5;241m=\u001b[39m\u001b[38;5;28;01mFalse\u001b[39;00m,  \u001b[38;5;66;03m# Default to False when loading, can be overridden by additional_trainer_kwargs\u001b[39;00m\n\u001b[1;32m    578\u001b[0m     train_step_unit\u001b[38;5;241m=\u001b[39mckpt[\u001b[38;5;124m'\u001b[39m\u001b[38;5;124mtrain_step_unit\u001b[39m\u001b[38;5;124m'\u001b[39m], \u001b[38;5;66;03m# Assumed to be present in checkpoint\u001b[39;00m\n\u001b[1;32m    579\u001b[0m     dataloader\u001b[38;5;241m=\u001b[39mdataloader,\n\u001b[1;32m    580\u001b[0m     chkpt_save_dir\u001b[38;5;241m=\u001b[39madditional_trainer_kwargs\u001b[38;5;241m.\u001b[39mget(\u001b[38;5;124m'\u001b[39m\u001b[38;5;124mchkpt_save_dir\u001b[39m\u001b[38;5;124m'\u001b[39m, \u001b[38;5;28;01mNone\u001b[39;00m) \u001b[38;5;28;01mif\u001b[39;00m additional_trainer_kwargs \u001b[38;5;28;01melse\u001b[39;00m \u001b[38;5;28;01mNone\u001b[39;00m,\n\u001b[1;32m    581\u001b[0m     \u001b[38;5;241m*\u001b[39m\u001b[38;5;241m*\u001b[39m(additional_trainer_kwargs \u001b[38;5;129;01mor\u001b[39;00m {}) \u001b[38;5;66;03m# Spread remaining kwargs, allows overriding any previous args\u001b[39;00m\n\u001b[1;32m    582\u001b[0m )\n\u001b[1;32m    584\u001b[0m \u001b[38;5;28;01mreturn\u001b[39;00m trainer\n",
      "\u001b[0;31mKeyError\u001b[0m: 'determinism_kwargs'"
     ]
    }
   ],
   "source": [
    "trainer = create_trainer_from_chkpt(chkpt_test, additional_trainer_kwargs={'return_log_loss': True})"
   ]
  },
  {
   "cell_type": "code",
   "execution_count": null,
   "id": "789db215",
   "metadata": {},
   "outputs": [],
   "source": [
    "trainer.train(max_steps=1)"
   ]
  },
  {
   "cell_type": "code",
   "execution_count": null,
   "id": "9d815f72",
   "metadata": {},
   "outputs": [],
   "source": []
  },
  {
   "cell_type": "code",
   "execution_count": null,
   "id": "cfa27891",
   "metadata": {},
   "outputs": [],
   "source": []
  }
 ],
 "metadata": {
  "kernelspec": {
   "display_name": "Python 3 (ipykernel)",
   "language": "python",
   "name": "python3"
  }
 },
 "nbformat": 4,
 "nbformat_minor": 5
}
