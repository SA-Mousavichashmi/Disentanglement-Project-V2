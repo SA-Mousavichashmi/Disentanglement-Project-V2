{
 "cells": [
  {
   "cell_type": "code",
   "execution_count": 1,
   "id": "266610fc",
   "metadata": {},
   "outputs": [
    {
     "name": "stdout",
     "output_type": "stream",
     "text": [
      "Added project root: /notebooks\n"
     ]
    }
   ],
   "source": [
    "import sys\n",
    "from pathlib import Path\n",
    "\n",
    "# Find project root by looking for .git or requirements.txt\n",
    "current = Path.cwd()\n",
    "while not any((current / marker).exists() for marker in ['.git', 'requirements.txt']):\n",
    "    if current.parent == current:\n",
    "        raise FileNotFoundError(\"Project root not found\")\n",
    "    current = current.parent\n",
    "\n",
    "sys.path.append(str(current))\n",
    "print(f\"Added project root: {current}\")"
   ]
  },
  {
   "cell_type": "code",
   "execution_count": 2,
   "id": "93b82d09",
   "metadata": {},
   "outputs": [],
   "source": [
    "from utils.io import load_chkpt\n",
    "import torch\n",
    "import numpy as np\n",
    "import torch.utils\n",
    "import matplotlib.pyplot as plt\n",
    "import torch.optim as optim\n",
    "\n",
    "import utils.visualize\n",
    "from trainers.basetrainer import BaseTrainer, create_trainer_from_chkpt\n",
    "import losses\n",
    "import vae_models\n",
    "from datasets import get_dataset\n",
    "from utils.io import find_optimal_num_workers\n",
    "from metrics.utils import MetricAggregator\n",
    "from utils.io import print_chkpt_info\n",
    "import pprint"
   ]
  },
  {
   "cell_type": "code",
   "execution_count": 3,
   "id": "cf916f79",
   "metadata": {},
   "outputs": [
    {
     "name": "stdout",
     "output_type": "stream",
     "text": [
      "Checkpoint loaded from checkpoints/tests/test-epoch-1.pt on cpu\n"
     ]
    }
   ],
   "source": [
    "chkpt_test = load_chkpt('checkpoints/tests/test-epoch-1.pt')"
   ]
  },
  {
   "cell_type": "code",
   "execution_count": 4,
   "id": "b6955f77",
   "metadata": {},
   "outputs": [
    {
     "name": "stdout",
     "output_type": "stream",
     "text": [
      "dict_keys(['train_id', 'train_step_unit', 'train_step_num', 'train_seed', 'train_determinism_type', 'use_torch_compile', 'model', 'loss', 'optimizer', 'lr_scheduler', 'dataset', 'dataloader', 'metrics'])\n"
     ]
    }
   ],
   "source": [
    "pprint.pprint(chkpt_test.keys())"
   ]
  },
  {
   "cell_type": "code",
   "execution_count": 5,
   "id": "418d95fb",
   "metadata": {},
   "outputs": [
    {
     "name": "stdout",
     "output_type": "stream",
     "text": [
      "Checkpoint Information:\n",
      "  Train ID: 0a6aaaef-6739-4b5c-ba3b-4cfb8817f742\n",
      "  Train Step Unit: epoch\n",
      "  Train Step Number: 1\n",
      "  Train Seed: 0\n",
      "  Train Determinism Type: full\n",
      "  Use Torch Compile: False\n",
      "#### Model ####\n",
      "  Model Name: vae_locatello\n",
      "  Model kwargs: {'img_size': torch.Size([3, 64, 64]), 'latent_dim': 10, 'encoder_decay': 0.0, 'decoder_decay': 0.0, 'decoder_output_dist': 'bernoulli'}\n",
      "#### Loss ####\n",
      "  Loss Name: betavae\n",
      "  Loss kwargs: {'beta': 16, 'log_kl_components': True, 'rec_dist': 'gaussian'}\n",
      "#### Dataset ####\n",
      "  Dataset Name: shapes3d\n",
      "  Dataset kwargs: {'selected_factors': 'all', 'not_selected_factors_index_value': None, 'root': 'data/shapes3d/', 'subset': 1}\n",
      "#### Dataloader ####\n",
      "  Dataloader kwargs: {'batch_size': 64, 'shuffle': True, 'num_workers': 4, 'pin_memory': True, 'seed': 0, 'persistent_workers': True, 'in_order': True, 'snapshot_every_n_steps': 1}\n",
      "#### Optimizer ####\n",
      "  Optimizer Name: Adam\n",
      "  LR Scheduler Name: LambdaLR\n"
     ]
    }
   ],
   "source": [
    "print_chkpt_info(chkpt_test)"
   ]
  },
  {
   "cell_type": "markdown",
   "id": "c0e7538a",
   "metadata": {},
   "source": [
    "# Training tests"
   ]
  },
  {
   "cell_type": "code",
   "execution_count": 6,
   "id": "29cc2501",
   "metadata": {},
   "outputs": [
    {
     "ename": "TypeError",
     "evalue": "LambdaLR.__init__() missing 1 required positional argument: 'lr_lambda'",
     "output_type": "error",
     "traceback": [
      "\u001b[0;31m---------------------------------------------------------------------------\u001b[0m",
      "\u001b[0;31mTypeError\u001b[0m                                 Traceback (most recent call last)",
      "Cell \u001b[0;32mIn[6], line 1\u001b[0m\n\u001b[0;32m----> 1\u001b[0m trainer \u001b[38;5;241m=\u001b[39m \u001b[43mcreate_trainer_from_chkpt\u001b[49m\u001b[43m(\u001b[49m\u001b[43mchkpt_test\u001b[49m\u001b[43m)\u001b[49m\n",
      "File \u001b[0;32m/notebooks/trainers/basetrainer.py:584\u001b[0m, in \u001b[0;36mcreate_trainer_from_chkpt\u001b[0;34m(ckpt, additional_trainer_kwargs, new_model, new_loss, new_optimizer, new_lr_scheduler, device)\u001b[0m\n\u001b[1;32m    582\u001b[0m     lr_scheduler \u001b[38;5;241m=\u001b[39m new_lr_scheduler\n\u001b[1;32m    583\u001b[0m \u001b[38;5;28;01melse\u001b[39;00m:\n\u001b[0;32m--> 584\u001b[0m     lr_scheduler \u001b[38;5;241m=\u001b[39m \u001b[43mcreate_load_lr_scheduler\u001b[49m\u001b[43m(\u001b[49m\n\u001b[1;32m    585\u001b[0m \u001b[43m        \u001b[49m\u001b[43mname\u001b[49m\u001b[38;5;241;43m=\u001b[39;49m\u001b[43mlr_scheduler_chkpt\u001b[49m\u001b[43m[\u001b[49m\u001b[38;5;124;43m'\u001b[39;49m\u001b[38;5;124;43mname\u001b[39;49m\u001b[38;5;124;43m'\u001b[39;49m\u001b[43m]\u001b[49m\u001b[43m,\u001b[49m\n\u001b[1;32m    586\u001b[0m \u001b[43m        \u001b[49m\u001b[43mkwargs\u001b[49m\u001b[38;5;241;43m=\u001b[39;49m\u001b[43mlr_scheduler_chkpt\u001b[49m\u001b[43m[\u001b[49m\u001b[38;5;124;43m'\u001b[39;49m\u001b[38;5;124;43mkwargs\u001b[39;49m\u001b[38;5;124;43m'\u001b[39;49m\u001b[43m]\u001b[49m\u001b[43m,\u001b[49m\n\u001b[1;32m    587\u001b[0m \u001b[43m        \u001b[49m\u001b[43mstate_dict\u001b[49m\u001b[38;5;241;43m=\u001b[39;49m\u001b[43mlr_scheduler_chkpt\u001b[49m\u001b[43m[\u001b[49m\u001b[38;5;124;43m'\u001b[39;49m\u001b[38;5;124;43mstate_dict\u001b[39;49m\u001b[38;5;124;43m'\u001b[39;49m\u001b[43m]\u001b[49m\u001b[43m,\u001b[49m\n\u001b[1;32m    588\u001b[0m \u001b[43m        \u001b[49m\u001b[43moptimizer\u001b[49m\u001b[38;5;241;43m=\u001b[39;49m\u001b[43moptimizer\u001b[49m\n\u001b[1;32m    589\u001b[0m \u001b[43m    \u001b[49m\u001b[43m)\u001b[49m\n\u001b[1;32m    591\u001b[0m dataloader \u001b[38;5;241m=\u001b[39m get_dataloader_from_chkpt(checkpoint\u001b[38;5;241m=\u001b[39mckpt)\n\u001b[1;32m    593\u001b[0m trainer \u001b[38;5;241m=\u001b[39m BaseTrainer(\n\u001b[1;32m    594\u001b[0m     model\u001b[38;5;241m=\u001b[39mmodel,\n\u001b[1;32m    595\u001b[0m     loss\u001b[38;5;241m=\u001b[39mloss,\n\u001b[0;32m   (...)\u001b[0m\n\u001b[1;32m    609\u001b[0m     \u001b[38;5;241m*\u001b[39m\u001b[38;5;241m*\u001b[39m(additional_trainer_kwargs \u001b[38;5;129;01mor\u001b[39;00m {}) \u001b[38;5;66;03m# Spread remaining kwargs, allows overriding any previous args\u001b[39;00m\n\u001b[1;32m    610\u001b[0m )\n",
      "File \u001b[0;32m/notebooks/utils/helpers.py:78\u001b[0m, in \u001b[0;36mcreate_load_lr_scheduler\u001b[0;34m(name, kwargs, state_dict, optimizer)\u001b[0m\n\u001b[1;32m     64\u001b[0m \u001b[38;5;250m\u001b[39m\u001b[38;5;124;03m\"\"\"Creates an LR scheduler and loads its state dictionary.\u001b[39;00m\n\u001b[1;32m     65\u001b[0m \n\u001b[1;32m     66\u001b[0m \u001b[38;5;124;03mParameters\u001b[39;00m\n\u001b[0;32m   (...)\u001b[0m\n\u001b[1;32m     75\u001b[0m \u001b[38;5;124;03m    Optimizer to which the scheduler is attached.\u001b[39;00m\n\u001b[1;32m     76\u001b[0m \u001b[38;5;124;03m\"\"\"\u001b[39;00m\n\u001b[1;32m     77\u001b[0m \u001b[38;5;66;03m# Create the scheduler\u001b[39;00m\n\u001b[0;32m---> 78\u001b[0m lr_scheduler \u001b[38;5;241m=\u001b[39m \u001b[43mget_lr_scheduler\u001b[49m\u001b[43m(\u001b[49m\u001b[43mname\u001b[49m\u001b[38;5;241;43m=\u001b[39;49m\u001b[43mname\u001b[49m\u001b[43m,\u001b[49m\u001b[43m \u001b[49m\u001b[43mkwargs\u001b[49m\u001b[38;5;241;43m=\u001b[39;49m\u001b[43mkwargs\u001b[49m\u001b[43m,\u001b[49m\u001b[43m \u001b[49m\u001b[43moptimizer\u001b[49m\u001b[38;5;241;43m=\u001b[39;49m\u001b[43moptimizer\u001b[49m\u001b[43m)\u001b[49m\n\u001b[1;32m     79\u001b[0m \u001b[38;5;66;03m# Load the state dictionary into the scheduler\u001b[39;00m\n\u001b[1;32m     80\u001b[0m lr_scheduler\u001b[38;5;241m.\u001b[39mload_state_dict(state_dict)\n",
      "File \u001b[0;32m/notebooks/utils/helpers.py:61\u001b[0m, in \u001b[0;36mget_lr_scheduler\u001b[0;34m(name, kwargs, optimizer)\u001b[0m\n\u001b[1;32m     58\u001b[0m \u001b[38;5;28;01mexcept\u001b[39;00m \u001b[38;5;167;01mAttributeError\u001b[39;00m:\n\u001b[1;32m     59\u001b[0m     \u001b[38;5;28;01mraise\u001b[39;00m \u001b[38;5;167;01mValueError\u001b[39;00m(\u001b[38;5;124mf\u001b[39m\u001b[38;5;124m'\u001b[39m\u001b[38;5;124mScheduler option [\u001b[39m\u001b[38;5;132;01m{\u001b[39;00mname\u001b[38;5;132;01m}\u001b[39;00m\u001b[38;5;124m] not available!\u001b[39m\u001b[38;5;124m'\u001b[39m)\n\u001b[0;32m---> 61\u001b[0m \u001b[38;5;28;01mreturn\u001b[39;00m \u001b[43msched_cls\u001b[49m\u001b[43m(\u001b[49m\u001b[43moptimizer\u001b[49m\u001b[43m,\u001b[49m\u001b[43m \u001b[49m\u001b[38;5;241;43m*\u001b[39;49m\u001b[38;5;241;43m*\u001b[39;49m\u001b[43mkwargs\u001b[49m\u001b[43m)\u001b[49m\n",
      "\u001b[0;31mTypeError\u001b[0m: LambdaLR.__init__() missing 1 required positional argument: 'lr_lambda'"
     ]
    }
   ],
   "source": [
    "trainer = create_trainer_from_chkpt(chkpt_test)"
   ]
  },
  {
   "cell_type": "code",
   "execution_count": null,
   "id": "789db215",
   "metadata": {},
   "outputs": [],
   "source": []
  }
 ],
 "metadata": {
  "kernelspec": {
   "display_name": "Python 3 (ipykernel)",
   "language": "python",
   "name": "python3"
  },
  "language_info": {
   "codemirror_mode": {
    "name": "ipython",
    "version": 3
   },
   "file_extension": ".py",
   "mimetype": "text/x-python",
   "name": "python",
   "nbconvert_exporter": "python",
   "pygments_lexer": "ipython3",
   "version": "3.11.7"
  }
 },
 "nbformat": 4,
 "nbformat_minor": 5
}
